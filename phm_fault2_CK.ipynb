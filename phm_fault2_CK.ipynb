{
 "cells": [
  {
   "cell_type": "markdown",
   "metadata": {},
   "source": [
    "# <center> ${\\text{Data 606 Capstone Project: Manufacturing}}$"
   ]
  },
  {
   "cell_type": "markdown",
   "metadata": {},
   "source": [
    "#### Import Libraries"
   ]
  },
  {
   "cell_type": "code",
   "execution_count": 1,
   "metadata": {},
   "outputs": [],
   "source": [
    "import numpy as np\n",
    "import pandas as pd\n",
    "import matplotlib.pyplot as plt\n",
    "\n",
    "from sklearn.preprocessing import StandardScaler, MinMaxScaler\n",
    "from sklearn.metrics import classification_report, accuracy_score\n",
    "from sklearn.model_selection import cross_val_score, cross_validate\n",
    "from sklearn.metrics import f1_score, confusion_matrix\n",
    "import seaborn as sns\n",
    "# Regression\n",
    "from sklearn.inspection import permutation_importance\n",
    "from sklearn.ensemble import RandomForestRegressor\n",
    "from sklearn.linear_model import LinearRegression\n",
    "from sklearn.linear_model import Ridge\n",
    "from sklearn.linear_model import Lasso\n",
    "# Classification\n",
    "from sklearn.ensemble import RandomForestClassifier\n",
    "from sklearn.ensemble import GradientBoostingClassifier\n",
    "from sklearn.model_selection import train_test_split\n",
    "from sklearn.linear_model import LogisticRegression\n",
    "from imblearn.combine import SMOTEENN\n",
    "\n",
    "np.random.seed(12)\n",
    "#import warnings\n",
    "\n",
    "#warnings.filterwarnings('ignore')"
   ]
  },
  {
   "cell_type": "markdown",
   "metadata": {},
   "source": [
    "#### Import files using pandas"
   ]
  },
  {
   "cell_type": "code",
   "execution_count": 2,
   "metadata": {},
   "outputs": [],
   "source": [
    "train02 = pd.read_csv('01_M02_DC_train.csv')\n",
    "ttf = pd.read_csv('01_M02_DC_train_ttf.csv')\n",
    "fault = pd.read_csv('01_M02_train_fault_data.csv')"
   ]
  },
  {
   "cell_type": "markdown",
   "metadata": {},
   "source": [
    "Rename data columns in TTF and view data. "
   ]
  },
  {
   "cell_type": "code",
   "execution_count": 3,
   "metadata": {},
   "outputs": [],
   "source": [
    "ttf = ttf.rename({'TTF_FlowCool Pressure Dropped Below Limit':'Flowcool_Pressure_dropped_below_limit'}, axis='columns')\n",
    "ttf = ttf.rename({'TTF_Flowcool Pressure Too High Check Flowcool Pump':'Flowcool_Pressure_Too_High'}, axis='columns')\n",
    "ttf = ttf.rename({'TTF_Flowcool leak':'TTF_Flowcool_leak'}, axis='columns')"
   ]
  },
  {
   "cell_type": "code",
   "execution_count": 4,
   "metadata": {},
   "outputs": [
    {
     "data": {
      "text/html": [
       "<div>\n",
       "<style scoped>\n",
       "    .dataframe tbody tr th:only-of-type {\n",
       "        vertical-align: middle;\n",
       "    }\n",
       "\n",
       "    .dataframe tbody tr th {\n",
       "        vertical-align: top;\n",
       "    }\n",
       "\n",
       "    .dataframe thead th {\n",
       "        text-align: right;\n",
       "    }\n",
       "</style>\n",
       "<table border=\"1\" class=\"dataframe\">\n",
       "  <thead>\n",
       "    <tr style=\"text-align: right;\">\n",
       "      <th></th>\n",
       "      <th>time</th>\n",
       "      <th>Tool</th>\n",
       "      <th>stage</th>\n",
       "      <th>Lot</th>\n",
       "      <th>runnum</th>\n",
       "      <th>recipe</th>\n",
       "      <th>recipe_step</th>\n",
       "      <th>IONGAUGEPRESSURE</th>\n",
       "      <th>ETCHBEAMVOLTAGE</th>\n",
       "      <th>ETCHBEAMCURRENT</th>\n",
       "      <th>...</th>\n",
       "      <th>ETCHGASCHANNEL1READBACK</th>\n",
       "      <th>ETCHPBNGASREADBACK</th>\n",
       "      <th>FIXTURETILTANGLE</th>\n",
       "      <th>ROTATIONSPEED</th>\n",
       "      <th>ACTUALROTATIONANGLE</th>\n",
       "      <th>FIXTURESHUTTERPOSITION</th>\n",
       "      <th>ETCHSOURCEUSAGE</th>\n",
       "      <th>ETCHAUXSOURCETIMER</th>\n",
       "      <th>ETCHAUX2SOURCETIMER</th>\n",
       "      <th>ACTUALSTEPDURATION</th>\n",
       "    </tr>\n",
       "  </thead>\n",
       "  <tbody>\n",
       "    <tr>\n",
       "      <th>0</th>\n",
       "      <td>3283834</td>\n",
       "      <td>01M02</td>\n",
       "      <td>1</td>\n",
       "      <td>9253</td>\n",
       "      <td>10511673</td>\n",
       "      <td>67</td>\n",
       "      <td>1</td>\n",
       "      <td>-0.079428</td>\n",
       "      <td>-0.958814</td>\n",
       "      <td>-0.959509</td>\n",
       "      <td>...</td>\n",
       "      <td>-1.751661</td>\n",
       "      <td>-2.783162</td>\n",
       "      <td>2.027848</td>\n",
       "      <td>-0.013207</td>\n",
       "      <td>-0.122437</td>\n",
       "      <td>0.0</td>\n",
       "      <td>2.39537</td>\n",
       "      <td>2.871511</td>\n",
       "      <td>3.175941</td>\n",
       "      <td>4.037785</td>\n",
       "    </tr>\n",
       "    <tr>\n",
       "      <th>1</th>\n",
       "      <td>3283838</td>\n",
       "      <td>01M02</td>\n",
       "      <td>1</td>\n",
       "      <td>9253</td>\n",
       "      <td>10511673</td>\n",
       "      <td>67</td>\n",
       "      <td>1</td>\n",
       "      <td>-0.079419</td>\n",
       "      <td>-0.958928</td>\n",
       "      <td>-0.959651</td>\n",
       "      <td>...</td>\n",
       "      <td>-1.743905</td>\n",
       "      <td>-2.780884</td>\n",
       "      <td>2.027848</td>\n",
       "      <td>-0.013207</td>\n",
       "      <td>-0.122437</td>\n",
       "      <td>0.0</td>\n",
       "      <td>2.39537</td>\n",
       "      <td>2.871511</td>\n",
       "      <td>3.175941</td>\n",
       "      <td>4.037785</td>\n",
       "    </tr>\n",
       "    <tr>\n",
       "      <th>2</th>\n",
       "      <td>3283842</td>\n",
       "      <td>01M02</td>\n",
       "      <td>1</td>\n",
       "      <td>9253</td>\n",
       "      <td>10511673</td>\n",
       "      <td>67</td>\n",
       "      <td>1</td>\n",
       "      <td>-0.079409</td>\n",
       "      <td>-0.959156</td>\n",
       "      <td>-0.960006</td>\n",
       "      <td>...</td>\n",
       "      <td>-1.743905</td>\n",
       "      <td>-2.780884</td>\n",
       "      <td>2.027848</td>\n",
       "      <td>-0.013207</td>\n",
       "      <td>-0.122437</td>\n",
       "      <td>0.0</td>\n",
       "      <td>2.39537</td>\n",
       "      <td>2.871511</td>\n",
       "      <td>3.175941</td>\n",
       "      <td>4.037785</td>\n",
       "    </tr>\n",
       "    <tr>\n",
       "      <th>3</th>\n",
       "      <td>3283846</td>\n",
       "      <td>01M02</td>\n",
       "      <td>1</td>\n",
       "      <td>9253</td>\n",
       "      <td>10511673</td>\n",
       "      <td>67</td>\n",
       "      <td>1</td>\n",
       "      <td>-0.079420</td>\n",
       "      <td>-0.958928</td>\n",
       "      <td>-0.959297</td>\n",
       "      <td>...</td>\n",
       "      <td>-1.747158</td>\n",
       "      <td>-2.780884</td>\n",
       "      <td>2.027848</td>\n",
       "      <td>-0.013207</td>\n",
       "      <td>-0.122437</td>\n",
       "      <td>0.0</td>\n",
       "      <td>2.39537</td>\n",
       "      <td>2.871511</td>\n",
       "      <td>3.175941</td>\n",
       "      <td>4.037785</td>\n",
       "    </tr>\n",
       "    <tr>\n",
       "      <th>4</th>\n",
       "      <td>3283850</td>\n",
       "      <td>01M02</td>\n",
       "      <td>1</td>\n",
       "      <td>9253</td>\n",
       "      <td>10511673</td>\n",
       "      <td>67</td>\n",
       "      <td>1</td>\n",
       "      <td>-0.079430</td>\n",
       "      <td>-0.959269</td>\n",
       "      <td>-0.959438</td>\n",
       "      <td>...</td>\n",
       "      <td>-1.747158</td>\n",
       "      <td>-2.784389</td>\n",
       "      <td>2.027848</td>\n",
       "      <td>-0.013207</td>\n",
       "      <td>-0.122437</td>\n",
       "      <td>0.0</td>\n",
       "      <td>2.39537</td>\n",
       "      <td>2.871511</td>\n",
       "      <td>3.175941</td>\n",
       "      <td>4.037785</td>\n",
       "    </tr>\n",
       "  </tbody>\n",
       "</table>\n",
       "<p>5 rows × 24 columns</p>\n",
       "</div>"
      ],
      "text/plain": [
       "      time   Tool  stage   Lot    runnum  recipe  recipe_step  \\\n",
       "0  3283834  01M02      1  9253  10511673      67            1   \n",
       "1  3283838  01M02      1  9253  10511673      67            1   \n",
       "2  3283842  01M02      1  9253  10511673      67            1   \n",
       "3  3283846  01M02      1  9253  10511673      67            1   \n",
       "4  3283850  01M02      1  9253  10511673      67            1   \n",
       "\n",
       "   IONGAUGEPRESSURE  ETCHBEAMVOLTAGE  ETCHBEAMCURRENT  ...  \\\n",
       "0         -0.079428        -0.958814        -0.959509  ...   \n",
       "1         -0.079419        -0.958928        -0.959651  ...   \n",
       "2         -0.079409        -0.959156        -0.960006  ...   \n",
       "3         -0.079420        -0.958928        -0.959297  ...   \n",
       "4         -0.079430        -0.959269        -0.959438  ...   \n",
       "\n",
       "   ETCHGASCHANNEL1READBACK  ETCHPBNGASREADBACK  FIXTURETILTANGLE  \\\n",
       "0                -1.751661           -2.783162          2.027848   \n",
       "1                -1.743905           -2.780884          2.027848   \n",
       "2                -1.743905           -2.780884          2.027848   \n",
       "3                -1.747158           -2.780884          2.027848   \n",
       "4                -1.747158           -2.784389          2.027848   \n",
       "\n",
       "   ROTATIONSPEED  ACTUALROTATIONANGLE  FIXTURESHUTTERPOSITION  \\\n",
       "0      -0.013207            -0.122437                     0.0   \n",
       "1      -0.013207            -0.122437                     0.0   \n",
       "2      -0.013207            -0.122437                     0.0   \n",
       "3      -0.013207            -0.122437                     0.0   \n",
       "4      -0.013207            -0.122437                     0.0   \n",
       "\n",
       "   ETCHSOURCEUSAGE  ETCHAUXSOURCETIMER  ETCHAUX2SOURCETIMER  \\\n",
       "0          2.39537            2.871511             3.175941   \n",
       "1          2.39537            2.871511             3.175941   \n",
       "2          2.39537            2.871511             3.175941   \n",
       "3          2.39537            2.871511             3.175941   \n",
       "4          2.39537            2.871511             3.175941   \n",
       "\n",
       "   ACTUALSTEPDURATION  \n",
       "0            4.037785  \n",
       "1            4.037785  \n",
       "2            4.037785  \n",
       "3            4.037785  \n",
       "4            4.037785  \n",
       "\n",
       "[5 rows x 24 columns]"
      ]
     },
     "execution_count": 4,
     "metadata": {},
     "output_type": "execute_result"
    }
   ],
   "source": [
    "train02.head()"
   ]
  },
  {
   "cell_type": "code",
   "execution_count": 5,
   "metadata": {},
   "outputs": [
    {
     "data": {
      "text/html": [
       "<div>\n",
       "<style scoped>\n",
       "    .dataframe tbody tr th:only-of-type {\n",
       "        vertical-align: middle;\n",
       "    }\n",
       "\n",
       "    .dataframe tbody tr th {\n",
       "        vertical-align: top;\n",
       "    }\n",
       "\n",
       "    .dataframe thead th {\n",
       "        text-align: right;\n",
       "    }\n",
       "</style>\n",
       "<table border=\"1\" class=\"dataframe\">\n",
       "  <thead>\n",
       "    <tr style=\"text-align: right;\">\n",
       "      <th></th>\n",
       "      <th>time</th>\n",
       "      <th>Flowcool_Pressure_dropped_below_limit</th>\n",
       "      <th>Flowcool_Pressure_Too_High</th>\n",
       "      <th>TTF_Flowcool_leak</th>\n",
       "    </tr>\n",
       "  </thead>\n",
       "  <tbody>\n",
       "    <tr>\n",
       "      <th>0</th>\n",
       "      <td>3283834</td>\n",
       "      <td>623234.0</td>\n",
       "      <td>9146470.0</td>\n",
       "      <td>632514.0</td>\n",
       "    </tr>\n",
       "    <tr>\n",
       "      <th>1</th>\n",
       "      <td>3283838</td>\n",
       "      <td>623230.0</td>\n",
       "      <td>9146466.0</td>\n",
       "      <td>632510.0</td>\n",
       "    </tr>\n",
       "    <tr>\n",
       "      <th>2</th>\n",
       "      <td>3283842</td>\n",
       "      <td>623226.0</td>\n",
       "      <td>9146462.0</td>\n",
       "      <td>632506.0</td>\n",
       "    </tr>\n",
       "    <tr>\n",
       "      <th>3</th>\n",
       "      <td>3283846</td>\n",
       "      <td>623222.0</td>\n",
       "      <td>9146458.0</td>\n",
       "      <td>632502.0</td>\n",
       "    </tr>\n",
       "    <tr>\n",
       "      <th>4</th>\n",
       "      <td>3283850</td>\n",
       "      <td>623218.0</td>\n",
       "      <td>9146454.0</td>\n",
       "      <td>632498.0</td>\n",
       "    </tr>\n",
       "  </tbody>\n",
       "</table>\n",
       "</div>"
      ],
      "text/plain": [
       "      time  Flowcool_Pressure_dropped_below_limit  Flowcool_Pressure_Too_High  \\\n",
       "0  3283834                               623234.0                   9146470.0   \n",
       "1  3283838                               623230.0                   9146466.0   \n",
       "2  3283842                               623226.0                   9146462.0   \n",
       "3  3283846                               623222.0                   9146458.0   \n",
       "4  3283850                               623218.0                   9146454.0   \n",
       "\n",
       "   TTF_Flowcool_leak  \n",
       "0           632514.0  \n",
       "1           632510.0  \n",
       "2           632506.0  \n",
       "3           632502.0  \n",
       "4           632498.0  "
      ]
     },
     "execution_count": 5,
     "metadata": {},
     "output_type": "execute_result"
    }
   ],
   "source": [
    "ttf.head()"
   ]
  },
  {
   "cell_type": "markdown",
   "metadata": {},
   "source": [
    "#### Merge the data. "
   ]
  },
  {
   "cell_type": "code",
   "execution_count": 6,
   "metadata": {},
   "outputs": [],
   "source": [
    "alldata = pd.merge(train02, ttf, how='outer', on='time')"
   ]
  },
  {
   "cell_type": "markdown",
   "metadata": {},
   "source": [
    "#### Create new features \n",
    "\n",
    "Create new features for the four different scenarios used in classification for Fault 2 - Flowcool Pressure Too High. Below are the lower limits the uppper limits define later. "
   ]
  },
  {
   "cell_type": "code",
   "execution_count": 7,
   "metadata": {},
   "outputs": [],
   "source": [
    "numlimit1 = 600\n",
    "numlimit2 = 2400\n",
    "numlimit3 = 3600\n",
    "numlimit4 = 20000"
   ]
  },
  {
   "cell_type": "code",
   "execution_count": 8,
   "metadata": {},
   "outputs": [],
   "source": [
    "alldata['fault1_a'] = alldata['Flowcool_Pressure_Too_High'].apply(lambda x:1 if x <= numlimit1 else 0)\n",
    "alldata['fault1_b'] = alldata['Flowcool_Pressure_Too_High'].apply(lambda x:1 if x <= numlimit2 else 0)\n",
    "alldata['fault1_c'] = alldata['Flowcool_Pressure_Too_High'].apply(lambda x:1 if x <= numlimit3 else 0)\n",
    "alldata['fault1_d'] = alldata['Flowcool_Pressure_Too_High'].apply(lambda x:1 if x <= numlimit3 else 0)"
   ]
  },
  {
   "cell_type": "code",
   "execution_count": 9,
   "metadata": {},
   "outputs": [
    {
     "data": {
      "text/html": [
       "<div>\n",
       "<style scoped>\n",
       "    .dataframe tbody tr th:only-of-type {\n",
       "        vertical-align: middle;\n",
       "    }\n",
       "\n",
       "    .dataframe tbody tr th {\n",
       "        vertical-align: top;\n",
       "    }\n",
       "\n",
       "    .dataframe thead th {\n",
       "        text-align: right;\n",
       "    }\n",
       "</style>\n",
       "<table border=\"1\" class=\"dataframe\">\n",
       "  <thead>\n",
       "    <tr style=\"text-align: right;\">\n",
       "      <th></th>\n",
       "      <th>time</th>\n",
       "      <th>Tool</th>\n",
       "      <th>stage</th>\n",
       "      <th>Lot</th>\n",
       "      <th>runnum</th>\n",
       "      <th>recipe</th>\n",
       "      <th>recipe_step</th>\n",
       "      <th>IONGAUGEPRESSURE</th>\n",
       "      <th>ETCHBEAMVOLTAGE</th>\n",
       "      <th>ETCHBEAMCURRENT</th>\n",
       "      <th>...</th>\n",
       "      <th>ETCHAUXSOURCETIMER</th>\n",
       "      <th>ETCHAUX2SOURCETIMER</th>\n",
       "      <th>ACTUALSTEPDURATION</th>\n",
       "      <th>Flowcool_Pressure_dropped_below_limit</th>\n",
       "      <th>Flowcool_Pressure_Too_High</th>\n",
       "      <th>TTF_Flowcool_leak</th>\n",
       "      <th>fault1_a</th>\n",
       "      <th>fault1_b</th>\n",
       "      <th>fault1_c</th>\n",
       "      <th>fault1_d</th>\n",
       "    </tr>\n",
       "  </thead>\n",
       "  <tbody>\n",
       "    <tr>\n",
       "      <th>0</th>\n",
       "      <td>3283834</td>\n",
       "      <td>01M02</td>\n",
       "      <td>1</td>\n",
       "      <td>9253</td>\n",
       "      <td>10511673</td>\n",
       "      <td>67</td>\n",
       "      <td>1</td>\n",
       "      <td>-0.079428</td>\n",
       "      <td>-0.958814</td>\n",
       "      <td>-0.959509</td>\n",
       "      <td>...</td>\n",
       "      <td>2.871511</td>\n",
       "      <td>3.175941</td>\n",
       "      <td>4.037785</td>\n",
       "      <td>623234.0</td>\n",
       "      <td>9146470.0</td>\n",
       "      <td>632514.0</td>\n",
       "      <td>0</td>\n",
       "      <td>0</td>\n",
       "      <td>0</td>\n",
       "      <td>0</td>\n",
       "    </tr>\n",
       "    <tr>\n",
       "      <th>1</th>\n",
       "      <td>3283838</td>\n",
       "      <td>01M02</td>\n",
       "      <td>1</td>\n",
       "      <td>9253</td>\n",
       "      <td>10511673</td>\n",
       "      <td>67</td>\n",
       "      <td>1</td>\n",
       "      <td>-0.079419</td>\n",
       "      <td>-0.958928</td>\n",
       "      <td>-0.959651</td>\n",
       "      <td>...</td>\n",
       "      <td>2.871511</td>\n",
       "      <td>3.175941</td>\n",
       "      <td>4.037785</td>\n",
       "      <td>623230.0</td>\n",
       "      <td>9146466.0</td>\n",
       "      <td>632510.0</td>\n",
       "      <td>0</td>\n",
       "      <td>0</td>\n",
       "      <td>0</td>\n",
       "      <td>0</td>\n",
       "    </tr>\n",
       "    <tr>\n",
       "      <th>2</th>\n",
       "      <td>3283842</td>\n",
       "      <td>01M02</td>\n",
       "      <td>1</td>\n",
       "      <td>9253</td>\n",
       "      <td>10511673</td>\n",
       "      <td>67</td>\n",
       "      <td>1</td>\n",
       "      <td>-0.079409</td>\n",
       "      <td>-0.959156</td>\n",
       "      <td>-0.960006</td>\n",
       "      <td>...</td>\n",
       "      <td>2.871511</td>\n",
       "      <td>3.175941</td>\n",
       "      <td>4.037785</td>\n",
       "      <td>623226.0</td>\n",
       "      <td>9146462.0</td>\n",
       "      <td>632506.0</td>\n",
       "      <td>0</td>\n",
       "      <td>0</td>\n",
       "      <td>0</td>\n",
       "      <td>0</td>\n",
       "    </tr>\n",
       "    <tr>\n",
       "      <th>3</th>\n",
       "      <td>3283846</td>\n",
       "      <td>01M02</td>\n",
       "      <td>1</td>\n",
       "      <td>9253</td>\n",
       "      <td>10511673</td>\n",
       "      <td>67</td>\n",
       "      <td>1</td>\n",
       "      <td>-0.079420</td>\n",
       "      <td>-0.958928</td>\n",
       "      <td>-0.959297</td>\n",
       "      <td>...</td>\n",
       "      <td>2.871511</td>\n",
       "      <td>3.175941</td>\n",
       "      <td>4.037785</td>\n",
       "      <td>623222.0</td>\n",
       "      <td>9146458.0</td>\n",
       "      <td>632502.0</td>\n",
       "      <td>0</td>\n",
       "      <td>0</td>\n",
       "      <td>0</td>\n",
       "      <td>0</td>\n",
       "    </tr>\n",
       "    <tr>\n",
       "      <th>4</th>\n",
       "      <td>3283850</td>\n",
       "      <td>01M02</td>\n",
       "      <td>1</td>\n",
       "      <td>9253</td>\n",
       "      <td>10511673</td>\n",
       "      <td>67</td>\n",
       "      <td>1</td>\n",
       "      <td>-0.079430</td>\n",
       "      <td>-0.959269</td>\n",
       "      <td>-0.959438</td>\n",
       "      <td>...</td>\n",
       "      <td>2.871511</td>\n",
       "      <td>3.175941</td>\n",
       "      <td>4.037785</td>\n",
       "      <td>623218.0</td>\n",
       "      <td>9146454.0</td>\n",
       "      <td>632498.0</td>\n",
       "      <td>0</td>\n",
       "      <td>0</td>\n",
       "      <td>0</td>\n",
       "      <td>0</td>\n",
       "    </tr>\n",
       "  </tbody>\n",
       "</table>\n",
       "<p>5 rows × 31 columns</p>\n",
       "</div>"
      ],
      "text/plain": [
       "      time   Tool  stage   Lot    runnum  recipe  recipe_step  \\\n",
       "0  3283834  01M02      1  9253  10511673      67            1   \n",
       "1  3283838  01M02      1  9253  10511673      67            1   \n",
       "2  3283842  01M02      1  9253  10511673      67            1   \n",
       "3  3283846  01M02      1  9253  10511673      67            1   \n",
       "4  3283850  01M02      1  9253  10511673      67            1   \n",
       "\n",
       "   IONGAUGEPRESSURE  ETCHBEAMVOLTAGE  ETCHBEAMCURRENT  ...  \\\n",
       "0         -0.079428        -0.958814        -0.959509  ...   \n",
       "1         -0.079419        -0.958928        -0.959651  ...   \n",
       "2         -0.079409        -0.959156        -0.960006  ...   \n",
       "3         -0.079420        -0.958928        -0.959297  ...   \n",
       "4         -0.079430        -0.959269        -0.959438  ...   \n",
       "\n",
       "   ETCHAUXSOURCETIMER  ETCHAUX2SOURCETIMER  ACTUALSTEPDURATION  \\\n",
       "0            2.871511             3.175941            4.037785   \n",
       "1            2.871511             3.175941            4.037785   \n",
       "2            2.871511             3.175941            4.037785   \n",
       "3            2.871511             3.175941            4.037785   \n",
       "4            2.871511             3.175941            4.037785   \n",
       "\n",
       "   Flowcool_Pressure_dropped_below_limit  Flowcool_Pressure_Too_High  \\\n",
       "0                               623234.0                   9146470.0   \n",
       "1                               623230.0                   9146466.0   \n",
       "2                               623226.0                   9146462.0   \n",
       "3                               623222.0                   9146458.0   \n",
       "4                               623218.0                   9146454.0   \n",
       "\n",
       "   TTF_Flowcool_leak  fault1_a  fault1_b  fault1_c  fault1_d  \n",
       "0           632514.0         0         0         0         0  \n",
       "1           632510.0         0         0         0         0  \n",
       "2           632506.0         0         0         0         0  \n",
       "3           632502.0         0         0         0         0  \n",
       "4           632498.0         0         0         0         0  \n",
       "\n",
       "[5 rows x 31 columns]"
      ]
     },
     "execution_count": 9,
     "metadata": {},
     "output_type": "execute_result"
    }
   ],
   "source": [
    "alldata.head()"
   ]
  },
  {
   "cell_type": "markdown",
   "metadata": {},
   "source": [
    "## Classification\n",
    "\n",
    "- For each scenario the upper limit is define for Fault 2 - Flowcool Pressure Too High.\n",
    "- The Random Forest, Gradient Boosting Classifier and the Logistic Regression are run. \n",
    "- The models for each scenario are compared. \n",
    "- SMOTEENN for the Logistic Regression Scenario 1."
   ]
  },
  {
   "cell_type": "markdown",
   "metadata": {},
   "source": [
    "###  Scenario 1: Limit is 10800 and isfailure is 600 - 3 hours, 10 minutes"
   ]
  },
  {
   "cell_type": "code",
   "execution_count": 10,
   "metadata": {},
   "outputs": [],
   "source": [
    "cl_f1a_data = alldata.drop(['time','Lot','Tool','stage','recipe','recipe_step','ROTATIONSPEED','ETCHBEAMCURRENT','ETCHSUPPRESSORVOLTAGE',\n",
    "                        'ETCHSUPPRESSORCURRENT','ETCHAUXSOURCETIMER','ETCHAUX2SOURCETIMER','Flowcool_Pressure_dropped_below_limit', 'TTF_Flowcool_leak',\n",
    "                       'fault1_b', 'fault1_c','fault1_d'], axis=1)"
   ]
  },
  {
   "cell_type": "code",
   "execution_count": 11,
   "metadata": {},
   "outputs": [],
   "source": [
    "clf1data = cl_f1a_data.dropna()"
   ]
  },
  {
   "cell_type": "code",
   "execution_count": 12,
   "metadata": {},
   "outputs": [],
   "source": [
    "cutoff_1a = 10800\n",
    "\n",
    "cl_cutoff1a = clf1data.loc[clf1data['Flowcool_Pressure_Too_High']<cutoff_1a].copy()"
   ]
  },
  {
   "cell_type": "code",
   "execution_count": 13,
   "metadata": {},
   "outputs": [],
   "source": [
    "cl_X1a = cl_cutoff1a.drop(['Flowcool_Pressure_Too_High', 'fault1_a'], axis=1)\n",
    "cl_Y1a = cl_cutoff1a['fault1_a']"
   ]
  },
  {
   "cell_type": "code",
   "execution_count": 19,
   "metadata": {
    "scrolled": true
   },
   "outputs": [
    {
     "data": {
      "text/html": [
       "<div>\n",
       "<style scoped>\n",
       "    .dataframe tbody tr th:only-of-type {\n",
       "        vertical-align: middle;\n",
       "    }\n",
       "\n",
       "    .dataframe tbody tr th {\n",
       "        vertical-align: top;\n",
       "    }\n",
       "\n",
       "    .dataframe thead th {\n",
       "        text-align: right;\n",
       "    }\n",
       "</style>\n",
       "<table border=\"1\" class=\"dataframe\">\n",
       "  <thead>\n",
       "    <tr style=\"text-align: right;\">\n",
       "      <th></th>\n",
       "      <th>runnum</th>\n",
       "      <th>IONGAUGEPRESSURE</th>\n",
       "      <th>ETCHBEAMVOLTAGE</th>\n",
       "      <th>FLOWCOOLFLOWRATE</th>\n",
       "      <th>FLOWCOOLPRESSURE</th>\n",
       "      <th>ETCHGASCHANNEL1READBACK</th>\n",
       "      <th>ETCHPBNGASREADBACK</th>\n",
       "      <th>FIXTURETILTANGLE</th>\n",
       "      <th>ACTUALROTATIONANGLE</th>\n",
       "      <th>FIXTURESHUTTERPOSITION</th>\n",
       "      <th>ETCHSOURCEUSAGE</th>\n",
       "      <th>ACTUALSTEPDURATION</th>\n",
       "    </tr>\n",
       "  </thead>\n",
       "  <tbody>\n",
       "    <tr>\n",
       "      <th>1354347</th>\n",
       "      <td>11094910</td>\n",
       "      <td>0.004714</td>\n",
       "      <td>-0.952388</td>\n",
       "      <td>0.569103</td>\n",
       "      <td>0.898021</td>\n",
       "      <td>-0.053538</td>\n",
       "      <td>0.360776</td>\n",
       "      <td>0.022131</td>\n",
       "      <td>-0.122446</td>\n",
       "      <td>1.0</td>\n",
       "      <td>-0.263274</td>\n",
       "      <td>0.021044</td>\n",
       "    </tr>\n",
       "    <tr>\n",
       "      <th>1354348</th>\n",
       "      <td>11094910</td>\n",
       "      <td>0.004714</td>\n",
       "      <td>-0.952388</td>\n",
       "      <td>0.566387</td>\n",
       "      <td>0.898021</td>\n",
       "      <td>-0.053538</td>\n",
       "      <td>0.360776</td>\n",
       "      <td>0.022131</td>\n",
       "      <td>-0.122446</td>\n",
       "      <td>1.0</td>\n",
       "      <td>-0.263270</td>\n",
       "      <td>0.021044</td>\n",
       "    </tr>\n",
       "    <tr>\n",
       "      <th>1354349</th>\n",
       "      <td>11094910</td>\n",
       "      <td>0.004714</td>\n",
       "      <td>-0.952274</td>\n",
       "      <td>0.566387</td>\n",
       "      <td>0.898021</td>\n",
       "      <td>-0.066554</td>\n",
       "      <td>0.350789</td>\n",
       "      <td>0.022131</td>\n",
       "      <td>-0.122446</td>\n",
       "      <td>1.0</td>\n",
       "      <td>-0.263267</td>\n",
       "      <td>0.021044</td>\n",
       "    </tr>\n",
       "    <tr>\n",
       "      <th>1354350</th>\n",
       "      <td>11094910</td>\n",
       "      <td>0.004714</td>\n",
       "      <td>-0.952501</td>\n",
       "      <td>0.564421</td>\n",
       "      <td>0.898021</td>\n",
       "      <td>-0.066554</td>\n",
       "      <td>0.350789</td>\n",
       "      <td>0.022131</td>\n",
       "      <td>-0.122446</td>\n",
       "      <td>1.0</td>\n",
       "      <td>-0.263264</td>\n",
       "      <td>0.021044</td>\n",
       "    </tr>\n",
       "    <tr>\n",
       "      <th>1354351</th>\n",
       "      <td>11094910</td>\n",
       "      <td>0.004714</td>\n",
       "      <td>-0.952388</td>\n",
       "      <td>0.564421</td>\n",
       "      <td>0.898021</td>\n",
       "      <td>-0.066554</td>\n",
       "      <td>0.364281</td>\n",
       "      <td>0.022131</td>\n",
       "      <td>-0.122446</td>\n",
       "      <td>1.0</td>\n",
       "      <td>-0.263260</td>\n",
       "      <td>0.021044</td>\n",
       "    </tr>\n",
       "  </tbody>\n",
       "</table>\n",
       "</div>"
      ],
      "text/plain": [
       "           runnum  IONGAUGEPRESSURE  ETCHBEAMVOLTAGE  FLOWCOOLFLOWRATE  \\\n",
       "1354347  11094910          0.004714        -0.952388          0.569103   \n",
       "1354348  11094910          0.004714        -0.952388          0.566387   \n",
       "1354349  11094910          0.004714        -0.952274          0.566387   \n",
       "1354350  11094910          0.004714        -0.952501          0.564421   \n",
       "1354351  11094910          0.004714        -0.952388          0.564421   \n",
       "\n",
       "         FLOWCOOLPRESSURE  ETCHGASCHANNEL1READBACK  ETCHPBNGASREADBACK  \\\n",
       "1354347          0.898021                -0.053538            0.360776   \n",
       "1354348          0.898021                -0.053538            0.360776   \n",
       "1354349          0.898021                -0.066554            0.350789   \n",
       "1354350          0.898021                -0.066554            0.350789   \n",
       "1354351          0.898021                -0.066554            0.364281   \n",
       "\n",
       "         FIXTURETILTANGLE  ACTUALROTATIONANGLE  FIXTURESHUTTERPOSITION  \\\n",
       "1354347          0.022131            -0.122446                     1.0   \n",
       "1354348          0.022131            -0.122446                     1.0   \n",
       "1354349          0.022131            -0.122446                     1.0   \n",
       "1354350          0.022131            -0.122446                     1.0   \n",
       "1354351          0.022131            -0.122446                     1.0   \n",
       "\n",
       "         ETCHSOURCEUSAGE  ACTUALSTEPDURATION  \n",
       "1354347        -0.263274            0.021044  \n",
       "1354348        -0.263270            0.021044  \n",
       "1354349        -0.263267            0.021044  \n",
       "1354350        -0.263264            0.021044  \n",
       "1354351        -0.263260            0.021044  "
      ]
     },
     "execution_count": 19,
     "metadata": {},
     "output_type": "execute_result"
    }
   ],
   "source": [
    "cl_X1a.head()"
   ]
  },
  {
   "cell_type": "code",
   "execution_count": 20,
   "metadata": {
    "scrolled": true
   },
   "outputs": [
    {
     "data": {
      "text/plain": [
       "0    5647\n",
       "1     753\n",
       "Name: fault1_a, dtype: int64"
      ]
     },
     "execution_count": 20,
     "metadata": {},
     "output_type": "execute_result"
    }
   ],
   "source": [
    "cl_Y1a.value_counts()"
   ]
  },
  {
   "cell_type": "code",
   "execution_count": 40,
   "metadata": {},
   "outputs": [
    {
     "data": {
      "image/png": "[encoded data removed]",
      "text/plain": [
       "<Figure size 432x288 with 1 Axes>"
      ]
     },
     "metadata": {
      "needs_background": "light"
     },
     "output_type": "display_data"
    }
   ],
   "source": [
    "cl_Y1a.value_counts().plot(kind='bar')\n",
    "plt.title(\"Flowcool Pressure Too High\\n Data Imbalance Scenario 1\")\n",
    "plt.xticks()\n",
    "plt.show()"
   ]
  },
  {
   "cell_type": "code",
   "execution_count": 22,
   "metadata": {},
   "outputs": [],
   "source": [
    "X_train1a, X_test1a, Y_train1a, Y_test1a = train_test_split(cl_X1a, cl_Y1a, test_size = 0.2, random_state=42)"
   ]
  },
  {
   "cell_type": "code",
   "execution_count": 23,
   "metadata": {},
   "outputs": [
    {
     "data": {
      "text/html": [
       "<div>\n",
       "<style scoped>\n",
       "    .dataframe tbody tr th:only-of-type {\n",
       "        vertical-align: middle;\n",
       "    }\n",
       "\n",
       "    .dataframe tbody tr th {\n",
       "        vertical-align: top;\n",
       "    }\n",
       "\n",
       "    .dataframe thead th {\n",
       "        text-align: right;\n",
       "    }\n",
       "</style>\n",
       "<table border=\"1\" class=\"dataframe\">\n",
       "  <thead>\n",
       "    <tr style=\"text-align: right;\">\n",
       "      <th></th>\n",
       "      <th>runnum</th>\n",
       "      <th>IONGAUGEPRESSURE</th>\n",
       "      <th>ETCHBEAMVOLTAGE</th>\n",
       "      <th>FLOWCOOLFLOWRATE</th>\n",
       "      <th>FLOWCOOLPRESSURE</th>\n",
       "      <th>ETCHGASCHANNEL1READBACK</th>\n",
       "      <th>ETCHPBNGASREADBACK</th>\n",
       "      <th>FIXTURETILTANGLE</th>\n",
       "      <th>ACTUALROTATIONANGLE</th>\n",
       "      <th>FIXTURESHUTTERPOSITION</th>\n",
       "      <th>ETCHSOURCEUSAGE</th>\n",
       "      <th>ACTUALSTEPDURATION</th>\n",
       "    </tr>\n",
       "  </thead>\n",
       "  <tbody>\n",
       "    <tr>\n",
       "      <th>2582466</th>\n",
       "      <td>11744123</td>\n",
       "      <td>0.019089</td>\n",
       "      <td>-0.947496</td>\n",
       "      <td>0.567441</td>\n",
       "      <td>0.556676</td>\n",
       "      <td>-0.060052</td>\n",
       "      <td>0.358499</td>\n",
       "      <td>0.022131</td>\n",
       "      <td>-0.122446</td>\n",
       "      <td>1.0</td>\n",
       "      <td>-1.475801</td>\n",
       "      <td>0.021044</td>\n",
       "    </tr>\n",
       "    <tr>\n",
       "      <th>2583845</th>\n",
       "      <td>11744123</td>\n",
       "      <td>0.020768</td>\n",
       "      <td>-0.945506</td>\n",
       "      <td>0.565479</td>\n",
       "      <td>0.618377</td>\n",
       "      <td>-0.060052</td>\n",
       "      <td>0.352016</td>\n",
       "      <td>-0.200727</td>\n",
       "      <td>-0.122446</td>\n",
       "      <td>1.0</td>\n",
       "      <td>-1.471658</td>\n",
       "      <td>-0.291949</td>\n",
       "    </tr>\n",
       "    <tr>\n",
       "      <th>2784408</th>\n",
       "      <td>11817473</td>\n",
       "      <td>0.010094</td>\n",
       "      <td>-0.949885</td>\n",
       "      <td>0.563367</td>\n",
       "      <td>0.548313</td>\n",
       "      <td>-0.056795</td>\n",
       "      <td>0.357450</td>\n",
       "      <td>0.022131</td>\n",
       "      <td>-0.122455</td>\n",
       "      <td>1.0</td>\n",
       "      <td>-0.846892</td>\n",
       "      <td>0.021044</td>\n",
       "    </tr>\n",
       "    <tr>\n",
       "      <th>2583253</th>\n",
       "      <td>11744123</td>\n",
       "      <td>0.020768</td>\n",
       "      <td>-0.944596</td>\n",
       "      <td>0.563367</td>\n",
       "      <td>0.577889</td>\n",
       "      <td>-0.050292</td>\n",
       "      <td>0.364281</td>\n",
       "      <td>-0.200727</td>\n",
       "      <td>-0.122446</td>\n",
       "      <td>1.0</td>\n",
       "      <td>-1.473622</td>\n",
       "      <td>-0.291949</td>\n",
       "    </tr>\n",
       "    <tr>\n",
       "      <th>2784905</th>\n",
       "      <td>11817473</td>\n",
       "      <td>0.019089</td>\n",
       "      <td>1.189268</td>\n",
       "      <td>0.580726</td>\n",
       "      <td>0.568873</td>\n",
       "      <td>-0.055042</td>\n",
       "      <td>0.362004</td>\n",
       "      <td>0.022131</td>\n",
       "      <td>-0.122455</td>\n",
       "      <td>1.0</td>\n",
       "      <td>-0.845245</td>\n",
       "      <td>0.803526</td>\n",
       "    </tr>\n",
       "  </tbody>\n",
       "</table>\n",
       "</div>"
      ],
      "text/plain": [
       "           runnum  IONGAUGEPRESSURE  ETCHBEAMVOLTAGE  FLOWCOOLFLOWRATE  \\\n",
       "2582466  11744123          0.019089        -0.947496          0.567441   \n",
       "2583845  11744123          0.020768        -0.945506          0.565479   \n",
       "2784408  11817473          0.010094        -0.949885          0.563367   \n",
       "2583253  11744123          0.020768        -0.944596          0.563367   \n",
       "2784905  11817473          0.019089         1.189268          0.580726   \n",
       "\n",
       "         FLOWCOOLPRESSURE  ETCHGASCHANNEL1READBACK  ETCHPBNGASREADBACK  \\\n",
       "2582466          0.556676                -0.060052            0.358499   \n",
       "2583845          0.618377                -0.060052            0.352016   \n",
       "2784408          0.548313                -0.056795            0.357450   \n",
       "2583253          0.577889                -0.050292            0.364281   \n",
       "2784905          0.568873                -0.055042            0.362004   \n",
       "\n",
       "         FIXTURETILTANGLE  ACTUALROTATIONANGLE  FIXTURESHUTTERPOSITION  \\\n",
       "2582466          0.022131            -0.122446                     1.0   \n",
       "2583845         -0.200727            -0.122446                     1.0   \n",
       "2784408          0.022131            -0.122455                     1.0   \n",
       "2583253         -0.200727            -0.122446                     1.0   \n",
       "2784905          0.022131            -0.122455                     1.0   \n",
       "\n",
       "         ETCHSOURCEUSAGE  ACTUALSTEPDURATION  \n",
       "2582466        -1.475801            0.021044  \n",
       "2583845        -1.471658           -0.291949  \n",
       "2784408        -0.846892            0.021044  \n",
       "2583253        -1.473622           -0.291949  \n",
       "2784905        -0.845245            0.803526  "
      ]
     },
     "execution_count": 23,
     "metadata": {},
     "output_type": "execute_result"
    }
   ],
   "source": [
    "X_train1a.head()"
   ]
  },
  {
   "cell_type": "code",
   "execution_count": 24,
   "metadata": {},
   "outputs": [],
   "source": [
    "cl_scalar = MinMaxScaler()\n",
    "cl_scalar.fit(X_train1a)\n",
    "\n",
    "scl_trainX1a = cl_scalar.transform(X_train1a)\n",
    "scl_testX1a = cl_scalar.transform(X_test1a)"
   ]
  },
  {
   "cell_type": "markdown",
   "metadata": {},
   "source": [
    "#### Random Forest Classifier A"
   ]
  },
  {
   "cell_type": "code",
   "execution_count": 25,
   "metadata": {},
   "outputs": [
    {
     "data": {
      "text/plain": [
       "RandomForestClassifier(random_state=42)"
      ]
     },
     "execution_count": 25,
     "metadata": {},
     "output_type": "execute_result"
    }
   ],
   "source": [
    "rfc_a = RandomForestClassifier(random_state=42)\n",
    "\n",
    "rfc_a.fit(scl_trainX1a, Y_train1a)"
   ]
  },
  {
   "cell_type": "code",
   "execution_count": 26,
   "metadata": {},
   "outputs": [
    {
     "name": "stdout",
     "output_type": "stream",
     "text": [
      "Accuracy Score Random Forest Scenario 1:0.998\n",
      "\n",
      "Classification Report Random Forest Scenario 1\n",
      "\n",
      "               precision    recall  f1-score   support\n",
      "\n",
      "           0       1.00      1.00      1.00      1126\n",
      "           1       1.00      0.99      0.99       154\n",
      "\n",
      "    accuracy                           1.00      1280\n",
      "   macro avg       1.00      0.99      1.00      1280\n",
      "weighted avg       1.00      1.00      1.00      1280\n",
      "\n"
     ]
    }
   ],
   "source": [
    "rfc_pred_a = rfc_a.predict(scl_testX1a)\n",
    "\n",
    "rfc_accuracy_a = accuracy_score(Y_test1a, rfc_pred_a)\n",
    "\n",
    "print('Accuracy Score Random Forest Scenario 1:{:.3f}\\n'.format(rfc_accuracy_a))\n",
    "print('Classification Report Random Forest Scenario 1\\n\\n',classification_report(Y_test1a, rfc_pred_a))"
   ]
  },
  {
   "cell_type": "code",
   "execution_count": 27,
   "metadata": {},
   "outputs": [],
   "source": [
    "rfc_cm = confusion_matrix(Y_test1a, rfc_pred_a)"
   ]
  },
  {
   "cell_type": "code",
   "execution_count": 28,
   "metadata": {},
   "outputs": [
    {
     "data": {
      "image/png": "[encoded data removed]",
      "text/plain": [
       "<Figure size 432x288 with 2 Axes>"
      ]
     },
     "metadata": {
      "needs_background": "light"
     },
     "output_type": "display_data"
    }
   ],
   "source": [
    "sns.heatmap(rfc_cm, annot=True, fmt='.2f')\n",
    "plt.title('Random Forest Scenario 1')\n",
    "plt.xlabel('Predicted')\n",
    "plt.ylabel('Actual')\n",
    "plt.show()"
   ]
  },
  {
   "cell_type": "markdown",
   "metadata": {},
   "source": [
    "#### Gradient Boost Classifier  A"
   ]
  },
  {
   "cell_type": "code",
   "execution_count": 29,
   "metadata": {
    "scrolled": true
   },
   "outputs": [
    {
     "data": {
      "text/plain": [
       "GradientBoostingClassifier(random_state=42)"
      ]
     },
     "execution_count": 29,
     "metadata": {},
     "output_type": "execute_result"
    }
   ],
   "source": [
    "gbc_a = GradientBoostingClassifier(random_state=42)\n",
    "\n",
    "gbc_a.fit(scl_trainX1a, Y_train1a)"
   ]
  },
  {
   "cell_type": "code",
   "execution_count": 32,
   "metadata": {},
   "outputs": [
    {
     "name": "stdout",
     "output_type": "stream",
     "text": [
      "Accuracy Score Gradient Boost Classifier Scenario 1:0.998\n",
      "\n",
      "Classification Report Gradient Boost Classifier Scenario 1\n",
      "\n",
      "               precision    recall  f1-score   support\n",
      "\n",
      "           0       1.00      1.00      1.00      1126\n",
      "           1       1.00      0.99      1.00       154\n",
      "\n",
      "    accuracy                           1.00      1280\n",
      "   macro avg       1.00      1.00      1.00      1280\n",
      "weighted avg       1.00      1.00      1.00      1280\n",
      "\n"
     ]
    }
   ],
   "source": [
    "gbc_pred_a = gbc_a.predict(scl_testX1a)\n",
    "\n",
    "gbc_accuracy_a = accuracy_score(Y_test1a, rfc_pred_a)\n",
    "\n",
    "print('Accuracy Score Gradient Boost Classifier Scenario 1:{:.3f}\\n'.format(gbc_accuracy_a))\n",
    "print('Classification Report Gradient Boost Classifier Scenario 1\\n\\n', classification_report(Y_test1a, gbc_pred_a))"
   ]
  },
  {
   "cell_type": "code",
   "execution_count": 33,
   "metadata": {},
   "outputs": [],
   "source": [
    "gbc_cm = confusion_matrix(Y_test1a, gbc_pred_a)"
   ]
  },
  {
   "cell_type": "code",
   "execution_count": 34,
   "metadata": {},
   "outputs": [
    {
     "data": {
      "image/png": "[encoded data removed]",
      "text/plain": [
       "<Figure size 432x288 with 2 Axes>"
      ]
     },
     "metadata": {
      "needs_background": "light"
     },
     "output_type": "display_data"
    }
   ],
   "source": [
    "sns.heatmap(gbc_cm, annot=True, fmt='.2f')\n",
    "plt.title('Gradient Boosting Classifier Scenario 1')\n",
    "plt.xlabel('Predicted')\n",
    "plt.ylabel('Actual')\n",
    "plt.show()"
   ]
  },
  {
   "cell_type": "markdown",
   "metadata": {},
   "source": [
    "#### Logistic Regression A"
   ]
  },
  {
   "cell_type": "code",
   "execution_count": 35,
   "metadata": {},
   "outputs": [
    {
     "data": {
      "text/plain": [
       "LogisticRegression()"
      ]
     },
     "execution_count": 35,
     "metadata": {},
     "output_type": "execute_result"
    }
   ],
   "source": [
    "logreg_a = LogisticRegression()\n",
    "\n",
    "logreg_a.fit(scl_trainX1a, Y_train1a)"
   ]
  },
  {
   "cell_type": "code",
   "execution_count": 36,
   "metadata": {},
   "outputs": [
    {
     "name": "stdout",
     "output_type": "stream",
     "text": [
      "Accuracy Score Logistic Regression Scenario 1:0.914\n",
      "\n",
      "Classification Report Logistic Regression Scenario 1\n",
      "\n",
      "               precision    recall  f1-score   support\n",
      "\n",
      "           0       0.93      0.98      0.95      1126\n",
      "           1       0.72      0.47      0.57       154\n",
      "\n",
      "    accuracy                           0.91      1280\n",
      "   macro avg       0.83      0.72      0.76      1280\n",
      "weighted avg       0.91      0.91      0.91      1280\n",
      "\n"
     ]
    }
   ],
   "source": [
    "logreg_pred_a = logreg_a.predict(scl_testX1a)\n",
    "\n",
    "logreg_accuracy_a = accuracy_score(Y_test1a, logreg_pred_a)\n",
    "\n",
    "print('Accuracy Score Logistic Regression Scenario 1:{:.3f}\\n'.format(logreg_accuracy_a))\n",
    "print('Classification Report Logistic Regression Scenario 1\\n\\n', classification_report(Y_test1a, logreg_pred_a))"
   ]
  },
  {
   "cell_type": "markdown",
   "metadata": {},
   "source": [
    "#### Cross Validation A"
   ]
  },
  {
   "cell_type": "code",
   "execution_count": 41,
   "metadata": {},
   "outputs": [
    {
     "name": "stdout",
     "output_type": "stream",
     "text": [
      "Scores:0.992\n",
      "Scores:0.003\n"
     ]
    }
   ],
   "source": [
    "rfc_valscore_a = cross_validate(rfc_a,scl_trainX1a, Y_train1a, cv=5, scoring='f1')\n",
    "\n",
    "#print(\"Score:\\n\",rfc_valscore_a['test_score'])\n",
    "print(\"Scores:{:.3f}\".format(rfc_valscore_a['test_score'].mean()))\n",
    "print(\"Scores:{:.3f}\".format(rfc_valscore_a['test_score'].std()))"
   ]
  },
  {
   "cell_type": "code",
   "execution_count": 42,
   "metadata": {},
   "outputs": [
    {
     "name": "stdout",
     "output_type": "stream",
     "text": [
      "Scores:0.993\n",
      "Scores:0.003\n"
     ]
    }
   ],
   "source": [
    "gbc_valscore_a = cross_validate(gbc_a,scl_trainX1a, Y_train1a, cv=5, scoring='f1')\n",
    "\n",
    "#print(\"Score:\\n\",rfc_valscore_a['test_score'])\n",
    "print(\"Scores:{:.3f}\".format(gbc_valscore_a['test_score'].mean()))\n",
    "print(\"Scores:{:.3f}\".format(gbc_valscore_a['test_score'].std()))"
   ]
  },
  {
   "cell_type": "code",
   "execution_count": 43,
   "metadata": {},
   "outputs": [
    {
     "name": "stdout",
     "output_type": "stream",
     "text": [
      "Scores:0.562\n",
      "Scores:0.050\n"
     ]
    }
   ],
   "source": [
    "logreg_valscore_a = cross_validate(logreg_a,scl_trainX1a, Y_train1a, cv=5, scoring='f1')\n",
    "\n",
    "#print(\"Score:\\n\",rfc_valscore_a['test_score'])\n",
    "print(\"Scores:{:.3f}\".format(logreg_valscore_a['test_score'].mean()))\n",
    "print(\"Scores:{:.3f}\".format(logreg_valscore_a['test_score'].std()))"
   ]
  },
  {
   "cell_type": "markdown",
   "metadata": {},
   "source": [
    "#### Fine Tune Parameters\n",
    "\n",
    "#### Fine Tuning the Random Forest Classifier\n",
    "\n",
    "Different hyperparameters are tried out using GridSearchCV to improve performance."
   ]
  },
  {
   "cell_type": "code",
   "execution_count": 44,
   "metadata": {},
   "outputs": [],
   "source": [
    "from sklearn.model_selection import GridSearchCV"
   ]
  },
  {
   "cell_type": "code",
   "execution_count": 45,
   "metadata": {},
   "outputs": [],
   "source": [
    "rfc_grid = [{'n_estimators':[50,200], 'max_depth':[5,10], 'criterion':['entropy','gini']}]\n",
    "\n",
    "rfc_cv = RandomForestClassifier()"
   ]
  },
  {
   "cell_type": "code",
   "execution_count": 46,
   "metadata": {},
   "outputs": [
    {
     "data": {
      "text/plain": [
       "GridSearchCV(cv=5, estimator=RandomForestClassifier(),\n",
       "             param_grid=[{'criterion': ['entropy', 'gini'],\n",
       "                          'max_depth': [5, 10], 'n_estimators': [50, 200]}],\n",
       "             return_train_score=True)"
      ]
     },
     "execution_count": 46,
     "metadata": {},
     "output_type": "execute_result"
    }
   ],
   "source": [
    "rfc_gridsearch= GridSearchCV(estimator =rfc_cv, param_grid=rfc_grid, cv=5, return_train_score=True )\n",
    "\n",
    "rfc_gridsearch.fit(scl_trainX1a, Y_train1a)"
   ]
  },
  {
   "cell_type": "code",
   "execution_count": 47,
   "metadata": {
    "scrolled": true
   },
   "outputs": [
    {
     "data": {
      "text/plain": [
       "0.9986328125"
      ]
     },
     "execution_count": 47,
     "metadata": {},
     "output_type": "execute_result"
    }
   ],
   "source": [
    "rfc_gridsearch.best_score_"
   ]
  },
  {
   "cell_type": "code",
   "execution_count": 48,
   "metadata": {},
   "outputs": [],
   "source": [
    "rfc_best = rfc_gridsearch.best_estimator_"
   ]
  },
  {
   "cell_type": "code",
   "execution_count": 49,
   "metadata": {},
   "outputs": [
    {
     "name": "stdout",
     "output_type": "stream",
     "text": [
      "Accuracy Score Random Forest after fine tuning Scenario 1:0.998\n",
      "\n",
      "Classification Report Random Forest after fine tuning Scenario 1\n",
      "\n",
      "               precision    recall  f1-score   support\n",
      "\n",
      "           0       1.00      1.00      1.00      1126\n",
      "           1       1.00      0.99      0.99       154\n",
      "\n",
      "    accuracy                           1.00      1280\n",
      "   macro avg       1.00      0.99      1.00      1280\n",
      "weighted avg       1.00      1.00      1.00      1280\n",
      "\n"
     ]
    }
   ],
   "source": [
    "rfc_best_a = rfc_best.predict(scl_testX1a)\n",
    "\n",
    "rfc_best_accuracy_a = accuracy_score(Y_test1a, rfc_best_a)\n",
    "\n",
    "print('Accuracy Score Random Forest after fine tuning Scenario 1:{:.3f}\\n'.format(rfc_best_accuracy_a))\n",
    "print('Classification Report Random Forest after fine tuning Scenario 1\\n\\n', classification_report(Y_test1a, rfc_best_a))"
   ]
  },
  {
   "cell_type": "markdown",
   "metadata": {},
   "source": [
    "#### Fine Tuning the Gradient Boosting Classifier"
   ]
  },
  {
   "cell_type": "code",
   "execution_count": 50,
   "metadata": {},
   "outputs": [],
   "source": [
    "gbc_grid = [{'n_estimators':[50,150], 'max_depth':[2,5]}]\n",
    "\n",
    "gbc_cv = GradientBoostingClassifier()"
   ]
  },
  {
   "cell_type": "code",
   "execution_count": 51,
   "metadata": {},
   "outputs": [
    {
     "data": {
      "text/plain": [
       "GridSearchCV(cv=5, estimator=GradientBoostingClassifier(),\n",
       "             param_grid=[{'max_depth': [2, 5], 'n_estimators': [50, 150]}],\n",
       "             return_train_score=True)"
      ]
     },
     "execution_count": 51,
     "metadata": {},
     "output_type": "execute_result"
    }
   ],
   "source": [
    "gbc_gridsearch= GridSearchCV(estimator = gbc_cv, param_grid=gbc_grid, cv=5, return_train_score=True )\n",
    "\n",
    "gbc_gridsearch.fit(scl_trainX1a, Y_train1a)"
   ]
  },
  {
   "cell_type": "code",
   "execution_count": 52,
   "metadata": {},
   "outputs": [
    {
     "data": {
      "text/plain": [
       "0.9984375"
      ]
     },
     "execution_count": 52,
     "metadata": {},
     "output_type": "execute_result"
    }
   ],
   "source": [
    "gbc_gridsearch.best_score_"
   ]
  },
  {
   "cell_type": "code",
   "execution_count": 53,
   "metadata": {},
   "outputs": [],
   "source": [
    "gbc_best = gbc_gridsearch.best_estimator_"
   ]
  },
  {
   "cell_type": "code",
   "execution_count": 54,
   "metadata": {},
   "outputs": [
    {
     "name": "stdout",
     "output_type": "stream",
     "text": [
      "Accuracy Score Gradient Boosting Classifier after fine tuning Scenario 1:  0.999\n",
      "\n",
      "Classification Report Gradient Boosting Classifier after fine tuning Scenario 1\n",
      "\n",
      "               precision    recall  f1-score   support\n",
      "\n",
      "           0       1.00      1.00      1.00      1126\n",
      "           1       1.00      0.99      1.00       154\n",
      "\n",
      "    accuracy                           1.00      1280\n",
      "   macro avg       1.00      1.00      1.00      1280\n",
      "weighted avg       1.00      1.00      1.00      1280\n",
      "\n"
     ]
    }
   ],
   "source": [
    "gbc_best_a = gbc_best.predict(scl_testX1a)\n",
    "\n",
    "gbc_best_accuracy_a = accuracy_score(Y_test1a, gbc_best_a)\n",
    "\n",
    "print('Accuracy Score Gradient Boosting Classifier after fine tuning Scenario 1:  {:.3f}\\n'.format(gbc_best_accuracy_a))\n",
    "print('Classification Report Gradient Boosting Classifier after fine tuning Scenario 1\\n\\n', classification_report(Y_test1a, gbc_best_a))"
   ]
  },
  {
   "cell_type": "markdown",
   "metadata": {},
   "source": [
    "#### Fine Tuning Logistic Regression"
   ]
  },
  {
   "cell_type": "code",
   "execution_count": 55,
   "metadata": {},
   "outputs": [],
   "source": [
    "grid = [{'C':[0.01,0.1,1], 'penalty':['l1'],'solver':['liblinear']},\n",
    "        {'C':[0.01,0.1,1], 'penalty':['l2'],'solver':['lbfgs']}]\n",
    "         \n",
    "logreg_cv = LogisticRegression(random_state=7, max_iter=200)"
   ]
  },
  {
   "cell_type": "code",
   "execution_count": 56,
   "metadata": {},
   "outputs": [
    {
     "data": {
      "text/plain": [
       "GridSearchCV(cv=5, estimator=LogisticRegression(max_iter=200, random_state=7),\n",
       "             param_grid=[{'C': [0.01, 0.1, 1], 'penalty': ['l1'],\n",
       "                          'solver': ['liblinear']},\n",
       "                         {'C': [0.01, 0.1, 1], 'penalty': ['l2'],\n",
       "                          'solver': ['lbfgs']}],\n",
       "             return_train_score=True)"
      ]
     },
     "execution_count": 56,
     "metadata": {},
     "output_type": "execute_result"
    }
   ],
   "source": [
    "logreg_gridsearch = GridSearchCV(estimator =logreg_cv, param_grid=grid, cv=5, return_train_score=True )\n",
    "\n",
    "logreg_gridsearch.fit(scl_trainX1a, Y_train1a)"
   ]
  },
  {
   "cell_type": "code",
   "execution_count": 57,
   "metadata": {},
   "outputs": [
    {
     "data": {
      "text/plain": [
       "0.916796875"
      ]
     },
     "execution_count": 57,
     "metadata": {},
     "output_type": "execute_result"
    }
   ],
   "source": [
    "logreg_gridsearch.best_score_"
   ]
  },
  {
   "cell_type": "code",
   "execution_count": 58,
   "metadata": {},
   "outputs": [
    {
     "data": {
      "text/plain": [
       "LogisticRegression(C=1, max_iter=200, random_state=7)"
      ]
     },
     "execution_count": 58,
     "metadata": {},
     "output_type": "execute_result"
    }
   ],
   "source": [
    "logreg_gridsearch.best_estimator_"
   ]
  },
  {
   "cell_type": "code",
   "execution_count": 59,
   "metadata": {},
   "outputs": [],
   "source": [
    "logreg_bestest =logreg_gridsearch.best_estimator_"
   ]
  },
  {
   "cell_type": "code",
   "execution_count": 60,
   "metadata": {},
   "outputs": [
    {
     "name": "stdout",
     "output_type": "stream",
     "text": [
      "Accuracy Score Logistic Regression after fine tuning Scenario 1:0.914\n",
      "\n",
      "Classification Report Logistic Regression after fine tuning Scenario 1\n",
      "\n",
      "               precision    recall  f1-score   support\n",
      "\n",
      "           0       0.93      0.98      0.95      1126\n",
      "           1       0.72      0.47      0.57       154\n",
      "\n",
      "    accuracy                           0.91      1280\n",
      "   macro avg       0.83      0.72      0.76      1280\n",
      "weighted avg       0.91      0.91      0.91      1280\n",
      "\n"
     ]
    }
   ],
   "source": [
    "logreg_best_a = logreg_bestest.predict(scl_testX1a)\n",
    "\n",
    "logreg_best_accuracy_a = accuracy_score(Y_test1a, logreg_best_a)\n",
    "\n",
    "print('Accuracy Score Logistic Regression after fine tuning Scenario 1:{:.3f}\\n'.format(logreg_best_accuracy_a))\n",
    "print('Classification Report Logistic Regression after fine tuning Scenario 1\\n\\n', classification_report(Y_test1a, logreg_best_a))"
   ]
  },
  {
   "cell_type": "code",
   "execution_count": 61,
   "metadata": {},
   "outputs": [],
   "source": [
    "logreg_cm = confusion_matrix(Y_test1a, logreg_best_a)"
   ]
  },
  {
   "cell_type": "code",
   "execution_count": 62,
   "metadata": {},
   "outputs": [
    {
     "data": {
      "image/png": "[encoded data removed]",
      "text/plain": [
       "<Figure size 432x288 with 2 Axes>"
      ]
     },
     "metadata": {
      "needs_background": "light"
     },
     "output_type": "display_data"
    }
   ],
   "source": [
    "sns.heatmap(logreg_cm, annot=True, fmt='.2f')\n",
    "plt.title('Logistic Regression for Scenario  after fine tuning Scenario 1')\n",
    "plt.xlabel('Predicted')\n",
    "plt.ylabel('Actual')\n",
    "plt.show()"
   ]
  },
  {
   "cell_type": "markdown",
   "metadata": {},
   "source": [
    "### Scenario 2: Limit is 19800 and failure is 2400 - 5 1/2 hours, 40 minutes"
   ]
  },
  {
   "cell_type": "code",
   "execution_count": 64,
   "metadata": {},
   "outputs": [],
   "source": [
    "cl_f1b_data = alldata.drop(['time','Lot','Tool','stage','recipe','recipe_step','ROTATIONSPEED','ETCHBEAMCURRENT','ETCHSUPPRESSORVOLTAGE',\n",
    "                        'ETCHSUPPRESSORCURRENT','ETCHAUXSOURCETIMER','ETCHAUX2SOURCETIMER','Flowcool_Pressure_dropped_below_limit','TTF_Flowcool_leak',\n",
    "                       'fault1_a', 'fault1_c','fault1_d'], axis=1)"
   ]
  },
  {
   "cell_type": "code",
   "execution_count": 65,
   "metadata": {},
   "outputs": [],
   "source": [
    "clf1data_b = cl_f1b_data.dropna()"
   ]
  },
  {
   "cell_type": "code",
   "execution_count": 66,
   "metadata": {},
   "outputs": [],
   "source": [
    "cutoff_1b = 19800\n",
    "\n",
    "cl_cutoff1b = clf1data_b.loc[clf1data_b ['Flowcool_Pressure_Too_High']<cutoff_1b].copy()"
   ]
  },
  {
   "cell_type": "code",
   "execution_count": 67,
   "metadata": {},
   "outputs": [],
   "source": [
    "cl_X1b = cl_cutoff1b.drop(['Flowcool_Pressure_Too_High', 'fault1_b'], axis=1)\n",
    "cl_Y1b = cl_cutoff1b['fault1_b']"
   ]
  },
  {
   "cell_type": "code",
   "execution_count": 68,
   "metadata": {},
   "outputs": [
    {
     "data": {
      "text/html": [
       "<div>\n",
       "<style scoped>\n",
       "    .dataframe tbody tr th:only-of-type {\n",
       "        vertical-align: middle;\n",
       "    }\n",
       "\n",
       "    .dataframe tbody tr th {\n",
       "        vertical-align: top;\n",
       "    }\n",
       "\n",
       "    .dataframe thead th {\n",
       "        text-align: right;\n",
       "    }\n",
       "</style>\n",
       "<table border=\"1\" class=\"dataframe\">\n",
       "  <thead>\n",
       "    <tr style=\"text-align: right;\">\n",
       "      <th></th>\n",
       "      <th>runnum</th>\n",
       "      <th>IONGAUGEPRESSURE</th>\n",
       "      <th>ETCHBEAMVOLTAGE</th>\n",
       "      <th>FLOWCOOLFLOWRATE</th>\n",
       "      <th>FLOWCOOLPRESSURE</th>\n",
       "      <th>ETCHGASCHANNEL1READBACK</th>\n",
       "      <th>ETCHPBNGASREADBACK</th>\n",
       "      <th>FIXTURETILTANGLE</th>\n",
       "      <th>ACTUALROTATIONANGLE</th>\n",
       "      <th>FIXTURESHUTTERPOSITION</th>\n",
       "      <th>ETCHSOURCEUSAGE</th>\n",
       "      <th>ACTUALSTEPDURATION</th>\n",
       "    </tr>\n",
       "  </thead>\n",
       "  <tbody>\n",
       "    <tr>\n",
       "      <th>1353418</th>\n",
       "      <td>11094910</td>\n",
       "      <td>-0.079525</td>\n",
       "      <td>-0.958701</td>\n",
       "      <td>-2.841850</td>\n",
       "      <td>-2.332807</td>\n",
       "      <td>-1.751661</td>\n",
       "      <td>-2.787718</td>\n",
       "      <td>2.027848</td>\n",
       "      <td>-0.122455</td>\n",
       "      <td>0.0</td>\n",
       "      <td>-0.266154</td>\n",
       "      <td>-0.370197</td>\n",
       "    </tr>\n",
       "    <tr>\n",
       "      <th>1353419</th>\n",
       "      <td>11094910</td>\n",
       "      <td>-0.079520</td>\n",
       "      <td>-0.959042</td>\n",
       "      <td>-2.842907</td>\n",
       "      <td>-2.332807</td>\n",
       "      <td>-1.756665</td>\n",
       "      <td>-2.787718</td>\n",
       "      <td>2.027848</td>\n",
       "      <td>-0.122455</td>\n",
       "      <td>0.0</td>\n",
       "      <td>-0.266154</td>\n",
       "      <td>-0.370197</td>\n",
       "    </tr>\n",
       "    <tr>\n",
       "      <th>1353420</th>\n",
       "      <td>11094910</td>\n",
       "      <td>-0.079520</td>\n",
       "      <td>-0.958758</td>\n",
       "      <td>-2.842907</td>\n",
       "      <td>-2.332807</td>\n",
       "      <td>-1.756665</td>\n",
       "      <td>-2.791223</td>\n",
       "      <td>2.027848</td>\n",
       "      <td>-0.122455</td>\n",
       "      <td>0.0</td>\n",
       "      <td>-0.266154</td>\n",
       "      <td>-0.370197</td>\n",
       "    </tr>\n",
       "    <tr>\n",
       "      <th>1353421</th>\n",
       "      <td>11094910</td>\n",
       "      <td>-0.079525</td>\n",
       "      <td>-0.958928</td>\n",
       "      <td>-2.840944</td>\n",
       "      <td>-2.332807</td>\n",
       "      <td>-1.754914</td>\n",
       "      <td>-2.791223</td>\n",
       "      <td>2.027848</td>\n",
       "      <td>-0.122455</td>\n",
       "      <td>0.0</td>\n",
       "      <td>-0.266154</td>\n",
       "      <td>-0.370197</td>\n",
       "    </tr>\n",
       "    <tr>\n",
       "      <th>1353422</th>\n",
       "      <td>11094910</td>\n",
       "      <td>-0.079538</td>\n",
       "      <td>-0.959042</td>\n",
       "      <td>-2.840944</td>\n",
       "      <td>-2.332807</td>\n",
       "      <td>-1.754914</td>\n",
       "      <td>-2.791223</td>\n",
       "      <td>2.027848</td>\n",
       "      <td>-0.122455</td>\n",
       "      <td>0.0</td>\n",
       "      <td>-0.266154</td>\n",
       "      <td>-0.370197</td>\n",
       "    </tr>\n",
       "  </tbody>\n",
       "</table>\n",
       "</div>"
      ],
      "text/plain": [
       "           runnum  IONGAUGEPRESSURE  ETCHBEAMVOLTAGE  FLOWCOOLFLOWRATE  \\\n",
       "1353418  11094910         -0.079525        -0.958701         -2.841850   \n",
       "1353419  11094910         -0.079520        -0.959042         -2.842907   \n",
       "1353420  11094910         -0.079520        -0.958758         -2.842907   \n",
       "1353421  11094910         -0.079525        -0.958928         -2.840944   \n",
       "1353422  11094910         -0.079538        -0.959042         -2.840944   \n",
       "\n",
       "         FLOWCOOLPRESSURE  ETCHGASCHANNEL1READBACK  ETCHPBNGASREADBACK  \\\n",
       "1353418         -2.332807                -1.751661           -2.787718   \n",
       "1353419         -2.332807                -1.756665           -2.787718   \n",
       "1353420         -2.332807                -1.756665           -2.791223   \n",
       "1353421         -2.332807                -1.754914           -2.791223   \n",
       "1353422         -2.332807                -1.754914           -2.791223   \n",
       "\n",
       "         FIXTURETILTANGLE  ACTUALROTATIONANGLE  FIXTURESHUTTERPOSITION  \\\n",
       "1353418          2.027848            -0.122455                     0.0   \n",
       "1353419          2.027848            -0.122455                     0.0   \n",
       "1353420          2.027848            -0.122455                     0.0   \n",
       "1353421          2.027848            -0.122455                     0.0   \n",
       "1353422          2.027848            -0.122455                     0.0   \n",
       "\n",
       "         ETCHSOURCEUSAGE  ACTUALSTEPDURATION  \n",
       "1353418        -0.266154           -0.370197  \n",
       "1353419        -0.266154           -0.370197  \n",
       "1353420        -0.266154           -0.370197  \n",
       "1353421        -0.266154           -0.370197  \n",
       "1353422        -0.266154           -0.370197  "
      ]
     },
     "execution_count": 68,
     "metadata": {},
     "output_type": "execute_result"
    }
   ],
   "source": [
    "cl_X1b.head()"
   ]
  },
  {
   "cell_type": "code",
   "execution_count": 69,
   "metadata": {},
   "outputs": [
    {
     "data": {
      "text/plain": [
       "0    5265\n",
       "1    2218\n",
       "Name: fault1_b, dtype: int64"
      ]
     },
     "execution_count": 69,
     "metadata": {},
     "output_type": "execute_result"
    }
   ],
   "source": [
    "cl_Y1b.value_counts()"
   ]
  },
  {
   "cell_type": "code",
   "execution_count": 70,
   "metadata": {},
   "outputs": [
    {
     "data": {
      "image/png": "[encoded data removed]",
      "text/plain": [
       "<Figure size 432x288 with 1 Axes>"
      ]
     },
     "metadata": {
      "needs_background": "light"
     },
     "output_type": "display_data"
    }
   ],
   "source": [
    "cl_Y1b.value_counts().plot(kind='bar')\n",
    "plt.title(\"Data Imbalance Scenario 2\")\n",
    "plt.xticks(rotation=180)\n",
    "plt.show()"
   ]
  },
  {
   "cell_type": "code",
   "execution_count": 71,
   "metadata": {},
   "outputs": [],
   "source": [
    "X_train1b, X_test1b, Y_train1b, Y_test1b = train_test_split(cl_X1b, cl_Y1b, test_size = 0.2, random_state=42)"
   ]
  },
  {
   "cell_type": "code",
   "execution_count": 72,
   "metadata": {},
   "outputs": [],
   "source": [
    "cl_scalar_b = MinMaxScaler()\n",
    "cl_scalar_b.fit(X_train1b)\n",
    "\n",
    "scl_trainX1b = cl_scalar.transform(X_train1b)\n",
    "scl_testX1b = cl_scalar.transform(X_test1b)"
   ]
  },
  {
   "cell_type": "markdown",
   "metadata": {},
   "source": [
    "#### Random Forest Classifier B"
   ]
  },
  {
   "cell_type": "code",
   "execution_count": 73,
   "metadata": {},
   "outputs": [
    {
     "data": {
      "text/plain": [
       "RandomForestClassifier(random_state=42)"
      ]
     },
     "execution_count": 73,
     "metadata": {},
     "output_type": "execute_result"
    }
   ],
   "source": [
    "rfc_b = RandomForestClassifier(random_state=42)\n",
    "\n",
    "rfc_b.fit(scl_trainX1b, Y_train1b)"
   ]
  },
  {
   "cell_type": "code",
   "execution_count": 74,
   "metadata": {},
   "outputs": [
    {
     "name": "stdout",
     "output_type": "stream",
     "text": [
      "Accuracy Score Random Forest Scenario 2:0.999\n",
      "\n",
      "Classification Report Random Forest Scenario 2\n",
      "\n",
      "               precision    recall  f1-score   support\n",
      "\n",
      "           0       1.00      1.00      1.00      1068\n",
      "           1       1.00      1.00      1.00       429\n",
      "\n",
      "    accuracy                           1.00      1497\n",
      "   macro avg       1.00      1.00      1.00      1497\n",
      "weighted avg       1.00      1.00      1.00      1497\n",
      "\n"
     ]
    }
   ],
   "source": [
    "rfc_pred_b = rfc_b.predict(scl_testX1b)\n",
    "\n",
    "rfc_accuracy_b = accuracy_score(Y_test1b, rfc_pred_b)\n",
    "\n",
    "print('Accuracy Score Random Forest Scenario 2:{:.3f}\\n'.format(rfc_accuracy_b))\n",
    "print('Classification Report Random Forest Scenario 2\\n\\n',classification_report(Y_test1b, rfc_pred_b))"
   ]
  },
  {
   "cell_type": "code",
   "execution_count": 75,
   "metadata": {},
   "outputs": [],
   "source": [
    "rfc_cm_b = confusion_matrix(Y_test1b, rfc_pred_b)"
   ]
  },
  {
   "cell_type": "code",
   "execution_count": 76,
   "metadata": {},
   "outputs": [
    {
     "data": {
      "image/png": "[encoded data removed]",
      "text/plain": [
       "<Figure size 432x288 with 2 Axes>"
      ]
     },
     "metadata": {
      "needs_background": "light"
     },
     "output_type": "display_data"
    }
   ],
   "source": [
    "sns.heatmap(rfc_cm_b, annot=True, fmt='.2f', cmap=plt.cm.Blues)\n",
    "plt.title('Random Forest Classifier for Scenario 2')\n",
    "plt.xlabel('Predicted')\n",
    "plt.ylabel('Actual')\n",
    "plt.show()"
   ]
  },
  {
   "cell_type": "markdown",
   "metadata": {},
   "source": [
    "#### Gradient Boost Classifier B"
   ]
  },
  {
   "cell_type": "code",
   "execution_count": 77,
   "metadata": {
    "scrolled": true
   },
   "outputs": [
    {
     "data": {
      "text/plain": [
       "GradientBoostingClassifier()"
      ]
     },
     "execution_count": 77,
     "metadata": {},
     "output_type": "execute_result"
    }
   ],
   "source": [
    "gbc_b = GradientBoostingClassifier()\n",
    "\n",
    "gbc_b.fit(scl_trainX1b, Y_train1b)"
   ]
  },
  {
   "cell_type": "code",
   "execution_count": 78,
   "metadata": {},
   "outputs": [
    {
     "name": "stdout",
     "output_type": "stream",
     "text": [
      "Accuracy Score Gradient Boost Classifier Scenario 2:0.999\n",
      "\n",
      "Classification Report Gradient Boost Classifier Scenario 2\n",
      "\n",
      "               precision    recall  f1-score   support\n",
      "\n",
      "           0       1.00      1.00      1.00      1068\n",
      "           1       1.00      1.00      1.00       429\n",
      "\n",
      "    accuracy                           1.00      1497\n",
      "   macro avg       1.00      1.00      1.00      1497\n",
      "weighted avg       1.00      1.00      1.00      1497\n",
      "\n"
     ]
    }
   ],
   "source": [
    "gbc_pred_b = gbc_b.predict(scl_testX1b)\n",
    "\n",
    "gbc_accuracy_b = accuracy_score(Y_test1b, gbc_pred_b)\n",
    "\n",
    "print('Accuracy Score Gradient Boost Classifier Scenario 2:{:.3f}\\n'.format(gbc_accuracy_b))\n",
    "print('Classification Report Gradient Boost Classifier Scenario 2\\n\\n', classification_report(Y_test1b, gbc_pred_b))"
   ]
  },
  {
   "cell_type": "code",
   "execution_count": 79,
   "metadata": {},
   "outputs": [],
   "source": [
    "gbc_cm_b = confusion_matrix(Y_test1b, gbc_pred_b)"
   ]
  },
  {
   "cell_type": "code",
   "execution_count": 80,
   "metadata": {},
   "outputs": [
    {
     "data": {
      "image/png": "[encoded data removed]",
      "text/plain": [
       "<Figure size 432x288 with 2 Axes>"
      ]
     },
     "metadata": {
      "needs_background": "light"
     },
     "output_type": "display_data"
    }
   ],
   "source": [
    "sns.heatmap(gbc_cm_b, annot=True, fmt='.2f', cmap=plt.cm.Blues)\n",
    "plt.title('Gradient Boosting Classifier for Scenario 2')\n",
    "plt.xlabel('Predicted')\n",
    "plt.ylabel('Actual')\n",
    "plt.show()"
   ]
  },
  {
   "cell_type": "markdown",
   "metadata": {},
   "source": [
    "#### Logistic Regression B"
   ]
  },
  {
   "cell_type": "code",
   "execution_count": 81,
   "metadata": {},
   "outputs": [
    {
     "data": {
      "text/plain": [
       "LogisticRegression()"
      ]
     },
     "execution_count": 81,
     "metadata": {},
     "output_type": "execute_result"
    }
   ],
   "source": [
    "logreg_b = LogisticRegression()\n",
    "\n",
    "logreg_b.fit(scl_trainX1b, Y_train1b)"
   ]
  },
  {
   "cell_type": "code",
   "execution_count": 82,
   "metadata": {},
   "outputs": [
    {
     "name": "stdout",
     "output_type": "stream",
     "text": [
      "Accuracy Score Logistic Regression Scenario 2: 0.882\n",
      "\n",
      "Classification Report Logistic Regression Scenario 2\n",
      "\n",
      "               precision    recall  f1-score   support\n",
      "\n",
      "           0       0.94      0.89      0.92      1068\n",
      "           1       0.76      0.86      0.81       429\n",
      "\n",
      "    accuracy                           0.88      1497\n",
      "   macro avg       0.85      0.88      0.86      1497\n",
      "weighted avg       0.89      0.88      0.88      1497\n",
      "\n"
     ]
    }
   ],
   "source": [
    "logreg_pred_b = logreg_b.predict(scl_testX1b)\n",
    "\n",
    "logreg_accuracy_b = accuracy_score(Y_test1b, logreg_pred_b)\n",
    "\n",
    "print('Accuracy Score Logistic Regression Scenario 2: {:.3f}\\n'.format(logreg_accuracy_b))\n",
    "print('Classification Report Logistic Regression Scenario 2\\n\\n', classification_report(Y_test1b, logreg_pred_b))"
   ]
  },
  {
   "cell_type": "code",
   "execution_count": 83,
   "metadata": {},
   "outputs": [],
   "source": [
    "logreg_cm_b = confusion_matrix(Y_test1b, logreg_pred_b)"
   ]
  },
  {
   "cell_type": "code",
   "execution_count": 84,
   "metadata": {},
   "outputs": [
    {
     "data": {
      "image/png": "[encoded data removed]",
      "text/plain": [
       "<Figure size 432x288 with 2 Axes>"
      ]
     },
     "metadata": {
      "needs_background": "light"
     },
     "output_type": "display_data"
    }
   ],
   "source": [
    "sns.heatmap(logreg_cm_b, annot=True, fmt='.2f')\n",
    "plt.title('Logistic Regression for Scenario 2')\n",
    "plt.xlabel('Predicted')\n",
    "plt.ylabel('Actual')\n",
    "plt.show()"
   ]
  },
  {
   "cell_type": "markdown",
   "metadata": {},
   "source": [
    "#### Cross Validation B"
   ]
  },
  {
   "cell_type": "code",
   "execution_count": 85,
   "metadata": {},
   "outputs": [
    {
     "name": "stdout",
     "output_type": "stream",
     "text": [
      "Scores:0.998\n",
      "Scores:0.002\n"
     ]
    }
   ],
   "source": [
    "rfc_valscore_b = cross_validate(rfc_b,scl_trainX1b, Y_train1b, cv=5, scoring='f1')\n",
    "\n",
    "print(\"Scores:{:.3f}\".format(rfc_valscore_b['test_score'].mean()))\n",
    "print(\"Scores:{:.3f}\".format(rfc_valscore_b['test_score'].std()))"
   ]
  },
  {
   "cell_type": "code",
   "execution_count": 86,
   "metadata": {},
   "outputs": [
    {
     "name": "stdout",
     "output_type": "stream",
     "text": [
      "Scores:0.997\n",
      "Scores:0.002\n"
     ]
    }
   ],
   "source": [
    "gbc_valscore_b = cross_validate(gbc_b,scl_trainX1b, Y_train1b, cv=5, scoring='f1')\n",
    "\n",
    "print(\"Scores:{:.3f}\".format(gbc_valscore_b['test_score'].mean()))\n",
    "print(\"Scores:{:.3f}\".format(gbc_valscore_b['test_score'].std()))"
   ]
  },
  {
   "cell_type": "code",
   "execution_count": 87,
   "metadata": {},
   "outputs": [
    {
     "name": "stdout",
     "output_type": "stream",
     "text": [
      "Scores:0.794\n",
      "Scores:0.013\n"
     ]
    }
   ],
   "source": [
    "logreg_valscore_b = cross_validate(logreg_b,scl_trainX1b, Y_train1b, cv=5, scoring='f1')\n",
    "\n",
    "print(\"Scores:{:.3f}\".format(logreg_valscore_b['test_score'].mean()))\n",
    "print(\"Scores:{:.3f}\".format(logreg_valscore_b['test_score'].std()))"
   ]
  },
  {
   "cell_type": "markdown",
   "metadata": {},
   "source": [
    "### Scenario 3: Limit is 28800 and failure is 3600 - 8 hours, 1 hour"
   ]
  },
  {
   "cell_type": "code",
   "execution_count": 88,
   "metadata": {},
   "outputs": [],
   "source": [
    "cl_f1c_data = alldata.drop(['time','Lot','Tool','stage','recipe','recipe_step','ROTATIONSPEED','ETCHBEAMCURRENT','ETCHSUPPRESSORVOLTAGE',\n",
    "                        'ETCHSUPPRESSORCURRENT','ETCHAUXSOURCETIMER','ETCHAUX2SOURCETIMER','Flowcool_Pressure_dropped_below_limit', 'TTF_Flowcool_leak',\n",
    "                       'fault1_a', 'fault1_b','fault1_d'], axis=1)"
   ]
  },
  {
   "cell_type": "code",
   "execution_count": 89,
   "metadata": {},
   "outputs": [],
   "source": [
    "clf1data_c = cl_f1c_data.dropna()"
   ]
  },
  {
   "cell_type": "code",
   "execution_count": 90,
   "metadata": {},
   "outputs": [],
   "source": [
    "cutoff_1c = 28800\n",
    "\n",
    "cl_cutoff1c = clf1data_c.loc[clf1data_c['Flowcool_Pressure_Too_High']<cutoff_1c].copy()"
   ]
  },
  {
   "cell_type": "code",
   "execution_count": 91,
   "metadata": {},
   "outputs": [],
   "source": [
    "cl_X1c = cl_cutoff1c.drop(['Flowcool_Pressure_Too_High', 'fault1_c'], axis=1)\n",
    "cl_Y1c = cl_cutoff1c['fault1_c']"
   ]
  },
  {
   "cell_type": "code",
   "execution_count": 92,
   "metadata": {},
   "outputs": [
    {
     "data": {
      "text/html": [
       "<div>\n",
       "<style scoped>\n",
       "    .dataframe tbody tr th:only-of-type {\n",
       "        vertical-align: middle;\n",
       "    }\n",
       "\n",
       "    .dataframe tbody tr th {\n",
       "        vertical-align: top;\n",
       "    }\n",
       "\n",
       "    .dataframe thead th {\n",
       "        text-align: right;\n",
       "    }\n",
       "</style>\n",
       "<table border=\"1\" class=\"dataframe\">\n",
       "  <thead>\n",
       "    <tr style=\"text-align: right;\">\n",
       "      <th></th>\n",
       "      <th>runnum</th>\n",
       "      <th>IONGAUGEPRESSURE</th>\n",
       "      <th>ETCHBEAMVOLTAGE</th>\n",
       "      <th>FLOWCOOLFLOWRATE</th>\n",
       "      <th>FLOWCOOLPRESSURE</th>\n",
       "      <th>ETCHGASCHANNEL1READBACK</th>\n",
       "      <th>ETCHPBNGASREADBACK</th>\n",
       "      <th>FIXTURETILTANGLE</th>\n",
       "      <th>ACTUALROTATIONANGLE</th>\n",
       "      <th>FIXTURESHUTTERPOSITION</th>\n",
       "      <th>ETCHSOURCEUSAGE</th>\n",
       "      <th>ACTUALSTEPDURATION</th>\n",
       "    </tr>\n",
       "  </thead>\n",
       "  <tbody>\n",
       "    <tr>\n",
       "      <th>1353418</th>\n",
       "      <td>11094910</td>\n",
       "      <td>-0.079525</td>\n",
       "      <td>-0.958701</td>\n",
       "      <td>-2.841850</td>\n",
       "      <td>-2.332807</td>\n",
       "      <td>-1.751661</td>\n",
       "      <td>-2.787718</td>\n",
       "      <td>2.027848</td>\n",
       "      <td>-0.122455</td>\n",
       "      <td>0.0</td>\n",
       "      <td>-0.266154</td>\n",
       "      <td>-0.370197</td>\n",
       "    </tr>\n",
       "    <tr>\n",
       "      <th>1353419</th>\n",
       "      <td>11094910</td>\n",
       "      <td>-0.079520</td>\n",
       "      <td>-0.959042</td>\n",
       "      <td>-2.842907</td>\n",
       "      <td>-2.332807</td>\n",
       "      <td>-1.756665</td>\n",
       "      <td>-2.787718</td>\n",
       "      <td>2.027848</td>\n",
       "      <td>-0.122455</td>\n",
       "      <td>0.0</td>\n",
       "      <td>-0.266154</td>\n",
       "      <td>-0.370197</td>\n",
       "    </tr>\n",
       "    <tr>\n",
       "      <th>1353420</th>\n",
       "      <td>11094910</td>\n",
       "      <td>-0.079520</td>\n",
       "      <td>-0.958758</td>\n",
       "      <td>-2.842907</td>\n",
       "      <td>-2.332807</td>\n",
       "      <td>-1.756665</td>\n",
       "      <td>-2.791223</td>\n",
       "      <td>2.027848</td>\n",
       "      <td>-0.122455</td>\n",
       "      <td>0.0</td>\n",
       "      <td>-0.266154</td>\n",
       "      <td>-0.370197</td>\n",
       "    </tr>\n",
       "    <tr>\n",
       "      <th>1353421</th>\n",
       "      <td>11094910</td>\n",
       "      <td>-0.079525</td>\n",
       "      <td>-0.958928</td>\n",
       "      <td>-2.840944</td>\n",
       "      <td>-2.332807</td>\n",
       "      <td>-1.754914</td>\n",
       "      <td>-2.791223</td>\n",
       "      <td>2.027848</td>\n",
       "      <td>-0.122455</td>\n",
       "      <td>0.0</td>\n",
       "      <td>-0.266154</td>\n",
       "      <td>-0.370197</td>\n",
       "    </tr>\n",
       "    <tr>\n",
       "      <th>1353422</th>\n",
       "      <td>11094910</td>\n",
       "      <td>-0.079538</td>\n",
       "      <td>-0.959042</td>\n",
       "      <td>-2.840944</td>\n",
       "      <td>-2.332807</td>\n",
       "      <td>-1.754914</td>\n",
       "      <td>-2.791223</td>\n",
       "      <td>2.027848</td>\n",
       "      <td>-0.122455</td>\n",
       "      <td>0.0</td>\n",
       "      <td>-0.266154</td>\n",
       "      <td>-0.370197</td>\n",
       "    </tr>\n",
       "  </tbody>\n",
       "</table>\n",
       "</div>"
      ],
      "text/plain": [
       "           runnum  IONGAUGEPRESSURE  ETCHBEAMVOLTAGE  FLOWCOOLFLOWRATE  \\\n",
       "1353418  11094910         -0.079525        -0.958701         -2.841850   \n",
       "1353419  11094910         -0.079520        -0.959042         -2.842907   \n",
       "1353420  11094910         -0.079520        -0.958758         -2.842907   \n",
       "1353421  11094910         -0.079525        -0.958928         -2.840944   \n",
       "1353422  11094910         -0.079538        -0.959042         -2.840944   \n",
       "\n",
       "         FLOWCOOLPRESSURE  ETCHGASCHANNEL1READBACK  ETCHPBNGASREADBACK  \\\n",
       "1353418         -2.332807                -1.751661           -2.787718   \n",
       "1353419         -2.332807                -1.756665           -2.787718   \n",
       "1353420         -2.332807                -1.756665           -2.791223   \n",
       "1353421         -2.332807                -1.754914           -2.791223   \n",
       "1353422         -2.332807                -1.754914           -2.791223   \n",
       "\n",
       "         FIXTURETILTANGLE  ACTUALROTATIONANGLE  FIXTURESHUTTERPOSITION  \\\n",
       "1353418          2.027848            -0.122455                     0.0   \n",
       "1353419          2.027848            -0.122455                     0.0   \n",
       "1353420          2.027848            -0.122455                     0.0   \n",
       "1353421          2.027848            -0.122455                     0.0   \n",
       "1353422          2.027848            -0.122455                     0.0   \n",
       "\n",
       "         ETCHSOURCEUSAGE  ACTUALSTEPDURATION  \n",
       "1353418        -0.266154           -0.370197  \n",
       "1353419        -0.266154           -0.370197  \n",
       "1353420        -0.266154           -0.370197  \n",
       "1353421        -0.266154           -0.370197  \n",
       "1353422        -0.266154           -0.370197  "
      ]
     },
     "execution_count": 92,
     "metadata": {},
     "output_type": "execute_result"
    }
   ],
   "source": [
    "cl_X1c.head()"
   ]
  },
  {
   "cell_type": "code",
   "execution_count": 93,
   "metadata": {},
   "outputs": [
    {
     "data": {
      "text/plain": [
       "0    5620\n",
       "1    2788\n",
       "Name: fault1_c, dtype: int64"
      ]
     },
     "execution_count": 93,
     "metadata": {},
     "output_type": "execute_result"
    }
   ],
   "source": [
    "cl_Y1c.value_counts()"
   ]
  },
  {
   "cell_type": "code",
   "execution_count": 94,
   "metadata": {},
   "outputs": [
    {
     "data": {
      "image/png": "[encoded data removed]",
      "text/plain": [
       "<Figure size 432x288 with 1 Axes>"
      ]
     },
     "metadata": {
      "needs_background": "light"
     },
     "output_type": "display_data"
    }
   ],
   "source": [
    "cl_Y1c.value_counts().plot(kind='bar')\n",
    "plt.title(\"Data Imbalance Scenario 3\")\n",
    "plt.xticks(rotation=180)\n",
    "plt.show()"
   ]
  },
  {
   "cell_type": "code",
   "execution_count": 95,
   "metadata": {},
   "outputs": [],
   "source": [
    "X_train1c, X_test1c, Y_train1c, Y_test1c = train_test_split(cl_X1c, cl_Y1c, test_size = 0.2, random_state=42)"
   ]
  },
  {
   "cell_type": "code",
   "execution_count": 96,
   "metadata": {},
   "outputs": [],
   "source": [
    "cl_scalar_c = MinMaxScaler()\n",
    "cl_scalar_c.fit(X_train1c)\n",
    "\n",
    "scl_trainX1c = cl_scalar.transform(X_train1c)\n",
    "scl_testX1c = cl_scalar.transform(X_test1c)"
   ]
  },
  {
   "cell_type": "markdown",
   "metadata": {},
   "source": [
    "#### Random Forest Classifier C"
   ]
  },
  {
   "cell_type": "code",
   "execution_count": 97,
   "metadata": {},
   "outputs": [
    {
     "data": {
      "text/plain": [
       "RandomForestClassifier()"
      ]
     },
     "execution_count": 97,
     "metadata": {},
     "output_type": "execute_result"
    }
   ],
   "source": [
    "rfc_c = RandomForestClassifier()\n",
    "\n",
    "rfc_c.fit(scl_trainX1c, Y_train1c)"
   ]
  },
  {
   "cell_type": "code",
   "execution_count": 98,
   "metadata": {},
   "outputs": [
    {
     "name": "stdout",
     "output_type": "stream",
     "text": [
      "Accuracy Score Random Forest Classifier Scenario 3: 1.000\n",
      "\n",
      "Classification Report Random Forest Classifier Scenario 3\n",
      "\n",
      "               precision    recall  f1-score   support\n",
      "\n",
      "           0       1.00      1.00      1.00      1144\n",
      "           1       1.00      1.00      1.00       538\n",
      "\n",
      "    accuracy                           1.00      1682\n",
      "   macro avg       1.00      1.00      1.00      1682\n",
      "weighted avg       1.00      1.00      1.00      1682\n",
      "\n"
     ]
    }
   ],
   "source": [
    "rfc_pred_c = rfc_c.predict(scl_testX1c)\n",
    "\n",
    "rfc_accuracy_c = accuracy_score(Y_test1c, rfc_pred_c)\n",
    "\n",
    "print('Accuracy Score Random Forest Classifier Scenario 3: {:.3f}\\n'.format(rfc_accuracy_c))\n",
    "print('Classification Report Random Forest Classifier Scenario 3\\n\\n',classification_report(Y_test1c, rfc_pred_c))"
   ]
  },
  {
   "cell_type": "code",
   "execution_count": 99,
   "metadata": {},
   "outputs": [],
   "source": [
    "rfc_cm_c = confusion_matrix(Y_test1c, rfc_pred_c)"
   ]
  },
  {
   "cell_type": "code",
   "execution_count": 100,
   "metadata": {},
   "outputs": [
    {
     "data": {
      "image/png": "[encoded data removed]",
      "text/plain": [
       "<Figure size 432x288 with 2 Axes>"
      ]
     },
     "metadata": {
      "needs_background": "light"
     },
     "output_type": "display_data"
    }
   ],
   "source": [
    "sns.heatmap(rfc_cm_c, annot=True, fmt='.2f', cmap=plt.cm.Blues)\n",
    "plt.title('Gradient Boosting Classifier for Scenario 3')\n",
    "plt.xlabel('Predicted')\n",
    "plt.ylabel('Actual')\n",
    "plt.show()"
   ]
  },
  {
   "cell_type": "markdown",
   "metadata": {},
   "source": [
    "#### Feature Importance using Random Forest Clssifier"
   ]
  },
  {
   "cell_type": "code",
   "execution_count": 101,
   "metadata": {},
   "outputs": [],
   "source": [
    "cl_result = permutation_importance(rfc_c, scl_testX1c, Y_test1c, random_state=42)"
   ]
  },
  {
   "cell_type": "code",
   "execution_count": 102,
   "metadata": {},
   "outputs": [
    {
     "data": {
      "image/png": "[encoded data removed]",
      "text/plain": [
       "<Figure size 720x576 with 1 Axes>"
      ]
     },
     "metadata": {
      "needs_background": "light"
     },
     "output_type": "display_data"
    }
   ],
   "source": [
    "cl_pp = cl_result.importances_mean.argsort()\n",
    "\n",
    "cl_sort_pp = np.argsort(cl_pp)\n",
    "\n",
    "pos = np.arange(cl_sort_pp.shape[0])+0.5\n",
    "y_ticks = np.arange(0,len(cl_X1c.columns))\n",
    "\n",
    "plt.figure(figsize=(10,8))\n",
    "plt.barh(pos, cl_pp[cl_sort_pp])\n",
    "plt.yticks(y_ticks, cl_X1c.columns[cl_sort_pp])\n",
    "plt.title('Permutation Importance using Random Forest Classifier')\n",
    "plt.show()"
   ]
  },
  {
   "cell_type": "markdown",
   "metadata": {},
   "source": [
    "#### Gradient Boost Classifier C"
   ]
  },
  {
   "cell_type": "code",
   "execution_count": 103,
   "metadata": {
    "scrolled": true
   },
   "outputs": [
    {
     "data": {
      "text/plain": [
       "GradientBoostingClassifier()"
      ]
     },
     "execution_count": 103,
     "metadata": {},
     "output_type": "execute_result"
    }
   ],
   "source": [
    "gbc_c = GradientBoostingClassifier()\n",
    "\n",
    "gbc_c.fit(scl_trainX1c, Y_train1c)"
   ]
  },
  {
   "cell_type": "code",
   "execution_count": 104,
   "metadata": {},
   "outputs": [
    {
     "name": "stdout",
     "output_type": "stream",
     "text": [
      "Accuracy Score Gradient Boost Classifier Scenario 3: 0.999\n",
      "\n",
      "Classification Report Gradient Boost Classifier Scenario 3\n",
      "\n",
      "               precision    recall  f1-score   support\n",
      "\n",
      "           0       1.00      1.00      1.00      1144\n",
      "           1       1.00      1.00      1.00       538\n",
      "\n",
      "    accuracy                           1.00      1682\n",
      "   macro avg       1.00      1.00      1.00      1682\n",
      "weighted avg       1.00      1.00      1.00      1682\n",
      "\n"
     ]
    }
   ],
   "source": [
    "gbc_pred_c = gbc_c.predict(scl_testX1c)\n",
    "\n",
    "gbc_accuracy_c = accuracy_score(Y_test1c, gbc_pred_c)\n",
    "\n",
    "print('Accuracy Score Gradient Boost Classifier Scenario 3: {:.3f}\\n'.format(gbc_accuracy_c))\n",
    "print('Classification Report Gradient Boost Classifier Scenario 3\\n\\n', classification_report(Y_test1c, gbc_pred_c))"
   ]
  },
  {
   "cell_type": "code",
   "execution_count": 105,
   "metadata": {},
   "outputs": [],
   "source": [
    "gbc_cm_c = confusion_matrix(Y_test1c, gbc_pred_c)"
   ]
  },
  {
   "cell_type": "code",
   "execution_count": 106,
   "metadata": {},
   "outputs": [
    {
     "data": {
      "image/png": "[encoded data removed]",
      "text/plain": [
       "<Figure size 432x288 with 2 Axes>"
      ]
     },
     "metadata": {
      "needs_background": "light"
     },
     "output_type": "display_data"
    }
   ],
   "source": [
    "sns.heatmap(gbc_cm_c, annot=True, fmt='.2f', cmap=plt.cm.Blues)\n",
    "plt.title('Gradient Boosting Classifier for Scenario 3')\n",
    "plt.xlabel('Predicted')\n",
    "plt.ylabel('Actual')\n",
    "plt.show()"
   ]
  },
  {
   "cell_type": "markdown",
   "metadata": {},
   "source": [
    "#### Logistic Regression C"
   ]
  },
  {
   "cell_type": "code",
   "execution_count": 107,
   "metadata": {},
   "outputs": [
    {
     "data": {
      "text/plain": [
       "LogisticRegression()"
      ]
     },
     "execution_count": 107,
     "metadata": {},
     "output_type": "execute_result"
    }
   ],
   "source": [
    "logreg_c = LogisticRegression()\n",
    "\n",
    "logreg_c.fit(scl_trainX1c, Y_train1c)"
   ]
  },
  {
   "cell_type": "code",
   "execution_count": 108,
   "metadata": {
    "scrolled": true
   },
   "outputs": [
    {
     "name": "stdout",
     "output_type": "stream",
     "text": [
      "Accuracy Score Logistic Regression Scenario 3: 0.838\n",
      "\n",
      "Classification Report Logistic Regression Scenario 3\n",
      "\n",
      "               precision    recall  f1-score   support\n",
      "\n",
      "           0       0.83      0.95      0.89      1144\n",
      "           1       0.86      0.59      0.70       538\n",
      "\n",
      "    accuracy                           0.84      1682\n",
      "   macro avg       0.85      0.77      0.80      1682\n",
      "weighted avg       0.84      0.84      0.83      1682\n",
      "\n"
     ]
    }
   ],
   "source": [
    "logreg_pred_c = logreg_c.predict(scl_testX1c)\n",
    "\n",
    "logreg_accuracy_c = accuracy_score(Y_test1c, logreg_pred_c)\n",
    "\n",
    "print('Accuracy Score Logistic Regression Scenario 3: {:.3f}\\n'.format(logreg_accuracy_c))\n",
    "print('Classification Report Logistic Regression Scenario 3\\n\\n', classification_report(Y_test1c, logreg_pred_c))"
   ]
  },
  {
   "cell_type": "code",
   "execution_count": 109,
   "metadata": {},
   "outputs": [],
   "source": [
    "logreg_cm_c = confusion_matrix(Y_test1c, logreg_pred_c)"
   ]
  },
  {
   "cell_type": "code",
   "execution_count": 110,
   "metadata": {
    "scrolled": true
   },
   "outputs": [
    {
     "data": {
      "image/png": "[encoded data removed]",
      "text/plain": [
       "<Figure size 432x288 with 2 Axes>"
      ]
     },
     "metadata": {
      "needs_background": "light"
     },
     "output_type": "display_data"
    }
   ],
   "source": [
    "sns.heatmap(logreg_cm_c, annot=True, fmt='.2f')\n",
    "plt.title('Logistic Regression for Scenario 3')\n",
    "plt.xlabel('Predicted')\n",
    "plt.ylabel('Actual')\n",
    "plt.show()"
   ]
  },
  {
   "cell_type": "markdown",
   "metadata": {},
   "source": [
    "#### Cross Validation C"
   ]
  },
  {
   "cell_type": "code",
   "execution_count": 111,
   "metadata": {},
   "outputs": [
    {
     "name": "stdout",
     "output_type": "stream",
     "text": [
      "Scores:\n",
      " [1.         1.         0.99888765 0.99889012 0.99888765]\n",
      "Scores:0.999\n",
      "Scores:0.001\n"
     ]
    }
   ],
   "source": [
    "rfc_valscore_c = cross_validate(rfc_c,scl_trainX1c, Y_train1c, cv=5, scoring='f1')\n",
    "\n",
    "print(\"Scores:\\n\",rfc_valscore_c['test_score'])\n",
    "print(\"Scores:{:.3f}\".format(rfc_valscore_c['test_score'].mean()))\n",
    "print(\"Scores:{:.3f}\".format(rfc_valscore_c['test_score'].std()))"
   ]
  },
  {
   "cell_type": "code",
   "execution_count": 112,
   "metadata": {},
   "outputs": [
    {
     "name": "stdout",
     "output_type": "stream",
     "text": [
      "Scores:\n",
      " [0.99888765 0.99888765 0.99888765 0.99888765 0.99888765]\n",
      "Scores:0.999\n",
      "Scores:0.000\n"
     ]
    }
   ],
   "source": [
    "gbc_valscore_c = cross_validate(gbc_c,scl_trainX1c, Y_train1c, cv=5, scoring='f1')\n",
    "\n",
    "print(\"Scores:\\n\",gbc_valscore_c['test_score'])\n",
    "print(\"Scores:{:.3f}\".format(gbc_valscore_c['test_score'].mean()))\n",
    "print(\"Scores:{:.3f}\".format(gbc_valscore_c['test_score'].std()))"
   ]
  },
  {
   "cell_type": "code",
   "execution_count": 140,
   "metadata": {},
   "outputs": [
    {
     "name": "stdout",
     "output_type": "stream",
     "text": [
      "Scores:\n",
      " [0.69779507 0.6953125  0.76752768 0.71887035 0.72727273]\n",
      "Scores:0.721\n",
      "Scores:0.026\n"
     ]
    }
   ],
   "source": [
    "logreg_valscore_c = cross_validate(logreg_c, scl_trainX1c, Y_train1c, cv=5, scoring='f1')\n",
    "\n",
    "print(\"Scores:\\n\",logreg_valscore_c['test_score'])\n",
    "print(\"Scores:{:.3f}\".format(logreg_valscore_c['test_score'].mean()))\n",
    "print(\"Scores:{:.3f}\".format(logreg_valscore_c['test_score'].std()))"
   ]
  },
  {
   "cell_type": "markdown",
   "metadata": {},
   "source": [
    "## Scenario 4: 86400 and failure is 20000 - 24 hours, about 51/2 hours"
   ]
  },
  {
   "cell_type": "code",
   "execution_count": 113,
   "metadata": {},
   "outputs": [],
   "source": [
    "cl_f1d_data = alldata.drop(['time','Lot','Tool','stage','recipe','recipe_step','ROTATIONSPEED','ETCHBEAMCURRENT','ETCHSUPPRESSORVOLTAGE',\n",
    "                        'ETCHSUPPRESSORCURRENT','ETCHAUXSOURCETIMER','ETCHAUX2SOURCETIMER','Flowcool_Pressure_dropped_below_limit', 'TTF_Flowcool_leak',\n",
    "                       'fault1_a', 'fault1_b','fault1_c'], axis=1)"
   ]
  },
  {
   "cell_type": "code",
   "execution_count": 114,
   "metadata": {},
   "outputs": [],
   "source": [
    "clf1data_d = cl_f1d_data.dropna()"
   ]
  },
  {
   "cell_type": "code",
   "execution_count": 115,
   "metadata": {},
   "outputs": [],
   "source": [
    "cutoff_1d = 86400\n",
    "\n",
    "cl_cutoff1d = clf1data_d.loc[clf1data_d['Flowcool_Pressure_Too_High']<cutoff_1d].copy()"
   ]
  },
  {
   "cell_type": "code",
   "execution_count": 116,
   "metadata": {},
   "outputs": [],
   "source": [
    "cl_X1d = cl_cutoff1d.drop(['Flowcool_Pressure_Too_High', 'fault1_d'], axis=1)\n",
    "cl_Y1d = cl_cutoff1d['fault1_d']"
   ]
  },
  {
   "cell_type": "code",
   "execution_count": 117,
   "metadata": {},
   "outputs": [
    {
     "data": {
      "text/html": [
       "<div>\n",
       "<style scoped>\n",
       "    .dataframe tbody tr th:only-of-type {\n",
       "        vertical-align: middle;\n",
       "    }\n",
       "\n",
       "    .dataframe tbody tr th {\n",
       "        vertical-align: top;\n",
       "    }\n",
       "\n",
       "    .dataframe thead th {\n",
       "        text-align: right;\n",
       "    }\n",
       "</style>\n",
       "<table border=\"1\" class=\"dataframe\">\n",
       "  <thead>\n",
       "    <tr style=\"text-align: right;\">\n",
       "      <th></th>\n",
       "      <th>runnum</th>\n",
       "      <th>IONGAUGEPRESSURE</th>\n",
       "      <th>ETCHBEAMVOLTAGE</th>\n",
       "      <th>FLOWCOOLFLOWRATE</th>\n",
       "      <th>FLOWCOOLPRESSURE</th>\n",
       "      <th>ETCHGASCHANNEL1READBACK</th>\n",
       "      <th>ETCHPBNGASREADBACK</th>\n",
       "      <th>FIXTURETILTANGLE</th>\n",
       "      <th>ACTUALROTATIONANGLE</th>\n",
       "      <th>FIXTURESHUTTERPOSITION</th>\n",
       "      <th>ETCHSOURCEUSAGE</th>\n",
       "      <th>ACTUALSTEPDURATION</th>\n",
       "    </tr>\n",
       "  </thead>\n",
       "  <tbody>\n",
       "    <tr>\n",
       "      <th>1347545</th>\n",
       "      <td>11090833</td>\n",
       "      <td>-0.079460</td>\n",
       "      <td>-0.958985</td>\n",
       "      <td>-2.840944</td>\n",
       "      <td>-2.332807</td>\n",
       "      <td>-1.753413</td>\n",
       "      <td>-2.791223</td>\n",
       "      <td>2.027848</td>\n",
       "      <td>-0.122428</td>\n",
       "      <td>0.0</td>\n",
       "      <td>-0.283982</td>\n",
       "      <td>4.037785</td>\n",
       "    </tr>\n",
       "    <tr>\n",
       "      <th>1347546</th>\n",
       "      <td>11090833</td>\n",
       "      <td>-0.079442</td>\n",
       "      <td>-0.958587</td>\n",
       "      <td>-2.840944</td>\n",
       "      <td>-2.332807</td>\n",
       "      <td>-1.753413</td>\n",
       "      <td>-2.791223</td>\n",
       "      <td>2.027848</td>\n",
       "      <td>-0.122428</td>\n",
       "      <td>0.0</td>\n",
       "      <td>-0.283982</td>\n",
       "      <td>4.037785</td>\n",
       "    </tr>\n",
       "    <tr>\n",
       "      <th>1347547</th>\n",
       "      <td>11090833</td>\n",
       "      <td>-0.079433</td>\n",
       "      <td>-0.959099</td>\n",
       "      <td>-2.840944</td>\n",
       "      <td>-2.332807</td>\n",
       "      <td>-1.754914</td>\n",
       "      <td>-2.791223</td>\n",
       "      <td>2.027848</td>\n",
       "      <td>-0.122428</td>\n",
       "      <td>0.0</td>\n",
       "      <td>-0.283982</td>\n",
       "      <td>4.037785</td>\n",
       "    </tr>\n",
       "    <tr>\n",
       "      <th>1347548</th>\n",
       "      <td>11090833</td>\n",
       "      <td>-0.079453</td>\n",
       "      <td>-0.958359</td>\n",
       "      <td>-2.841850</td>\n",
       "      <td>-2.332807</td>\n",
       "      <td>-1.754914</td>\n",
       "      <td>-2.788945</td>\n",
       "      <td>2.027848</td>\n",
       "      <td>-0.122428</td>\n",
       "      <td>0.0</td>\n",
       "      <td>-0.283982</td>\n",
       "      <td>4.037785</td>\n",
       "    </tr>\n",
       "    <tr>\n",
       "      <th>1347549</th>\n",
       "      <td>11090833</td>\n",
       "      <td>-0.079471</td>\n",
       "      <td>-0.959099</td>\n",
       "      <td>-2.841850</td>\n",
       "      <td>-2.332807</td>\n",
       "      <td>-1.754914</td>\n",
       "      <td>-2.788945</td>\n",
       "      <td>2.027848</td>\n",
       "      <td>-0.122428</td>\n",
       "      <td>0.0</td>\n",
       "      <td>-0.283982</td>\n",
       "      <td>4.037785</td>\n",
       "    </tr>\n",
       "  </tbody>\n",
       "</table>\n",
       "</div>"
      ],
      "text/plain": [
       "           runnum  IONGAUGEPRESSURE  ETCHBEAMVOLTAGE  FLOWCOOLFLOWRATE  \\\n",
       "1347545  11090833         -0.079460        -0.958985         -2.840944   \n",
       "1347546  11090833         -0.079442        -0.958587         -2.840944   \n",
       "1347547  11090833         -0.079433        -0.959099         -2.840944   \n",
       "1347548  11090833         -0.079453        -0.958359         -2.841850   \n",
       "1347549  11090833         -0.079471        -0.959099         -2.841850   \n",
       "\n",
       "         FLOWCOOLPRESSURE  ETCHGASCHANNEL1READBACK  ETCHPBNGASREADBACK  \\\n",
       "1347545         -2.332807                -1.753413           -2.791223   \n",
       "1347546         -2.332807                -1.753413           -2.791223   \n",
       "1347547         -2.332807                -1.754914           -2.791223   \n",
       "1347548         -2.332807                -1.754914           -2.788945   \n",
       "1347549         -2.332807                -1.754914           -2.788945   \n",
       "\n",
       "         FIXTURETILTANGLE  ACTUALROTATIONANGLE  FIXTURESHUTTERPOSITION  \\\n",
       "1347545          2.027848            -0.122428                     0.0   \n",
       "1347546          2.027848            -0.122428                     0.0   \n",
       "1347547          2.027848            -0.122428                     0.0   \n",
       "1347548          2.027848            -0.122428                     0.0   \n",
       "1347549          2.027848            -0.122428                     0.0   \n",
       "\n",
       "         ETCHSOURCEUSAGE  ACTUALSTEPDURATION  \n",
       "1347545        -0.283982            4.037785  \n",
       "1347546        -0.283982            4.037785  \n",
       "1347547        -0.283982            4.037785  \n",
       "1347548        -0.283982            4.037785  \n",
       "1347549        -0.283982            4.037785  "
      ]
     },
     "execution_count": 117,
     "metadata": {},
     "output_type": "execute_result"
    }
   ],
   "source": [
    "cl_X1d.head()"
   ]
  },
  {
   "cell_type": "code",
   "execution_count": 118,
   "metadata": {},
   "outputs": [
    {
     "data": {
      "text/plain": [
       "0    22793\n",
       "1     2788\n",
       "Name: fault1_d, dtype: int64"
      ]
     },
     "execution_count": 118,
     "metadata": {},
     "output_type": "execute_result"
    }
   ],
   "source": [
    "cl_Y1d.value_counts()"
   ]
  },
  {
   "cell_type": "code",
   "execution_count": 119,
   "metadata": {},
   "outputs": [
    {
     "data": {
      "image/png": "[encoded data removed]",
      "text/plain": [
       "<Figure size 432x288 with 1 Axes>"
      ]
     },
     "metadata": {
      "needs_background": "light"
     },
     "output_type": "display_data"
    }
   ],
   "source": [
    "cl_Y1d.value_counts().plot(kind='bar')\n",
    "plt.title(\"Data Imbalance Scenario 4\")\n",
    "plt.xticks(rotation=180)\n",
    "plt.show()"
   ]
  },
  {
   "cell_type": "code",
   "execution_count": 120,
   "metadata": {},
   "outputs": [],
   "source": [
    "X_train1d, X_test1d, Y_train1d, Y_test1d = train_test_split(cl_X1d, cl_Y1d, test_size = 0.2, random_state=42)"
   ]
  },
  {
   "cell_type": "code",
   "execution_count": 121,
   "metadata": {},
   "outputs": [],
   "source": [
    "cl_scalar_d = MinMaxScaler()\n",
    "cl_scalar_d.fit(X_train1d)\n",
    "\n",
    "scl_trainX1d = cl_scalar.transform(X_train1d)\n",
    "scl_testX1d = cl_scalar.transform(X_test1d)"
   ]
  },
  {
   "cell_type": "markdown",
   "metadata": {},
   "source": [
    "#### Random Forest Classifier D"
   ]
  },
  {
   "cell_type": "code",
   "execution_count": 122,
   "metadata": {},
   "outputs": [
    {
     "data": {
      "text/plain": [
       "RandomForestClassifier()"
      ]
     },
     "execution_count": 122,
     "metadata": {},
     "output_type": "execute_result"
    }
   ],
   "source": [
    "rfc_d = RandomForestClassifier()\n",
    "\n",
    "rfc_d.fit(scl_trainX1d, Y_train1d)"
   ]
  },
  {
   "cell_type": "code",
   "execution_count": 123,
   "metadata": {},
   "outputs": [
    {
     "name": "stdout",
     "output_type": "stream",
     "text": [
      "Accuracy Score Random Forest Classifier Scenario 4: 1.000\n",
      "\n",
      "Classification Report Random Forest Classifier Scenario 4\n",
      "\n",
      "               precision    recall  f1-score   support\n",
      "\n",
      "           0       1.00      1.00      1.00      4572\n",
      "           1       1.00      1.00      1.00       545\n",
      "\n",
      "    accuracy                           1.00      5117\n",
      "   macro avg       1.00      1.00      1.00      5117\n",
      "weighted avg       1.00      1.00      1.00      5117\n",
      "\n"
     ]
    }
   ],
   "source": [
    "rfc_pred_d = rfc_d.predict(scl_testX1d)\n",
    "\n",
    "rfc_accuracy_d = accuracy_score(Y_test1d, rfc_pred_d)\n",
    "\n",
    "print('Accuracy Score Random Forest Classifier Scenario 4: {:.3f}\\n'.format(rfc_accuracy_d))\n",
    "print('Classification Report Random Forest Classifier Scenario 4\\n\\n',classification_report(Y_test1d, rfc_pred_d))"
   ]
  },
  {
   "cell_type": "code",
   "execution_count": 124,
   "metadata": {},
   "outputs": [],
   "source": [
    "rfc_cm_d = confusion_matrix(Y_test1d, rfc_pred_d)"
   ]
  },
  {
   "cell_type": "code",
   "execution_count": 125,
   "metadata": {},
   "outputs": [
    {
     "data": {
      "image/png": "[encoded data removed]",
      "text/plain": [
       "<Figure size 432x288 with 2 Axes>"
      ]
     },
     "metadata": {
      "needs_background": "light"
     },
     "output_type": "display_data"
    }
   ],
   "source": [
    "sns.heatmap(rfc_cm_d, annot=True, fmt='.2f', cmap=plt.cm.Blues)\n",
    "plt.title('Gradient Boosting Classifier for Scenario 4')\n",
    "plt.xlabel('Predicted')\n",
    "plt.ylabel('Actual')\n",
    "plt.show()"
   ]
  },
  {
   "cell_type": "markdown",
   "metadata": {},
   "source": [
    "#### Feature Importance using Random Forest Clssifier D"
   ]
  },
  {
   "cell_type": "code",
   "execution_count": 126,
   "metadata": {},
   "outputs": [],
   "source": [
    "cl_result_d = permutation_importance(rfc_d, scl_testX1d, Y_test1d, random_state=42)"
   ]
  },
  {
   "cell_type": "code",
   "execution_count": 127,
   "metadata": {},
   "outputs": [
    {
     "data": {
      "image/png": "[encoded data removed]",
      "text/plain": [
       "<Figure size 720x576 with 1 Axes>"
      ]
     },
     "metadata": {
      "needs_background": "light"
     },
     "output_type": "display_data"
    }
   ],
   "source": [
    "cl_pp_d = cl_result_d.importances_mean.argsort()\n",
    "\n",
    "cl_sort_pp_d = np.argsort(cl_pp_d)\n",
    "\n",
    "pos = np.arange(cl_sort_pp_d.shape[0])+0.5\n",
    "y_ticks = np.arange(0,len(cl_X1d.columns))\n",
    "\n",
    "plt.figure(figsize=(10,8))\n",
    "plt.barh(pos, cl_pp_d[cl_sort_pp_d])\n",
    "plt.yticks(y_ticks, cl_X1d.columns[cl_sort_pp_d])\n",
    "plt.title('Permutation Importance using Random Forest Classifier Scenario 4')\n",
    "plt.show()"
   ]
  },
  {
   "cell_type": "markdown",
   "metadata": {},
   "source": [
    "#### Gradient Boost Classifier D"
   ]
  },
  {
   "cell_type": "code",
   "execution_count": 128,
   "metadata": {
    "scrolled": true
   },
   "outputs": [
    {
     "data": {
      "text/plain": [
       "GradientBoostingClassifier()"
      ]
     },
     "execution_count": 128,
     "metadata": {},
     "output_type": "execute_result"
    }
   ],
   "source": [
    "gbc_d = GradientBoostingClassifier()\n",
    "\n",
    "gbc_d.fit(scl_trainX1d, Y_train1d)"
   ]
  },
  {
   "cell_type": "code",
   "execution_count": 129,
   "metadata": {},
   "outputs": [
    {
     "name": "stdout",
     "output_type": "stream",
     "text": [
      "Accuracy Score Gradient Boost Classifier Scenario 4: 1.000\n",
      "\n",
      "Classification Report Gradient Boost Classifier Scenario 4\n",
      "\n",
      "               precision    recall  f1-score   support\n",
      "\n",
      "           0       1.00      1.00      1.00      4572\n",
      "           1       1.00      1.00      1.00       545\n",
      "\n",
      "    accuracy                           1.00      5117\n",
      "   macro avg       1.00      1.00      1.00      5117\n",
      "weighted avg       1.00      1.00      1.00      5117\n",
      "\n"
     ]
    }
   ],
   "source": [
    "gbc_pred_d = gbc_d.predict(scl_testX1d)\n",
    "\n",
    "gbc_accuracy_d = accuracy_score(Y_test1d, gbc_pred_d)\n",
    "\n",
    "print('Accuracy Score Gradient Boost Classifier Scenario 4: {:.3f}\\n'.format(gbc_accuracy_d))\n",
    "print('Classification Report Gradient Boost Classifier Scenario 4\\n\\n', classification_report(Y_test1d, gbc_pred_d))"
   ]
  },
  {
   "cell_type": "code",
   "execution_count": 130,
   "metadata": {},
   "outputs": [],
   "source": [
    "gbc_cm_d = confusion_matrix(Y_test1d, gbc_pred_d)"
   ]
  },
  {
   "cell_type": "code",
   "execution_count": 131,
   "metadata": {},
   "outputs": [
    {
     "data": {
      "image/png": "[encoded data removed]",
      "text/plain": [
       "<Figure size 432x288 with 2 Axes>"
      ]
     },
     "metadata": {
      "needs_background": "light"
     },
     "output_type": "display_data"
    }
   ],
   "source": [
    "sns.heatmap(gbc_cm_d, annot=True, fmt='.2f', cmap=plt.cm.Blues)\n",
    "plt.title('Gradient Boosting Classifier for Scenario 4')\n",
    "plt.xlabel('Predicted')\n",
    "plt.ylabel('Actual')\n",
    "plt.show()"
   ]
  },
  {
   "cell_type": "markdown",
   "metadata": {},
   "source": [
    "#### Logistic Regression D"
   ]
  },
  {
   "cell_type": "code",
   "execution_count": 132,
   "metadata": {},
   "outputs": [
    {
     "data": {
      "text/plain": [
       "LogisticRegression()"
      ]
     },
     "execution_count": 132,
     "metadata": {},
     "output_type": "execute_result"
    }
   ],
   "source": [
    "logreg_d = LogisticRegression()\n",
    "\n",
    "logreg_d.fit(scl_trainX1d, Y_train1d)"
   ]
  },
  {
   "cell_type": "code",
   "execution_count": 133,
   "metadata": {
    "scrolled": true
   },
   "outputs": [
    {
     "name": "stdout",
     "output_type": "stream",
     "text": [
      "Accuracy Score Logistic Regression Scenario 4: 0.939\n",
      "\n",
      "Classification Report Logistic Regression Scenario 4\n",
      "\n",
      "               precision    recall  f1-score   support\n",
      "\n",
      "           0       0.95      0.99      0.97      4572\n",
      "           1       0.83      0.55      0.66       545\n",
      "\n",
      "    accuracy                           0.94      5117\n",
      "   macro avg       0.89      0.77      0.81      5117\n",
      "weighted avg       0.94      0.94      0.93      5117\n",
      "\n"
     ]
    }
   ],
   "source": [
    "logreg_pred_d = logreg_d.predict(scl_testX1d)\n",
    "\n",
    "logreg_accuracy_d = accuracy_score(Y_test1d, logreg_pred_d)\n",
    "\n",
    "print('Accuracy Score Logistic Regression Scenario 4: {:.3f}\\n'.format(logreg_accuracy_d))\n",
    "print('Classification Report Logistic Regression Scenario 4\\n\\n', classification_report(Y_test1d, logreg_pred_d))"
   ]
  },
  {
   "cell_type": "code",
   "execution_count": 134,
   "metadata": {},
   "outputs": [],
   "source": [
    "logreg_cm_d = confusion_matrix(Y_test1d, logreg_pred_d)"
   ]
  },
  {
   "cell_type": "code",
   "execution_count": 135,
   "metadata": {
    "scrolled": true
   },
   "outputs": [
    {
     "data": {
      "image/png": "[encoded data removed]",
      "text/plain": [
       "<Figure size 432x288 with 2 Axes>"
      ]
     },
     "metadata": {
      "needs_background": "light"
     },
     "output_type": "display_data"
    }
   ],
   "source": [
    "sns.heatmap(logreg_cm_d, annot=True, fmt='.2f')\n",
    "plt.title('Logistic Regression for Scenario 4')\n",
    "plt.xlabel('Predicted')\n",
    "plt.ylabel('Actual')\n",
    "plt.show()"
   ]
  },
  {
   "cell_type": "markdown",
   "metadata": {},
   "source": [
    "#### Cross Validation D"
   ]
  },
  {
   "cell_type": "code",
   "execution_count": 136,
   "metadata": {},
   "outputs": [
    {
     "name": "stdout",
     "output_type": "stream",
     "text": [
      "Scores:\n",
      " [0.99888517 1.         1.         0.99888517 1.        ]\n",
      "Scores:1.000\n",
      "Scores:0.001\n"
     ]
    }
   ],
   "source": [
    "rfc_valscore_d = cross_validate(rfc_d,scl_trainX1d, Y_train1d, cv=5, scoring='f1')\n",
    "\n",
    "print(\"Scores:\\n\",rfc_valscore_d['test_score'])\n",
    "print(\"Scores:{:.3f}\".format(rfc_valscore_d['test_score'].mean()))\n",
    "print(\"Scores:{:.3f}\".format(rfc_valscore_d['test_score'].std()))"
   ]
  },
  {
   "cell_type": "code",
   "execution_count": 137,
   "metadata": {},
   "outputs": [
    {
     "name": "stdout",
     "output_type": "stream",
     "text": [
      "Scores:\n",
      " [1.         1.         1.         0.99776786 1.        ]\n",
      "Scores:1.000\n",
      "Scores:0.001\n"
     ]
    }
   ],
   "source": [
    "gbc_valscore_d = cross_validate(gbc_d,scl_trainX1d, Y_train1d, cv=5, scoring='f1')\n",
    "\n",
    "print(\"Scores:\\n\",gbc_valscore_d['test_score'])\n",
    "print(\"Scores:{:.3f}\".format(gbc_valscore_d['test_score'].mean()))\n",
    "print(\"Scores:{:.3f}\".format(gbc_valscore_d['test_score'].std()))"
   ]
  },
  {
   "cell_type": "code",
   "execution_count": 138,
   "metadata": {},
   "outputs": [
    {
     "name": "stdout",
     "output_type": "stream",
     "text": [
      "Scores:\n",
      " [0.65879265 0.65389877 0.67894737 0.65940054 0.64120055]\n",
      "Scores:0.658\n",
      "Scores:0.012\n"
     ]
    }
   ],
   "source": [
    "logreg_valscore_d = cross_validate(logreg_d, scl_trainX1d, Y_train1d, cv=5, scoring='f1')\n",
    "\n",
    "print(\"Scores:\\n\",logreg_valscore_d['test_score'])\n",
    "print(\"Scores:{:.3f}\".format(logreg_valscore_d['test_score'].mean()))\n",
    "print(\"Scores:{:.3f}\".format(logreg_valscore_d['test_score'].std()))"
   ]
  },
  {
   "cell_type": "code",
   "execution_count": null,
   "metadata": {},
   "outputs": [],
   "source": []
  },
  {
   "cell_type": "markdown",
   "metadata": {},
   "source": [
    "#### Model Comparison"
   ]
  },
  {
   "cell_type": "code",
   "execution_count": 141,
   "metadata": {},
   "outputs": [],
   "source": [
    "FlowcoolPressureTooHigh = pd.DataFrame({\n",
    "    'Fault 2 Models':['Random Forest Classifier','Gradient Boosting Classifier','Logistic Regression'],\n",
    "       'Scenario 1':[rfc_valscore_a['test_score'].mean(),gbc_valscore_a['test_score'].mean(),logreg_valscore_a['test_score'].mean()],\n",
    "       'Scenario 2':[rfc_valscore_b['test_score'].mean(),gbc_valscore_b['test_score'].mean(),logreg_valscore_b['test_score'].mean()],  \n",
    "        'Scenario 3':[rfc_valscore_c['test_score'].mean(),gbc_valscore_c['test_score'].mean(),logreg_valscore_c['test_score'].mean()],\n",
    "        'Scenario 4':[rfc_valscore_d['test_score'].mean(),gbc_valscore_d['test_score'].mean(),logreg_valscore_d['test_score'].mean()],\n",
    "})\n"
   ]
  },
  {
   "cell_type": "code",
   "execution_count": 142,
   "metadata": {},
   "outputs": [
    {
     "data": {
      "text/html": [
       "<div>\n",
       "<style scoped>\n",
       "    .dataframe tbody tr th:only-of-type {\n",
       "        vertical-align: middle;\n",
       "    }\n",
       "\n",
       "    .dataframe tbody tr th {\n",
       "        vertical-align: top;\n",
       "    }\n",
       "\n",
       "    .dataframe thead th {\n",
       "        text-align: right;\n",
       "    }\n",
       "</style>\n",
       "<table border=\"1\" class=\"dataframe\">\n",
       "  <thead>\n",
       "    <tr style=\"text-align: right;\">\n",
       "      <th></th>\n",
       "      <th>Fault 2 Models</th>\n",
       "      <th>Scenario 1</th>\n",
       "      <th>Scenario 2</th>\n",
       "      <th>Scenario 3</th>\n",
       "      <th>Scenario 4</th>\n",
       "    </tr>\n",
       "  </thead>\n",
       "  <tbody>\n",
       "    <tr>\n",
       "      <th>0</th>\n",
       "      <td>Random Forest Classifier</td>\n",
       "      <td>0.992476</td>\n",
       "      <td>0.998324</td>\n",
       "      <td>0.999333</td>\n",
       "      <td>0.999554</td>\n",
       "    </tr>\n",
       "    <tr>\n",
       "      <th>1</th>\n",
       "      <td>Gradient Boosting Classifier</td>\n",
       "      <td>0.993367</td>\n",
       "      <td>0.997488</td>\n",
       "      <td>0.998888</td>\n",
       "      <td>0.999554</td>\n",
       "    </tr>\n",
       "    <tr>\n",
       "      <th>2</th>\n",
       "      <td>Logistic Regression</td>\n",
       "      <td>0.561766</td>\n",
       "      <td>0.794380</td>\n",
       "      <td>0.721356</td>\n",
       "      <td>0.658448</td>\n",
       "    </tr>\n",
       "  </tbody>\n",
       "</table>\n",
       "</div>"
      ],
      "text/plain": [
       "                 Fault 2 Models  Scenario 1  Scenario 2  Scenario 3  \\\n",
       "0      Random Forest Classifier    0.992476    0.998324    0.999333   \n",
       "1  Gradient Boosting Classifier    0.993367    0.997488    0.998888   \n",
       "2           Logistic Regression    0.561766    0.794380    0.721356   \n",
       "\n",
       "   Scenario 4  \n",
       "0    0.999554  \n",
       "1    0.999554  \n",
       "2    0.658448  "
      ]
     },
     "execution_count": 142,
     "metadata": {},
     "output_type": "execute_result"
    }
   ],
   "source": [
    "FlowcoolPressureTooHigh"
   ]
  },
  {
   "cell_type": "markdown",
   "metadata": {},
   "source": [
    "#### SMOTEENN\n",
    "\n",
    "SMOTTEENN applied to Scenario 1 to improve the performance of the Logistic Regression."
   ]
  },
  {
   "cell_type": "code",
   "execution_count": 143,
   "metadata": {},
   "outputs": [],
   "source": [
    "smote = SMOTEENN()\n",
    "\n",
    "X_res, Y_res = smote.fit_resample(scl_trainX1a, Y_train1a.ravel())\n",
    "X_res_test, Y_res_test = smote.fit_resample(scl_testX1a, Y_test1a.ravel())"
   ]
  },
  {
   "cell_type": "code",
   "execution_count": 144,
   "metadata": {},
   "outputs": [
    {
     "data": {
      "text/plain": [
       "LogisticRegression(max_iter=300)"
      ]
     },
     "execution_count": 144,
     "metadata": {},
     "output_type": "execute_result"
    }
   ],
   "source": [
    "smote_rfc = LogisticRegression(max_iter=300)\n",
    "\n",
    "smote_rfc.fit(X_res, Y_res)"
   ]
  },
  {
   "cell_type": "code",
   "execution_count": 145,
   "metadata": {},
   "outputs": [
    {
     "name": "stdout",
     "output_type": "stream",
     "text": [
      "Accuracy Score Logistic Regression after SMOTEENN Scenario 1: 0.804\n",
      "\n",
      "Classification Report after SMOTEENN Scenario 1 \n",
      "\n",
      "               precision    recall  f1-score   support\n",
      "\n",
      "           0       0.79      0.83      0.81      1076\n",
      "           1       0.82      0.78      0.80      1113\n",
      "\n",
      "    accuracy                           0.80      2189\n",
      "   macro avg       0.80      0.80      0.80      2189\n",
      "weighted avg       0.81      0.80      0.80      2189\n",
      "\n"
     ]
    }
   ],
   "source": [
    "smote_pred = smote_rfc.predict(X_res_test)\n",
    "\n",
    "smote_rf_accuracy = accuracy_score(Y_res_test, smote_pred)\n",
    "\n",
    "print('Accuracy Score Logistic Regression after SMOTEENN Scenario 1: {:.3f}\\n'.format(smote_rf_accuracy))\n",
    "print('Classification Report after SMOTEENN Scenario 1 \\n\\n', classification_report(Y_res_test, smote_pred))"
   ]
  },
  {
   "cell_type": "markdown",
   "metadata": {},
   "source": [
    "**Note** Even though the overall performance of the Logistic Regression decreased the f1-score in prediciting isfailure significantly improved. "
   ]
  },
  {
   "cell_type": "code",
   "execution_count": 146,
   "metadata": {},
   "outputs": [],
   "source": [
    "logreg_smote_a = confusion_matrix(Y_res_test, smote_pred)"
   ]
  },
  {
   "cell_type": "code",
   "execution_count": 147,
   "metadata": {},
   "outputs": [
    {
     "data": {
      "image/png": "[encoded data removed]",
      "text/plain": [
       "<Figure size 432x288 with 2 Axes>"
      ]
     },
     "metadata": {
      "needs_background": "light"
     },
     "output_type": "display_data"
    }
   ],
   "source": [
    "sns.heatmap(logreg_smote_a, annot=True, fmt='.2f')\n",
    "plt.title('Logistic Regression for Scenario 2')\n",
    "plt.xlabel('Predicted')\n",
    "plt.ylabel('Actual')\n",
    "plt.show()"
   ]
  },
  {
   "cell_type": "code",
   "execution_count": null,
   "metadata": {},
   "outputs": [],
   "source": []
  }
 ],
 "metadata": {
  "kernelspec": {
   "display_name": "Python 3",
   "language": "python",
   "name": "python3"
  },
  "language_info": {
   "codemirror_mode": {
    "name": "ipython",
    "version": 3
   },
   "file_extension": ".py",
   "mimetype": "text/x-python",
   "name": "python",
   "nbconvert_exporter": "python",
   "pygments_lexer": "ipython3",
   "version": "3.8.5"
  }
 },
 "nbformat": 4,
 "nbformat_minor": 4
}
