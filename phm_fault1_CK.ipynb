{
 "cells": [
  {
   "cell_type": "markdown",
   "metadata": {},
   "source": [
    "# <center> ${\\text{Data 606 Capstone Project: Manufacturing}}$"
   ]
  },
  {
   "cell_type": "markdown",
   "metadata": {},
   "source": [
    "#### Import Libraries"
   ]
  },
  {
   "cell_type": "code",
   "execution_count": 3,
   "metadata": {},
   "outputs": [],
   "source": [
    "import numpy as np\n",
    "import pandas as pd\n",
    "import matplotlib.pyplot as plt\n",
    "import tensorflow as tf\n",
    "\n",
    "from sklearn.preprocessing import StandardScaler, MinMaxScaler\n",
    "from sklearn.metrics import classification_report, accuracy_score\n",
    "from sklearn.model_selection import cross_val_score, cross_validate\n",
    "from sklearn.metrics import f1_score, confusion_matrix\n",
    "import seaborn as sns\n",
    "# Regression\n",
    "from sklearn.inspection import permutation_importance\n",
    "from sklearn.ensemble import RandomForestRegressor\n",
    "from sklearn.linear_model import LinearRegression\n",
    "from sklearn.linear_model import Ridge\n",
    "from sklearn.linear_model import Lasso\n",
    "# Classification\n",
    "from sklearn.ensemble import RandomForestClassifier\n",
    "from sklearn.ensemble import GradientBoostingClassifier\n",
    "from sklearn.model_selection import train_test_split\n",
    "from sklearn.linear_model import LogisticRegression\n",
    "from imblearn.combine import SMOTEENN\n",
    "\n",
    "np.random.seed(12)\n",
    "tf.random.set_seed(12)\n",
    "import warnings\n",
    "\n",
    "warnings.filterwarnings('ignore')"
   ]
  },
  {
   "cell_type": "markdown",
   "metadata": {},
   "source": [
    "#### Import files"
   ]
  },
  {
   "cell_type": "code",
   "execution_count": 4,
   "metadata": {},
   "outputs": [],
   "source": [
    "train02 = pd.read_csv('01_M02_DC_train.csv')\n",
    "ttf = pd.read_csv('01_M02_DC_train_ttf.csv')\n",
    "fault = pd.read_csv('01_M02_train_fault_data.csv')"
   ]
  },
  {
   "cell_type": "markdown",
   "metadata": {},
   "source": [
    "Rename data columns in TTF and view data. "
   ]
  },
  {
   "cell_type": "code",
   "execution_count": 5,
   "metadata": {},
   "outputs": [],
   "source": [
    "ttf = ttf.rename({'TTF_FlowCool Pressure Dropped Below Limit':'Flowcool_Pressure_dropped_below_limit'}, axis='columns')\n",
    "ttf = ttf.rename({'TTF_Flowcool Pressure Too High Check Flowcool Pump':'Flowcool_Pressure_Too_High'}, axis='columns')\n",
    "ttf = ttf.rename({'TTF_Flowcool leak':'TTF_Flowcool_leak'}, axis='columns')"
   ]
  },
  {
   "cell_type": "code",
   "execution_count": 6,
   "metadata": {},
   "outputs": [
    {
     "data": {
      "text/html": [
       "<div>\n",
       "<style scoped>\n",
       "    .dataframe tbody tr th:only-of-type {\n",
       "        vertical-align: middle;\n",
       "    }\n",
       "\n",
       "    .dataframe tbody tr th {\n",
       "        vertical-align: top;\n",
       "    }\n",
       "\n",
       "    .dataframe thead th {\n",
       "        text-align: right;\n",
       "    }\n",
       "</style>\n",
       "<table border=\"1\" class=\"dataframe\">\n",
       "  <thead>\n",
       "    <tr style=\"text-align: right;\">\n",
       "      <th></th>\n",
       "      <th>time</th>\n",
       "      <th>Tool</th>\n",
       "      <th>stage</th>\n",
       "      <th>Lot</th>\n",
       "      <th>runnum</th>\n",
       "      <th>recipe</th>\n",
       "      <th>recipe_step</th>\n",
       "      <th>IONGAUGEPRESSURE</th>\n",
       "      <th>ETCHBEAMVOLTAGE</th>\n",
       "      <th>ETCHBEAMCURRENT</th>\n",
       "      <th>...</th>\n",
       "      <th>ETCHGASCHANNEL1READBACK</th>\n",
       "      <th>ETCHPBNGASREADBACK</th>\n",
       "      <th>FIXTURETILTANGLE</th>\n",
       "      <th>ROTATIONSPEED</th>\n",
       "      <th>ACTUALROTATIONANGLE</th>\n",
       "      <th>FIXTURESHUTTERPOSITION</th>\n",
       "      <th>ETCHSOURCEUSAGE</th>\n",
       "      <th>ETCHAUXSOURCETIMER</th>\n",
       "      <th>ETCHAUX2SOURCETIMER</th>\n",
       "      <th>ACTUALSTEPDURATION</th>\n",
       "    </tr>\n",
       "  </thead>\n",
       "  <tbody>\n",
       "    <tr>\n",
       "      <th>0</th>\n",
       "      <td>3283834</td>\n",
       "      <td>01M02</td>\n",
       "      <td>1</td>\n",
       "      <td>9253</td>\n",
       "      <td>10511673</td>\n",
       "      <td>67</td>\n",
       "      <td>1</td>\n",
       "      <td>-0.079428</td>\n",
       "      <td>-0.958814</td>\n",
       "      <td>-0.959509</td>\n",
       "      <td>...</td>\n",
       "      <td>-1.751661</td>\n",
       "      <td>-2.783162</td>\n",
       "      <td>2.027848</td>\n",
       "      <td>-0.013207</td>\n",
       "      <td>-0.122437</td>\n",
       "      <td>0.0</td>\n",
       "      <td>2.39537</td>\n",
       "      <td>2.871511</td>\n",
       "      <td>3.175941</td>\n",
       "      <td>4.037785</td>\n",
       "    </tr>\n",
       "    <tr>\n",
       "      <th>1</th>\n",
       "      <td>3283838</td>\n",
       "      <td>01M02</td>\n",
       "      <td>1</td>\n",
       "      <td>9253</td>\n",
       "      <td>10511673</td>\n",
       "      <td>67</td>\n",
       "      <td>1</td>\n",
       "      <td>-0.079419</td>\n",
       "      <td>-0.958928</td>\n",
       "      <td>-0.959651</td>\n",
       "      <td>...</td>\n",
       "      <td>-1.743905</td>\n",
       "      <td>-2.780884</td>\n",
       "      <td>2.027848</td>\n",
       "      <td>-0.013207</td>\n",
       "      <td>-0.122437</td>\n",
       "      <td>0.0</td>\n",
       "      <td>2.39537</td>\n",
       "      <td>2.871511</td>\n",
       "      <td>3.175941</td>\n",
       "      <td>4.037785</td>\n",
       "    </tr>\n",
       "    <tr>\n",
       "      <th>2</th>\n",
       "      <td>3283842</td>\n",
       "      <td>01M02</td>\n",
       "      <td>1</td>\n",
       "      <td>9253</td>\n",
       "      <td>10511673</td>\n",
       "      <td>67</td>\n",
       "      <td>1</td>\n",
       "      <td>-0.079409</td>\n",
       "      <td>-0.959156</td>\n",
       "      <td>-0.960006</td>\n",
       "      <td>...</td>\n",
       "      <td>-1.743905</td>\n",
       "      <td>-2.780884</td>\n",
       "      <td>2.027848</td>\n",
       "      <td>-0.013207</td>\n",
       "      <td>-0.122437</td>\n",
       "      <td>0.0</td>\n",
       "      <td>2.39537</td>\n",
       "      <td>2.871511</td>\n",
       "      <td>3.175941</td>\n",
       "      <td>4.037785</td>\n",
       "    </tr>\n",
       "    <tr>\n",
       "      <th>3</th>\n",
       "      <td>3283846</td>\n",
       "      <td>01M02</td>\n",
       "      <td>1</td>\n",
       "      <td>9253</td>\n",
       "      <td>10511673</td>\n",
       "      <td>67</td>\n",
       "      <td>1</td>\n",
       "      <td>-0.079420</td>\n",
       "      <td>-0.958928</td>\n",
       "      <td>-0.959297</td>\n",
       "      <td>...</td>\n",
       "      <td>-1.747158</td>\n",
       "      <td>-2.780884</td>\n",
       "      <td>2.027848</td>\n",
       "      <td>-0.013207</td>\n",
       "      <td>-0.122437</td>\n",
       "      <td>0.0</td>\n",
       "      <td>2.39537</td>\n",
       "      <td>2.871511</td>\n",
       "      <td>3.175941</td>\n",
       "      <td>4.037785</td>\n",
       "    </tr>\n",
       "    <tr>\n",
       "      <th>4</th>\n",
       "      <td>3283850</td>\n",
       "      <td>01M02</td>\n",
       "      <td>1</td>\n",
       "      <td>9253</td>\n",
       "      <td>10511673</td>\n",
       "      <td>67</td>\n",
       "      <td>1</td>\n",
       "      <td>-0.079430</td>\n",
       "      <td>-0.959269</td>\n",
       "      <td>-0.959438</td>\n",
       "      <td>...</td>\n",
       "      <td>-1.747158</td>\n",
       "      <td>-2.784389</td>\n",
       "      <td>2.027848</td>\n",
       "      <td>-0.013207</td>\n",
       "      <td>-0.122437</td>\n",
       "      <td>0.0</td>\n",
       "      <td>2.39537</td>\n",
       "      <td>2.871511</td>\n",
       "      <td>3.175941</td>\n",
       "      <td>4.037785</td>\n",
       "    </tr>\n",
       "  </tbody>\n",
       "</table>\n",
       "<p>5 rows × 24 columns</p>\n",
       "</div>"
      ],
      "text/plain": [
       "      time   Tool  stage   Lot    runnum  recipe  recipe_step  \\\n",
       "0  3283834  01M02      1  9253  10511673      67            1   \n",
       "1  3283838  01M02      1  9253  10511673      67            1   \n",
       "2  3283842  01M02      1  9253  10511673      67            1   \n",
       "3  3283846  01M02      1  9253  10511673      67            1   \n",
       "4  3283850  01M02      1  9253  10511673      67            1   \n",
       "\n",
       "   IONGAUGEPRESSURE  ETCHBEAMVOLTAGE  ETCHBEAMCURRENT  ...  \\\n",
       "0         -0.079428        -0.958814        -0.959509  ...   \n",
       "1         -0.079419        -0.958928        -0.959651  ...   \n",
       "2         -0.079409        -0.959156        -0.960006  ...   \n",
       "3         -0.079420        -0.958928        -0.959297  ...   \n",
       "4         -0.079430        -0.959269        -0.959438  ...   \n",
       "\n",
       "   ETCHGASCHANNEL1READBACK  ETCHPBNGASREADBACK  FIXTURETILTANGLE  \\\n",
       "0                -1.751661           -2.783162          2.027848   \n",
       "1                -1.743905           -2.780884          2.027848   \n",
       "2                -1.743905           -2.780884          2.027848   \n",
       "3                -1.747158           -2.780884          2.027848   \n",
       "4                -1.747158           -2.784389          2.027848   \n",
       "\n",
       "   ROTATIONSPEED  ACTUALROTATIONANGLE  FIXTURESHUTTERPOSITION  \\\n",
       "0      -0.013207            -0.122437                     0.0   \n",
       "1      -0.013207            -0.122437                     0.0   \n",
       "2      -0.013207            -0.122437                     0.0   \n",
       "3      -0.013207            -0.122437                     0.0   \n",
       "4      -0.013207            -0.122437                     0.0   \n",
       "\n",
       "   ETCHSOURCEUSAGE  ETCHAUXSOURCETIMER  ETCHAUX2SOURCETIMER  \\\n",
       "0          2.39537            2.871511             3.175941   \n",
       "1          2.39537            2.871511             3.175941   \n",
       "2          2.39537            2.871511             3.175941   \n",
       "3          2.39537            2.871511             3.175941   \n",
       "4          2.39537            2.871511             3.175941   \n",
       "\n",
       "   ACTUALSTEPDURATION  \n",
       "0            4.037785  \n",
       "1            4.037785  \n",
       "2            4.037785  \n",
       "3            4.037785  \n",
       "4            4.037785  \n",
       "\n",
       "[5 rows x 24 columns]"
      ]
     },
     "execution_count": 6,
     "metadata": {},
     "output_type": "execute_result"
    }
   ],
   "source": [
    "train02.head()"
   ]
  },
  {
   "cell_type": "code",
   "execution_count": 7,
   "metadata": {},
   "outputs": [
    {
     "data": {
      "text/html": [
       "<div>\n",
       "<style scoped>\n",
       "    .dataframe tbody tr th:only-of-type {\n",
       "        vertical-align: middle;\n",
       "    }\n",
       "\n",
       "    .dataframe tbody tr th {\n",
       "        vertical-align: top;\n",
       "    }\n",
       "\n",
       "    .dataframe thead th {\n",
       "        text-align: right;\n",
       "    }\n",
       "</style>\n",
       "<table border=\"1\" class=\"dataframe\">\n",
       "  <thead>\n",
       "    <tr style=\"text-align: right;\">\n",
       "      <th></th>\n",
       "      <th>time</th>\n",
       "      <th>Flowcool_Pressure_dropped_below_limit</th>\n",
       "      <th>Flowcool_Pressure_Too_High</th>\n",
       "      <th>TTF_Flowcool_leak</th>\n",
       "    </tr>\n",
       "  </thead>\n",
       "  <tbody>\n",
       "    <tr>\n",
       "      <th>0</th>\n",
       "      <td>3283834</td>\n",
       "      <td>623234.0</td>\n",
       "      <td>9146470.0</td>\n",
       "      <td>632514.0</td>\n",
       "    </tr>\n",
       "    <tr>\n",
       "      <th>1</th>\n",
       "      <td>3283838</td>\n",
       "      <td>623230.0</td>\n",
       "      <td>9146466.0</td>\n",
       "      <td>632510.0</td>\n",
       "    </tr>\n",
       "    <tr>\n",
       "      <th>2</th>\n",
       "      <td>3283842</td>\n",
       "      <td>623226.0</td>\n",
       "      <td>9146462.0</td>\n",
       "      <td>632506.0</td>\n",
       "    </tr>\n",
       "    <tr>\n",
       "      <th>3</th>\n",
       "      <td>3283846</td>\n",
       "      <td>623222.0</td>\n",
       "      <td>9146458.0</td>\n",
       "      <td>632502.0</td>\n",
       "    </tr>\n",
       "    <tr>\n",
       "      <th>4</th>\n",
       "      <td>3283850</td>\n",
       "      <td>623218.0</td>\n",
       "      <td>9146454.0</td>\n",
       "      <td>632498.0</td>\n",
       "    </tr>\n",
       "  </tbody>\n",
       "</table>\n",
       "</div>"
      ],
      "text/plain": [
       "      time  Flowcool_Pressure_dropped_below_limit  Flowcool_Pressure_Too_High  \\\n",
       "0  3283834                               623234.0                   9146470.0   \n",
       "1  3283838                               623230.0                   9146466.0   \n",
       "2  3283842                               623226.0                   9146462.0   \n",
       "3  3283846                               623222.0                   9146458.0   \n",
       "4  3283850                               623218.0                   9146454.0   \n",
       "\n",
       "   TTF_Flowcool_leak  \n",
       "0           632514.0  \n",
       "1           632510.0  \n",
       "2           632506.0  \n",
       "3           632502.0  \n",
       "4           632498.0  "
      ]
     },
     "execution_count": 7,
     "metadata": {},
     "output_type": "execute_result"
    }
   ],
   "source": [
    "ttf.head()"
   ]
  },
  {
   "cell_type": "markdown",
   "metadata": {},
   "source": [
    "#### Merge the data. "
   ]
  },
  {
   "cell_type": "code",
   "execution_count": 8,
   "metadata": {},
   "outputs": [],
   "source": [
    "alldata = pd.merge(train02, ttf, how='outer', on='time')"
   ]
  },
  {
   "cell_type": "markdown",
   "metadata": {},
   "source": [
    "#### Create new features \n",
    "\n",
    "Create new features for the four different scenarios used in classification for Fault 1 - Flowcool Pressure Dropped Below Limit. Below are the lower limits the uppper limits define later. "
   ]
  },
  {
   "cell_type": "code",
   "execution_count": 10,
   "metadata": {},
   "outputs": [],
   "source": [
    "numlimit1 = 600\n",
    "numlimit2 = 2400\n",
    "numlimit3 = 3600\n",
    "numlimit4 = 20000"
   ]
  },
  {
   "cell_type": "code",
   "execution_count": 11,
   "metadata": {},
   "outputs": [],
   "source": [
    "alldata['fault1_a'] = alldata['Flowcool_Pressure_dropped_below_limit'].apply(lambda x:1 if x <= numlimit1 else 0)\n",
    "alldata['fault1_b'] = alldata['Flowcool_Pressure_dropped_below_limit'].apply(lambda x:1 if x <= numlimit2 else 0)\n",
    "alldata['fault1_c'] = alldata['Flowcool_Pressure_dropped_below_limit'].apply(lambda x:1 if x <= numlimit3 else 0)\n",
    "alldata['fault1_d'] = alldata['Flowcool_Pressure_dropped_below_limit'].apply(lambda x:1 if x <= numlimit3 else 0)"
   ]
  },
  {
   "cell_type": "code",
   "execution_count": 12,
   "metadata": {},
   "outputs": [
    {
     "data": {
      "text/html": [
       "<div>\n",
       "<style scoped>\n",
       "    .dataframe tbody tr th:only-of-type {\n",
       "        vertical-align: middle;\n",
       "    }\n",
       "\n",
       "    .dataframe tbody tr th {\n",
       "        vertical-align: top;\n",
       "    }\n",
       "\n",
       "    .dataframe thead th {\n",
       "        text-align: right;\n",
       "    }\n",
       "</style>\n",
       "<table border=\"1\" class=\"dataframe\">\n",
       "  <thead>\n",
       "    <tr style=\"text-align: right;\">\n",
       "      <th></th>\n",
       "      <th>time</th>\n",
       "      <th>Tool</th>\n",
       "      <th>stage</th>\n",
       "      <th>Lot</th>\n",
       "      <th>runnum</th>\n",
       "      <th>recipe</th>\n",
       "      <th>recipe_step</th>\n",
       "      <th>IONGAUGEPRESSURE</th>\n",
       "      <th>ETCHBEAMVOLTAGE</th>\n",
       "      <th>ETCHBEAMCURRENT</th>\n",
       "      <th>...</th>\n",
       "      <th>ETCHAUXSOURCETIMER</th>\n",
       "      <th>ETCHAUX2SOURCETIMER</th>\n",
       "      <th>ACTUALSTEPDURATION</th>\n",
       "      <th>Flowcool_Pressure_dropped_below_limit</th>\n",
       "      <th>Flowcool_Pressure_Too_High</th>\n",
       "      <th>TTF_Flowcool_leak</th>\n",
       "      <th>fault1_a</th>\n",
       "      <th>fault1_b</th>\n",
       "      <th>fault1_c</th>\n",
       "      <th>fault1_d</th>\n",
       "    </tr>\n",
       "  </thead>\n",
       "  <tbody>\n",
       "    <tr>\n",
       "      <th>0</th>\n",
       "      <td>3283834</td>\n",
       "      <td>01M02</td>\n",
       "      <td>1</td>\n",
       "      <td>9253</td>\n",
       "      <td>10511673</td>\n",
       "      <td>67</td>\n",
       "      <td>1</td>\n",
       "      <td>-0.079428</td>\n",
       "      <td>-0.958814</td>\n",
       "      <td>-0.959509</td>\n",
       "      <td>...</td>\n",
       "      <td>2.871511</td>\n",
       "      <td>3.175941</td>\n",
       "      <td>4.037785</td>\n",
       "      <td>623234.0</td>\n",
       "      <td>9146470.0</td>\n",
       "      <td>632514.0</td>\n",
       "      <td>0</td>\n",
       "      <td>0</td>\n",
       "      <td>0</td>\n",
       "      <td>0</td>\n",
       "    </tr>\n",
       "    <tr>\n",
       "      <th>1</th>\n",
       "      <td>3283838</td>\n",
       "      <td>01M02</td>\n",
       "      <td>1</td>\n",
       "      <td>9253</td>\n",
       "      <td>10511673</td>\n",
       "      <td>67</td>\n",
       "      <td>1</td>\n",
       "      <td>-0.079419</td>\n",
       "      <td>-0.958928</td>\n",
       "      <td>-0.959651</td>\n",
       "      <td>...</td>\n",
       "      <td>2.871511</td>\n",
       "      <td>3.175941</td>\n",
       "      <td>4.037785</td>\n",
       "      <td>623230.0</td>\n",
       "      <td>9146466.0</td>\n",
       "      <td>632510.0</td>\n",
       "      <td>0</td>\n",
       "      <td>0</td>\n",
       "      <td>0</td>\n",
       "      <td>0</td>\n",
       "    </tr>\n",
       "    <tr>\n",
       "      <th>2</th>\n",
       "      <td>3283842</td>\n",
       "      <td>01M02</td>\n",
       "      <td>1</td>\n",
       "      <td>9253</td>\n",
       "      <td>10511673</td>\n",
       "      <td>67</td>\n",
       "      <td>1</td>\n",
       "      <td>-0.079409</td>\n",
       "      <td>-0.959156</td>\n",
       "      <td>-0.960006</td>\n",
       "      <td>...</td>\n",
       "      <td>2.871511</td>\n",
       "      <td>3.175941</td>\n",
       "      <td>4.037785</td>\n",
       "      <td>623226.0</td>\n",
       "      <td>9146462.0</td>\n",
       "      <td>632506.0</td>\n",
       "      <td>0</td>\n",
       "      <td>0</td>\n",
       "      <td>0</td>\n",
       "      <td>0</td>\n",
       "    </tr>\n",
       "    <tr>\n",
       "      <th>3</th>\n",
       "      <td>3283846</td>\n",
       "      <td>01M02</td>\n",
       "      <td>1</td>\n",
       "      <td>9253</td>\n",
       "      <td>10511673</td>\n",
       "      <td>67</td>\n",
       "      <td>1</td>\n",
       "      <td>-0.079420</td>\n",
       "      <td>-0.958928</td>\n",
       "      <td>-0.959297</td>\n",
       "      <td>...</td>\n",
       "      <td>2.871511</td>\n",
       "      <td>3.175941</td>\n",
       "      <td>4.037785</td>\n",
       "      <td>623222.0</td>\n",
       "      <td>9146458.0</td>\n",
       "      <td>632502.0</td>\n",
       "      <td>0</td>\n",
       "      <td>0</td>\n",
       "      <td>0</td>\n",
       "      <td>0</td>\n",
       "    </tr>\n",
       "    <tr>\n",
       "      <th>4</th>\n",
       "      <td>3283850</td>\n",
       "      <td>01M02</td>\n",
       "      <td>1</td>\n",
       "      <td>9253</td>\n",
       "      <td>10511673</td>\n",
       "      <td>67</td>\n",
       "      <td>1</td>\n",
       "      <td>-0.079430</td>\n",
       "      <td>-0.959269</td>\n",
       "      <td>-0.959438</td>\n",
       "      <td>...</td>\n",
       "      <td>2.871511</td>\n",
       "      <td>3.175941</td>\n",
       "      <td>4.037785</td>\n",
       "      <td>623218.0</td>\n",
       "      <td>9146454.0</td>\n",
       "      <td>632498.0</td>\n",
       "      <td>0</td>\n",
       "      <td>0</td>\n",
       "      <td>0</td>\n",
       "      <td>0</td>\n",
       "    </tr>\n",
       "  </tbody>\n",
       "</table>\n",
       "<p>5 rows × 31 columns</p>\n",
       "</div>"
      ],
      "text/plain": [
       "      time   Tool  stage   Lot    runnum  recipe  recipe_step  \\\n",
       "0  3283834  01M02      1  9253  10511673      67            1   \n",
       "1  3283838  01M02      1  9253  10511673      67            1   \n",
       "2  3283842  01M02      1  9253  10511673      67            1   \n",
       "3  3283846  01M02      1  9253  10511673      67            1   \n",
       "4  3283850  01M02      1  9253  10511673      67            1   \n",
       "\n",
       "   IONGAUGEPRESSURE  ETCHBEAMVOLTAGE  ETCHBEAMCURRENT  ...  \\\n",
       "0         -0.079428        -0.958814        -0.959509  ...   \n",
       "1         -0.079419        -0.958928        -0.959651  ...   \n",
       "2         -0.079409        -0.959156        -0.960006  ...   \n",
       "3         -0.079420        -0.958928        -0.959297  ...   \n",
       "4         -0.079430        -0.959269        -0.959438  ...   \n",
       "\n",
       "   ETCHAUXSOURCETIMER  ETCHAUX2SOURCETIMER  ACTUALSTEPDURATION  \\\n",
       "0            2.871511             3.175941            4.037785   \n",
       "1            2.871511             3.175941            4.037785   \n",
       "2            2.871511             3.175941            4.037785   \n",
       "3            2.871511             3.175941            4.037785   \n",
       "4            2.871511             3.175941            4.037785   \n",
       "\n",
       "   Flowcool_Pressure_dropped_below_limit  Flowcool_Pressure_Too_High  \\\n",
       "0                               623234.0                   9146470.0   \n",
       "1                               623230.0                   9146466.0   \n",
       "2                               623226.0                   9146462.0   \n",
       "3                               623222.0                   9146458.0   \n",
       "4                               623218.0                   9146454.0   \n",
       "\n",
       "   TTF_Flowcool_leak  fault1_a  fault1_b  fault1_c  fault1_d  \n",
       "0           632514.0         0         0         0         0  \n",
       "1           632510.0         0         0         0         0  \n",
       "2           632506.0         0         0         0         0  \n",
       "3           632502.0         0         0         0         0  \n",
       "4           632498.0         0         0         0         0  \n",
       "\n",
       "[5 rows x 31 columns]"
      ]
     },
     "execution_count": 12,
     "metadata": {},
     "output_type": "execute_result"
    }
   ],
   "source": [
    "alldata.head()"
   ]
  },
  {
   "cell_type": "markdown",
   "metadata": {},
   "source": [
    "## Regression\n",
    "\n",
    "#### Drop some of the columns"
   ]
  },
  {
   "cell_type": "code",
   "execution_count": 13,
   "metadata": {},
   "outputs": [],
   "source": [
    "f1_data = alldata.drop(['time','Lot','Tool','recipe','recipe_step','ROTATIONSPEED','ETCHBEAMCURRENT','ETCHSUPPRESSORVOLTAGE',\n",
    "                        'ETCHSUPPRESSORCURRENT','ETCHAUXSOURCETIMER','ETCHAUX2SOURCETIMER','Flowcool_Pressure_Too_High', 'TTF_Flowcool_leak',\n",
    "                       'fault1_a','fault1_b','fault1_c','fault1_d'], axis=1)\n",
    "f2_data = alldata.drop(['time','Lot','Tool','recipe','recipe_step','ROTATIONSPEED','ETCHBEAMCURRENT','ETCHSUPPRESSORVOLTAGE',\n",
    "                       'ETCHSUPPRESSORCURRENT','ETCHAUXSOURCETIMER','ETCHAUX2SOURCETIMER','Flowcool_Pressure_dropped_below_limit',\n",
    "                        'TTF_Flowcool_leak','fault1_a','fault1_b','fault1_c','fault1_d'], axis=1)\n",
    "f3_data = alldata.drop(['time','Lot','Tool','recipe','recipe_step','ROTATIONSPEED','ETCHBEAMCURRENT','ETCHSUPPRESSORVOLTAGE',\n",
    "                       'ETCHSUPPRESSORCURRENT','ETCHAUXSOURCETIMER','ETCHAUX2SOURCETIMER','Flowcool_Pressure_dropped_below_limit',\n",
    "                        'Flowcool_Pressure_Too_High','fault1_a','fault1_b','fault1_c','fault1_d'], axis=1)"
   ]
  },
  {
   "cell_type": "code",
   "execution_count": 14,
   "metadata": {},
   "outputs": [],
   "source": [
    "f1data = f1_data.dropna()\n",
    "f2data = f2_data.dropna()\n",
    "f3data = f3_data.dropna()"
   ]
  },
  {
   "cell_type": "markdown",
   "metadata": {},
   "source": [
    "#### Slice the data "
   ]
  },
  {
   "cell_type": "code",
   "execution_count": 15,
   "metadata": {},
   "outputs": [
    {
     "data": {
      "text/plain": [
       "<AxesSubplot:>"
      ]
     },
     "execution_count": 15,
     "metadata": {},
     "output_type": "execute_result"
    },
    {
     "data": {
      "image/png": "[encoded data removed]",
      "text/plain": [
       "<Figure size 432x288 with 1 Axes>"
      ]
     },
     "metadata": {
      "needs_background": "light"
     },
     "output_type": "display_data"
    }
   ],
   "source": [
    "f1_data['Flowcool_Pressure_dropped_below_limit'].plot()"
   ]
  },
  {
   "cell_type": "code",
   "execution_count": 16,
   "metadata": {},
   "outputs": [],
   "source": [
    "f1_data = f1data.iloc[3010000:4513684]"
   ]
  },
  {
   "cell_type": "code",
   "execution_count": 17,
   "metadata": {},
   "outputs": [
    {
     "data": {
      "text/plain": [
       "<AxesSubplot:>"
      ]
     },
     "execution_count": 17,
     "metadata": {},
     "output_type": "execute_result"
    },
    {
     "data": {
      "image/png": "[encoded data removed]",
      "text/plain": [
       "<Figure size 432x288 with 1 Axes>"
      ]
     },
     "metadata": {
      "needs_background": "light"
     },
     "output_type": "display_data"
    }
   ],
   "source": [
    "f1_data['Flowcool_Pressure_dropped_below_limit'].plot()"
   ]
  },
  {
   "cell_type": "code",
   "execution_count": 18,
   "metadata": {
    "scrolled": true
   },
   "outputs": [
    {
     "data": {
      "text/plain": [
       "(1503684, 14)"
      ]
     },
     "execution_count": 18,
     "metadata": {},
     "output_type": "execute_result"
    }
   ],
   "source": [
    "f1_data.shape"
   ]
  },
  {
   "cell_type": "code",
   "execution_count": 19,
   "metadata": {},
   "outputs": [],
   "source": [
    "train = f1data.loc[3260000:3307064] \n",
    "\n",
    "train_drop = train.drop('Flowcool_Pressure_dropped_below_limit', axis=1)"
   ]
  },
  {
   "cell_type": "code",
   "execution_count": 15,
   "metadata": {
    "scrolled": true
   },
   "outputs": [],
   "source": [
    "test = f1data.loc[4492500:4513684]"
   ]
  },
  {
   "cell_type": "code",
   "execution_count": 17,
   "metadata": {},
   "outputs": [],
   "source": [
    "validation2= f1data.loc[2187500:2198597]"
   ]
  },
  {
   "cell_type": "code",
   "execution_count": 18,
   "metadata": {},
   "outputs": [
    {
     "name": "stdout",
     "output_type": "stream",
     "text": [
      "(13901, 14) (11098, 14)\n"
     ]
    }
   ],
   "source": [
    "print(validation2.shape)"
   ]
  },
  {
   "cell_type": "code",
   "execution_count": 14,
   "metadata": {},
   "outputs": [
    {
     "name": "stdout",
     "output_type": "stream",
     "text": [
      "(47065, 15) (21185, 15)\n"
     ]
    }
   ],
   "source": [
    "print(train.shape, test.shape)"
   ]
  },
  {
   "cell_type": "code",
   "execution_count": 45,
   "metadata": {
    "scrolled": true
   },
   "outputs": [
    {
     "data": {
      "text/plain": [
       "<AxesSubplot:>"
      ]
     },
     "execution_count": 45,
     "metadata": {},
     "output_type": "execute_result"
    },
    {
     "data": {
      "image/png": "[encoded data removed]",
      "text/plain": [
       "<Figure size 432x288 with 1 Axes>"
      ]
     },
     "metadata": {
      "needs_background": "light"
     },
     "output_type": "display_data"
    }
   ],
   "source": [
    "validation2['Flowcool_Pressure_dropped_below_limit'].plot()"
   ]
  },
  {
   "cell_type": "code",
   "execution_count": 46,
   "metadata": {},
   "outputs": [
    {
     "data": {
      "text/plain": [
       "<AxesSubplot:>"
      ]
     },
     "execution_count": 46,
     "metadata": {},
     "output_type": "execute_result"
    },
    {
     "data": {
      "image/png": "[encoded data removed]",
      "text/plain": [
       "<Figure size 432x288 with 1 Axes>"
      ]
     },
     "metadata": {
      "needs_background": "light"
     },
     "output_type": "display_data"
    }
   ],
   "source": [
    "train['Flowcool_Pressure_dropped_below_limit'].plot()"
   ]
  },
  {
   "cell_type": "code",
   "execution_count": 47,
   "metadata": {},
   "outputs": [
    {
     "data": {
      "text/plain": [
       "<AxesSubplot:>"
      ]
     },
     "execution_count": 47,
     "metadata": {},
     "output_type": "execute_result"
    },
    {
     "data": {
      "image/png": "[encoded data removed]",
      "text/plain": [
       "<Figure size 432x288 with 1 Axes>"
      ]
     },
     "metadata": {
      "needs_background": "light"
     },
     "output_type": "display_data"
    }
   ],
   "source": [
    "test['Flowcool_Pressure_dropped_below_limit'].plot()"
   ]
  },
  {
   "cell_type": "markdown",
   "metadata": {},
   "source": [
    "#### Scale the data"
   ]
  },
  {
   "cell_type": "code",
   "execution_count": 49,
   "metadata": {},
   "outputs": [],
   "source": [
    "scaler = StandardScaler()\n",
    "scaler = scaler.fit(train)\n",
    "\n",
    "sstrain = scaler.transform(train)\n",
    "sstest = scaler.transform(test)\n",
    "ssval = scaler.transform(validation2)"
   ]
  },
  {
   "cell_type": "markdown",
   "metadata": {},
   "source": [
    "#### Define x and y variable"
   ]
  },
  {
   "cell_type": "code",
   "execution_count": 51,
   "metadata": {},
   "outputs": [],
   "source": [
    "trainX, trainy = sstrain[:,:-1],sstrain[:,-1]\n",
    "testX, testy =  sstest[:,:-1],sstest[:,-1]\n",
    "valX, valy = ssval[:,:-1],ssval[:,-1]"
   ]
  },
  {
   "cell_type": "code",
   "execution_count": 52,
   "metadata": {},
   "outputs": [
    {
     "data": {
      "text/plain": [
       "(21185, 13)"
      ]
     },
     "execution_count": 52,
     "metadata": {},
     "output_type": "execute_result"
    }
   ],
   "source": [
    "testX.shape"
   ]
  },
  {
   "cell_type": "markdown",
   "metadata": {},
   "source": [
    "#### Reshape the data"
   ]
  },
  {
   "cell_type": "code",
   "execution_count": 54,
   "metadata": {},
   "outputs": [],
   "source": [
    "# Reshape\n",
    "train_X = trainX.reshape(trainX.shape[0],1,trainX.shape[1])\n",
    "test_X = testX.reshape(testX.shape[0],1,testX.shape[1])\n",
    "val_X = valX.reshape(valX.shape[0],1,valX.shape[1])"
   ]
  },
  {
   "cell_type": "code",
   "execution_count": 57,
   "metadata": {},
   "outputs": [],
   "source": [
    "# from tensorlow import keras\n",
    "from tensorflow.keras import Sequential\n",
    "from tensorflow.keras.layers import LSTM, Dense, Dropout"
   ]
  },
  {
   "cell_type": "code",
   "execution_count": 58,
   "metadata": {},
   "outputs": [
    {
     "name": "stdout",
     "output_type": "stream",
     "text": [
      "Model: \"sequential\"\n",
      "_________________________________________________________________\n",
      "Layer (type)                 Output Shape              Param #   \n",
      "=================================================================\n",
      "lstm (LSTM)                  (None, 1, 50)             12800     \n",
      "_________________________________________________________________\n",
      "lstm_1 (LSTM)                (None, 50)                20200     \n",
      "_________________________________________________________________\n",
      "dense (Dense)                (None, 1)                 51        \n",
      "=================================================================\n",
      "Total params: 33,051\n",
      "Trainable params: 33,051\n",
      "Non-trainable params: 0\n",
      "_________________________________________________________________\n"
     ]
    }
   ],
   "source": [
    "model = Sequential()\n",
    "model.add(LSTM(50, activation ='relu', input_shape=(1,13), return_sequences=True))\n",
    "model.add(LSTM(50, activation ='relu', return_sequences = False))\n",
    "model.add(Dense(1))\n",
    "model.compile(optimizer = 'adam', loss ='mse', metrics=['RootMeanSquaredError'])\n",
    "model.summary()"
   ]
  },
  {
   "cell_type": "code",
   "execution_count": 59,
   "metadata": {},
   "outputs": [
    {
     "name": "stdout",
     "output_type": "stream",
     "text": [
      "Epoch 1/15\n",
      "2942/2942 [==============================] - 13s 3ms/step - loss: 0.3608 - root_mean_squared_error: 0.5096 - val_loss: 628.1221 - val_root_mean_squared_error: 25.0624\n",
      "Epoch 2/15\n",
      "2942/2942 [==============================] - 9s 3ms/step - loss: 0.2193 - root_mean_squared_error: 0.3607 - val_loss: 25696.4902 - val_root_mean_squared_error: 160.3013\n",
      "Epoch 3/15\n",
      "2942/2942 [==============================] - 9s 3ms/step - loss: 0.0647 - root_mean_squared_error: 0.2255 - val_loss: 5190.4658 - val_root_mean_squared_error: 72.0449\n",
      "Epoch 4/15\n",
      "2942/2942 [==============================] - 9s 3ms/step - loss: 0.0232 - root_mean_squared_error: 0.1395 - val_loss: 641.0798 - val_root_mean_squared_error: 25.3196\n",
      "Epoch 5/15\n",
      "2942/2942 [==============================] - 10s 3ms/step - loss: 0.0314 - root_mean_squared_error: 0.1570 - val_loss: 15.8872 - val_root_mean_squared_error: 3.9859\n",
      "Epoch 6/15\n",
      "2942/2942 [==============================] - 9s 3ms/step - loss: 0.0252 - root_mean_squared_error: 0.1403 - val_loss: 4.0400 - val_root_mean_squared_error: 2.0100\n",
      "Epoch 7/15\n",
      "2942/2942 [==============================] - 10s 3ms/step - loss: 0.0224 - root_mean_squared_error: 0.1342 - val_loss: 22.2293 - val_root_mean_squared_error: 4.7148\n",
      "Epoch 8/15\n",
      "2942/2942 [==============================] - 11s 4ms/step - loss: 0.0221 - root_mean_squared_error: 0.1297 - val_loss: 28.2608 - val_root_mean_squared_error: 5.3161\n",
      "Epoch 9/15\n",
      "2942/2942 [==============================] - 9s 3ms/step - loss: 0.0166 - root_mean_squared_error: 0.1143 - val_loss: 76.4644 - val_root_mean_squared_error: 8.7444\n",
      "Epoch 10/15\n",
      "2942/2942 [==============================] - 10s 3ms/step - loss: 0.0186 - root_mean_squared_error: 0.1221 - val_loss: 35.2143 - val_root_mean_squared_error: 5.9342\n",
      "Epoch 11/15\n",
      "2942/2942 [==============================] - 9s 3ms/step - loss: 0.0149 - root_mean_squared_error: 0.1072 - val_loss: 7.9744 - val_root_mean_squared_error: 2.8239\n",
      "Epoch 12/15\n",
      "2942/2942 [==============================] - 10s 3ms/step - loss: 0.0147 - root_mean_squared_error: 0.1067 - val_loss: 30.3399 - val_root_mean_squared_error: 5.5082\n",
      "Epoch 13/15\n",
      "2942/2942 [==============================] - 9s 3ms/step - loss: 0.0134 - root_mean_squared_error: 0.1038 - val_loss: 42.6080 - val_root_mean_squared_error: 6.5275\n",
      "Epoch 14/15\n",
      "2942/2942 [==============================] - 10s 3ms/step - loss: 0.0126 - root_mean_squared_error: 0.0987 - val_loss: 141.9550 - val_root_mean_squared_error: 11.9145\n",
      "Epoch 15/15\n",
      "2942/2942 [==============================] - 10s 3ms/step - loss: 0.0122 - root_mean_squared_error: 0.0994 - val_loss: 57.5549 - val_root_mean_squared_error: 7.5865\n"
     ]
    }
   ],
   "source": [
    "history = model.fit(train_X, trainy, epochs=15, batch_size =16, validation_data =(val_X, valy), verbose =1, shuffle=False)"
   ]
  },
  {
   "cell_type": "code",
   "execution_count": 60,
   "metadata": {},
   "outputs": [
    {
     "data": {
      "image/png": "[encoded data removed]",
      "text/plain": [
       "<Figure size 432x288 with 1 Axes>"
      ]
     },
     "metadata": {
      "needs_background": "light"
     },
     "output_type": "display_data"
    }
   ],
   "source": [
    "plt.plot(history.history['loss'], label='Training loss')\n",
    "plt.plot(history.history['val_loss'], label='Validation loss')\n",
    "plt.legend()\n",
    "plt.show()"
   ]
  },
  {
   "cell_type": "code",
   "execution_count": 61,
   "metadata": {},
   "outputs": [
    {
     "name": "stdout",
     "output_type": "stream",
     "text": [
      "663/663 [==============================] - 1s 2ms/step - loss: 2260.1655 - root_mean_squared_error: 47.5412\n",
      "score 2260.17\n",
      "score 47.54\n"
     ]
    }
   ],
   "source": [
    "score, acc = model.evaluate(test_X, testy)\n",
    "print('score %.2f'%score)\n",
    "print('score %.2f'%acc)"
   ]
  },
  {
   "cell_type": "code",
   "execution_count": 65,
   "metadata": {},
   "outputs": [],
   "source": [
    "train_X1 = train_X.reshape(trainX.shape[0],trainX.shape[1])"
   ]
  },
  {
   "cell_type": "code",
   "execution_count": 38,
   "metadata": {},
   "outputs": [
    {
     "data": {
      "text/plain": [
       "(21178, 1, 13)"
      ]
     },
     "execution_count": 38,
     "metadata": {},
     "output_type": "execute_result"
    }
   ],
   "source": [
    "test_X.shape"
   ]
  },
  {
   "cell_type": "code",
   "execution_count": 69,
   "metadata": {},
   "outputs": [
    {
     "name": "stdout",
     "output_type": "stream",
     "text": [
      "Model: \"sequential_1\"\n",
      "_________________________________________________________________\n",
      "Layer (type)                 Output Shape              Param #   \n",
      "=================================================================\n",
      "lstm_2 (LSTM)                (None, 1, 50)             12800     \n",
      "_________________________________________________________________\n",
      "dropout (Dropout)            (None, 1, 50)             0         \n",
      "_________________________________________________________________\n",
      "lstm_3 (LSTM)                (None, 50)                20200     \n",
      "_________________________________________________________________\n",
      "dropout_1 (Dropout)          (None, 50)                0         \n",
      "_________________________________________________________________\n",
      "dense_1 (Dense)              (None, 1)                 51        \n",
      "=================================================================\n",
      "Total params: 33,051\n",
      "Trainable params: 33,051\n",
      "Non-trainable params: 0\n",
      "_________________________________________________________________\n"
     ]
    }
   ],
   "source": [
    "model1 = Sequential()\n",
    "model1.add(LSTM(50, activation ='relu', input_shape=(1,13), return_sequences=True))\n",
    "model1.add(Dropout(0.2))\n",
    "model1.add(LSTM(50, activation ='relu', return_sequences = False))\n",
    "model1.add(Dropout(0.2))\n",
    "model1.add(Dense(1))\n",
    "model1.compile(optimizer = 'adam', loss ='mse', metrics=['MeanSquaredError'])\n",
    "model1.summary()"
   ]
  },
  {
   "cell_type": "code",
   "execution_count": 70,
   "metadata": {},
   "outputs": [
    {
     "name": "stdout",
     "output_type": "stream",
     "text": [
      "Epoch 1/20\n",
      "2942/2942 [==============================] - 10s 3ms/step - loss: 0.4054 - mean_squared_error: 0.4054 - val_loss: 813.8555 - val_mean_squared_error: 813.8555\n",
      "Epoch 2/20\n",
      "2942/2942 [==============================] - 7s 3ms/step - loss: 0.3527 - mean_squared_error: 0.3527 - val_loss: 274.3075 - val_mean_squared_error: 274.3075\n",
      "Epoch 3/20\n",
      "2942/2942 [==============================] - 7s 2ms/step - loss: 0.1008 - mean_squared_error: 0.1008 - val_loss: 2.5373 - val_mean_squared_error: 2.5373\n",
      "Epoch 4/20\n",
      "2942/2942 [==============================] - 7s 2ms/step - loss: 0.0888 - mean_squared_error: 0.0888 - val_loss: 41.9417 - val_mean_squared_error: 41.9417\n",
      "Epoch 5/20\n",
      "2942/2942 [==============================] - 7s 2ms/step - loss: 0.0849 - mean_squared_error: 0.0849 - val_loss: 184.4926 - val_mean_squared_error: 184.4926\n",
      "Epoch 6/20\n",
      "2942/2942 [==============================] - 7s 2ms/step - loss: 0.0940 - mean_squared_error: 0.0940 - val_loss: 1.3552 - val_mean_squared_error: 1.3552mean_s\n",
      "Epoch 7/20\n",
      "2942/2942 [==============================] - 7s 2ms/step - loss: 0.0797 - mean_squared_error: 0.0797 - val_loss: 1.3165 - val_mean_squared_error: 1.3165\n",
      "Epoch 8/20\n",
      "2942/2942 [==============================] - 7s 2ms/step - loss: 0.0791 - mean_squared_error: 0.0791 - val_loss: 1.2507 - val_mean_squared_error: 1.2507\n",
      "Epoch 9/20\n",
      "2942/2942 [==============================] - 7s 2ms/step - loss: 0.0760 - mean_squared_error: 0.0760 - val_loss: 1.2085 - val_mean_squared_error: 1.2085\n",
      "Epoch 10/20\n",
      "2942/2942 [==============================] - 7s 2ms/step - loss: 0.0769 - mean_squared_error: 0.0769 - val_loss: 1.0689 - val_mean_squared_error: 1.0689\n",
      "Epoch 11/20\n",
      "2942/2942 [==============================] - 7s 2ms/step - loss: 0.0791 - mean_squared_error: 0.0791 - val_loss: 1.1183 - val_mean_squared_error: 1.1183\n",
      "Epoch 12/20\n",
      "2942/2942 [==============================] - 7s 2ms/step - loss: 0.0771 - mean_squared_error: 0.0771 - val_loss: 1.0982 - val_mean_squared_error: 1.0982\n",
      "Epoch 13/20\n",
      "2942/2942 [==============================] - 7s 2ms/step - loss: 0.0695 - mean_squared_error: 0.0695 - val_loss: 1.0399 - val_mean_squared_error: 1.0399\n",
      "Epoch 14/20\n",
      "2942/2942 [==============================] - 7s 3ms/step - loss: 0.0697 - mean_squared_error: 0.0697 - val_loss: 0.9604 - val_mean_squared_error: 0.9604\n",
      "Epoch 15/20\n",
      "2942/2942 [==============================] - 7s 2ms/step - loss: 0.0710 - mean_squared_error: 0.0710 - val_loss: 0.9169 - val_mean_squared_error: 0.9169\n",
      "Epoch 16/20\n",
      "2942/2942 [==============================] - 7s 2ms/step - loss: 0.0669 - mean_squared_error: 0.0669 - val_loss: 0.9031 - val_mean_squared_error: 0.9031\n",
      "Epoch 17/20\n",
      "2942/2942 [==============================] - 7s 2ms/step - loss: 0.0662 - mean_squared_error: 0.0662 - val_loss: 0.8395 - val_mean_squared_error: 0.8395\n",
      "Epoch 18/20\n",
      "2942/2942 [==============================] - 7s 2ms/step - loss: 0.0598 - mean_squared_error: 0.0598 - val_loss: 0.8243 - val_mean_squared_error: 0.8243\n",
      "Epoch 19/20\n",
      "2942/2942 [==============================] - 7s 2ms/step - loss: 0.0671 - mean_squared_error: 0.0671 - val_loss: 0.8234 - val_mean_squared_error: 0.8234\n",
      "Epoch 20/20\n",
      "2942/2942 [==============================] - 7s 2ms/step - loss: 0.0679 - mean_squared_error: 0.0679 - val_loss: 0.7881 - val_mean_squared_error: 0.7881\n"
     ]
    }
   ],
   "source": [
    "history1 = model1.fit(train_X, trainy, epochs=20, batch_size =16, validation_data =(val_X, valy), verbose =1, shuffle=False)"
   ]
  },
  {
   "cell_type": "code",
   "execution_count": 71,
   "metadata": {},
   "outputs": [
    {
     "data": {
      "image/png": "[encoded data removed]",
      "text/plain": [
       "<Figure size 432x288 with 1 Axes>"
      ]
     },
     "metadata": {
      "needs_background": "light"
     },
     "output_type": "display_data"
    }
   ],
   "source": [
    "plt.plot(history1.history['loss'], label='Training loss')\n",
    "plt.plot(history1.history['val_loss'], label='Val loss')\n",
    "plt.legend()\n",
    "plt.show()"
   ]
  },
  {
   "cell_type": "code",
   "execution_count": 72,
   "metadata": {},
   "outputs": [
    {
     "name": "stdout",
     "output_type": "stream",
     "text": [
      "663/663 [==============================] - 1s 1ms/step - loss: 0.3909 - mean_squared_error: 0.3909\n",
      "score 0.39\n",
      "score 0.39\n"
     ]
    }
   ],
   "source": [
    "score, acc, = model1.evaluate(test_X, testy)\n",
    "print('score %.2f'%score)\n",
    "print('score %.2f'%acc)"
   ]
  },
  {
   "cell_type": "markdown",
   "metadata": {},
   "source": [
    "#### Random Forest Regression"
   ]
  },
  {
   "cell_type": "code",
   "execution_count": 96,
   "metadata": {},
   "outputs": [],
   "source": [
    "from sklearn.ensemble import RandomForestRegressor\n",
    "\n",
    "rfr = RandomForestRegressor()"
   ]
  },
  {
   "cell_type": "code",
   "execution_count": 97,
   "metadata": {},
   "outputs": [
    {
     "data": {
      "text/plain": [
       "RandomForestRegressor()"
      ]
     },
     "execution_count": 97,
     "metadata": {},
     "output_type": "execute_result"
    }
   ],
   "source": [
    "rfr.fit(trainX, trainy)"
   ]
  },
  {
   "cell_type": "code",
   "execution_count": 98,
   "metadata": {},
   "outputs": [],
   "source": [
    "kr_rfr = rfr.predict(testX)"
   ]
  },
  {
   "cell_type": "code",
   "execution_count": 99,
   "metadata": {},
   "outputs": [
    {
     "name": "stdout",
     "output_type": "stream",
     "text": [
      "1.6172442519832677\n",
      "1.2717091853027043\n"
     ]
    }
   ],
   "source": [
    "from sklearn.metrics import mean_squared_error\n",
    "\n",
    "rfr_mse = mean_squared_error(testy, kr_rfr)\n",
    "rfr_rmse = np.sqrt(rfr_mse)\n",
    "\n",
    "print(rfr_mse)\n",
    "print(rfr_rmse)"
   ]
  },
  {
   "cell_type": "code",
   "execution_count": 101,
   "metadata": {},
   "outputs": [],
   "source": [
    "result = permutation_importance(rfr, testX, testy, random_state=42)"
   ]
  },
  {
   "cell_type": "code",
   "execution_count": 102,
   "metadata": {},
   "outputs": [
    {
     "data": {
      "image/png": "[encoded data removed]",
      "text/plain": [
       "<Figure size 720x576 with 1 Axes>"
      ]
     },
     "metadata": {
      "needs_background": "light"
     },
     "output_type": "display_data"
    }
   ],
   "source": [
    "pp = result.importances_mean.argsort()\n",
    "\n",
    "sort_pp = np.argsort(pp)\n",
    "\n",
    "pos = np.arange(sort_pp.shape[0])+0.5\n",
    "y_ticks = np.arange(0,len(train_drop.columns))\n",
    "\n",
    "plt.figure(figsize=(10,8))\n",
    "plt.barh(pos, pp[sort_pp])\n",
    "plt.yticks(y_ticks, train_drop.columns[sort_pp])\n",
    "plt.title('Permutation Importance')\n",
    "plt.show()"
   ]
  },
  {
   "cell_type": "markdown",
   "metadata": {},
   "source": [
    "#### Linear Regression"
   ]
  },
  {
   "cell_type": "code",
   "execution_count": 88,
   "metadata": {},
   "outputs": [],
   "source": [
    "lr = LinearRegression()"
   ]
  },
  {
   "cell_type": "code",
   "execution_count": 89,
   "metadata": {},
   "outputs": [
    {
     "data": {
      "text/plain": [
       "LinearRegression()"
      ]
     },
     "execution_count": 89,
     "metadata": {},
     "output_type": "execute_result"
    }
   ],
   "source": [
    "lr.fit(trainX, trainy)"
   ]
  },
  {
   "cell_type": "code",
   "execution_count": 90,
   "metadata": {},
   "outputs": [],
   "source": [
    "kr_lr = lr.predict(testX)"
   ]
  },
  {
   "cell_type": "code",
   "execution_count": 91,
   "metadata": {},
   "outputs": [
    {
     "name": "stdout",
     "output_type": "stream",
     "text": [
      "4361.950330637968\n",
      "66.04506287859803\n"
     ]
    }
   ],
   "source": [
    "lr_mse = mean_squared_error(testy, kr_lr)\n",
    "lr_rmse = np.sqrt(lr_mse)\n",
    "\n",
    "print(lr_mse)\n",
    "print(lr_rmse)"
   ]
  },
  {
   "cell_type": "markdown",
   "metadata": {},
   "source": [
    "#### Ridge"
   ]
  },
  {
   "cell_type": "code",
   "execution_count": 92,
   "metadata": {},
   "outputs": [],
   "source": [
    "ridge = Ridge()"
   ]
  },
  {
   "cell_type": "code",
   "execution_count": 93,
   "metadata": {},
   "outputs": [
    {
     "data": {
      "text/plain": [
       "Ridge()"
      ]
     },
     "execution_count": 93,
     "metadata": {},
     "output_type": "execute_result"
    }
   ],
   "source": [
    "ridge.fit(trainX, trainy)"
   ]
  },
  {
   "cell_type": "code",
   "execution_count": 94,
   "metadata": {},
   "outputs": [],
   "source": [
    "kr_ridge = ridge.predict(testX)"
   ]
  },
  {
   "cell_type": "code",
   "execution_count": 95,
   "metadata": {},
   "outputs": [
    {
     "name": "stdout",
     "output_type": "stream",
     "text": [
      "4354.829953741316\n",
      "65.99113541788257\n"
     ]
    }
   ],
   "source": [
    "ridge_mse = mean_squared_error(testy, kr_ridge)\n",
    "ridge_rmse = np.sqrt(ridge_mse)\n",
    "\n",
    "print(ridge_mse)\n",
    "print(ridge_rmse)"
   ]
  },
  {
   "cell_type": "markdown",
   "metadata": {},
   "source": [
    "#### Lasso"
   ]
  },
  {
   "cell_type": "code",
   "execution_count": 94,
   "metadata": {},
   "outputs": [],
   "source": [
    "lasso = Lasso()"
   ]
  },
  {
   "cell_type": "code",
   "execution_count": 95,
   "metadata": {},
   "outputs": [
    {
     "data": {
      "text/plain": [
       "Lasso()"
      ]
     },
     "execution_count": 95,
     "metadata": {},
     "output_type": "execute_result"
    }
   ],
   "source": [
    "lasso.fit(trainX, trainy)"
   ]
  },
  {
   "cell_type": "code",
   "execution_count": 96,
   "metadata": {},
   "outputs": [],
   "source": [
    "kr_lasso = lasso.predict(testX)"
   ]
  },
  {
   "cell_type": "code",
   "execution_count": 97,
   "metadata": {},
   "outputs": [
    {
     "name": "stdout",
     "output_type": "stream",
     "text": [
      "0.637131412106502\n",
      "0.7982051190680889\n"
     ]
    }
   ],
   "source": [
    "lasso_mse = mean_squared_error(testy, kr_lasso)\n",
    "lasso_rmse = np.sqrt(lasso_mse)\n",
    "\n",
    "print(lasso_mse)\n",
    "print(lasso_rmse)"
   ]
  },
  {
   "cell_type": "markdown",
   "metadata": {},
   "source": [
    "#### Cross Validation\n",
    "\n",
    "Cross Validation for the all the models except LSTM which has the validation built into the model."
   ]
  },
  {
   "cell_type": "code",
   "execution_count": 51,
   "metadata": {},
   "outputs": [
    {
     "name": "stdout",
     "output_type": "stream",
     "text": [
      "Scores [0.04805749 0.01866792 0.02250445 0.02094705 0.05938306]\n",
      "Mean Score 0.033911993383302336\n",
      "Standard Deviation 0.016610079790883425\n"
     ]
    }
   ],
   "source": [
    "rfr_valscore = cross_val_score(rfr, valX, valy, scoring='neg_mean_squared_error', cv=5)\n",
    "\n",
    "rfr_rmse_valscore = np.sqrt(-rfr_valscore)\n",
    "\n",
    "print('Scores', rfr_rmse_valscore)\n",
    "print('Mean Score', rfr_rmse_valscore.mean())\n",
    "print('Standard Deviation', rfr_rmse_valscore.std())"
   ]
  },
  {
   "cell_type": "code",
   "execution_count": 52,
   "metadata": {},
   "outputs": [
    {
     "name": "stdout",
     "output_type": "stream",
     "text": [
      "Scores [0.00647832 0.00216558 0.00425534 0.00351293 0.00811931]\n",
      "Mean Score 0.004906295537181199\n",
      "Standard Deviation 0.0021293879585091084\n"
     ]
    }
   ],
   "source": [
    "lr_valscore = cross_val_score(lr, valX, valy, scoring='neg_mean_squared_error', cv=5)\n",
    "\n",
    "lr_rmse_valscore = np.sqrt(-lr_valscore)\n",
    "\n",
    "print('Scores', lr_rmse_valscore)\n",
    "print('Mean Score', lr_rmse_valscore.mean())\n",
    "print('Standard Deviation', lr_rmse_valscore.std())"
   ]
  },
  {
   "cell_type": "code",
   "execution_count": 53,
   "metadata": {},
   "outputs": [
    {
     "name": "stdout",
     "output_type": "stream",
     "text": [
      "Scores [0.00509183 0.00206414 0.00331106 0.00324793 0.0091468 ]\n",
      "Mean Score 0.004572352557798861\n",
      "Standard Deviation 0.0024832011327137688\n"
     ]
    }
   ],
   "source": [
    "ridge_valscore = cross_val_score(ridge, valX, valy, scoring='neg_mean_squared_error', cv=5)\n",
    "\n",
    "ridge_rmse_valscore = np.sqrt(-ridge_valscore)\n",
    "\n",
    "print('Scores', ridge_rmse_valscore)\n",
    "print('Mean Score', ridge_rmse_valscore.mean())\n",
    "print('Standard Deviation', ridge_rmse_valscore.std())"
   ]
  },
  {
   "cell_type": "code",
   "execution_count": 54,
   "metadata": {},
   "outputs": [
    {
     "name": "stdout",
     "output_type": "stream",
     "text": [
      "Scores [0.20850031 0.10798215 0.02263817 0.10610784 0.21291228]\n",
      "Mean Score 0.13162814993833657\n",
      "Standard Deviation 0.07156210615144025\n"
     ]
    }
   ],
   "source": [
    "lasso_valscore = cross_val_score(lasso, valX, valy, scoring='neg_mean_squared_error', cv=5)\n",
    "\n",
    "lasso_rmse_valscore = np.sqrt(-lasso_valscore)\n",
    "\n",
    "print('Scores', lasso_rmse_valscore)\n",
    "print('Mean Score', lasso_rmse_valscore.mean())\n",
    "print('Standard Deviation', lasso_rmse_valscore.std())"
   ]
  },
  {
   "cell_type": "markdown",
   "metadata": {},
   "source": [
    "## Classification\n",
    "\n",
    "- For each scenario the upper limit is define for Fault 1 - Flowcool Pressure Dropped Below Limit.\n",
    "- The Random Forest, Gradient Boosting Classifier and the Logistic Regression are run. \n",
    "- The models for each scenario are compared. \n",
    "- SMOTEENN for the Logistic Regression Scenario 1."
   ]
  },
  {
   "cell_type": "markdown",
   "metadata": {},
   "source": [
    "###  Scenario 1: Limit is 10800 and isfailure is 600 - 3 hours, 10 minutes"
   ]
  },
  {
   "cell_type": "code",
   "execution_count": 13,
   "metadata": {},
   "outputs": [],
   "source": [
    "cl_f1a_data = alldata.drop(['time','Lot','Tool','stage','recipe','recipe_step','ROTATIONSPEED','ETCHBEAMCURRENT','ETCHSUPPRESSORVOLTAGE',\n",
    "                        'ETCHSUPPRESSORCURRENT','ETCHAUXSOURCETIMER','ETCHAUX2SOURCETIMER','Flowcool_Pressure_Too_High', 'TTF_Flowcool_leak',\n",
    "                       'fault1_b', 'fault1_c','fault1_d'], axis=1)"
   ]
  },
  {
   "cell_type": "code",
   "execution_count": 14,
   "metadata": {},
   "outputs": [],
   "source": [
    "clf1data = cl_f1a_data.dropna()"
   ]
  },
  {
   "cell_type": "markdown",
   "metadata": {},
   "source": [
    "Upper limit is at 10800 seconds."
   ]
  },
  {
   "cell_type": "code",
   "execution_count": 15,
   "metadata": {},
   "outputs": [],
   "source": [
    "cutoff_1a = 10800\n",
    "\n",
    "a1_limit = clf1data.loc[3010000:4513684]\n",
    "\n",
    "cl_cutoff1a = a1_limit.loc[a1_limit['Flowcool_Pressure_dropped_below_limit']<cutoff_1a].copy()"
   ]
  },
  {
   "cell_type": "code",
   "execution_count": 16,
   "metadata": {},
   "outputs": [],
   "source": [
    "cl_X1a = cl_cutoff1a.drop(['Flowcool_Pressure_dropped_below_limit', 'fault1_a'], axis=1)\n",
    "cl_Y1a = cl_cutoff1a['fault1_a']"
   ]
  },
  {
   "cell_type": "code",
   "execution_count": 17,
   "metadata": {},
   "outputs": [
    {
     "name": "stdout",
     "output_type": "stream",
     "text": [
      "<class 'pandas.core.frame.DataFrame'>\n",
      "Int64Index: 1503684 entries, 3010000 to 4513684\n",
      "Data columns (total 14 columns):\n",
      " #   Column                                 Non-Null Count    Dtype  \n",
      "---  ------                                 --------------    -----  \n",
      " 0   runnum                                 1503684 non-null  int64  \n",
      " 1   IONGAUGEPRESSURE                       1503684 non-null  float64\n",
      " 2   ETCHBEAMVOLTAGE                        1503684 non-null  float64\n",
      " 3   FLOWCOOLFLOWRATE                       1503684 non-null  float64\n",
      " 4   FLOWCOOLPRESSURE                       1503684 non-null  float64\n",
      " 5   ETCHGASCHANNEL1READBACK                1503684 non-null  float64\n",
      " 6   ETCHPBNGASREADBACK                     1503684 non-null  float64\n",
      " 7   FIXTURETILTANGLE                       1503684 non-null  float64\n",
      " 8   ACTUALROTATIONANGLE                    1503684 non-null  float64\n",
      " 9   FIXTURESHUTTERPOSITION                 1503684 non-null  float64\n",
      " 10  ETCHSOURCEUSAGE                        1503684 non-null  float64\n",
      " 11  ACTUALSTEPDURATION                     1503684 non-null  float64\n",
      " 12  Flowcool_Pressure_dropped_below_limit  1503684 non-null  float64\n",
      " 13  fault1_a                               1503684 non-null  int64  \n",
      "dtypes: float64(12), int64(2)\n",
      "memory usage: 172.1 MB\n"
     ]
    }
   ],
   "source": [
    "a1_limit.info()"
   ]
  },
  {
   "cell_type": "code",
   "execution_count": 18,
   "metadata": {
    "scrolled": true
   },
   "outputs": [
    {
     "data": {
      "text/html": [
       "<div>\n",
       "<style scoped>\n",
       "    .dataframe tbody tr th:only-of-type {\n",
       "        vertical-align: middle;\n",
       "    }\n",
       "\n",
       "    .dataframe tbody tr th {\n",
       "        vertical-align: top;\n",
       "    }\n",
       "\n",
       "    .dataframe thead th {\n",
       "        text-align: right;\n",
       "    }\n",
       "</style>\n",
       "<table border=\"1\" class=\"dataframe\">\n",
       "  <thead>\n",
       "    <tr style=\"text-align: right;\">\n",
       "      <th></th>\n",
       "      <th>runnum</th>\n",
       "      <th>IONGAUGEPRESSURE</th>\n",
       "      <th>ETCHBEAMVOLTAGE</th>\n",
       "      <th>FLOWCOOLFLOWRATE</th>\n",
       "      <th>FLOWCOOLPRESSURE</th>\n",
       "      <th>ETCHGASCHANNEL1READBACK</th>\n",
       "      <th>ETCHPBNGASREADBACK</th>\n",
       "      <th>FIXTURETILTANGLE</th>\n",
       "      <th>ACTUALROTATIONANGLE</th>\n",
       "      <th>FIXTURESHUTTERPOSITION</th>\n",
       "      <th>ETCHSOURCEUSAGE</th>\n",
       "      <th>ACTUALSTEPDURATION</th>\n",
       "    </tr>\n",
       "  </thead>\n",
       "  <tbody>\n",
       "    <tr>\n",
       "      <th>3304346</th>\n",
       "      <td>12094607</td>\n",
       "      <td>-0.027025</td>\n",
       "      <td>1.545122</td>\n",
       "      <td>0.569103</td>\n",
       "      <td>0.115018</td>\n",
       "      <td>-1.184954</td>\n",
       "      <td>0.363231</td>\n",
       "      <td>-0.980728</td>\n",
       "      <td>-0.122455</td>\n",
       "      <td>1.0</td>\n",
       "      <td>0.701167</td>\n",
       "      <td>-0.657107</td>\n",
       "    </tr>\n",
       "    <tr>\n",
       "      <th>3304347</th>\n",
       "      <td>12094607</td>\n",
       "      <td>-0.027025</td>\n",
       "      <td>1.546048</td>\n",
       "      <td>0.569103</td>\n",
       "      <td>0.115018</td>\n",
       "      <td>-1.192961</td>\n",
       "      <td>0.363231</td>\n",
       "      <td>-0.980728</td>\n",
       "      <td>-0.122455</td>\n",
       "      <td>1.0</td>\n",
       "      <td>0.701170</td>\n",
       "      <td>-0.657107</td>\n",
       "    </tr>\n",
       "    <tr>\n",
       "      <th>3304348</th>\n",
       "      <td>12094607</td>\n",
       "      <td>-0.027025</td>\n",
       "      <td>1.545288</td>\n",
       "      <td>0.563367</td>\n",
       "      <td>0.115018</td>\n",
       "      <td>-1.191460</td>\n",
       "      <td>0.365508</td>\n",
       "      <td>-0.980728</td>\n",
       "      <td>-0.122455</td>\n",
       "      <td>1.0</td>\n",
       "      <td>0.701173</td>\n",
       "      <td>-0.657107</td>\n",
       "    </tr>\n",
       "    <tr>\n",
       "      <th>3304349</th>\n",
       "      <td>12094607</td>\n",
       "      <td>-0.024296</td>\n",
       "      <td>1.545122</td>\n",
       "      <td>0.563367</td>\n",
       "      <td>0.117588</td>\n",
       "      <td>-1.184954</td>\n",
       "      <td>0.365508</td>\n",
       "      <td>-0.980728</td>\n",
       "      <td>-0.122455</td>\n",
       "      <td>1.0</td>\n",
       "      <td>0.701177</td>\n",
       "      <td>-0.657107</td>\n",
       "    </tr>\n",
       "    <tr>\n",
       "      <th>3304350</th>\n",
       "      <td>12094607</td>\n",
       "      <td>-0.024296</td>\n",
       "      <td>1.545407</td>\n",
       "      <td>0.563367</td>\n",
       "      <td>0.117588</td>\n",
       "      <td>-1.192961</td>\n",
       "      <td>0.362004</td>\n",
       "      <td>-0.980728</td>\n",
       "      <td>-0.122455</td>\n",
       "      <td>1.0</td>\n",
       "      <td>0.701180</td>\n",
       "      <td>-0.657107</td>\n",
       "    </tr>\n",
       "  </tbody>\n",
       "</table>\n",
       "</div>"
      ],
      "text/plain": [
       "           runnum  IONGAUGEPRESSURE  ETCHBEAMVOLTAGE  FLOWCOOLFLOWRATE  \\\n",
       "3304346  12094607         -0.027025         1.545122          0.569103   \n",
       "3304347  12094607         -0.027025         1.546048          0.569103   \n",
       "3304348  12094607         -0.027025         1.545288          0.563367   \n",
       "3304349  12094607         -0.024296         1.545122          0.563367   \n",
       "3304350  12094607         -0.024296         1.545407          0.563367   \n",
       "\n",
       "         FLOWCOOLPRESSURE  ETCHGASCHANNEL1READBACK  ETCHPBNGASREADBACK  \\\n",
       "3304346          0.115018                -1.184954            0.363231   \n",
       "3304347          0.115018                -1.192961            0.363231   \n",
       "3304348          0.115018                -1.191460            0.365508   \n",
       "3304349          0.117588                -1.184954            0.365508   \n",
       "3304350          0.117588                -1.192961            0.362004   \n",
       "\n",
       "         FIXTURETILTANGLE  ACTUALROTATIONANGLE  FIXTURESHUTTERPOSITION  \\\n",
       "3304346         -0.980728            -0.122455                     1.0   \n",
       "3304347         -0.980728            -0.122455                     1.0   \n",
       "3304348         -0.980728            -0.122455                     1.0   \n",
       "3304349         -0.980728            -0.122455                     1.0   \n",
       "3304350         -0.980728            -0.122455                     1.0   \n",
       "\n",
       "         ETCHSOURCEUSAGE  ACTUALSTEPDURATION  \n",
       "3304346         0.701167           -0.657107  \n",
       "3304347         0.701170           -0.657107  \n",
       "3304348         0.701173           -0.657107  \n",
       "3304349         0.701177           -0.657107  \n",
       "3304350         0.701180           -0.657107  "
      ]
     },
     "execution_count": 18,
     "metadata": {},
     "output_type": "execute_result"
    }
   ],
   "source": [
    "cl_X1a.head()"
   ]
  },
  {
   "cell_type": "code",
   "execution_count": 19,
   "metadata": {
    "scrolled": true
   },
   "outputs": [
    {
     "data": {
      "text/plain": [
       "0    9582\n",
       "1     601\n",
       "Name: fault1_a, dtype: int64"
      ]
     },
     "execution_count": 19,
     "metadata": {},
     "output_type": "execute_result"
    }
   ],
   "source": [
    "cl_Y1a.value_counts()"
   ]
  },
  {
   "cell_type": "code",
   "execution_count": 20,
   "metadata": {},
   "outputs": [
    {
     "data": {
      "image/png": "[encoded data removed]",
      "text/plain": [
       "<Figure size 432x288 with 1 Axes>"
      ]
     },
     "metadata": {
      "needs_background": "light"
     },
     "output_type": "display_data"
    }
   ],
   "source": [
    "cl_Y1a.value_counts().plot(kind='bar')\n",
    "plt.title(\"Data Imbalance Scenario 1\")\n",
    "plt.xticks()\n",
    "plt.show()"
   ]
  },
  {
   "cell_type": "code",
   "execution_count": 21,
   "metadata": {},
   "outputs": [],
   "source": [
    "X_train1a, X_test1a, Y_train1a, Y_test1a = train_test_split(cl_X1a, cl_Y1a, test_size = 0.2, random_state=42)"
   ]
  },
  {
   "cell_type": "code",
   "execution_count": 22,
   "metadata": {},
   "outputs": [
    {
     "data": {
      "text/html": [
       "<div>\n",
       "<style scoped>\n",
       "    .dataframe tbody tr th:only-of-type {\n",
       "        vertical-align: middle;\n",
       "    }\n",
       "\n",
       "    .dataframe tbody tr th {\n",
       "        vertical-align: top;\n",
       "    }\n",
       "\n",
       "    .dataframe thead th {\n",
       "        text-align: right;\n",
       "    }\n",
       "</style>\n",
       "<table border=\"1\" class=\"dataframe\">\n",
       "  <thead>\n",
       "    <tr style=\"text-align: right;\">\n",
       "      <th></th>\n",
       "      <th>runnum</th>\n",
       "      <th>IONGAUGEPRESSURE</th>\n",
       "      <th>ETCHBEAMVOLTAGE</th>\n",
       "      <th>FLOWCOOLFLOWRATE</th>\n",
       "      <th>FLOWCOOLPRESSURE</th>\n",
       "      <th>ETCHGASCHANNEL1READBACK</th>\n",
       "      <th>ETCHPBNGASREADBACK</th>\n",
       "      <th>FIXTURETILTANGLE</th>\n",
       "      <th>ACTUALROTATIONANGLE</th>\n",
       "      <th>FIXTURESHUTTERPOSITION</th>\n",
       "      <th>ETCHSOURCEUSAGE</th>\n",
       "      <th>ACTUALSTEPDURATION</th>\n",
       "    </tr>\n",
       "  </thead>\n",
       "  <tbody>\n",
       "    <tr>\n",
       "      <th>3313631</th>\n",
       "      <td>12100490</td>\n",
       "      <td>0.017439</td>\n",
       "      <td>0.710387</td>\n",
       "      <td>-0.248717</td>\n",
       "      <td>-0.200626</td>\n",
       "      <td>1.408630</td>\n",
       "      <td>0.364281</td>\n",
       "      <td>-1.315014</td>\n",
       "      <td>-0.122455</td>\n",
       "      <td>1.0</td>\n",
       "      <td>0.729285</td>\n",
       "      <td>0.021044</td>\n",
       "    </tr>\n",
       "    <tr>\n",
       "      <th>3318008</th>\n",
       "      <td>12100490</td>\n",
       "      <td>-0.079552</td>\n",
       "      <td>-0.958985</td>\n",
       "      <td>-2.842907</td>\n",
       "      <td>-2.332807</td>\n",
       "      <td>-1.748909</td>\n",
       "      <td>-2.791223</td>\n",
       "      <td>2.027848</td>\n",
       "      <td>-0.122446</td>\n",
       "      <td>0.0</td>\n",
       "      <td>0.736737</td>\n",
       "      <td>6.280900</td>\n",
       "    </tr>\n",
       "    <tr>\n",
       "      <th>3318780</th>\n",
       "      <td>12100490</td>\n",
       "      <td>-0.079559</td>\n",
       "      <td>-0.958928</td>\n",
       "      <td>-2.840944</td>\n",
       "      <td>-2.332807</td>\n",
       "      <td>-1.756665</td>\n",
       "      <td>-2.793501</td>\n",
       "      <td>2.027848</td>\n",
       "      <td>-0.122446</td>\n",
       "      <td>0.0</td>\n",
       "      <td>0.736737</td>\n",
       "      <td>6.280900</td>\n",
       "    </tr>\n",
       "    <tr>\n",
       "      <th>3317591</th>\n",
       "      <td>12100490</td>\n",
       "      <td>-0.079544</td>\n",
       "      <td>-0.958985</td>\n",
       "      <td>-2.841850</td>\n",
       "      <td>-2.332807</td>\n",
       "      <td>-1.748909</td>\n",
       "      <td>-2.788945</td>\n",
       "      <td>0.022131</td>\n",
       "      <td>0.182382</td>\n",
       "      <td>0.0</td>\n",
       "      <td>0.736737</td>\n",
       "      <td>6.280900</td>\n",
       "    </tr>\n",
       "    <tr>\n",
       "      <th>3315180</th>\n",
       "      <td>12100490</td>\n",
       "      <td>-0.079551</td>\n",
       "      <td>-0.958871</td>\n",
       "      <td>-2.841850</td>\n",
       "      <td>-2.332807</td>\n",
       "      <td>-1.750410</td>\n",
       "      <td>-2.792450</td>\n",
       "      <td>0.022131</td>\n",
       "      <td>6.393209</td>\n",
       "      <td>0.0</td>\n",
       "      <td>0.731627</td>\n",
       "      <td>0.803526</td>\n",
       "    </tr>\n",
       "  </tbody>\n",
       "</table>\n",
       "</div>"
      ],
      "text/plain": [
       "           runnum  IONGAUGEPRESSURE  ETCHBEAMVOLTAGE  FLOWCOOLFLOWRATE  \\\n",
       "3313631  12100490          0.017439         0.710387         -0.248717   \n",
       "3318008  12100490         -0.079552        -0.958985         -2.842907   \n",
       "3318780  12100490         -0.079559        -0.958928         -2.840944   \n",
       "3317591  12100490         -0.079544        -0.958985         -2.841850   \n",
       "3315180  12100490         -0.079551        -0.958871         -2.841850   \n",
       "\n",
       "         FLOWCOOLPRESSURE  ETCHGASCHANNEL1READBACK  ETCHPBNGASREADBACK  \\\n",
       "3313631         -0.200626                 1.408630            0.364281   \n",
       "3318008         -2.332807                -1.748909           -2.791223   \n",
       "3318780         -2.332807                -1.756665           -2.793501   \n",
       "3317591         -2.332807                -1.748909           -2.788945   \n",
       "3315180         -2.332807                -1.750410           -2.792450   \n",
       "\n",
       "         FIXTURETILTANGLE  ACTUALROTATIONANGLE  FIXTURESHUTTERPOSITION  \\\n",
       "3313631         -1.315014            -0.122455                     1.0   \n",
       "3318008          2.027848            -0.122446                     0.0   \n",
       "3318780          2.027848            -0.122446                     0.0   \n",
       "3317591          0.022131             0.182382                     0.0   \n",
       "3315180          0.022131             6.393209                     0.0   \n",
       "\n",
       "         ETCHSOURCEUSAGE  ACTUALSTEPDURATION  \n",
       "3313631         0.729285            0.021044  \n",
       "3318008         0.736737            6.280900  \n",
       "3318780         0.736737            6.280900  \n",
       "3317591         0.736737            6.280900  \n",
       "3315180         0.731627            0.803526  "
      ]
     },
     "execution_count": 22,
     "metadata": {},
     "output_type": "execute_result"
    }
   ],
   "source": [
    "X_train1a.head()"
   ]
  },
  {
   "cell_type": "code",
   "execution_count": 23,
   "metadata": {},
   "outputs": [],
   "source": [
    "cl_scalar = MinMaxScaler()\n",
    "cl_scalar.fit(X_train1a)\n",
    "\n",
    "scl_trainX1a = cl_scalar.transform(X_train1a)\n",
    "scl_testX1a = cl_scalar.transform(X_test1a)"
   ]
  },
  {
   "cell_type": "markdown",
   "metadata": {},
   "source": [
    "#### Random Forest Classifier A"
   ]
  },
  {
   "cell_type": "code",
   "execution_count": 24,
   "metadata": {},
   "outputs": [
    {
     "data": {
      "text/plain": [
       "RandomForestClassifier(random_state=42)"
      ]
     },
     "execution_count": 24,
     "metadata": {},
     "output_type": "execute_result"
    }
   ],
   "source": [
    "rfc_a = RandomForestClassifier(random_state=42)\n",
    "\n",
    "rfc_a.fit(scl_trainX1a, Y_train1a)"
   ]
  },
  {
   "cell_type": "code",
   "execution_count": 25,
   "metadata": {},
   "outputs": [
    {
     "name": "stdout",
     "output_type": "stream",
     "text": [
      "AccuracyScoreRandom Forest Scenario 1:0.984\n",
      "\n",
      "Classification Report Random Forest Scenario 1\n",
      "\n",
      "               precision    recall  f1-score   support\n",
      "\n",
      "           0       0.99      1.00      0.99      1910\n",
      "           1       0.94      0.80      0.86       127\n",
      "\n",
      "    accuracy                           0.98      2037\n",
      "   macro avg       0.97      0.90      0.93      2037\n",
      "weighted avg       0.98      0.98      0.98      2037\n",
      "\n"
     ]
    }
   ],
   "source": [
    "rfc_pred_a = rfc_a.predict(scl_testX1a)\n",
    "\n",
    "rfc_accuracy_a = accuracy_score(Y_test1a, rfc_pred_a)\n",
    "\n",
    "print('AccuracyScoreRandom Forest Scenario 1:{:.3f}\\n'.format(rfc_accuracy_a))\n",
    "print('Classification Report Random Forest Scenario 1\\n\\n',classification_report(Y_test1a, rfc_pred_a))"
   ]
  },
  {
   "cell_type": "code",
   "execution_count": 26,
   "metadata": {},
   "outputs": [],
   "source": [
    "rfc_cm = confusion_matrix(Y_test1a, rfc_pred_a)"
   ]
  },
  {
   "cell_type": "code",
   "execution_count": 27,
   "metadata": {},
   "outputs": [
    {
     "data": {
      "image/png": "[encoded data removed]",
      "text/plain": [
       "<Figure size 432x288 with 2 Axes>"
      ]
     },
     "metadata": {
      "needs_background": "light"
     },
     "output_type": "display_data"
    }
   ],
   "source": [
    "sns.heatmap(rfc_cm, annot=True, fmt='.2f')\n",
    "plt.title('Random Forest Regressor for Scenario 1')\n",
    "plt.xlabel('Predicted')\n",
    "plt.ylabel('Actual')\n",
    "plt.show()"
   ]
  },
  {
   "cell_type": "markdown",
   "metadata": {},
   "source": [
    "#### Gradient Boost Classifier  A"
   ]
  },
  {
   "cell_type": "code",
   "execution_count": 28,
   "metadata": {
    "scrolled": true
   },
   "outputs": [
    {
     "data": {
      "text/plain": [
       "GradientBoostingClassifier(random_state=42)"
      ]
     },
     "execution_count": 28,
     "metadata": {},
     "output_type": "execute_result"
    }
   ],
   "source": [
    "gbc_a = GradientBoostingClassifier(random_state=42)\n",
    "\n",
    "gbc_a.fit(scl_trainX1a, Y_train1a)"
   ]
  },
  {
   "cell_type": "code",
   "execution_count": 29,
   "metadata": {},
   "outputs": [
    {
     "name": "stdout",
     "output_type": "stream",
     "text": [
      "Accuracy Score Gradient Boost Classifier Scenario 1:0.984\n",
      "\n",
      "Classification Report Gradient Boost Classifier Scenario 1\n",
      "\n",
      "               precision    recall  f1-score   support\n",
      "\n",
      "           0       0.98      1.00      0.99      1910\n",
      "           1       0.99      0.71      0.83       127\n",
      "\n",
      "    accuracy                           0.98      2037\n",
      "   macro avg       0.98      0.85      0.91      2037\n",
      "weighted avg       0.98      0.98      0.98      2037\n",
      "\n"
     ]
    }
   ],
   "source": [
    "gbc_pred_a = gbc_a.predict(scl_testX1a)\n",
    "\n",
    "gbc_accuracy_a = accuracy_score(Y_test1a, rfc_pred_a)\n",
    "\n",
    "print('Accuracy Score Gradient Boost Classifier Scenario 1:{:.3f}\\n'.format(gbc_accuracy_a))\n",
    "print('Classification Report Gradient Boost Classifier Scenario 1\\n\\n', classification_report(Y_test1a, gbc_pred_a))"
   ]
  },
  {
   "cell_type": "code",
   "execution_count": 30,
   "metadata": {},
   "outputs": [],
   "source": [
    "gbc_cm = confusion_matrix(Y_test1a, gbc_pred_a)"
   ]
  },
  {
   "cell_type": "code",
   "execution_count": 31,
   "metadata": {},
   "outputs": [
    {
     "data": {
      "image/png": "[encoded data removed]",
      "text/plain": [
       "<Figure size 432x288 with 2 Axes>"
      ]
     },
     "metadata": {
      "needs_background": "light"
     },
     "output_type": "display_data"
    }
   ],
   "source": [
    "sns.heatmap(gbc_cm, annot=True, fmt='.2f')\n",
    "plt.title('Gradient Boosting Classifier for Scenario 1')\n",
    "plt.xlabel('Predicted')\n",
    "plt.ylabel('Actual')\n",
    "plt.show()"
   ]
  },
  {
   "cell_type": "markdown",
   "metadata": {},
   "source": [
    "#### Logistic Regression A"
   ]
  },
  {
   "cell_type": "code",
   "execution_count": 32,
   "metadata": {},
   "outputs": [
    {
     "data": {
      "text/plain": [
       "LogisticRegression(random_state=7)"
      ]
     },
     "execution_count": 32,
     "metadata": {},
     "output_type": "execute_result"
    }
   ],
   "source": [
    "logreg_a = LogisticRegression(random_state=7)\n",
    "\n",
    "logreg_a.fit(scl_trainX1a, Y_train1a)"
   ]
  },
  {
   "cell_type": "code",
   "execution_count": 33,
   "metadata": {},
   "outputs": [
    {
     "name": "stdout",
     "output_type": "stream",
     "text": [
      "Accuracy Score Logistic Regression Scenario 1:0.939\n",
      "\n",
      "Classification Report Logistic Regression Scenario 1\n",
      "\n",
      "               precision    recall  f1-score   support\n",
      "\n",
      "           0       0.94      1.00      0.97      1910\n",
      "           1       1.00      0.02      0.03       127\n",
      "\n",
      "    accuracy                           0.94      2037\n",
      "   macro avg       0.97      0.51      0.50      2037\n",
      "weighted avg       0.94      0.94      0.91      2037\n",
      "\n"
     ]
    }
   ],
   "source": [
    "logreg_pred_a = logreg_a.predict(scl_testX1a)\n",
    "\n",
    "logreg_accuracy_a = accuracy_score(Y_test1a, logreg_pred_a)\n",
    "\n",
    "print('Accuracy Score Logistic Regression Scenario 1:{:.3f}\\n'.format(logreg_accuracy_a))\n",
    "print('Classification Report Logistic Regression Scenario 1\\n\\n', classification_report(Y_test1a, logreg_pred_a))"
   ]
  },
  {
   "cell_type": "markdown",
   "metadata": {},
   "source": [
    "#### Cross Validation A"
   ]
  },
  {
   "cell_type": "code",
   "execution_count": 34,
   "metadata": {},
   "outputs": [
    {
     "name": "stdout",
     "output_type": "stream",
     "text": [
      "Scores:\n",
      " [0.83428571 0.88648649 0.86705202 0.87640449 0.82872928]\n",
      "Scores:0.859\n",
      "Scores:0.023\n"
     ]
    }
   ],
   "source": [
    "rfc_valscore_a = cross_validate(rfc_a,scl_trainX1a, Y_train1a, cv=5, scoring='f1')\n",
    "\n",
    "print(\"Scores:\\n\",rfc_valscore_a['test_score'])\n",
    "print(\"Scores:{:.3f}\".format(rfc_valscore_a['test_score'].mean()))\n",
    "print(\"Scores:{:.3f}\".format(rfc_valscore_a['test_score'].std()))"
   ]
  },
  {
   "cell_type": "code",
   "execution_count": 35,
   "metadata": {},
   "outputs": [
    {
     "name": "stdout",
     "output_type": "stream",
     "text": [
      "Score:\n",
      " [0.83428571 0.88648649 0.86705202 0.87640449 0.82872928]\n",
      "Scores:0.865\n",
      "Scores:0.014\n"
     ]
    }
   ],
   "source": [
    "gbc_valscore_a = cross_validate(gbc_a,scl_trainX1a, Y_train1a, cv=5, scoring='f1')\n",
    "\n",
    "print(\"Score:\\n\",rfc_valscore_a['test_score'])\n",
    "print(\"Scores:{:.3f}\".format(gbc_valscore_a['test_score'].mean()))\n",
    "print(\"Scores:{:.3f}\".format(gbc_valscore_a['test_score'].std()))"
   ]
  },
  {
   "cell_type": "code",
   "execution_count": 36,
   "metadata": {},
   "outputs": [
    {
     "name": "stdout",
     "output_type": "stream",
     "text": [
      "Score:\n",
      " [0.83428571 0.88648649 0.86705202 0.87640449 0.82872928]\n",
      "Scores:0.032\n",
      "Scores:0.034\n"
     ]
    }
   ],
   "source": [
    "logreg_valscore_a = cross_validate(logreg_a,scl_trainX1a, Y_train1a, cv=5, scoring='f1')\n",
    "\n",
    "print(\"Score:\\n\",rfc_valscore_a['test_score'])\n",
    "print(\"Scores:{:.3f}\".format(logreg_valscore_a['test_score'].mean()))\n",
    "print(\"Scores:{:.3f}\".format(logreg_valscore_a['test_score'].std()))"
   ]
  },
  {
   "cell_type": "markdown",
   "metadata": {},
   "source": [
    "#### Fine Tune Parameters\n",
    "\n",
    "#### Fine Tuning the Random Forest Classifier\n",
    "\n",
    "Different hyperparameters are tried out using GridSearchCV to improve performance."
   ]
  },
  {
   "cell_type": "code",
   "execution_count": 37,
   "metadata": {},
   "outputs": [],
   "source": [
    "from sklearn.model_selection import GridSearchCV"
   ]
  },
  {
   "cell_type": "code",
   "execution_count": 38,
   "metadata": {},
   "outputs": [],
   "source": [
    "rfc_grid = [{'n_estimators':[50,200], 'max_depth':[5,10], 'criterion':['entropy','gini']}]\n",
    "\n",
    "rfc_cv = RandomForestClassifier()"
   ]
  },
  {
   "cell_type": "code",
   "execution_count": 39,
   "metadata": {},
   "outputs": [
    {
     "data": {
      "text/plain": [
       "GridSearchCV(cv=5, estimator=RandomForestClassifier(),\n",
       "             param_grid=[{'criterion': ['entropy', 'gini'],\n",
       "                          'max_depth': [5, 10], 'n_estimators': [50, 200]}],\n",
       "             return_train_score=True)"
      ]
     },
     "execution_count": 39,
     "metadata": {},
     "output_type": "execute_result"
    }
   ],
   "source": [
    "rfc_gridsearch= GridSearchCV(estimator =rfc_cv, param_grid=rfc_grid, cv=5, return_train_score=True )\n",
    "\n",
    "rfc_gridsearch.fit(scl_trainX1a, Y_train1a)"
   ]
  },
  {
   "cell_type": "code",
   "execution_count": 40,
   "metadata": {
    "scrolled": true
   },
   "outputs": [
    {
     "data": {
      "text/plain": [
       "0.9860055662889273"
      ]
     },
     "execution_count": 40,
     "metadata": {},
     "output_type": "execute_result"
    }
   ],
   "source": [
    "rfc_gridsearch.best_score_"
   ]
  },
  {
   "cell_type": "code",
   "execution_count": 41,
   "metadata": {},
   "outputs": [],
   "source": [
    "rfc_best = rfc_gridsearch.best_estimator_"
   ]
  },
  {
   "cell_type": "code",
   "execution_count": 42,
   "metadata": {},
   "outputs": [
    {
     "name": "stdout",
     "output_type": "stream",
     "text": [
      "Accuracy Score Random Forest Best Estimator Scenario 1:0.982\n",
      "\n",
      "Classification Report Random Forest Best Estimator Scenario 1\n",
      "\n",
      "               precision    recall  f1-score   support\n",
      "\n",
      "           0       0.98      1.00      0.99      1910\n",
      "           1       1.00      0.71      0.83       127\n",
      "\n",
      "    accuracy                           0.98      2037\n",
      "   macro avg       0.99      0.85      0.91      2037\n",
      "weighted avg       0.98      0.98      0.98      2037\n",
      "\n"
     ]
    }
   ],
   "source": [
    "rfc_best_a = rfc_best.predict(scl_testX1a)\n",
    "\n",
    "rfc_best_accuracy_a = accuracy_score(Y_test1a, rfc_best_a)\n",
    "\n",
    "print('Accuracy Score Random Forest Best Estimator Scenario 1:{:.3f}\\n'.format(rfc_best_accuracy_a))\n",
    "print('Classification Report Random Forest Best Estimator Scenario 1\\n\\n', classification_report(Y_test1a, rfc_best_a))"
   ]
  },
  {
   "cell_type": "markdown",
   "metadata": {},
   "source": [
    "#### Fine Tuning the Gradient Boosting Classifier"
   ]
  },
  {
   "cell_type": "code",
   "execution_count": 43,
   "metadata": {},
   "outputs": [],
   "source": [
    "gbc_grid = [{'n_estimators':[50,150], 'max_depth':[2,5]}]\n",
    "\n",
    "gbc_cv = GradientBoostingClassifier()"
   ]
  },
  {
   "cell_type": "code",
   "execution_count": 44,
   "metadata": {},
   "outputs": [
    {
     "data": {
      "text/plain": [
       "GridSearchCV(cv=5, estimator=GradientBoostingClassifier(),\n",
       "             param_grid=[{'max_depth': [2, 5], 'n_estimators': [50, 150]}],\n",
       "             return_train_score=True)"
      ]
     },
     "execution_count": 44,
     "metadata": {},
     "output_type": "execute_result"
    }
   ],
   "source": [
    "gbc_gridsearch= GridSearchCV(estimator = gbc_cv, param_grid=gbc_grid, cv=5, return_train_score=True )\n",
    "\n",
    "gbc_gridsearch.fit(scl_trainX1a, Y_train1a)"
   ]
  },
  {
   "cell_type": "code",
   "execution_count": 45,
   "metadata": {},
   "outputs": [
    {
     "data": {
      "text/plain": [
       "0.9853916174249701"
      ]
     },
     "execution_count": 45,
     "metadata": {},
     "output_type": "execute_result"
    }
   ],
   "source": [
    "gbc_gridsearch.best_score_"
   ]
  },
  {
   "cell_type": "code",
   "execution_count": 46,
   "metadata": {},
   "outputs": [],
   "source": [
    "gbc_best = gbc_gridsearch.best_estimator_"
   ]
  },
  {
   "cell_type": "code",
   "execution_count": 47,
   "metadata": {},
   "outputs": [
    {
     "name": "stdout",
     "output_type": "stream",
     "text": [
      "Accuracy Score Gradient Boosting Best Estimator Scenario 1:0.980\n",
      "\n",
      "Classification Report Logistic Regression Scenario 1\n",
      "\n",
      "               precision    recall  f1-score   support\n",
      "\n",
      "           0       0.98      1.00      0.99      1910\n",
      "           1       0.98      0.69      0.81       127\n",
      "\n",
      "    accuracy                           0.98      2037\n",
      "   macro avg       0.98      0.85      0.90      2037\n",
      "weighted avg       0.98      0.98      0.98      2037\n",
      "\n"
     ]
    }
   ],
   "source": [
    "gbc_best_a = gbc_best.predict(scl_testX1a)\n",
    "\n",
    "gbc_best_accuracy_a = accuracy_score(Y_test1a, gbc_best_a)\n",
    "\n",
    "print('Accuracy Score Gradient Boosting Best Estimator Scenario 1:{:.3f}\\n'.format(gbc_best_accuracy_a))\n",
    "print('Classification Report Logistic Regression Scenario 1\\n\\n', classification_report(Y_test1a, gbc_best_a))"
   ]
  },
  {
   "cell_type": "markdown",
   "metadata": {},
   "source": [
    "#### Fine Tuning Logistic Regression"
   ]
  },
  {
   "cell_type": "code",
   "execution_count": 48,
   "metadata": {},
   "outputs": [],
   "source": [
    "grid = [{'C':[0.01,0.1,1], 'penalty':['l1'],'solver':['liblinear']},\n",
    "        {'C':[0.01,0.1,1], 'penalty':['l2'],'solver':['lbfgs']}]\n",
    "         \n",
    "logreg_cv = LogisticRegression(random_state=7, max_iter=200)"
   ]
  },
  {
   "cell_type": "code",
   "execution_count": 49,
   "metadata": {},
   "outputs": [
    {
     "data": {
      "text/plain": [
       "GridSearchCV(cv=5, estimator=LogisticRegression(max_iter=200, random_state=7),\n",
       "             param_grid=[{'C': [0.01, 0.1, 1], 'penalty': ['l1'],\n",
       "                          'solver': ['liblinear']},\n",
       "                         {'C': [0.01, 0.1, 1], 'penalty': ['l2'],\n",
       "                          'solver': ['lbfgs']}],\n",
       "             return_train_score=True)"
      ]
     },
     "execution_count": 49,
     "metadata": {},
     "output_type": "execute_result"
    }
   ],
   "source": [
    "logreg_gridsearch = GridSearchCV(estimator =logreg_cv, param_grid=grid, cv=5, return_train_score=True )\n",
    "\n",
    "logreg_gridsearch.fit(scl_trainX1a, Y_train1a)"
   ]
  },
  {
   "cell_type": "code",
   "execution_count": 50,
   "metadata": {},
   "outputs": [
    {
     "data": {
      "text/plain": [
       "0.9450039355696408"
      ]
     },
     "execution_count": 50,
     "metadata": {},
     "output_type": "execute_result"
    }
   ],
   "source": [
    "logreg_gridsearch.best_score_"
   ]
  },
  {
   "cell_type": "code",
   "execution_count": 51,
   "metadata": {},
   "outputs": [
    {
     "data": {
      "text/plain": [
       "LogisticRegression(C=1, max_iter=200, penalty='l1', random_state=7,\n",
       "                   solver='liblinear')"
      ]
     },
     "execution_count": 51,
     "metadata": {},
     "output_type": "execute_result"
    }
   ],
   "source": [
    "logreg_gridsearch.best_estimator_"
   ]
  },
  {
   "cell_type": "code",
   "execution_count": 52,
   "metadata": {},
   "outputs": [],
   "source": [
    "logreg_bestest =logreg_gridsearch.best_estimator_"
   ]
  },
  {
   "cell_type": "code",
   "execution_count": 53,
   "metadata": {},
   "outputs": [
    {
     "name": "stdout",
     "output_type": "stream",
     "text": [
      "Accuracy Score Logistic Regression Scenario 1:0.944\n",
      "\n",
      "Classification Report Logistic Regression Scenario 1\n",
      "\n",
      "               precision    recall  f1-score   support\n",
      "\n",
      "           0       0.94      1.00      0.97      1910\n",
      "           1       0.93      0.10      0.18       127\n",
      "\n",
      "    accuracy                           0.94      2037\n",
      "   macro avg       0.94      0.55      0.58      2037\n",
      "weighted avg       0.94      0.94      0.92      2037\n",
      "\n"
     ]
    }
   ],
   "source": [
    "logreg_best_a = logreg_bestest.predict(scl_testX1a)\n",
    "\n",
    "logreg_best_accuracy_a = accuracy_score(Y_test1a, logreg_best_a)\n",
    "\n",
    "print('Accuracy Score Logistic Regression Scenario 1:{:.3f}\\n'.format(logreg_best_accuracy_a))\n",
    "print('Classification Report Logistic Regression Scenario 1\\n\\n', classification_report(Y_test1a, logreg_best_a))"
   ]
  },
  {
   "cell_type": "code",
   "execution_count": 54,
   "metadata": {},
   "outputs": [],
   "source": [
    "logreg_cm = confusion_matrix(Y_test1a, logreg_best_a)"
   ]
  },
  {
   "cell_type": "code",
   "execution_count": 55,
   "metadata": {},
   "outputs": [
    {
     "data": {
      "image/png": "[encoded data removed]",
      "text/plain": [
       "<Figure size 432x288 with 2 Axes>"
      ]
     },
     "metadata": {
      "needs_background": "light"
     },
     "output_type": "display_data"
    }
   ],
   "source": [
    "sns.heatmap(logreg_cm, annot=True, fmt='.2f')\n",
    "plt.title('Logistic Regression for Scenario 1')\n",
    "plt.xlabel('Predicted')\n",
    "plt.ylabel('Actual')\n",
    "plt.show()"
   ]
  },
  {
   "cell_type": "markdown",
   "metadata": {},
   "source": [
    "### Scenario 2: Limit is 19800 and failure is 2400 - 5 1/2 hours, 40 minutes"
   ]
  },
  {
   "cell_type": "code",
   "execution_count": 56,
   "metadata": {},
   "outputs": [],
   "source": [
    "cl_f1b_data = alldata.drop(['time','Lot','Tool','stage','recipe','recipe_step','ROTATIONSPEED','ETCHBEAMCURRENT','ETCHSUPPRESSORVOLTAGE',\n",
    "                        'ETCHSUPPRESSORCURRENT','ETCHAUXSOURCETIMER','ETCHAUX2SOURCETIMER','Flowcool_Pressure_Too_High', 'TTF_Flowcool_leak',\n",
    "                       'fault1_a', 'fault1_c','fault1_d'], axis=1)"
   ]
  },
  {
   "cell_type": "code",
   "execution_count": 57,
   "metadata": {},
   "outputs": [],
   "source": [
    "clf1data_b = cl_f1b_data.dropna()"
   ]
  },
  {
   "cell_type": "code",
   "execution_count": 58,
   "metadata": {},
   "outputs": [],
   "source": [
    "cutoff_1b = 19800\n",
    "\n",
    "b1_limit = clf1data_b.loc[3010000:4513684]\n",
    "\n",
    "cl_cutoff1b = b1_limit.loc[b1_limit['Flowcool_Pressure_dropped_below_limit']<cutoff_1b].copy()"
   ]
  },
  {
   "cell_type": "code",
   "execution_count": 59,
   "metadata": {},
   "outputs": [],
   "source": [
    "cl_X1b = cl_cutoff1b.drop(['Flowcool_Pressure_dropped_below_limit', 'fault1_b'], axis=1)\n",
    "cl_Y1b = cl_cutoff1b['fault1_b']"
   ]
  },
  {
   "cell_type": "code",
   "execution_count": 60,
   "metadata": {},
   "outputs": [
    {
     "data": {
      "text/html": [
       "<div>\n",
       "<style scoped>\n",
       "    .dataframe tbody tr th:only-of-type {\n",
       "        vertical-align: middle;\n",
       "    }\n",
       "\n",
       "    .dataframe tbody tr th {\n",
       "        vertical-align: top;\n",
       "    }\n",
       "\n",
       "    .dataframe thead th {\n",
       "        text-align: right;\n",
       "    }\n",
       "</style>\n",
       "<table border=\"1\" class=\"dataframe\">\n",
       "  <thead>\n",
       "    <tr style=\"text-align: right;\">\n",
       "      <th></th>\n",
       "      <th>runnum</th>\n",
       "      <th>IONGAUGEPRESSURE</th>\n",
       "      <th>ETCHBEAMVOLTAGE</th>\n",
       "      <th>FLOWCOOLFLOWRATE</th>\n",
       "      <th>FLOWCOOLPRESSURE</th>\n",
       "      <th>ETCHGASCHANNEL1READBACK</th>\n",
       "      <th>ETCHPBNGASREADBACK</th>\n",
       "      <th>FIXTURETILTANGLE</th>\n",
       "      <th>ACTUALROTATIONANGLE</th>\n",
       "      <th>FIXTURESHUTTERPOSITION</th>\n",
       "      <th>ETCHSOURCEUSAGE</th>\n",
       "      <th>ACTUALSTEPDURATION</th>\n",
       "    </tr>\n",
       "  </thead>\n",
       "  <tbody>\n",
       "    <tr>\n",
       "      <th>3304133</th>\n",
       "      <td>12094607</td>\n",
       "      <td>-0.079521</td>\n",
       "      <td>-0.958758</td>\n",
       "      <td>-2.842907</td>\n",
       "      <td>-2.332807</td>\n",
       "      <td>-1.756665</td>\n",
       "      <td>-2.791223</td>\n",
       "      <td>2.027848</td>\n",
       "      <td>-0.122464</td>\n",
       "      <td>0.0</td>\n",
       "      <td>0.700593</td>\n",
       "      <td>-0.370197</td>\n",
       "    </tr>\n",
       "    <tr>\n",
       "      <th>3304134</th>\n",
       "      <td>12094607</td>\n",
       "      <td>-0.079521</td>\n",
       "      <td>-0.958814</td>\n",
       "      <td>-2.842907</td>\n",
       "      <td>-2.332807</td>\n",
       "      <td>-1.756665</td>\n",
       "      <td>-2.791223</td>\n",
       "      <td>2.027848</td>\n",
       "      <td>-0.122464</td>\n",
       "      <td>0.0</td>\n",
       "      <td>0.700593</td>\n",
       "      <td>-0.370197</td>\n",
       "    </tr>\n",
       "    <tr>\n",
       "      <th>3304135</th>\n",
       "      <td>12094607</td>\n",
       "      <td>-0.079516</td>\n",
       "      <td>-0.958985</td>\n",
       "      <td>-2.842907</td>\n",
       "      <td>-2.332807</td>\n",
       "      <td>-1.756665</td>\n",
       "      <td>-2.791223</td>\n",
       "      <td>2.027848</td>\n",
       "      <td>-0.122464</td>\n",
       "      <td>0.0</td>\n",
       "      <td>0.700593</td>\n",
       "      <td>-0.370197</td>\n",
       "    </tr>\n",
       "    <tr>\n",
       "      <th>3304136</th>\n",
       "      <td>12094607</td>\n",
       "      <td>-0.079516</td>\n",
       "      <td>-0.959042</td>\n",
       "      <td>-2.842907</td>\n",
       "      <td>-2.332807</td>\n",
       "      <td>-1.753413</td>\n",
       "      <td>-2.793501</td>\n",
       "      <td>2.027848</td>\n",
       "      <td>-0.122464</td>\n",
       "      <td>0.0</td>\n",
       "      <td>0.700593</td>\n",
       "      <td>-0.370197</td>\n",
       "    </tr>\n",
       "    <tr>\n",
       "      <th>3304137</th>\n",
       "      <td>12094607</td>\n",
       "      <td>-0.079552</td>\n",
       "      <td>-0.959269</td>\n",
       "      <td>-2.842907</td>\n",
       "      <td>-2.332807</td>\n",
       "      <td>-1.753413</td>\n",
       "      <td>-2.793501</td>\n",
       "      <td>2.027848</td>\n",
       "      <td>-0.122464</td>\n",
       "      <td>0.0</td>\n",
       "      <td>0.700593</td>\n",
       "      <td>-0.370197</td>\n",
       "    </tr>\n",
       "  </tbody>\n",
       "</table>\n",
       "</div>"
      ],
      "text/plain": [
       "           runnum  IONGAUGEPRESSURE  ETCHBEAMVOLTAGE  FLOWCOOLFLOWRATE  \\\n",
       "3304133  12094607         -0.079521        -0.958758         -2.842907   \n",
       "3304134  12094607         -0.079521        -0.958814         -2.842907   \n",
       "3304135  12094607         -0.079516        -0.958985         -2.842907   \n",
       "3304136  12094607         -0.079516        -0.959042         -2.842907   \n",
       "3304137  12094607         -0.079552        -0.959269         -2.842907   \n",
       "\n",
       "         FLOWCOOLPRESSURE  ETCHGASCHANNEL1READBACK  ETCHPBNGASREADBACK  \\\n",
       "3304133         -2.332807                -1.756665           -2.791223   \n",
       "3304134         -2.332807                -1.756665           -2.791223   \n",
       "3304135         -2.332807                -1.756665           -2.791223   \n",
       "3304136         -2.332807                -1.753413           -2.793501   \n",
       "3304137         -2.332807                -1.753413           -2.793501   \n",
       "\n",
       "         FIXTURETILTANGLE  ACTUALROTATIONANGLE  FIXTURESHUTTERPOSITION  \\\n",
       "3304133          2.027848            -0.122464                     0.0   \n",
       "3304134          2.027848            -0.122464                     0.0   \n",
       "3304135          2.027848            -0.122464                     0.0   \n",
       "3304136          2.027848            -0.122464                     0.0   \n",
       "3304137          2.027848            -0.122464                     0.0   \n",
       "\n",
       "         ETCHSOURCEUSAGE  ACTUALSTEPDURATION  \n",
       "3304133         0.700593           -0.370197  \n",
       "3304134         0.700593           -0.370197  \n",
       "3304135         0.700593           -0.370197  \n",
       "3304136         0.700593           -0.370197  \n",
       "3304137         0.700593           -0.370197  "
      ]
     },
     "execution_count": 60,
     "metadata": {},
     "output_type": "execute_result"
    }
   ],
   "source": [
    "cl_X1b.head()"
   ]
  },
  {
   "cell_type": "code",
   "execution_count": 61,
   "metadata": {},
   "outputs": [
    {
     "data": {
      "text/plain": [
       "0    10487\n",
       "1     2661\n",
       "Name: fault1_b, dtype: int64"
      ]
     },
     "execution_count": 61,
     "metadata": {},
     "output_type": "execute_result"
    }
   ],
   "source": [
    "cl_Y1b.value_counts()"
   ]
  },
  {
   "cell_type": "code",
   "execution_count": 75,
   "metadata": {},
   "outputs": [
    {
     "data": {
      "image/png": "[encoded data removed]",
      "text/plain": [
       "<Figure size 432x288 with 1 Axes>"
      ]
     },
     "metadata": {
      "needs_background": "light"
     },
     "output_type": "display_data"
    }
   ],
   "source": [
    "cl_Y1b.value_counts().plot(kind='bar')\n",
    "plt.title(\"Data Imbalance Scenario 2\")\n",
    "plt.xticks()\n",
    "plt.show()"
   ]
  },
  {
   "cell_type": "code",
   "execution_count": 73,
   "metadata": {},
   "outputs": [],
   "source": [
    "X_train1b, X_test1b, Y_train1b, Y_test1b = train_test_split(cl_X1b, cl_Y1b, test_size = 0.2, random_state=42)"
   ]
  },
  {
   "cell_type": "code",
   "execution_count": 64,
   "metadata": {},
   "outputs": [],
   "source": [
    "cl_scalar_b = MinMaxScaler()\n",
    "cl_scalar_b.fit(X_train1b)\n",
    "\n",
    "scl_trainX1b = cl_scalar.transform(X_train1b)\n",
    "scl_testX1b = cl_scalar.transform(X_test1b)"
   ]
  },
  {
   "cell_type": "markdown",
   "metadata": {},
   "source": [
    "#### Random Forest Classifier B"
   ]
  },
  {
   "cell_type": "code",
   "execution_count": 78,
   "metadata": {},
   "outputs": [
    {
     "data": {
      "text/plain": [
       "RandomForestClassifier(random_state=42)"
      ]
     },
     "execution_count": 78,
     "metadata": {},
     "output_type": "execute_result"
    }
   ],
   "source": [
    "rfc_b = RandomForestClassifier(random_state=42)\n",
    "\n",
    "rfc_b.fit(scl_trainX1b, Y_train1b)"
   ]
  },
  {
   "cell_type": "code",
   "execution_count": 79,
   "metadata": {},
   "outputs": [
    {
     "name": "stdout",
     "output_type": "stream",
     "text": [
      "AccuracyScore Random Forest Scenario 2:0.987\n",
      "\n",
      "Classification Report Random Forest Scenario 2\n",
      "\n",
      "               precision    recall  f1-score   support\n",
      "\n",
      "           0       0.99      0.99      0.99      2087\n",
      "           1       0.97      0.97      0.97       543\n",
      "\n",
      "    accuracy                           0.99      2630\n",
      "   macro avg       0.98      0.98      0.98      2630\n",
      "weighted avg       0.99      0.99      0.99      2630\n",
      "\n"
     ]
    }
   ],
   "source": [
    "rfc_pred_b = rfc_b.predict(scl_testX1b)\n",
    "\n",
    "rfc_accuracy_b = accuracy_score(Y_test1b, rfc_pred_b)\n",
    "\n",
    "print('AccuracyScore Random Forest Scenario 2:{:.3f}\\n'.format(rfc_accuracy_b))\n",
    "print('Classification Report Random Forest Scenario 2\\n\\n',classification_report(Y_test1b, rfc_pred_b))"
   ]
  },
  {
   "cell_type": "code",
   "execution_count": 80,
   "metadata": {},
   "outputs": [],
   "source": [
    "rfc_cm_b = confusion_matrix(Y_test1b, rfc_pred_b)"
   ]
  },
  {
   "cell_type": "code",
   "execution_count": 81,
   "metadata": {},
   "outputs": [
    {
     "data": {
      "image/png": "[encoded data removed]",
      "text/plain": [
       "<Figure size 432x288 with 2 Axes>"
      ]
     },
     "metadata": {
      "needs_background": "light"
     },
     "output_type": "display_data"
    }
   ],
   "source": [
    "sns.heatmap(rfc_cm_b, annot=True, fmt='.2f', cmap=plt.cm.Blues)\n",
    "plt.title('Random Forest Classifier for Scenario 2')\n",
    "plt.xlabel('Predicted')\n",
    "plt.ylabel('Actual')\n",
    "plt.show()"
   ]
  },
  {
   "cell_type": "markdown",
   "metadata": {},
   "source": [
    "#### Gradient Boost Classifier B"
   ]
  },
  {
   "cell_type": "code",
   "execution_count": 82,
   "metadata": {
    "scrolled": true
   },
   "outputs": [
    {
     "data": {
      "text/plain": [
       "GradientBoostingClassifier()"
      ]
     },
     "execution_count": 82,
     "metadata": {},
     "output_type": "execute_result"
    }
   ],
   "source": [
    "gbc_b = GradientBoostingClassifier()\n",
    "\n",
    "gbc_b.fit(scl_trainX1b, Y_train1b)"
   ]
  },
  {
   "cell_type": "code",
   "execution_count": 83,
   "metadata": {},
   "outputs": [
    {
     "name": "stdout",
     "output_type": "stream",
     "text": [
      "Accuracy Score Gradient Boost Classifier Scenario 2:0.986\n",
      "\n",
      "Classification Report Gradient Boost Classifier Scenario 2\n",
      "\n",
      "               precision    recall  f1-score   support\n",
      "\n",
      "           0       0.98      1.00      0.99      2087\n",
      "           1       1.00      0.93      0.96       543\n",
      "\n",
      "    accuracy                           0.99      2630\n",
      "   macro avg       0.99      0.97      0.98      2630\n",
      "weighted avg       0.99      0.99      0.99      2630\n",
      "\n"
     ]
    }
   ],
   "source": [
    "gbc_pred_b = gbc_b.predict(scl_testX1b)\n",
    "\n",
    "gbc_accuracy_b = accuracy_score(Y_test1b, gbc_pred_b)\n",
    "\n",
    "print('Accuracy Score Gradient Boost Classifier Scenario 2:{:.3f}\\n'.format(gbc_accuracy_b))\n",
    "print('Classification Report Gradient Boost Classifier Scenario 2\\n\\n', classification_report(Y_test1b, gbc_pred_b))"
   ]
  },
  {
   "cell_type": "code",
   "execution_count": 84,
   "metadata": {},
   "outputs": [],
   "source": [
    "gbc_cm_b = confusion_matrix(Y_test1b, gbc_pred_b)"
   ]
  },
  {
   "cell_type": "code",
   "execution_count": 85,
   "metadata": {},
   "outputs": [
    {
     "data": {
      "image/png": "[encoded data removed]",
      "text/plain": [
       "<Figure size 432x288 with 2 Axes>"
      ]
     },
     "metadata": {
      "needs_background": "light"
     },
     "output_type": "display_data"
    }
   ],
   "source": [
    "sns.heatmap(gbc_cm_b, annot=True, fmt='.2f', cmap=plt.cm.Blues)\n",
    "plt.title('Gradient Boosting Classifier for Scenario 2')\n",
    "plt.xlabel('Predicted')\n",
    "plt.ylabel('Actual')\n",
    "plt.show()"
   ]
  },
  {
   "cell_type": "markdown",
   "metadata": {},
   "source": [
    "#### Logistic Regression B"
   ]
  },
  {
   "cell_type": "code",
   "execution_count": 86,
   "metadata": {},
   "outputs": [
    {
     "data": {
      "text/plain": [
       "LogisticRegression(random_state=7)"
      ]
     },
     "execution_count": 86,
     "metadata": {},
     "output_type": "execute_result"
    }
   ],
   "source": [
    "logreg_b = LogisticRegression(random_state=7)\n",
    "\n",
    "logreg_b.fit(scl_trainX1b, Y_train1b)"
   ]
  },
  {
   "cell_type": "code",
   "execution_count": 87,
   "metadata": {},
   "outputs": [
    {
     "name": "stdout",
     "output_type": "stream",
     "text": [
      "Accuracy Score Logistic Regression Scenario 2: 0.836\n",
      "\n",
      "Classification Report Logistic Regression Scenario 2\n",
      "\n",
      "               precision    recall  f1-score   support\n",
      "\n",
      "           0       0.84      0.99      0.91      2087\n",
      "           1       0.85      0.25      0.39       543\n",
      "\n",
      "    accuracy                           0.84      2630\n",
      "   macro avg       0.84      0.62      0.65      2630\n",
      "weighted avg       0.84      0.84      0.80      2630\n",
      "\n"
     ]
    }
   ],
   "source": [
    "logreg_pred_b = logreg_b.predict(scl_testX1b)\n",
    "\n",
    "logreg_accuracy_b = accuracy_score(Y_test1b, logreg_pred_b)\n",
    "\n",
    "print('Accuracy Score Logistic Regression Scenario 2: {:.3f}\\n'.format(logreg_accuracy_b))\n",
    "print('Classification Report Logistic Regression Scenario 2\\n\\n', classification_report(Y_test1b, logreg_pred_b))"
   ]
  },
  {
   "cell_type": "code",
   "execution_count": 88,
   "metadata": {},
   "outputs": [],
   "source": [
    "logreg_cm_b = confusion_matrix(Y_test1b, logreg_pred_b)"
   ]
  },
  {
   "cell_type": "code",
   "execution_count": 89,
   "metadata": {},
   "outputs": [
    {
     "data": {
      "image/png": "[encoded data removed]",
      "text/plain": [
       "<Figure size 432x288 with 2 Axes>"
      ]
     },
     "metadata": {
      "needs_background": "light"
     },
     "output_type": "display_data"
    }
   ],
   "source": [
    "sns.heatmap(logreg_cm_b, annot=True, fmt='.2f')\n",
    "plt.title('Logistic Regression for Scenario 2')\n",
    "plt.xlabel('Predicted')\n",
    "plt.ylabel('Actual')\n",
    "plt.show()"
   ]
  },
  {
   "cell_type": "markdown",
   "metadata": {},
   "source": [
    "#### Cross Validation B"
   ]
  },
  {
   "cell_type": "code",
   "execution_count": 90,
   "metadata": {},
   "outputs": [
    {
     "name": "stdout",
     "output_type": "stream",
     "text": [
      "Scores:0.961\n",
      "Scores:0.007\n"
     ]
    }
   ],
   "source": [
    "rfc_valscore_b = cross_validate(rfc_b,scl_trainX1b, Y_train1b, cv=5, scoring='f1')\n",
    "\n",
    "print(\"Scores:{:.3f}\".format(rfc_valscore_b['test_score'].mean()))\n",
    "print(\"Scores:{:.3f}\".format(rfc_valscore_b['test_score'].std()))"
   ]
  },
  {
   "cell_type": "code",
   "execution_count": 91,
   "metadata": {},
   "outputs": [
    {
     "name": "stdout",
     "output_type": "stream",
     "text": [
      "Scores:0.961\n",
      "Scores:0.005\n"
     ]
    }
   ],
   "source": [
    "gbc_valscore_b = cross_validate(gbc_b,scl_trainX1b, Y_train1b, cv=5, scoring='f1')\n",
    "\n",
    "print(\"Scores:{:.3f}\".format(gbc_valscore_b['test_score'].mean()))\n",
    "print(\"Scores:{:.3f}\".format(gbc_valscore_b['test_score'].std()))"
   ]
  },
  {
   "cell_type": "code",
   "execution_count": 92,
   "metadata": {},
   "outputs": [
    {
     "name": "stdout",
     "output_type": "stream",
     "text": [
      "Scores:0.345\n",
      "Scores:0.019\n"
     ]
    }
   ],
   "source": [
    "logreg_valscore_b = cross_validate(logreg_b,scl_trainX1b, Y_train1b, cv=5, scoring='f1')\n",
    "\n",
    "print(\"Scores:{:.3f}\".format(logreg_valscore_b['test_score'].mean()))\n",
    "print(\"Scores:{:.3f}\".format(logreg_valscore_b['test_score'].std()))"
   ]
  },
  {
   "cell_type": "markdown",
   "metadata": {},
   "source": [
    "### Scenario 3: Limit is 28800 and failure is 3600 - 8 hours, 1 hour"
   ]
  },
  {
   "cell_type": "code",
   "execution_count": 93,
   "metadata": {},
   "outputs": [],
   "source": [
    "cl_f1c_data = alldata.drop(['time','Lot','Tool','stage','recipe','recipe_step','ROTATIONSPEED','ETCHBEAMCURRENT','ETCHSUPPRESSORVOLTAGE',\n",
    "                        'ETCHSUPPRESSORCURRENT','ETCHAUXSOURCETIMER','ETCHAUX2SOURCETIMER','Flowcool_Pressure_Too_High', 'TTF_Flowcool_leak',\n",
    "                       'fault1_a', 'fault1_b','fault1_d'], axis=1)"
   ]
  },
  {
   "cell_type": "code",
   "execution_count": 94,
   "metadata": {},
   "outputs": [],
   "source": [
    "clf1data_c = cl_f1c_data.dropna()"
   ]
  },
  {
   "cell_type": "code",
   "execution_count": 95,
   "metadata": {},
   "outputs": [],
   "source": [
    "cutoff_1c = 28800\n",
    "\n",
    "c1_limit = clf1data_c.loc[3010000:4513684]\n",
    "\n",
    "cl_cutoff1c = c1_limit.loc[c1_limit['Flowcool_Pressure_dropped_below_limit']<cutoff_1c].copy()"
   ]
  },
  {
   "cell_type": "code",
   "execution_count": 96,
   "metadata": {},
   "outputs": [],
   "source": [
    "cl_X1c = cl_cutoff1c.drop(['Flowcool_Pressure_dropped_below_limit', 'fault1_c'], axis=1)\n",
    "cl_Y1c = cl_cutoff1c['fault1_c']"
   ]
  },
  {
   "cell_type": "code",
   "execution_count": 97,
   "metadata": {},
   "outputs": [
    {
     "data": {
      "text/html": [
       "<div>\n",
       "<style scoped>\n",
       "    .dataframe tbody tr th:only-of-type {\n",
       "        vertical-align: middle;\n",
       "    }\n",
       "\n",
       "    .dataframe tbody tr th {\n",
       "        vertical-align: top;\n",
       "    }\n",
       "\n",
       "    .dataframe thead th {\n",
       "        text-align: right;\n",
       "    }\n",
       "</style>\n",
       "<table border=\"1\" class=\"dataframe\">\n",
       "  <thead>\n",
       "    <tr style=\"text-align: right;\">\n",
       "      <th></th>\n",
       "      <th>runnum</th>\n",
       "      <th>IONGAUGEPRESSURE</th>\n",
       "      <th>ETCHBEAMVOLTAGE</th>\n",
       "      <th>FLOWCOOLFLOWRATE</th>\n",
       "      <th>FLOWCOOLPRESSURE</th>\n",
       "      <th>ETCHGASCHANNEL1READBACK</th>\n",
       "      <th>ETCHPBNGASREADBACK</th>\n",
       "      <th>FIXTURETILTANGLE</th>\n",
       "      <th>ACTUALROTATIONANGLE</th>\n",
       "      <th>FIXTURESHUTTERPOSITION</th>\n",
       "      <th>ETCHSOURCEUSAGE</th>\n",
       "      <th>ACTUALSTEPDURATION</th>\n",
       "    </tr>\n",
       "  </thead>\n",
       "  <tbody>\n",
       "    <tr>\n",
       "      <th>3303848</th>\n",
       "      <td>12093089</td>\n",
       "      <td>0.00146</td>\n",
       "      <td>1.188129</td>\n",
       "      <td>0.583763</td>\n",
       "      <td>0.228161</td>\n",
       "      <td>-0.060052</td>\n",
       "      <td>0.364281</td>\n",
       "      <td>0.022131</td>\n",
       "      <td>-0.122455</td>\n",
       "      <td>1.0</td>\n",
       "      <td>0.700019</td>\n",
       "      <td>0.803526</td>\n",
       "    </tr>\n",
       "    <tr>\n",
       "      <th>3303849</th>\n",
       "      <td>12093089</td>\n",
       "      <td>0.00146</td>\n",
       "      <td>1.189211</td>\n",
       "      <td>0.577996</td>\n",
       "      <td>0.232016</td>\n",
       "      <td>-0.060052</td>\n",
       "      <td>0.364281</td>\n",
       "      <td>0.022131</td>\n",
       "      <td>-0.122455</td>\n",
       "      <td>1.0</td>\n",
       "      <td>0.700022</td>\n",
       "      <td>0.803526</td>\n",
       "    </tr>\n",
       "    <tr>\n",
       "      <th>3303850</th>\n",
       "      <td>12093089</td>\n",
       "      <td>0.00146</td>\n",
       "      <td>1.187958</td>\n",
       "      <td>0.577996</td>\n",
       "      <td>0.229446</td>\n",
       "      <td>-0.058299</td>\n",
       "      <td>0.364281</td>\n",
       "      <td>0.022131</td>\n",
       "      <td>-0.122455</td>\n",
       "      <td>1.0</td>\n",
       "      <td>0.700026</td>\n",
       "      <td>0.803526</td>\n",
       "    </tr>\n",
       "    <tr>\n",
       "      <th>3303851</th>\n",
       "      <td>12093089</td>\n",
       "      <td>0.00146</td>\n",
       "      <td>1.188129</td>\n",
       "      <td>0.565479</td>\n",
       "      <td>0.230099</td>\n",
       "      <td>-0.058299</td>\n",
       "      <td>0.359727</td>\n",
       "      <td>0.022131</td>\n",
       "      <td>-0.122455</td>\n",
       "      <td>1.0</td>\n",
       "      <td>0.700029</td>\n",
       "      <td>0.803526</td>\n",
       "    </tr>\n",
       "    <tr>\n",
       "      <th>3303852</th>\n",
       "      <td>12093089</td>\n",
       "      <td>0.00146</td>\n",
       "      <td>1.188301</td>\n",
       "      <td>0.565479</td>\n",
       "      <td>0.230099</td>\n",
       "      <td>-0.058299</td>\n",
       "      <td>0.359727</td>\n",
       "      <td>0.022131</td>\n",
       "      <td>-0.122455</td>\n",
       "      <td>1.0</td>\n",
       "      <td>0.700032</td>\n",
       "      <td>0.803526</td>\n",
       "    </tr>\n",
       "  </tbody>\n",
       "</table>\n",
       "</div>"
      ],
      "text/plain": [
       "           runnum  IONGAUGEPRESSURE  ETCHBEAMVOLTAGE  FLOWCOOLFLOWRATE  \\\n",
       "3303848  12093089           0.00146         1.188129          0.583763   \n",
       "3303849  12093089           0.00146         1.189211          0.577996   \n",
       "3303850  12093089           0.00146         1.187958          0.577996   \n",
       "3303851  12093089           0.00146         1.188129          0.565479   \n",
       "3303852  12093089           0.00146         1.188301          0.565479   \n",
       "\n",
       "         FLOWCOOLPRESSURE  ETCHGASCHANNEL1READBACK  ETCHPBNGASREADBACK  \\\n",
       "3303848          0.228161                -0.060052            0.364281   \n",
       "3303849          0.232016                -0.060052            0.364281   \n",
       "3303850          0.229446                -0.058299            0.364281   \n",
       "3303851          0.230099                -0.058299            0.359727   \n",
       "3303852          0.230099                -0.058299            0.359727   \n",
       "\n",
       "         FIXTURETILTANGLE  ACTUALROTATIONANGLE  FIXTURESHUTTERPOSITION  \\\n",
       "3303848          0.022131            -0.122455                     1.0   \n",
       "3303849          0.022131            -0.122455                     1.0   \n",
       "3303850          0.022131            -0.122455                     1.0   \n",
       "3303851          0.022131            -0.122455                     1.0   \n",
       "3303852          0.022131            -0.122455                     1.0   \n",
       "\n",
       "         ETCHSOURCEUSAGE  ACTUALSTEPDURATION  \n",
       "3303848         0.700019            0.803526  \n",
       "3303849         0.700022            0.803526  \n",
       "3303850         0.700026            0.803526  \n",
       "3303851         0.700029            0.803526  \n",
       "3303852         0.700032            0.803526  "
      ]
     },
     "execution_count": 97,
     "metadata": {},
     "output_type": "execute_result"
    }
   ],
   "source": [
    "cl_X1c.head()"
   ]
  },
  {
   "cell_type": "code",
   "execution_count": 98,
   "metadata": {},
   "outputs": [
    {
     "data": {
      "text/plain": [
       "0    11781\n",
       "1     3737\n",
       "Name: fault1_c, dtype: int64"
      ]
     },
     "execution_count": 98,
     "metadata": {},
     "output_type": "execute_result"
    }
   ],
   "source": [
    "cl_Y1c.value_counts()"
   ]
  },
  {
   "cell_type": "code",
   "execution_count": 102,
   "metadata": {},
   "outputs": [
    {
     "data": {
      "image/png": "[encoded data removed]",
      "text/plain": [
       "<Figure size 432x288 with 1 Axes>"
      ]
     },
     "metadata": {
      "needs_background": "light"
     },
     "output_type": "display_data"
    }
   ],
   "source": [
    "cl_Y1c.value_counts().plot(kind='bar')\n",
    "plt.title(\"Data Imbalance Scenario 3\")\n",
    "plt.xticks()\n",
    "plt.show()"
   ]
  },
  {
   "cell_type": "code",
   "execution_count": 103,
   "metadata": {},
   "outputs": [],
   "source": [
    "X_train1c, X_test1c, Y_train1c, Y_test1c = train_test_split(cl_X1c, cl_Y1c, test_size = 0.2, random_state=42)"
   ]
  },
  {
   "cell_type": "code",
   "execution_count": 104,
   "metadata": {},
   "outputs": [],
   "source": [
    "cl_scalar_c = MinMaxScaler()\n",
    "cl_scalar_c.fit(X_train1c)\n",
    "\n",
    "scl_trainX1c = cl_scalar.transform(X_train1c)\n",
    "scl_testX1c = cl_scalar.transform(X_test1c)"
   ]
  },
  {
   "cell_type": "markdown",
   "metadata": {},
   "source": [
    "#### Random Forest Classifier C"
   ]
  },
  {
   "cell_type": "code",
   "execution_count": 105,
   "metadata": {},
   "outputs": [
    {
     "data": {
      "text/plain": [
       "RandomForestClassifier(random_state=42)"
      ]
     },
     "execution_count": 105,
     "metadata": {},
     "output_type": "execute_result"
    }
   ],
   "source": [
    "rfc_c = RandomForestClassifier(random_state=42)\n",
    "\n",
    "rfc_c.fit(scl_trainX1c, Y_train1c)"
   ]
  },
  {
   "cell_type": "code",
   "execution_count": 106,
   "metadata": {},
   "outputs": [
    {
     "name": "stdout",
     "output_type": "stream",
     "text": [
      "Accuracy Score Random Forest Classifier Scenario 3: 0.996\n",
      "\n",
      "Classification Report Random Forest Classifier Scenario 3\n",
      "\n",
      "               precision    recall  f1-score   support\n",
      "\n",
      "           0       1.00      1.00      1.00      2342\n",
      "           1       1.00      0.99      0.99       762\n",
      "\n",
      "    accuracy                           1.00      3104\n",
      "   macro avg       1.00      0.99      0.99      3104\n",
      "weighted avg       1.00      1.00      1.00      3104\n",
      "\n"
     ]
    }
   ],
   "source": [
    "rfc_pred_c = rfc_c.predict(scl_testX1c)\n",
    "\n",
    "rfc_accuracy_c = accuracy_score(Y_test1c, rfc_pred_c)\n",
    "\n",
    "print('Accuracy Score Random Forest Classifier Scenario 3: {:.3f}\\n'.format(rfc_accuracy_c))\n",
    "print('Classification Report Random Forest Classifier Scenario 3\\n\\n',classification_report(Y_test1c, rfc_pred_c))"
   ]
  },
  {
   "cell_type": "code",
   "execution_count": 107,
   "metadata": {},
   "outputs": [],
   "source": [
    "rfc_cm_c = confusion_matrix(Y_test1c, rfc_pred_c)"
   ]
  },
  {
   "cell_type": "code",
   "execution_count": 108,
   "metadata": {},
   "outputs": [
    {
     "data": {
      "image/png": "[encoded data removed]",
      "text/plain": [
       "<Figure size 432x288 with 2 Axes>"
      ]
     },
     "metadata": {
      "needs_background": "light"
     },
     "output_type": "display_data"
    }
   ],
   "source": [
    "sns.heatmap(rfc_cm_c, annot=True, fmt='.2f', cmap=plt.cm.Blues)\n",
    "plt.title('Gradient Boosting Classifier for Scenario 3')\n",
    "plt.xlabel('Predicted')\n",
    "plt.ylabel('Actual')\n",
    "plt.show()"
   ]
  },
  {
   "cell_type": "markdown",
   "metadata": {},
   "source": [
    "#### Feature Importance using Random Forest Clssifier"
   ]
  },
  {
   "cell_type": "code",
   "execution_count": 109,
   "metadata": {},
   "outputs": [],
   "source": [
    "cl_result = permutation_importance(rfc_c, scl_testX1c, Y_test1c, random_state=42)"
   ]
  },
  {
   "cell_type": "code",
   "execution_count": 110,
   "metadata": {},
   "outputs": [
    {
     "data": {
      "image/png": "[encoded data removed]",
      "text/plain": [
       "<Figure size 720x576 with 1 Axes>"
      ]
     },
     "metadata": {
      "needs_background": "light"
     },
     "output_type": "display_data"
    }
   ],
   "source": [
    "cl_pp = cl_result.importances_mean.argsort()\n",
    "\n",
    "cl_sort_pp = np.argsort(cl_pp)\n",
    "\n",
    "pos = np.arange(cl_sort_pp.shape[0])+0.5\n",
    "y_ticks = np.arange(0,len(cl_X1c.columns))\n",
    "\n",
    "plt.figure(figsize=(10,8))\n",
    "plt.barh(pos, cl_pp[cl_sort_pp])\n",
    "plt.yticks(y_ticks, cl_X1c.columns[cl_sort_pp])\n",
    "plt.title('Permutation Importance using Random Forest Classifier')\n",
    "plt.show()"
   ]
  },
  {
   "cell_type": "markdown",
   "metadata": {},
   "source": [
    "#### Gradient Boost Classifier C"
   ]
  },
  {
   "cell_type": "code",
   "execution_count": 111,
   "metadata": {
    "scrolled": true
   },
   "outputs": [
    {
     "data": {
      "text/plain": [
       "GradientBoostingClassifier(random_state=42)"
      ]
     },
     "execution_count": 111,
     "metadata": {},
     "output_type": "execute_result"
    }
   ],
   "source": [
    "gbc_c = GradientBoostingClassifier(random_state=42)\n",
    "\n",
    "gbc_c.fit(scl_trainX1c, Y_train1c)"
   ]
  },
  {
   "cell_type": "code",
   "execution_count": 112,
   "metadata": {},
   "outputs": [
    {
     "name": "stdout",
     "output_type": "stream",
     "text": [
      "Accuracy Score Gradient Boost Classifier Scenario 3: 0.994\n",
      "\n",
      "Classification Report Gradient Boost Classifier Scenario 3\n",
      "\n",
      "               precision    recall  f1-score   support\n",
      "\n",
      "           0       0.99      1.00      1.00      2342\n",
      "           1       1.00      0.98      0.99       762\n",
      "\n",
      "    accuracy                           0.99      3104\n",
      "   macro avg       1.00      0.99      0.99      3104\n",
      "weighted avg       0.99      0.99      0.99      3104\n",
      "\n"
     ]
    }
   ],
   "source": [
    "gbc_pred_c = gbc_c.predict(scl_testX1c)\n",
    "\n",
    "gbc_accuracy_c = accuracy_score(Y_test1c, gbc_pred_c)\n",
    "\n",
    "print('Accuracy Score Gradient Boost Classifier Scenario 3: {:.3f}\\n'.format(gbc_accuracy_c))\n",
    "print('Classification Report Gradient Boost Classifier Scenario 3\\n\\n', classification_report(Y_test1c, gbc_pred_c))"
   ]
  },
  {
   "cell_type": "code",
   "execution_count": 113,
   "metadata": {},
   "outputs": [],
   "source": [
    "gbc_cm_c = confusion_matrix(Y_test1c, gbc_pred_c)"
   ]
  },
  {
   "cell_type": "code",
   "execution_count": 114,
   "metadata": {},
   "outputs": [
    {
     "data": {
      "image/png": "[encoded data removed]",
      "text/plain": [
       "<Figure size 432x288 with 2 Axes>"
      ]
     },
     "metadata": {
      "needs_background": "light"
     },
     "output_type": "display_data"
    }
   ],
   "source": [
    "sns.heatmap(gbc_cm_c, annot=True, fmt='.2f', cmap=plt.cm.Blues)\n",
    "plt.title('Gradient Boosting Classifier for Scenario 3')\n",
    "plt.xlabel('Predicted')\n",
    "plt.ylabel('Actual')\n",
    "plt.show()"
   ]
  },
  {
   "cell_type": "markdown",
   "metadata": {},
   "source": [
    "#### Logistic Regression C"
   ]
  },
  {
   "cell_type": "code",
   "execution_count": 115,
   "metadata": {},
   "outputs": [
    {
     "data": {
      "text/plain": [
       "LogisticRegression(random_state=7)"
      ]
     },
     "execution_count": 115,
     "metadata": {},
     "output_type": "execute_result"
    }
   ],
   "source": [
    "logreg_c = LogisticRegression(random_state=7)\n",
    "\n",
    "logreg_c.fit(scl_trainX1c, Y_train1c)"
   ]
  },
  {
   "cell_type": "code",
   "execution_count": 116,
   "metadata": {
    "scrolled": true
   },
   "outputs": [
    {
     "name": "stdout",
     "output_type": "stream",
     "text": [
      "Accuracy Score Logistic Regression Scenario 3: 0.835\n",
      "\n",
      "Classification Report Logistic Regression Scenario 3\n",
      "\n",
      "               precision    recall  f1-score   support\n",
      "\n",
      "           0       0.84      0.97      0.90      2342\n",
      "           1       0.81      0.43      0.56       762\n",
      "\n",
      "    accuracy                           0.84      3104\n",
      "   macro avg       0.82      0.70      0.73      3104\n",
      "weighted avg       0.83      0.84      0.82      3104\n",
      "\n"
     ]
    }
   ],
   "source": [
    "logreg_pred_c = logreg_c.predict(scl_testX1c)\n",
    "\n",
    "logreg_accuracy_c = accuracy_score(Y_test1c, logreg_pred_c)\n",
    "\n",
    "print('Accuracy Score Logistic Regression Scenario 3: {:.3f}\\n'.format(logreg_accuracy_c))\n",
    "print('Classification Report Logistic Regression Scenario 3\\n\\n', classification_report(Y_test1c, logreg_pred_c))"
   ]
  },
  {
   "cell_type": "code",
   "execution_count": 117,
   "metadata": {},
   "outputs": [],
   "source": [
    "logreg_cm_c = confusion_matrix(Y_test1c, logreg_pred_c)"
   ]
  },
  {
   "cell_type": "code",
   "execution_count": 118,
   "metadata": {
    "scrolled": true
   },
   "outputs": [
    {
     "data": {
      "image/png": "[encoded data removed]",
      "text/plain": [
       "<Figure size 432x288 with 2 Axes>"
      ]
     },
     "metadata": {
      "needs_background": "light"
     },
     "output_type": "display_data"
    }
   ],
   "source": [
    "sns.heatmap(logreg_cm_c, annot=True, fmt='.2f')\n",
    "plt.title('Logistic Regression for Scenario 3')\n",
    "plt.xlabel('Predicted')\n",
    "plt.ylabel('Actual')\n",
    "plt.show()"
   ]
  },
  {
   "cell_type": "markdown",
   "metadata": {},
   "source": [
    "#### Cross Validation C"
   ]
  },
  {
   "cell_type": "code",
   "execution_count": 119,
   "metadata": {},
   "outputs": [
    {
     "name": "stdout",
     "output_type": "stream",
     "text": [
      "Scores:\n",
      " [0.99747262 0.99494949 0.99325464 0.98813559 0.99580185]\n",
      "Scores:0.994\n",
      "Scores:0.003\n"
     ]
    }
   ],
   "source": [
    "rfc_valscore_c = cross_validate(rfc_c,scl_trainX1c, Y_train1c, cv=5, scoring='f1')\n",
    "\n",
    "print(\"Scores:\\n\",rfc_valscore_c['test_score'])\n",
    "print(\"Scores:{:.3f}\".format(rfc_valscore_c['test_score'].mean()))\n",
    "print(\"Scores:{:.3f}\".format(rfc_valscore_c['test_score'].std()))"
   ]
  },
  {
   "cell_type": "code",
   "execution_count": 120,
   "metadata": {},
   "outputs": [
    {
     "name": "stdout",
     "output_type": "stream",
     "text": [
      "Scores:\n",
      " [0.99323181 0.98983051 0.98899238 0.9872989  0.98901099]\n",
      "Scores:0.990\n",
      "Scores:0.002\n"
     ]
    }
   ],
   "source": [
    "gbc_valscore_c = cross_validate(gbc_c,scl_trainX1c, Y_train1c, cv=5, scoring='f1')\n",
    "\n",
    "print(\"Scores:\\n\",gbc_valscore_c['test_score'])\n",
    "print(\"Scores:{:.3f}\".format(gbc_valscore_c['test_score'].mean()))\n",
    "print(\"Scores:{:.3f}\".format(gbc_valscore_c['test_score'].std()))"
   ]
  },
  {
   "cell_type": "code",
   "execution_count": 121,
   "metadata": {},
   "outputs": [
    {
     "name": "stdout",
     "output_type": "stream",
     "text": [
      "Scores:\n",
      " [0.57612267 0.57579062 0.57540107 0.602537   0.58823529]\n",
      "Scores:0.584\n",
      "Scores:0.011\n"
     ]
    }
   ],
   "source": [
    "logreg_valscore_c = cross_validate(logreg_c, scl_trainX1c, Y_train1c, cv=5, scoring='f1')\n",
    "\n",
    "print(\"Scores:\\n\",logreg_valscore_c['test_score'])\n",
    "print(\"Scores:{:.3f}\".format(logreg_valscore_c['test_score'].mean()))\n",
    "print(\"Scores:{:.3f}\".format(logreg_valscore_c['test_score'].std()))"
   ]
  },
  {
   "cell_type": "markdown",
   "metadata": {},
   "source": [
    "## Scenario 4: 86400 and failure is 20000 - 24 hours, about 51/2 hours"
   ]
  },
  {
   "cell_type": "code",
   "execution_count": 122,
   "metadata": {},
   "outputs": [],
   "source": [
    "cl_f1d_data = alldata.drop(['time','Lot','Tool','stage','recipe','recipe_step','ROTATIONSPEED','ETCHBEAMCURRENT','ETCHSUPPRESSORVOLTAGE',\n",
    "                        'ETCHSUPPRESSORCURRENT','ETCHAUXSOURCETIMER','ETCHAUX2SOURCETIMER','Flowcool_Pressure_Too_High', 'TTF_Flowcool_leak',\n",
    "                       'fault1_a', 'fault1_b','fault1_c'], axis=1)"
   ]
  },
  {
   "cell_type": "code",
   "execution_count": 123,
   "metadata": {},
   "outputs": [],
   "source": [
    "clf1data_d = cl_f1d_data.dropna()"
   ]
  },
  {
   "cell_type": "code",
   "execution_count": 124,
   "metadata": {},
   "outputs": [],
   "source": [
    "cutoff_1d = 86400\n",
    "\n",
    "d1_limit = clf1data_d.loc[3010000:4513684]\n",
    "\n",
    "cl_cutoff1d = d1_limit.loc[d1_limit['Flowcool_Pressure_dropped_below_limit']<cutoff_1d].copy()"
   ]
  },
  {
   "cell_type": "code",
   "execution_count": 125,
   "metadata": {},
   "outputs": [],
   "source": [
    "cl_X1d = cl_cutoff1d.drop(['Flowcool_Pressure_dropped_below_limit', 'fault1_d'], axis=1)\n",
    "cl_Y1d = cl_cutoff1d['fault1_d']"
   ]
  },
  {
   "cell_type": "code",
   "execution_count": 126,
   "metadata": {},
   "outputs": [
    {
     "data": {
      "text/html": [
       "<div>\n",
       "<style scoped>\n",
       "    .dataframe tbody tr th:only-of-type {\n",
       "        vertical-align: middle;\n",
       "    }\n",
       "\n",
       "    .dataframe tbody tr th {\n",
       "        vertical-align: top;\n",
       "    }\n",
       "\n",
       "    .dataframe thead th {\n",
       "        text-align: right;\n",
       "    }\n",
       "</style>\n",
       "<table border=\"1\" class=\"dataframe\">\n",
       "  <thead>\n",
       "    <tr style=\"text-align: right;\">\n",
       "      <th></th>\n",
       "      <th>runnum</th>\n",
       "      <th>IONGAUGEPRESSURE</th>\n",
       "      <th>ETCHBEAMVOLTAGE</th>\n",
       "      <th>FLOWCOOLFLOWRATE</th>\n",
       "      <th>FLOWCOOLPRESSURE</th>\n",
       "      <th>ETCHGASCHANNEL1READBACK</th>\n",
       "      <th>ETCHPBNGASREADBACK</th>\n",
       "      <th>FIXTURETILTANGLE</th>\n",
       "      <th>ACTUALROTATIONANGLE</th>\n",
       "      <th>FIXTURESHUTTERPOSITION</th>\n",
       "      <th>ETCHSOURCEUSAGE</th>\n",
       "      <th>ACTUALSTEPDURATION</th>\n",
       "    </tr>\n",
       "  </thead>\n",
       "  <tbody>\n",
       "    <tr>\n",
       "      <th>3299579</th>\n",
       "      <td>12091675</td>\n",
       "      <td>-0.079438</td>\n",
       "      <td>-0.958928</td>\n",
       "      <td>-2.842907</td>\n",
       "      <td>-2.332807</td>\n",
       "      <td>-1.754914</td>\n",
       "      <td>-2.789997</td>\n",
       "      <td>2.027848</td>\n",
       "      <td>-0.122446</td>\n",
       "      <td>0.0</td>\n",
       "      <td>0.687049</td>\n",
       "      <td>4.037785</td>\n",
       "    </tr>\n",
       "    <tr>\n",
       "      <th>3299580</th>\n",
       "      <td>12091675</td>\n",
       "      <td>-0.079438</td>\n",
       "      <td>-0.959099</td>\n",
       "      <td>-2.842907</td>\n",
       "      <td>-2.332807</td>\n",
       "      <td>-1.753413</td>\n",
       "      <td>-2.789997</td>\n",
       "      <td>2.027848</td>\n",
       "      <td>-0.122446</td>\n",
       "      <td>0.0</td>\n",
       "      <td>0.687049</td>\n",
       "      <td>4.037785</td>\n",
       "    </tr>\n",
       "    <tr>\n",
       "      <th>3299581</th>\n",
       "      <td>12091675</td>\n",
       "      <td>-0.079427</td>\n",
       "      <td>-0.958871</td>\n",
       "      <td>-2.842907</td>\n",
       "      <td>-2.332807</td>\n",
       "      <td>-1.753413</td>\n",
       "      <td>-2.789997</td>\n",
       "      <td>2.027848</td>\n",
       "      <td>-0.122446</td>\n",
       "      <td>0.0</td>\n",
       "      <td>0.687049</td>\n",
       "      <td>4.037785</td>\n",
       "    </tr>\n",
       "    <tr>\n",
       "      <th>3299582</th>\n",
       "      <td>12091675</td>\n",
       "      <td>-0.079418</td>\n",
       "      <td>-0.958701</td>\n",
       "      <td>-2.842907</td>\n",
       "      <td>-2.332807</td>\n",
       "      <td>-1.754914</td>\n",
       "      <td>-2.792450</td>\n",
       "      <td>2.027848</td>\n",
       "      <td>-0.122446</td>\n",
       "      <td>0.0</td>\n",
       "      <td>0.687049</td>\n",
       "      <td>4.037785</td>\n",
       "    </tr>\n",
       "    <tr>\n",
       "      <th>3299583</th>\n",
       "      <td>12091675</td>\n",
       "      <td>-0.079440</td>\n",
       "      <td>-0.958985</td>\n",
       "      <td>-2.842907</td>\n",
       "      <td>-2.332807</td>\n",
       "      <td>-1.754914</td>\n",
       "      <td>-2.792450</td>\n",
       "      <td>2.027848</td>\n",
       "      <td>-0.122446</td>\n",
       "      <td>0.0</td>\n",
       "      <td>0.687049</td>\n",
       "      <td>4.037785</td>\n",
       "    </tr>\n",
       "  </tbody>\n",
       "</table>\n",
       "</div>"
      ],
      "text/plain": [
       "           runnum  IONGAUGEPRESSURE  ETCHBEAMVOLTAGE  FLOWCOOLFLOWRATE  \\\n",
       "3299579  12091675         -0.079438        -0.958928         -2.842907   \n",
       "3299580  12091675         -0.079438        -0.959099         -2.842907   \n",
       "3299581  12091675         -0.079427        -0.958871         -2.842907   \n",
       "3299582  12091675         -0.079418        -0.958701         -2.842907   \n",
       "3299583  12091675         -0.079440        -0.958985         -2.842907   \n",
       "\n",
       "         FLOWCOOLPRESSURE  ETCHGASCHANNEL1READBACK  ETCHPBNGASREADBACK  \\\n",
       "3299579         -2.332807                -1.754914           -2.789997   \n",
       "3299580         -2.332807                -1.753413           -2.789997   \n",
       "3299581         -2.332807                -1.753413           -2.789997   \n",
       "3299582         -2.332807                -1.754914           -2.792450   \n",
       "3299583         -2.332807                -1.754914           -2.792450   \n",
       "\n",
       "         FIXTURETILTANGLE  ACTUALROTATIONANGLE  FIXTURESHUTTERPOSITION  \\\n",
       "3299579          2.027848            -0.122446                     0.0   \n",
       "3299580          2.027848            -0.122446                     0.0   \n",
       "3299581          2.027848            -0.122446                     0.0   \n",
       "3299582          2.027848            -0.122446                     0.0   \n",
       "3299583          2.027848            -0.122446                     0.0   \n",
       "\n",
       "         ETCHSOURCEUSAGE  ACTUALSTEPDURATION  \n",
       "3299579         0.687049            4.037785  \n",
       "3299580         0.687049            4.037785  \n",
       "3299581         0.687049            4.037785  \n",
       "3299582         0.687049            4.037785  \n",
       "3299583         0.687049            4.037785  "
      ]
     },
     "execution_count": 126,
     "metadata": {},
     "output_type": "execute_result"
    }
   ],
   "source": [
    "cl_X1d.head()"
   ]
  },
  {
   "cell_type": "code",
   "execution_count": 127,
   "metadata": {},
   "outputs": [
    {
     "data": {
      "text/plain": [
       "0    22355\n",
       "1     3737\n",
       "Name: fault1_d, dtype: int64"
      ]
     },
     "execution_count": 127,
     "metadata": {},
     "output_type": "execute_result"
    }
   ],
   "source": [
    "cl_Y1d.value_counts()"
   ]
  },
  {
   "cell_type": "code",
   "execution_count": 129,
   "metadata": {},
   "outputs": [
    {
     "data": {
      "image/png": "[encoded data removed]",
      "text/plain": [
       "<Figure size 432x288 with 1 Axes>"
      ]
     },
     "metadata": {
      "needs_background": "light"
     },
     "output_type": "display_data"
    }
   ],
   "source": [
    "cl_Y1d.value_counts().plot(kind='bar')\n",
    "plt.title(\"Data Imbalance Scenario 4\")\n",
    "plt.xticks()\n",
    "plt.show()"
   ]
  },
  {
   "cell_type": "code",
   "execution_count": 130,
   "metadata": {},
   "outputs": [],
   "source": [
    "X_train1d, X_test1d, Y_train1d, Y_test1d = train_test_split(cl_X1d, cl_Y1d, test_size = 0.2, random_state=42)"
   ]
  },
  {
   "cell_type": "code",
   "execution_count": 131,
   "metadata": {},
   "outputs": [],
   "source": [
    "cl_scalar_d = MinMaxScaler()\n",
    "cl_scalar_d.fit(X_train1d)\n",
    "\n",
    "scl_trainX1d = cl_scalar.transform(X_train1d)\n",
    "scl_testX1d = cl_scalar.transform(X_test1d)"
   ]
  },
  {
   "cell_type": "markdown",
   "metadata": {},
   "source": [
    "#### Random Forest Classifier D"
   ]
  },
  {
   "cell_type": "code",
   "execution_count": 132,
   "metadata": {},
   "outputs": [
    {
     "data": {
      "text/plain": [
       "RandomForestClassifier()"
      ]
     },
     "execution_count": 132,
     "metadata": {},
     "output_type": "execute_result"
    }
   ],
   "source": [
    "rfc_d = RandomForestClassifier()\n",
    "\n",
    "rfc_d.fit(scl_trainX1d, Y_train1d)"
   ]
  },
  {
   "cell_type": "code",
   "execution_count": 133,
   "metadata": {},
   "outputs": [
    {
     "name": "stdout",
     "output_type": "stream",
     "text": [
      "Accuracy Score Random Forest Classifier Scenario 4: 0.998\n",
      "\n",
      "Classification Report Random Forest Classifier Scenario 4\n",
      "\n",
      "               precision    recall  f1-score   support\n",
      "\n",
      "           0       1.00      1.00      1.00      4518\n",
      "           1       0.99      0.99      0.99       701\n",
      "\n",
      "    accuracy                           1.00      5219\n",
      "   macro avg       1.00      1.00      1.00      5219\n",
      "weighted avg       1.00      1.00      1.00      5219\n",
      "\n"
     ]
    }
   ],
   "source": [
    "rfc_pred_d = rfc_d.predict(scl_testX1d)\n",
    "\n",
    "rfc_accuracy_d = accuracy_score(Y_test1d, rfc_pred_d)\n",
    "\n",
    "print('Accuracy Score Random Forest Classifier Scenario 4: {:.3f}\\n'.format(rfc_accuracy_d))\n",
    "print('Classification Report Random Forest Classifier Scenario 4\\n\\n',classification_report(Y_test1d, rfc_pred_d))"
   ]
  },
  {
   "cell_type": "code",
   "execution_count": 134,
   "metadata": {},
   "outputs": [],
   "source": [
    "rfc_cm_d = confusion_matrix(Y_test1d, rfc_pred_d)"
   ]
  },
  {
   "cell_type": "code",
   "execution_count": 135,
   "metadata": {},
   "outputs": [
    {
     "data": {
      "image/png": "[encoded data removed]",
      "text/plain": [
       "<Figure size 432x288 with 2 Axes>"
      ]
     },
     "metadata": {
      "needs_background": "light"
     },
     "output_type": "display_data"
    }
   ],
   "source": [
    "sns.heatmap(rfc_cm_d, annot=True, fmt='.2f', cmap=plt.cm.Blues)\n",
    "plt.title('Random Forest Classifier for Scenario 4')\n",
    "plt.xlabel('Predicted')\n",
    "plt.ylabel('Actual')\n",
    "plt.show()"
   ]
  },
  {
   "cell_type": "markdown",
   "metadata": {},
   "source": [
    "#### Feature Importance using Random Forest Clssifier D"
   ]
  },
  {
   "cell_type": "code",
   "execution_count": 136,
   "metadata": {},
   "outputs": [],
   "source": [
    "cl_result_d = permutation_importance(rfc_d, scl_testX1d, Y_test1d, random_state=42)"
   ]
  },
  {
   "cell_type": "code",
   "execution_count": 137,
   "metadata": {},
   "outputs": [
    {
     "data": {
      "image/png": "[encoded data removed]",
      "text/plain": [
       "<Figure size 720x576 with 1 Axes>"
      ]
     },
     "metadata": {
      "needs_background": "light"
     },
     "output_type": "display_data"
    }
   ],
   "source": [
    "cl_pp_d = cl_result_d.importances_mean.argsort()\n",
    "\n",
    "cl_sort_pp_d = np.argsort(cl_pp_d)\n",
    "\n",
    "pos = np.arange(cl_sort_pp_d.shape[0])+0.5\n",
    "y_ticks = np.arange(0,len(cl_X1d.columns))\n",
    "\n",
    "plt.figure(figsize=(10,8))\n",
    "plt.barh(pos, cl_pp_d[cl_sort_pp_d])\n",
    "plt.yticks(y_ticks, cl_X1d.columns[cl_sort_pp_d])\n",
    "plt.title('Permutation Importance using Random Forest Classifier Scenario 4')\n",
    "plt.show()"
   ]
  },
  {
   "cell_type": "markdown",
   "metadata": {},
   "source": [
    "#### Gradient Boost Classifier D"
   ]
  },
  {
   "cell_type": "code",
   "execution_count": 138,
   "metadata": {
    "scrolled": true
   },
   "outputs": [
    {
     "data": {
      "text/plain": [
       "GradientBoostingClassifier()"
      ]
     },
     "execution_count": 138,
     "metadata": {},
     "output_type": "execute_result"
    }
   ],
   "source": [
    "gbc_d = GradientBoostingClassifier()\n",
    "\n",
    "gbc_d.fit(scl_trainX1d, Y_train1d)"
   ]
  },
  {
   "cell_type": "code",
   "execution_count": 139,
   "metadata": {},
   "outputs": [
    {
     "name": "stdout",
     "output_type": "stream",
     "text": [
      "Accuracy Score Gradient Boost Classifier Scenario 4: 0.997\n",
      "\n",
      "Classification Report Gradient Boost Classifier Scenario 4\n",
      "\n",
      "               precision    recall  f1-score   support\n",
      "\n",
      "           0       1.00      1.00      1.00      4518\n",
      "           1       0.99      0.98      0.99       701\n",
      "\n",
      "    accuracy                           1.00      5219\n",
      "   macro avg       1.00      0.99      0.99      5219\n",
      "weighted avg       1.00      1.00      1.00      5219\n",
      "\n"
     ]
    }
   ],
   "source": [
    "gbc_pred_d = gbc_d.predict(scl_testX1d)\n",
    "\n",
    "gbc_accuracy_d = accuracy_score(Y_test1d, gbc_pred_d)\n",
    "\n",
    "print('Accuracy Score Gradient Boost Classifier Scenario 4: {:.3f}\\n'.format(gbc_accuracy_d))\n",
    "print('Classification Report Gradient Boost Classifier Scenario 4\\n\\n', classification_report(Y_test1d, gbc_pred_d))"
   ]
  },
  {
   "cell_type": "code",
   "execution_count": 140,
   "metadata": {},
   "outputs": [],
   "source": [
    "gbc_cm_d = confusion_matrix(Y_test1d, gbc_pred_d)"
   ]
  },
  {
   "cell_type": "code",
   "execution_count": 141,
   "metadata": {},
   "outputs": [
    {
     "data": {
      "image/png": "[encoded data removed]",
      "text/plain": [
       "<Figure size 432x288 with 2 Axes>"
      ]
     },
     "metadata": {
      "needs_background": "light"
     },
     "output_type": "display_data"
    }
   ],
   "source": [
    "sns.heatmap(gbc_cm_d, annot=True, fmt='.2f', cmap=plt.cm.Blues)\n",
    "plt.title('Gradient Boosting Classifier for Scenario 4')\n",
    "plt.xlabel('Predicted')\n",
    "plt.ylabel('Actual')\n",
    "plt.show()"
   ]
  },
  {
   "cell_type": "markdown",
   "metadata": {},
   "source": [
    "#### Logistic Regression D"
   ]
  },
  {
   "cell_type": "code",
   "execution_count": 142,
   "metadata": {},
   "outputs": [
    {
     "data": {
      "text/plain": [
       "LogisticRegression(random_state=7)"
      ]
     },
     "execution_count": 142,
     "metadata": {},
     "output_type": "execute_result"
    }
   ],
   "source": [
    "logreg_d = LogisticRegression(random_state=7)\n",
    "\n",
    "logreg_d.fit(scl_trainX1d, Y_train1d)"
   ]
  },
  {
   "cell_type": "code",
   "execution_count": 143,
   "metadata": {
    "scrolled": true
   },
   "outputs": [
    {
     "name": "stdout",
     "output_type": "stream",
     "text": [
      "Accuracy Score Logistic Regression Scenario 4: 0.910\n",
      "\n",
      "Classification Report Logistic Regression Scenario 4\n",
      "\n",
      "               precision    recall  f1-score   support\n",
      "\n",
      "           0       0.92      0.98      0.95      4518\n",
      "           1       0.79      0.44      0.57       701\n",
      "\n",
      "    accuracy                           0.91      5219\n",
      "   macro avg       0.86      0.71      0.76      5219\n",
      "weighted avg       0.90      0.91      0.90      5219\n",
      "\n"
     ]
    }
   ],
   "source": [
    "logreg_pred_d = logreg_d.predict(scl_testX1d)\n",
    "\n",
    "logreg_accuracy_d = accuracy_score(Y_test1d, logreg_pred_d)\n",
    "\n",
    "print('Accuracy Score Logistic Regression Scenario 4: {:.3f}\\n'.format(logreg_accuracy_d))\n",
    "print('Classification Report Logistic Regression Scenario 4\\n\\n', classification_report(Y_test1d, logreg_pred_d))"
   ]
  },
  {
   "cell_type": "code",
   "execution_count": 144,
   "metadata": {},
   "outputs": [],
   "source": [
    "logreg_cm_d = confusion_matrix(Y_test1d, logreg_pred_d)"
   ]
  },
  {
   "cell_type": "code",
   "execution_count": 146,
   "metadata": {
    "scrolled": true
   },
   "outputs": [
    {
     "data": {
      "image/png": "[encoded data removed]",
      "text/plain": [
       "<Figure size 432x288 with 2 Axes>"
      ]
     },
     "metadata": {
      "needs_background": "light"
     },
     "output_type": "display_data"
    }
   ],
   "source": [
    "sns.heatmap(logreg_cm_d, annot=True, fmt='.2f')\n",
    "plt.title('Logistic Regression for Scenario 4')\n",
    "plt.xlabel('Predicted')\n",
    "plt.ylabel('Actual')\n",
    "plt.show()"
   ]
  },
  {
   "cell_type": "markdown",
   "metadata": {},
   "source": [
    "#### Cross Validation D"
   ]
  },
  {
   "cell_type": "code",
   "execution_count": 147,
   "metadata": {},
   "outputs": [
    {
     "name": "stdout",
     "output_type": "stream",
     "text": [
      "Scores:\n",
      " [0.98679868 0.99587799 0.99422918 0.9909166  0.98166667]\n",
      "Scores:0.990\n",
      "Scores:0.005\n"
     ]
    }
   ],
   "source": [
    "rfc_valscore_d = cross_validate(rfc_d,scl_trainX1d, Y_train1d, cv=5, scoring='f1')\n",
    "\n",
    "print(\"Scores:\\n\",rfc_valscore_d['test_score'])\n",
    "print(\"Scores:{:.3f}\".format(rfc_valscore_d['test_score'].mean()))\n",
    "print(\"Scores:{:.3f}\".format(rfc_valscore_d['test_score'].std()))"
   ]
  },
  {
   "cell_type": "code",
   "execution_count": 148,
   "metadata": {},
   "outputs": [
    {
     "name": "stdout",
     "output_type": "stream",
     "text": [
      "Scores:\n",
      " [0.98839138 0.98839138 0.9908865  0.98846787 0.98254364]\n",
      "Scores:0.988\n",
      "Scores:0.003\n"
     ]
    }
   ],
   "source": [
    "gbc_valscore_d = cross_validate(gbc_d,scl_trainX1d, Y_train1d, cv=5, scoring='f1')\n",
    "\n",
    "print(\"Scores:\\n\",gbc_valscore_d['test_score'])\n",
    "print(\"Scores:{:.3f}\".format(gbc_valscore_d['test_score'].mean()))\n",
    "print(\"Scores:{:.3f}\".format(gbc_valscore_d['test_score'].std()))"
   ]
  },
  {
   "cell_type": "code",
   "execution_count": 149,
   "metadata": {},
   "outputs": [
    {
     "name": "stdout",
     "output_type": "stream",
     "text": [
      "Scores:\n",
      " [0.61052632 0.57352941 0.58448459 0.55755016 0.57323498]\n",
      "Scores:0.580\n",
      "Scores:0.018\n"
     ]
    }
   ],
   "source": [
    "logreg_valscore_d = cross_validate(logreg_d, scl_trainX1d, Y_train1d, cv=5, scoring='f1')\n",
    "\n",
    "print(\"Scores:\\n\",logreg_valscore_d['test_score'])\n",
    "print(\"Scores:{:.3f}\".format(logreg_valscore_d['test_score'].mean()))\n",
    "print(\"Scores:{:.3f}\".format(logreg_valscore_d['test_score'].std()))"
   ]
  },
  {
   "cell_type": "code",
   "execution_count": null,
   "metadata": {},
   "outputs": [],
   "source": []
  },
  {
   "cell_type": "markdown",
   "metadata": {},
   "source": [
    "#### Model Comparison"
   ]
  },
  {
   "cell_type": "code",
   "execution_count": 159,
   "metadata": {},
   "outputs": [],
   "source": [
    "FlowcoolPressureDroppedBelowLimit = pd.DataFrame({\n",
    "    'Models Fault 1 ':['Random Forest Classifier','Gradient Boosting Classifier','Logistic Regression'],\n",
    "       'Scenario 1':[rfc_valscore_a['test_score'].mean(),gbc_valscore_a['test_score'].mean(),logreg_valscore_a['test_score'].mean()],\n",
    "       'Scenario 2':[rfc_valscore_b['test_score'].mean(),gbc_valscore_b['test_score'].mean(),logreg_valscore_b['test_score'].mean()],  \n",
    "        'Scenario 3':[rfc_valscore_c['test_score'].mean(),gbc_valscore_c['test_score'].mean(),logreg_valscore_c['test_score'].mean()],\n",
    "        'Scenario 4':[rfc_valscore_d['test_score'].mean(),gbc_valscore_d['test_score'].mean(),logreg_valscore_d['test_score'].mean()],\n",
    "})\n"
   ]
  },
  {
   "cell_type": "code",
   "execution_count": 160,
   "metadata": {},
   "outputs": [
    {
     "data": {
      "text/html": [
       "<div>\n",
       "<style scoped>\n",
       "    .dataframe tbody tr th:only-of-type {\n",
       "        vertical-align: middle;\n",
       "    }\n",
       "\n",
       "    .dataframe tbody tr th {\n",
       "        vertical-align: top;\n",
       "    }\n",
       "\n",
       "    .dataframe thead th {\n",
       "        text-align: right;\n",
       "    }\n",
       "</style>\n",
       "<table border=\"1\" class=\"dataframe\">\n",
       "  <thead>\n",
       "    <tr style=\"text-align: right;\">\n",
       "      <th></th>\n",
       "      <th>Models Fault 1</th>\n",
       "      <th>Scenario 1</th>\n",
       "      <th>Scenario 2</th>\n",
       "      <th>Scenario 3</th>\n",
       "      <th>Scenario 4</th>\n",
       "    </tr>\n",
       "  </thead>\n",
       "  <tbody>\n",
       "    <tr>\n",
       "      <th>0</th>\n",
       "      <td>Random Forest Classifier</td>\n",
       "      <td>0.858592</td>\n",
       "      <td>0.961331</td>\n",
       "      <td>0.993923</td>\n",
       "      <td>0.989898</td>\n",
       "    </tr>\n",
       "    <tr>\n",
       "      <th>1</th>\n",
       "      <td>Gradient Boosting Classifier</td>\n",
       "      <td>0.865138</td>\n",
       "      <td>0.960759</td>\n",
       "      <td>0.989673</td>\n",
       "      <td>0.987736</td>\n",
       "    </tr>\n",
       "    <tr>\n",
       "      <th>2</th>\n",
       "      <td>Logistic Regression</td>\n",
       "      <td>0.032259</td>\n",
       "      <td>0.345086</td>\n",
       "      <td>0.583617</td>\n",
       "      <td>0.579865</td>\n",
       "    </tr>\n",
       "  </tbody>\n",
       "</table>\n",
       "</div>"
      ],
      "text/plain": [
       "                Models Fault 1   Scenario 1  Scenario 2  Scenario 3  \\\n",
       "0      Random Forest Classifier    0.858592    0.961331    0.993923   \n",
       "1  Gradient Boosting Classifier    0.865138    0.960759    0.989673   \n",
       "2           Logistic Regression    0.032259    0.345086    0.583617   \n",
       "\n",
       "   Scenario 4  \n",
       "0    0.989898  \n",
       "1    0.987736  \n",
       "2    0.579865  "
      ]
     },
     "execution_count": 160,
     "metadata": {},
     "output_type": "execute_result"
    }
   ],
   "source": [
    "FlowcoolPressureDroppedBelowLimit"
   ]
  },
  {
   "cell_type": "markdown",
   "metadata": {},
   "source": [
    "#### SMOTEENN\n",
    "\n",
    "SMOTTEENN applied to Scenario 1 to improve the performance of the Logistic Regression."
   ]
  },
  {
   "cell_type": "code",
   "execution_count": 152,
   "metadata": {},
   "outputs": [],
   "source": [
    "smote = SMOTEENN()\n",
    "\n",
    "X_res, Y_res = smote.fit_resample(scl_trainX1a, Y_train1a.ravel())\n",
    "X_res_test, Y_res_test = smote.fit_resample(scl_testX1a, Y_test1a.ravel())"
   ]
  },
  {
   "cell_type": "code",
   "execution_count": 153,
   "metadata": {},
   "outputs": [
    {
     "data": {
      "text/plain": [
       "LogisticRegression(max_iter=300, random_state=7)"
      ]
     },
     "execution_count": 153,
     "metadata": {},
     "output_type": "execute_result"
    }
   ],
   "source": [
    "smote_rfc = LogisticRegression(max_iter=300, random_state=7)\n",
    "\n",
    "smote_rfc.fit(X_res, Y_res)"
   ]
  },
  {
   "cell_type": "code",
   "execution_count": 154,
   "metadata": {},
   "outputs": [
    {
     "name": "stdout",
     "output_type": "stream",
     "text": [
      "Accuracy Score Logistic Regression after SMOTEENN Scenario 1: 0.836\n",
      "\n",
      "Classification Report after SMOTEENN Scenario 1 \n",
      "\n",
      "               precision    recall  f1-score   support\n",
      "\n",
      "           0       0.90      0.75      0.82      1769\n",
      "           1       0.79      0.92      0.85      1847\n",
      "\n",
      "    accuracy                           0.84      3616\n",
      "   macro avg       0.85      0.83      0.83      3616\n",
      "weighted avg       0.84      0.84      0.83      3616\n",
      "\n"
     ]
    }
   ],
   "source": [
    "smote_pred = smote_rfc.predict(X_res_test)\n",
    "\n",
    "smote_rf_accuracy = accuracy_score(Y_res_test, smote_pred)\n",
    "\n",
    "print('Accuracy Score Logistic Regression after SMOTEENN Scenario 1: {:.3f}\\n'.format(smote_rf_accuracy))\n",
    "print('Classification Report after SMOTEENN Scenario 1 \\n\\n', classification_report(Y_res_test, smote_pred))"
   ]
  },
  {
   "cell_type": "markdown",
   "metadata": {},
   "source": [
    "**Note** Even though the overall performance of the Logistic Regression decreased the f1-score in prediciting isfailure significantly improved. "
   ]
  },
  {
   "cell_type": "code",
   "execution_count": 155,
   "metadata": {},
   "outputs": [],
   "source": [
    "logreg_smote_a = confusion_matrix(Y_res_test, smote_pred)"
   ]
  },
  {
   "cell_type": "code",
   "execution_count": 161,
   "metadata": {},
   "outputs": [
    {
     "data": {
      "image/png": "[encoded data removed]",
      "text/plain": [
       "<Figure size 432x288 with 2 Axes>"
      ]
     },
     "metadata": {
      "needs_background": "light"
     },
     "output_type": "display_data"
    }
   ],
   "source": [
    "sns.heatmap(logreg_smote_a, annot=True, fmt='.2f')\n",
    "plt.title('Logistic Regression after SMOTEENN for Scenario 1')\n",
    "plt.xlabel('Predicted')\n",
    "plt.ylabel('Actual')\n",
    "plt.show()"
   ]
  },
  {
   "cell_type": "code",
   "execution_count": null,
   "metadata": {},
   "outputs": [],
   "source": []
  }
 ],
 "metadata": {
  "kernelspec": {
   "display_name": "Python 3",
   "language": "python",
   "name": "python3"
  },
  "language_info": {
   "codemirror_mode": {
    "name": "ipython",
    "version": 3
   },
   "file_extension": ".py",
   "mimetype": "text/x-python",
   "name": "python",
   "nbconvert_exporter": "python",
   "pygments_lexer": "ipython3",
   "version": "3.8.5"
  }
 },
 "nbformat": 4,
 "nbformat_minor": 4
}
