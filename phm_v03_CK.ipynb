{
  "cells": [
    {
      "cell_type": "code",
      "execution_count": null,
      "metadata": {
        "id": "_LdEjgciItkh"
      },
      "outputs": [],
      "source": [
        "import numpy as np\n",
        "import pandas as pd\n",
        "import matplotlib.pyplot as plt\n",
        "from sklearn.preprocessing import StandardScaler, MinMaxScaler\n",
        "from sklearn.metrics import classification_report, accuracy_score\n",
        "from sklearn.model_selection import cross_val_score\n",
        "from sklearn.inspection import permutation_importance\n",
        "from sklearn.ensemble import RandomForestRegressor\n",
        "from sklearn.ensemble import RandomForestClassifier\n",
        "from sklearn.ensemble import GradientBoostingClassifier\n",
        "from sklearn.linear_model import LinearRegression\n",
        "from sklearn.linear_model import Ridge\n",
        "from sklearn.linear_model import Lasso\n",
        "from imblearn.combine import SMOTEENN"
      ]
    },
    {
      "cell_type": "code",
      "execution_count": null,
      "metadata": {
        "id": "K16RpgCkItkp"
      },
      "outputs": [],
      "source": [
        "train02 = pd.read_csv('01_M02_DC_train.csv')\n",
        "ttf = pd.read_csv('01_M02_DC_train_ttf.csv')\n",
        "fault = pd.read_csv('01_M02_train_fault_data.csv')"
      ]
    },
    {
      "cell_type": "code",
      "execution_count": null,
      "metadata": {
        "id": "8HyjlfaKItkq"
      },
      "outputs": [],
      "source": [
        "ttf = ttf.rename({'TTF_FlowCool Pressure Dropped Below Limit':'Flowcool_Pressure_dropped_below_limit'}, axis='columns')\n",
        "ttf = ttf.rename({'TTF_Flowcool Pressure Too High Check Flowcool Pump':'Flowcool_Pressure_Too_High'}, axis='columns')\n",
        "ttf = ttf.rename({'TTF_Flowcool leak':'TTF_Flowcool_leak'}, axis='columns')"
      ]
    },
    {
      "cell_type": "code",
      "execution_count": null,
      "metadata": {
        "id": "xvI7QLgbItks",
        "outputId": "e6ef7a66-340c-4bf5-afef-4ac42891385b"
      },
      "outputs": [
        {
          "data": {
            "text/html": [
              "<div>\n",
              "<style scoped>\n",
              "    .dataframe tbody tr th:only-of-type {\n",
              "        vertical-align: middle;\n",
              "    }\n",
              "\n",
              "    .dataframe tbody tr th {\n",
              "        vertical-align: top;\n",
              "    }\n",
              "\n",
              "    .dataframe thead th {\n",
              "        text-align: right;\n",
              "    }\n",
              "</style>\n",
              "<table border=\"1\" class=\"dataframe\">\n",
              "  <thead>\n",
              "    <tr style=\"text-align: right;\">\n",
              "      <th></th>\n",
              "      <th>time</th>\n",
              "      <th>Tool</th>\n",
              "      <th>stage</th>\n",
              "      <th>Lot</th>\n",
              "      <th>runnum</th>\n",
              "      <th>recipe</th>\n",
              "      <th>recipe_step</th>\n",
              "      <th>IONGAUGEPRESSURE</th>\n",
              "      <th>ETCHBEAMVOLTAGE</th>\n",
              "      <th>ETCHBEAMCURRENT</th>\n",
              "      <th>...</th>\n",
              "      <th>ETCHGASCHANNEL1READBACK</th>\n",
              "      <th>ETCHPBNGASREADBACK</th>\n",
              "      <th>FIXTURETILTANGLE</th>\n",
              "      <th>ROTATIONSPEED</th>\n",
              "      <th>ACTUALROTATIONANGLE</th>\n",
              "      <th>FIXTURESHUTTERPOSITION</th>\n",
              "      <th>ETCHSOURCEUSAGE</th>\n",
              "      <th>ETCHAUXSOURCETIMER</th>\n",
              "      <th>ETCHAUX2SOURCETIMER</th>\n",
              "      <th>ACTUALSTEPDURATION</th>\n",
              "    </tr>\n",
              "  </thead>\n",
              "  <tbody>\n",
              "    <tr>\n",
              "      <th>0</th>\n",
              "      <td>3283834</td>\n",
              "      <td>01M02</td>\n",
              "      <td>1</td>\n",
              "      <td>9253</td>\n",
              "      <td>10511673</td>\n",
              "      <td>67</td>\n",
              "      <td>1</td>\n",
              "      <td>-0.079428</td>\n",
              "      <td>-0.958814</td>\n",
              "      <td>-0.959509</td>\n",
              "      <td>...</td>\n",
              "      <td>-1.751661</td>\n",
              "      <td>-2.783162</td>\n",
              "      <td>2.027848</td>\n",
              "      <td>-0.013207</td>\n",
              "      <td>-0.122437</td>\n",
              "      <td>0.0</td>\n",
              "      <td>2.39537</td>\n",
              "      <td>2.871511</td>\n",
              "      <td>3.175941</td>\n",
              "      <td>4.037785</td>\n",
              "    </tr>\n",
              "    <tr>\n",
              "      <th>1</th>\n",
              "      <td>3283838</td>\n",
              "      <td>01M02</td>\n",
              "      <td>1</td>\n",
              "      <td>9253</td>\n",
              "      <td>10511673</td>\n",
              "      <td>67</td>\n",
              "      <td>1</td>\n",
              "      <td>-0.079419</td>\n",
              "      <td>-0.958928</td>\n",
              "      <td>-0.959651</td>\n",
              "      <td>...</td>\n",
              "      <td>-1.743905</td>\n",
              "      <td>-2.780884</td>\n",
              "      <td>2.027848</td>\n",
              "      <td>-0.013207</td>\n",
              "      <td>-0.122437</td>\n",
              "      <td>0.0</td>\n",
              "      <td>2.39537</td>\n",
              "      <td>2.871511</td>\n",
              "      <td>3.175941</td>\n",
              "      <td>4.037785</td>\n",
              "    </tr>\n",
              "    <tr>\n",
              "      <th>2</th>\n",
              "      <td>3283842</td>\n",
              "      <td>01M02</td>\n",
              "      <td>1</td>\n",
              "      <td>9253</td>\n",
              "      <td>10511673</td>\n",
              "      <td>67</td>\n",
              "      <td>1</td>\n",
              "      <td>-0.079409</td>\n",
              "      <td>-0.959156</td>\n",
              "      <td>-0.960006</td>\n",
              "      <td>...</td>\n",
              "      <td>-1.743905</td>\n",
              "      <td>-2.780884</td>\n",
              "      <td>2.027848</td>\n",
              "      <td>-0.013207</td>\n",
              "      <td>-0.122437</td>\n",
              "      <td>0.0</td>\n",
              "      <td>2.39537</td>\n",
              "      <td>2.871511</td>\n",
              "      <td>3.175941</td>\n",
              "      <td>4.037785</td>\n",
              "    </tr>\n",
              "    <tr>\n",
              "      <th>3</th>\n",
              "      <td>3283846</td>\n",
              "      <td>01M02</td>\n",
              "      <td>1</td>\n",
              "      <td>9253</td>\n",
              "      <td>10511673</td>\n",
              "      <td>67</td>\n",
              "      <td>1</td>\n",
              "      <td>-0.079420</td>\n",
              "      <td>-0.958928</td>\n",
              "      <td>-0.959297</td>\n",
              "      <td>...</td>\n",
              "      <td>-1.747158</td>\n",
              "      <td>-2.780884</td>\n",
              "      <td>2.027848</td>\n",
              "      <td>-0.013207</td>\n",
              "      <td>-0.122437</td>\n",
              "      <td>0.0</td>\n",
              "      <td>2.39537</td>\n",
              "      <td>2.871511</td>\n",
              "      <td>3.175941</td>\n",
              "      <td>4.037785</td>\n",
              "    </tr>\n",
              "    <tr>\n",
              "      <th>4</th>\n",
              "      <td>3283850</td>\n",
              "      <td>01M02</td>\n",
              "      <td>1</td>\n",
              "      <td>9253</td>\n",
              "      <td>10511673</td>\n",
              "      <td>67</td>\n",
              "      <td>1</td>\n",
              "      <td>-0.079430</td>\n",
              "      <td>-0.959269</td>\n",
              "      <td>-0.959438</td>\n",
              "      <td>...</td>\n",
              "      <td>-1.747158</td>\n",
              "      <td>-2.784389</td>\n",
              "      <td>2.027848</td>\n",
              "      <td>-0.013207</td>\n",
              "      <td>-0.122437</td>\n",
              "      <td>0.0</td>\n",
              "      <td>2.39537</td>\n",
              "      <td>2.871511</td>\n",
              "      <td>3.175941</td>\n",
              "      <td>4.037785</td>\n",
              "    </tr>\n",
              "  </tbody>\n",
              "</table>\n",
              "<p>5 rows × 24 columns</p>\n",
              "</div>"
            ],
            "text/plain": [
              "      time   Tool  stage   Lot    runnum  recipe  recipe_step  \\\n",
              "0  3283834  01M02      1  9253  10511673      67            1   \n",
              "1  3283838  01M02      1  9253  10511673      67            1   \n",
              "2  3283842  01M02      1  9253  10511673      67            1   \n",
              "3  3283846  01M02      1  9253  10511673      67            1   \n",
              "4  3283850  01M02      1  9253  10511673      67            1   \n",
              "\n",
              "   IONGAUGEPRESSURE  ETCHBEAMVOLTAGE  ETCHBEAMCURRENT  ...  \\\n",
              "0         -0.079428        -0.958814        -0.959509  ...   \n",
              "1         -0.079419        -0.958928        -0.959651  ...   \n",
              "2         -0.079409        -0.959156        -0.960006  ...   \n",
              "3         -0.079420        -0.958928        -0.959297  ...   \n",
              "4         -0.079430        -0.959269        -0.959438  ...   \n",
              "\n",
              "   ETCHGASCHANNEL1READBACK  ETCHPBNGASREADBACK  FIXTURETILTANGLE  \\\n",
              "0                -1.751661           -2.783162          2.027848   \n",
              "1                -1.743905           -2.780884          2.027848   \n",
              "2                -1.743905           -2.780884          2.027848   \n",
              "3                -1.747158           -2.780884          2.027848   \n",
              "4                -1.747158           -2.784389          2.027848   \n",
              "\n",
              "   ROTATIONSPEED  ACTUALROTATIONANGLE  FIXTURESHUTTERPOSITION  \\\n",
              "0      -0.013207            -0.122437                     0.0   \n",
              "1      -0.013207            -0.122437                     0.0   \n",
              "2      -0.013207            -0.122437                     0.0   \n",
              "3      -0.013207            -0.122437                     0.0   \n",
              "4      -0.013207            -0.122437                     0.0   \n",
              "\n",
              "   ETCHSOURCEUSAGE  ETCHAUXSOURCETIMER  ETCHAUX2SOURCETIMER  \\\n",
              "0          2.39537            2.871511             3.175941   \n",
              "1          2.39537            2.871511             3.175941   \n",
              "2          2.39537            2.871511             3.175941   \n",
              "3          2.39537            2.871511             3.175941   \n",
              "4          2.39537            2.871511             3.175941   \n",
              "\n",
              "   ACTUALSTEPDURATION  \n",
              "0            4.037785  \n",
              "1            4.037785  \n",
              "2            4.037785  \n",
              "3            4.037785  \n",
              "4            4.037785  \n",
              "\n",
              "[5 rows x 24 columns]"
            ]
          },
          "execution_count": 4,
          "metadata": {},
          "output_type": "execute_result"
        }
      ],
      "source": [
        "train02.head()"
      ]
    },
    {
      "cell_type": "code",
      "execution_count": null,
      "metadata": {
        "id": "VAdPrk2mItku",
        "outputId": "71dc2f97-c146-4473-cc2a-75941f2eccf1"
      },
      "outputs": [
        {
          "data": {
            "text/html": [
              "<div>\n",
              "<style scoped>\n",
              "    .dataframe tbody tr th:only-of-type {\n",
              "        vertical-align: middle;\n",
              "    }\n",
              "\n",
              "    .dataframe tbody tr th {\n",
              "        vertical-align: top;\n",
              "    }\n",
              "\n",
              "    .dataframe thead th {\n",
              "        text-align: right;\n",
              "    }\n",
              "</style>\n",
              "<table border=\"1\" class=\"dataframe\">\n",
              "  <thead>\n",
              "    <tr style=\"text-align: right;\">\n",
              "      <th></th>\n",
              "      <th>time</th>\n",
              "      <th>Flowcool_Pressure_dropped_below_limit</th>\n",
              "      <th>Flowcool_Pressure_Too_High</th>\n",
              "      <th>TTF_Flowcool_leak</th>\n",
              "    </tr>\n",
              "  </thead>\n",
              "  <tbody>\n",
              "    <tr>\n",
              "      <th>0</th>\n",
              "      <td>3283834</td>\n",
              "      <td>623234.0</td>\n",
              "      <td>9146470.0</td>\n",
              "      <td>632514.0</td>\n",
              "    </tr>\n",
              "    <tr>\n",
              "      <th>1</th>\n",
              "      <td>3283838</td>\n",
              "      <td>623230.0</td>\n",
              "      <td>9146466.0</td>\n",
              "      <td>632510.0</td>\n",
              "    </tr>\n",
              "    <tr>\n",
              "      <th>2</th>\n",
              "      <td>3283842</td>\n",
              "      <td>623226.0</td>\n",
              "      <td>9146462.0</td>\n",
              "      <td>632506.0</td>\n",
              "    </tr>\n",
              "    <tr>\n",
              "      <th>3</th>\n",
              "      <td>3283846</td>\n",
              "      <td>623222.0</td>\n",
              "      <td>9146458.0</td>\n",
              "      <td>632502.0</td>\n",
              "    </tr>\n",
              "    <tr>\n",
              "      <th>4</th>\n",
              "      <td>3283850</td>\n",
              "      <td>623218.0</td>\n",
              "      <td>9146454.0</td>\n",
              "      <td>632498.0</td>\n",
              "    </tr>\n",
              "  </tbody>\n",
              "</table>\n",
              "</div>"
            ],
            "text/plain": [
              "      time  Flowcool_Pressure_dropped_below_limit  Flowcool_Pressure_Too_High  \\\n",
              "0  3283834                               623234.0                   9146470.0   \n",
              "1  3283838                               623230.0                   9146466.0   \n",
              "2  3283842                               623226.0                   9146462.0   \n",
              "3  3283846                               623222.0                   9146458.0   \n",
              "4  3283850                               623218.0                   9146454.0   \n",
              "\n",
              "   TTF_Flowcool_leak  \n",
              "0           632514.0  \n",
              "1           632510.0  \n",
              "2           632506.0  \n",
              "3           632502.0  \n",
              "4           632498.0  "
            ]
          },
          "execution_count": 5,
          "metadata": {},
          "output_type": "execute_result"
        }
      ],
      "source": [
        "ttf.head()"
      ]
    },
    {
      "cell_type": "markdown",
      "metadata": {
        "id": "HxQGWkavItku"
      },
      "source": [
        "#### Merge the data. "
      ]
    },
    {
      "cell_type": "code",
      "execution_count": null,
      "metadata": {
        "id": "eQeS0y_KItkx"
      },
      "outputs": [],
      "source": [
        "alldata = pd.merge(train02, ttf, how='outer', on='time')"
      ]
    },
    {
      "cell_type": "markdown",
      "metadata": {
        "id": "h8z9kBhRItky"
      },
      "source": [
        "#### Drop some of the columns"
      ]
    },
    {
      "cell_type": "code",
      "execution_count": null,
      "metadata": {
        "id": "Zz7_RYmKItkz"
      },
      "outputs": [],
      "source": [
        "f1_data = alldata.drop(['time','stage','Lot','Tool','recipe','recipe_step','ROTATIONSPEED','ETCHBEAMCURRENT','ETCHSUPPRESSORVOLTAGE',\n",
        "                        'ETCHSUPPRESSORCURRENT','ETCHAUXSOURCETIMER','ETCHAUX2SOURCETIMER','Flowcool_Pressure_Too_High', 'TTF_Flowcool_leak'], axis=1)\n",
        "f2_data = alldata.drop(['time','stage','Lot','Tool','recipe','recipe_step','ROTATIONSPEED','ETCHBEAMCURRENT','ETCHSUPPRESSORVOLTAGE',\n",
        "                        'ETCHSUPPRESSORCURRENT','ETCHAUXSOURCETIMER','ETCHAUX2SOURCETIMER',\n",
        "                         'Flowcool_Pressure_dropped_below_limit','TTF_Flowcool_leak'], axis=1)\n",
        "f3_data = alldata.drop(['time','stage','Lot','Tool','recipe','recipe_step','ROTATIONSPEED','ETCHBEAMCURRENT','ETCHSUPPRESSORVOLTAGE',\n",
        "                        'ETCHSUPPRESSORCURRENT','ETCHAUXSOURCETIMER','ETCHAUX2SOURCETIMER',\n",
        "                         'Flowcool_Pressure_dropped_below_limit','Flowcool_Pressure_Too_High'], axis=1)"
      ]
    },
    {
      "cell_type": "code",
      "execution_count": null,
      "metadata": {
        "id": "D7mfSc1qItk0"
      },
      "outputs": [],
      "source": [
        "f1data = f1_data.dropna()\n",
        "f2data = f2_data.dropna()\n",
        "f3data = f3_data.dropna()"
      ]
    },
    {
      "cell_type": "markdown",
      "metadata": {
        "id": "LsifmsJFItk1"
      },
      "source": [
        "#### Slice the data "
      ]
    },
    {
      "cell_type": "code",
      "execution_count": null,
      "metadata": {
        "id": "cSWX2AejItk2",
        "outputId": "9c23ed16-f57b-4aaa-f2a6-ca85949f4f61"
      },
      "outputs": [
        {
          "data": {
            "text/plain": [
              "<AxesSubplot:>"
            ]
          },
          "execution_count": 9,
          "metadata": {},
          "output_type": "execute_result"
        },
        {
          "data": {
            "image/png": "[encoded data removed]",
            "text/plain": [
              "<Figure size 432x288 with 1 Axes>"
            ]
          },
          "metadata": {
            "needs_background": "light"
          },
          "output_type": "display_data"
        }
      ],
      "source": [
        "f1_data['Flowcool_Pressure_dropped_below_limit'].plot()"
      ]
    },
    {
      "cell_type": "code",
      "execution_count": null,
      "metadata": {
        "id": "wHPy2SCOItk2"
      },
      "outputs": [],
      "source": [
        "train = f1data.iloc[3260000:3307059] \n",
        "\n",
        "train_drop = train.drop('Flowcool_Pressure_dropped_below_limit', axis=1)"
      ]
    },
    {
      "cell_type": "code",
      "execution_count": null,
      "metadata": {
        "scrolled": true,
        "id": "PJtiLx8XItk2"
      },
      "outputs": [],
      "source": [
        "test = f1data.iloc[4492500:4513678]"
      ]
    },
    {
      "cell_type": "code",
      "execution_count": null,
      "metadata": {
        "id": "39uA0EqJItk3"
      },
      "outputs": [],
      "source": [
        "validation2= f1data.iloc[2187500:2198000]"
      ]
    },
    {
      "cell_type": "code",
      "execution_count": null,
      "metadata": {
        "id": "Q0kIojNHItk3",
        "outputId": "bec55e5e-cfa7-4e84-9da8-4468591f5f3f"
      },
      "outputs": [
        {
          "name": "stdout",
          "output_type": "stream",
          "text": [
            "(10500, 13)\n"
          ]
        }
      ],
      "source": [
        "print(validation2.shape)"
      ]
    },
    {
      "cell_type": "code",
      "execution_count": null,
      "metadata": {
        "id": "obznF4DcItk4",
        "outputId": "2e4788aa-36d9-4eb4-c1de-5bc610e12325"
      },
      "outputs": [
        {
          "name": "stdout",
          "output_type": "stream",
          "text": [
            "(47059, 13) (21178, 13)\n"
          ]
        }
      ],
      "source": [
        "print(train.shape, test.shape)"
      ]
    },
    {
      "cell_type": "code",
      "execution_count": null,
      "metadata": {
        "scrolled": true,
        "id": "dpLO6_RdItk4",
        "outputId": "35b3789b-245e-4404-de8a-396ef4e4c213"
      },
      "outputs": [
        {
          "data": {
            "text/plain": [
              "<AxesSubplot:>"
            ]
          },
          "execution_count": 18,
          "metadata": {},
          "output_type": "execute_result"
        },
        {
          "data": {
            "image/png": "[encoded data removed]",
            "text/plain": [
              "<Figure size 432x288 with 1 Axes>"
            ]
          },
          "metadata": {
            "needs_background": "light"
          },
          "output_type": "display_data"
        }
      ],
      "source": [
        "validation2['Flowcool_Pressure_dropped_below_limit'].plot()"
      ]
    },
    {
      "cell_type": "code",
      "execution_count": null,
      "metadata": {
        "id": "tWyvdaTwItk4",
        "outputId": "e19884a9-6715-4d85-fbc6-041282344510"
      },
      "outputs": [
        {
          "data": {
            "text/plain": [
              "<AxesSubplot:>"
            ]
          },
          "execution_count": 64,
          "metadata": {},
          "output_type": "execute_result"
        },
        {
          "data": {
            "image/png": "[encoded data removed]",
            "text/plain": [
              "<Figure size 432x288 with 1 Axes>"
            ]
          },
          "metadata": {
            "needs_background": "light"
          },
          "output_type": "display_data"
        }
      ],
      "source": [
        "train['Flowcool_Pressure_dropped_below_limit'].plot()"
      ]
    },
    {
      "cell_type": "code",
      "execution_count": null,
      "metadata": {
        "id": "gjkw8c6IItk5",
        "outputId": "66041a53-5c6a-4e74-8ca3-2c5b1c3b3c2e"
      },
      "outputs": [
        {
          "data": {
            "text/plain": [
              "<AxesSubplot:>"
            ]
          },
          "execution_count": 65,
          "metadata": {},
          "output_type": "execute_result"
        },
        {
          "data": {
            "image/png": "[encoded data removed]",
            "text/plain": [
              "<Figure size 432x288 with 1 Axes>"
            ]
          },
          "metadata": {
            "needs_background": "light"
          },
          "output_type": "display_data"
        }
      ],
      "source": [
        "test['Flowcool_Pressure_dropped_below_limit'].plot()"
      ]
    },
    {
      "cell_type": "code",
      "execution_count": null,
      "metadata": {
        "id": "L482DX8XItk5"
      },
      "outputs": [],
      "source": [
        "scaler = StandardScaler()\n",
        "scaler = scaler.fit(train)\n",
        "\n",
        "sstrain = scaler.transform(train)\n",
        "sstest = scaler.transform(test)\n",
        "ssval = scaler.transform(validation2)"
      ]
    },
    {
      "cell_type": "code",
      "execution_count": null,
      "metadata": {
        "id": "hEqWS-J9Itk5"
      },
      "outputs": [],
      "source": [
        "scaler_drop = StandardScaler()\n",
        "scaler_drop = scaler_drop.fit(train_drop)\n",
        "\n",
        "sstrain_drop = scaler_drop.transform(train_drop)"
      ]
    },
    {
      "cell_type": "code",
      "execution_count": null,
      "metadata": {
        "id": "i4CCJI5dItk6"
      },
      "outputs": [],
      "source": [
        "trainX, trainy = sstrain[:,:-1],sstrain[:,-1]\n",
        "testX, testy =  sstest[:,:-1],sstest[:,-1]\n",
        "valX, valy = ssval[:,:-1],ssval[:,-1]"
      ]
    },
    {
      "cell_type": "code",
      "execution_count": null,
      "metadata": {
        "id": "rFTOh8irItk6"
      },
      "outputs": [],
      "source": [
        "# Reshape\n",
        "train_X = trainX.reshape(trainX.shape[0],1,trainX.shape[1])\n",
        "test_X = testX.reshape(testX.shape[0],1,testX.shape[1])\n",
        "val_X = valX.reshape(valX.shape[0],1,valX.shape[1])"
      ]
    },
    {
      "cell_type": "code",
      "execution_count": null,
      "metadata": {
        "id": "TT97ipqWItk6"
      },
      "outputs": [],
      "source": [
        "from tensorflow.keras import Sequential\n",
        "from tensorflow.keras.layers import LSTM, Dense, Dropout"
      ]
    },
    {
      "cell_type": "code",
      "execution_count": null,
      "metadata": {
        "id": "6bgSpol5Itk6",
        "outputId": "67d74b24-652c-4117-f3fe-34d3fc0d51d8"
      },
      "outputs": [
        {
          "name": "stdout",
          "output_type": "stream",
          "text": [
            "Model: \"sequential_1\"\n",
            "_________________________________________________________________\n",
            "Layer (type)                 Output Shape              Param #   \n",
            "=================================================================\n",
            "lstm_2 (LSTM)                (None, 1, 50)             12600     \n",
            "_________________________________________________________________\n",
            "lstm_3 (LSTM)                (None, 50)                20200     \n",
            "_________________________________________________________________\n",
            "dense_1 (Dense)              (None, 1)                 51        \n",
            "=================================================================\n",
            "Total params: 32,851\n",
            "Trainable params: 32,851\n",
            "Non-trainable params: 0\n",
            "_________________________________________________________________\n"
          ]
        }
      ],
      "source": [
        "model = Sequential()\n",
        "model.add(LSTM(50, activation ='relu', input_shape=(1,12), return_sequences=True))\n",
        "model.add(LSTM(50, activation ='relu', return_sequences = False))\n",
        "model.add(Dense(1))\n",
        "model.compile(optimizer = 'adam', loss ='mse', metrics=['RootMeanSquaredError'])\n",
        "model.summary()"
      ]
    },
    {
      "cell_type": "code",
      "execution_count": null,
      "metadata": {
        "id": "2dwj3KDkItk7",
        "outputId": "5dcfaeca-3b88-45dd-eee5-5815149cf995"
      },
      "outputs": [
        {
          "name": "stdout",
          "output_type": "stream",
          "text": [
            "Epoch 1/15\n",
            "2942/2942 [==============================] - 14s 4ms/step - loss: 0.3799 - root_mean_squared_error: 0.5231 - val_loss: 3719.7493 - val_root_mean_squared_error: 60.9897\n",
            "Epoch 2/15\n",
            "2942/2942 [==============================] - 11s 4ms/step - loss: 0.1448 - root_mean_squared_error: 0.3131 - val_loss: 23268.5938 - val_root_mean_squared_error: 152.5405\n",
            "Epoch 3/15\n",
            "2942/2942 [==============================] - 10s 3ms/step - loss: 0.0370 - root_mean_squared_error: 0.1681 - val_loss: 3592.8899 - val_root_mean_squared_error: 59.9407\n",
            "Epoch 4/15\n",
            "2942/2942 [==============================] - 10s 3ms/step - loss: 0.0167 - root_mean_squared_error: 0.1152 - val_loss: 140.0260 - val_root_mean_squared_error: 11.8333\n",
            "Epoch 5/15\n",
            "2942/2942 [==============================] - 10s 3ms/step - loss: 0.0271 - root_mean_squared_error: 0.1379 - val_loss: 2.4917 - val_root_mean_squared_error: 1.5785\n",
            "Epoch 6/15\n",
            "2942/2942 [==============================] - 10s 3ms/step - loss: 0.0226 - root_mean_squared_error: 0.1265 - val_loss: 2.1863 - val_root_mean_squared_error: 1.4786\n",
            "Epoch 7/15\n",
            "2942/2942 [==============================] - 10s 3ms/step - loss: 0.0222 - root_mean_squared_error: 0.1241 - val_loss: 2.1665 - val_root_mean_squared_error: 1.4719\n",
            "Epoch 8/15\n",
            "2942/2942 [==============================] - 10s 3ms/step - loss: 0.0213 - root_mean_squared_error: 0.1211 - val_loss: 2.1825 - val_root_mean_squared_error: 1.4773\n",
            "Epoch 9/15\n",
            "2942/2942 [==============================] - 11s 4ms/step - loss: 0.0173 - root_mean_squared_error: 0.1120 - val_loss: 2.0934 - val_root_mean_squared_error: 1.4469\n",
            "Epoch 10/15\n",
            "2942/2942 [==============================] - 10s 4ms/step - loss: 0.0266 - root_mean_squared_error: 0.1346 - val_loss: 2.1109 - val_root_mean_squared_error: 1.4529\n",
            "Epoch 11/15\n",
            "2942/2942 [==============================] - 10s 3ms/step - loss: 0.0230 - root_mean_squared_error: 0.1258 - val_loss: 2.1425 - val_root_mean_squared_error: 1.4637\n",
            "Epoch 12/15\n",
            "2942/2942 [==============================] - 10s 4ms/step - loss: 0.0209 - root_mean_squared_error: 0.1198 - val_loss: 2.1579 - val_root_mean_squared_error: 1.4690\n",
            "Epoch 13/15\n",
            "2942/2942 [==============================] - 10s 3ms/step - loss: 0.0193 - root_mean_squared_error: 0.1164 - val_loss: 2.1908 - val_root_mean_squared_error: 1.4801\n",
            "Epoch 14/15\n",
            "2942/2942 [==============================] - 10s 3ms/step - loss: 0.0152 - root_mean_squared_error: 0.1071 - val_loss: 2.2167 - val_root_mean_squared_error: 1.4889\n",
            "Epoch 15/15\n",
            "2942/2942 [==============================] - 10s 3ms/step - loss: 0.0170 - root_mean_squared_error: 0.1096 - val_loss: 2.3354 - val_root_mean_squared_error: 1.5282\n"
          ]
        }
      ],
      "source": [
        "history = model.fit(train_X, trainy, epochs=15, batch_size =16, validation_data =(val_X, valy), verbose =1, shuffle=False)"
      ]
    },
    {
      "cell_type": "code",
      "execution_count": null,
      "metadata": {
        "id": "iVdEPBaxItk7",
        "outputId": "a9bb8d67-4bba-4c34-db6e-355fc63856ae"
      },
      "outputs": [
        {
          "data": {
            "image/png": "[encoded data removed]",
            "text/plain": [
              "<Figure size 432x288 with 1 Axes>"
            ]
          },
          "metadata": {
            "needs_background": "light"
          },
          "output_type": "display_data"
        }
      ],
      "source": [
        "plt.plot(history.history['loss'], label='Training loss')\n",
        "plt.plot(history.history['val_loss'], label='Validation loss')\n",
        "plt.legend()\n",
        "plt.show()"
      ]
    },
    {
      "cell_type": "code",
      "execution_count": null,
      "metadata": {
        "id": "gKg0OZNZItk7",
        "outputId": "d4980d6d-b868-46bc-b0ff-533ab1d029fc"
      },
      "outputs": [
        {
          "name": "stdout",
          "output_type": "stream",
          "text": [
            "662/662 [==============================] - 1s 2ms/step - loss: 1185.2885 - root_mean_squared_error: 34.4280\n",
            "score 1185.29\n",
            "score 34.43\n"
          ]
        }
      ],
      "source": [
        "score, acc = model.evaluate(test_X, testy)\n",
        "print('score %.2f'%score)\n",
        "print('score %.2f'%acc)"
      ]
    },
    {
      "cell_type": "code",
      "execution_count": null,
      "metadata": {
        "id": "V02X6YgOItk8",
        "outputId": "4ef70003-8d7f-4d5c-fe0f-9ef50b177562"
      },
      "outputs": [
        {
          "name": "stdout",
          "output_type": "stream",
          "text": [
            "Model: \"sequential_3\"\n",
            "_________________________________________________________________\n",
            "Layer (type)                 Output Shape              Param #   \n",
            "=================================================================\n",
            "lstm_6 (LSTM)                (None, 1, 50)             12600     \n",
            "_________________________________________________________________\n",
            "dropout_2 (Dropout)          (None, 1, 50)             0         \n",
            "_________________________________________________________________\n",
            "lstm_7 (LSTM)                (None, 50)                20200     \n",
            "_________________________________________________________________\n",
            "dropout_3 (Dropout)          (None, 50)                0         \n",
            "_________________________________________________________________\n",
            "dense_3 (Dense)              (None, 1)                 51        \n",
            "=================================================================\n",
            "Total params: 32,851\n",
            "Trainable params: 32,851\n",
            "Non-trainable params: 0\n",
            "_________________________________________________________________\n"
          ]
        }
      ],
      "source": [
        "model1 = Sequential()\n",
        "model1.add(LSTM(50, activation ='relu', input_shape=(1,12), return_sequences=True))\n",
        "model1.add(Dropout(0.2))\n",
        "model1.add(LSTM(50, activation ='relu', return_sequences = False))\n",
        "model1.add(Dropout(0.2))\n",
        "model1.add(Dense(1))\n",
        "model1.compile(optimizer = 'adam', loss ='mse', metrics=['MeanSquaredError'])\n",
        "model1.summary()"
      ]
    },
    {
      "cell_type": "code",
      "execution_count": null,
      "metadata": {
        "id": "9RIRZy0iItk8",
        "outputId": "82f449f9-e0e1-40ba-b5ac-34a02996c0b9"
      },
      "outputs": [
        {
          "name": "stdout",
          "output_type": "stream",
          "text": [
            "Epoch 1/20\n",
            "2942/2942 [==============================] - 15s 4ms/step - loss: 0.4105 - mean_squared_error: 0.4105 - val_loss: 87.4753 - val_mean_squared_error: 87.4753\n",
            "Epoch 2/20\n",
            "2942/2942 [==============================] - 11s 4ms/step - loss: 0.2656 - mean_squared_error: 0.2656 - val_loss: 826.0690 - val_mean_squared_error: 826.0690\n",
            "Epoch 3/20\n",
            "2942/2942 [==============================] - 12s 4ms/step - loss: 0.0787 - mean_squared_error: 0.0787 - val_loss: 1.6662 - val_mean_squared_error: 1.6662\n",
            "Epoch 4/20\n",
            "2942/2942 [==============================] - 13s 5ms/step - loss: 0.0787 - mean_squared_error: 0.0787 - val_loss: 1.5098 - val_mean_squared_error: 1.5098\n",
            "Epoch 5/20\n",
            "2942/2942 [==============================] - 14s 5ms/step - loss: 0.0820 - mean_squared_error: 0.0820 - val_loss: 1.3429 - val_mean_squared_error: 1.3429\n",
            "Epoch 6/20\n",
            "2942/2942 [==============================] - 11s 4ms/step - loss: 0.0885 - mean_squared_error: 0.0885 - val_loss: 1.1973 - val_mean_squared_error: 1.1973\n",
            "Epoch 7/20\n",
            "2942/2942 [==============================] - 11s 4ms/step - loss: 0.0869 - mean_squared_error: 0.0869 - val_loss: 1.1477 - val_mean_squared_error: 1.1477\n",
            "Epoch 8/20\n",
            "2942/2942 [==============================] - 10s 3ms/step - loss: 0.0804 - mean_squared_error: 0.0804 - val_loss: 1.1069 - val_mean_squared_error: 1.1069\n",
            "Epoch 9/20\n",
            "2942/2942 [==============================] - 11s 4ms/step - loss: 0.0777 - mean_squared_error: 0.0777 - val_loss: 1.0170 - val_mean_squared_error: 1.0170\n",
            "Epoch 10/20\n",
            "2942/2942 [==============================] - 13s 5ms/step - loss: 0.0817 - mean_squared_error: 0.0817 - val_loss: 1.0137 - val_mean_squared_error: 1.0137\n",
            "Epoch 11/20\n",
            "2942/2942 [==============================] - 13s 5ms/step - loss: 0.0726 - mean_squared_error: 0.0726 - val_loss: 0.9836 - val_mean_squared_error: 0.9836\n",
            "Epoch 12/20\n",
            "2942/2942 [==============================] - 13s 4ms/step - loss: 0.0727 - mean_squared_error: 0.0727 - val_loss: 0.8986 - val_mean_squared_error: 0.8986\n",
            "Epoch 13/20\n",
            "2942/2942 [==============================] - 12s 4ms/step - loss: 0.0893 - mean_squared_error: 0.0893 - val_loss: 1.0399 - val_mean_squared_error: 1.0399\n",
            "Epoch 14/20\n",
            "2942/2942 [==============================] - 13s 4ms/step - loss: 0.0705 - mean_squared_error: 0.0705 - val_loss: 0.8546 - val_mean_squared_error: 0.8546\n",
            "Epoch 15/20\n",
            "2942/2942 [==============================] - 13s 4ms/step - loss: 0.0747 - mean_squared_error: 0.0747 - val_loss: 0.8824 - val_mean_squared_error: 0.8824\n",
            "Epoch 16/20\n",
            "2942/2942 [==============================] - 13s 4ms/step - loss: 0.0647 - mean_squared_error: 0.0647 - val_loss: 0.8157 - val_mean_squared_error: 0.8157\n",
            "Epoch 17/20\n",
            "2942/2942 [==============================] - 12s 4ms/step - loss: 0.0629 - mean_squared_error: 0.0629 - val_loss: 0.7934 - val_mean_squared_error: 0.7934\n",
            "Epoch 18/20\n",
            "2942/2942 [==============================] - 14s 5ms/step - loss: 0.0639 - mean_squared_error: 0.0639 - val_loss: 0.7786 - val_mean_squared_error: 0.7786\n",
            "Epoch 19/20\n",
            "2942/2942 [==============================] - 13s 5ms/step - loss: 0.0675 - mean_squared_error: 0.0675 - val_loss: 0.7715 - val_mean_squared_error: 0.7715\n",
            "Epoch 20/20\n",
            "2942/2942 [==============================] - 13s 4ms/step - loss: 0.0657 - mean_squared_error: 0.0657 - val_loss: 0.7861 - val_mean_squared_error: 0.7861\n"
          ]
        }
      ],
      "source": [
        "history1 = model1.fit(train_X, trainy, epochs=20, batch_size =16, validation_data =(val_X, valy), verbose =1, shuffle=False)"
      ]
    },
    {
      "cell_type": "code",
      "execution_count": null,
      "metadata": {
        "id": "ls8XeoKcItk8",
        "outputId": "62092582-c831-47d4-8461-3dc74c8b74d6"
      },
      "outputs": [
        {
          "data": {
            "image/png": "[encoded data removed]",
            "text/plain": [
              "<Figure size 432x288 with 1 Axes>"
            ]
          },
          "metadata": {
            "needs_background": "light"
          },
          "output_type": "display_data"
        }
      ],
      "source": [
        "plt.plot(history1.history['loss'], label='Training loss')\n",
        "plt.plot(history1.history['val_loss'], label='Val loss')\n",
        "plt.legend()\n",
        "plt.show()"
      ]
    },
    {
      "cell_type": "code",
      "execution_count": null,
      "metadata": {
        "id": "P8QdHSjsItk8",
        "outputId": "f980921a-215a-4585-ca24-e289bce71f23"
      },
      "outputs": [
        {
          "name": "stdout",
          "output_type": "stream",
          "text": [
            "662/662 [==============================] - 1s 2ms/step - loss: 0.3901 - mean_squared_error: 0.3901\n",
            "score 0.39\n",
            "score 0.39\n"
          ]
        }
      ],
      "source": [
        "score, acc, = model1.evaluate(test_X, testy)\n",
        "print('score %.2f'%score)\n",
        "print('score %.2f'%acc)"
      ]
    },
    {
      "cell_type": "markdown",
      "metadata": {
        "id": "MJMavbP2Itk9"
      },
      "source": [
        "#### Random Forest Regression"
      ]
    },
    {
      "cell_type": "code",
      "execution_count": null,
      "metadata": {
        "id": "L38uNNQPItk9"
      },
      "outputs": [],
      "source": [
        "from sklearn.ensemble import RandomForestRegressor\n",
        "\n",
        "rfr = RandomForestRegressor(random_state=42)"
      ]
    },
    {
      "cell_type": "code",
      "execution_count": null,
      "metadata": {
        "id": "dq-y8NOCItk9",
        "outputId": "6e7ee34e-f40a-47c5-eae0-93c205b8b705"
      },
      "outputs": [
        {
          "data": {
            "text/plain": [
              "RandomForestRegressor(random_state=42)"
            ]
          },
          "execution_count": 36,
          "metadata": {},
          "output_type": "execute_result"
        }
      ],
      "source": [
        "rfr.fit(trainX, trainy)"
      ]
    },
    {
      "cell_type": "code",
      "execution_count": null,
      "metadata": {
        "id": "HEOO0v4rItk9"
      },
      "outputs": [],
      "source": [
        "kr_rfr = rfr.predict(testX)"
      ]
    },
    {
      "cell_type": "code",
      "execution_count": null,
      "metadata": {
        "id": "Z_JseOB-Itk9",
        "outputId": "237b6836-2fa1-41e2-e917-2ce1aff79255"
      },
      "outputs": [
        {
          "name": "stdout",
          "output_type": "stream",
          "text": [
            "1.6173207554368163\n",
            "1.2717392639361327\n"
          ]
        }
      ],
      "source": [
        "from sklearn.metrics import mean_squared_error\n",
        "\n",
        "rfr_mse = mean_squared_error(testy, kr_rfr)\n",
        "rfr_rmse = np.sqrt(rfr_mse)\n",
        "\n",
        "print(rfr_mse)\n",
        "print(rfr_rmse)"
      ]
    },
    {
      "cell_type": "code",
      "execution_count": null,
      "metadata": {
        "id": "GUPvZtDQItk-"
      },
      "outputs": [],
      "source": [
        "#test_score = rfr.score(testX, testy)\n",
        "#print(test_score)"
      ]
    },
    {
      "cell_type": "code",
      "execution_count": null,
      "metadata": {
        "id": "RmTRfkUfItk-"
      },
      "outputs": [],
      "source": [
        "result = permutation_importance(rfr, testX, testy, random_state=42)"
      ]
    },
    {
      "cell_type": "code",
      "execution_count": null,
      "metadata": {
        "id": "UgOEE4K2Itk-",
        "outputId": "d1d2cc6b-2a00-4bab-e2d7-2edebecdf6b3"
      },
      "outputs": [
        {
          "data": {
            "image/png": "[encoded data removed]",
            "text/plain": [
              "<Figure size 720x576 with 1 Axes>"
            ]
          },
          "metadata": {
            "needs_background": "light"
          },
          "output_type": "display_data"
        }
      ],
      "source": [
        "pp = result.importances_mean.argsort()\n",
        "\n",
        "sort_pp = np.argsort(pp)\n",
        "\n",
        "pos = np.arange(sort_pp.shape[0])+0.5\n",
        "y_ticks = np.arange(0,len(train_drop.columns))\n",
        "\n",
        "plt.figure(figsize=(10,8))\n",
        "plt.barh(pos, pp[sort_pp])\n",
        "plt.yticks(y_ticks, train_drop.columns[sort_pp])\n",
        "plt.title('Permutation Importance')\n",
        "plt.show()"
      ]
    },
    {
      "cell_type": "markdown",
      "metadata": {
        "id": "CpqDQAHLItk-"
      },
      "source": [
        "#### Linear Regression"
      ]
    },
    {
      "cell_type": "code",
      "execution_count": null,
      "metadata": {
        "id": "bIe6sUDcItk-"
      },
      "outputs": [],
      "source": [
        "lr = LinearRegression()"
      ]
    },
    {
      "cell_type": "code",
      "execution_count": null,
      "metadata": {
        "id": "q_yqD1tZItk_",
        "outputId": "afc81bbf-d68b-4682-f6ba-642ebf0c7211"
      },
      "outputs": [
        {
          "data": {
            "text/plain": [
              "LinearRegression()"
            ]
          },
          "execution_count": 43,
          "metadata": {},
          "output_type": "execute_result"
        }
      ],
      "source": [
        "lr.fit(trainX, trainy)"
      ]
    },
    {
      "cell_type": "code",
      "execution_count": null,
      "metadata": {
        "id": "xITYvILqItk_"
      },
      "outputs": [],
      "source": [
        "kr_lr = lr.predict(testX)"
      ]
    },
    {
      "cell_type": "code",
      "execution_count": null,
      "metadata": {
        "id": "0_lxRb2dItk_",
        "outputId": "73db7a00-ac4f-4941-bb11-77731002c0b7"
      },
      "outputs": [
        {
          "name": "stdout",
          "output_type": "stream",
          "text": [
            "4335.845155202646\n",
            "65.84713475317393\n"
          ]
        }
      ],
      "source": [
        "lr_mse = mean_squared_error(testy, kr_lr)\n",
        "lr_rmse = np.sqrt(lr_mse)\n",
        "\n",
        "print(lr_mse)\n",
        "print(lr_rmse)"
      ]
    },
    {
      "cell_type": "markdown",
      "metadata": {
        "id": "de2AGyptItk_"
      },
      "source": [
        "#### Ridge"
      ]
    },
    {
      "cell_type": "code",
      "execution_count": null,
      "metadata": {
        "id": "Ji2X_fVqItk_"
      },
      "outputs": [],
      "source": [
        "ridge = Ridge()"
      ]
    },
    {
      "cell_type": "code",
      "execution_count": null,
      "metadata": {
        "id": "l_ZNLzYSItlA",
        "outputId": "92da96ca-2bd6-4139-a35c-355eba2ee2ea"
      },
      "outputs": [
        {
          "data": {
            "text/plain": [
              "Ridge()"
            ]
          },
          "execution_count": 47,
          "metadata": {},
          "output_type": "execute_result"
        }
      ],
      "source": [
        "ridge.fit(trainX, trainy)"
      ]
    },
    {
      "cell_type": "code",
      "execution_count": null,
      "metadata": {
        "id": "vs_9NSdVItlA"
      },
      "outputs": [],
      "source": [
        "kr_ridge = ridge.predict(testX)"
      ]
    },
    {
      "cell_type": "code",
      "execution_count": null,
      "metadata": {
        "id": "Nadi1s1yItlA",
        "outputId": "3d3e62be-b6ef-43c0-fc28-49b11a542529"
      },
      "outputs": [
        {
          "name": "stdout",
          "output_type": "stream",
          "text": [
            "4328.827852339562\n",
            "65.79382837576456\n"
          ]
        }
      ],
      "source": [
        "ridge_mse = mean_squared_error(testy, kr_ridge)\n",
        "ridge_rmse = np.sqrt(ridge_mse)\n",
        "\n",
        "print(ridge_mse)\n",
        "print(ridge_rmse)"
      ]
    },
    {
      "cell_type": "markdown",
      "metadata": {
        "id": "usMk9e4zItlA"
      },
      "source": [
        "#### Lasso"
      ]
    },
    {
      "cell_type": "code",
      "execution_count": null,
      "metadata": {
        "id": "rXuSvXf_ItlA"
      },
      "outputs": [],
      "source": [
        "lasso = Lasso()"
      ]
    },
    {
      "cell_type": "code",
      "execution_count": null,
      "metadata": {
        "id": "A4fOsI9vItlB",
        "outputId": "79ddd5ce-3540-4734-fa44-4c14eee66900"
      },
      "outputs": [
        {
          "data": {
            "text/plain": [
              "Lasso()"
            ]
          },
          "execution_count": 51,
          "metadata": {},
          "output_type": "execute_result"
        }
      ],
      "source": [
        "lasso.fit(trainX, trainy)"
      ]
    },
    {
      "cell_type": "code",
      "execution_count": null,
      "metadata": {
        "id": "FNlYw-TkItlB"
      },
      "outputs": [],
      "source": [
        "kr_lasso = lasso.predict(testX)"
      ]
    },
    {
      "cell_type": "code",
      "execution_count": null,
      "metadata": {
        "id": "eVbte6plItlB",
        "outputId": "3633f8db-28be-419f-fe77-a4c8121d40a1"
      },
      "outputs": [
        {
          "name": "stdout",
          "output_type": "stream",
          "text": [
            "0.6419926796141524\n",
            "0.8012444568383312\n"
          ]
        }
      ],
      "source": [
        "lasso_mse = mean_squared_error(testy, kr_lasso)\n",
        "lasso_rmse = np.sqrt(lasso_mse)\n",
        "\n",
        "print(lasso_mse)\n",
        "print(lasso_rmse)"
      ]
    },
    {
      "cell_type": "markdown",
      "metadata": {
        "id": "OQGilzaiItlB"
      },
      "source": [
        "#### Cross Validation\n",
        "\n",
        "Cross Validation for the all the models except LSTM which has the validation built into the model."
      ]
    },
    {
      "cell_type": "code",
      "execution_count": null,
      "metadata": {
        "id": "2hjqu8yHItlB",
        "outputId": "da703cf2-bf89-4d2d-ae07-d47281b18e77"
      },
      "outputs": [
        {
          "name": "stdout",
          "output_type": "stream",
          "text": [
            "Scores [0.04836997 0.01672447 0.02248315 0.02165954 0.0553563 ]\n",
            "Mean Score 0.03291868620482503\n",
            "Standard Deviation 0.015748713002789714\n"
          ]
        }
      ],
      "source": [
        "rfr_valscore = cross_val_score(rfr, valX, valy, scoring='neg_mean_squared_error', cv=5)\n",
        "\n",
        "rfr_rmse_valscore = np.sqrt(-rfr_valscore)\n",
        "\n",
        "print('Scores', rfr_rmse_valscore)\n",
        "print('Mean Score', rfr_rmse_valscore.mean())\n",
        "print('Standard Deviation', rfr_rmse_valscore.std())"
      ]
    },
    {
      "cell_type": "code",
      "execution_count": null,
      "metadata": {
        "id": "vdn4KNReItlC",
        "outputId": "5294bb55-f5a7-4f45-8562-1941f8244cd4"
      },
      "outputs": [
        {
          "name": "stdout",
          "output_type": "stream",
          "text": [
            "Scores [0.0056053  0.00208547 0.00351925 0.00360065 0.00799929]\n",
            "Mean Score 0.004561991341102838\n",
            "Standard Deviation 0.0020517363410783715\n"
          ]
        }
      ],
      "source": [
        "lr_valscore = cross_val_score(lr, valX, valy, scoring='neg_mean_squared_error', cv=5)\n",
        "\n",
        "lr_rmse_valscore = np.sqrt(-lr_valscore)\n",
        "\n",
        "print('Scores', lr_rmse_valscore)\n",
        "print('Mean Score', lr_rmse_valscore.mean())\n",
        "print('Standard Deviation', lr_rmse_valscore.std())"
      ]
    },
    {
      "cell_type": "code",
      "execution_count": null,
      "metadata": {
        "id": "rFBfvqk5ItlC",
        "outputId": "fca6d1b4-8259-4383-91b5-cff79807f573"
      },
      "outputs": [
        {
          "name": "stdout",
          "output_type": "stream",
          "text": [
            "Scores [0.00518569 0.00188909 0.00340263 0.00307966 0.00912538]\n",
            "Mean Score 0.0045364868712255675\n",
            "Standard Deviation 0.002525710942021522\n"
          ]
        }
      ],
      "source": [
        "ridge_valscore = cross_val_score(ridge, valX, valy, scoring='neg_mean_squared_error', cv=5)\n",
        "\n",
        "ridge_rmse_valscore = np.sqrt(-ridge_valscore)\n",
        "\n",
        "print('Scores', ridge_rmse_valscore)\n",
        "print('Mean Score', ridge_rmse_valscore.mean())\n",
        "print('Standard Deviation', ridge_rmse_valscore.std())"
      ]
    },
    {
      "cell_type": "code",
      "execution_count": null,
      "metadata": {
        "scrolled": true,
        "id": "yXFg_5jSItlC",
        "outputId": "a9e517cb-b4cc-450b-968f-64f03c66d086"
      },
      "outputs": [
        {
          "name": "stdout",
          "output_type": "stream",
          "text": [
            "Scores [0.20823962 0.10784714 0.02260986 0.10597517 0.21264608]\n",
            "Mean Score 0.13146357487955496\n",
            "Standard Deviation 0.07147263184194087\n"
          ]
        }
      ],
      "source": [
        "lasso_valscore = cross_val_score(lasso, valX, valy, scoring='neg_mean_squared_error', cv=5)\n",
        "\n",
        "lasso_rmse_valscore = np.sqrt(-lasso_valscore)\n",
        "\n",
        "print('Scores', lasso_rmse_valscore)\n",
        "print('Mean Score', lasso_rmse_valscore.mean())\n",
        "print('Standard Deviation', lasso_rmse_valscore.std())"
      ]
    },
    {
      "cell_type": "markdown",
      "metadata": {
        "id": "r2p8vg_8ItlD"
      },
      "source": [
        "#### Reference\n",
        "\n",
        "- [181 - LSTM](https://www.youtube.com/watch?v=tepxdcepTbY0)\n",
        "\n",
        "- machinelearningmastery.com-multivariate time series forecasting LSTM "
      ]
    },
    {
      "cell_type": "code",
      "execution_count": null,
      "metadata": {
        "id": "pB1nLST9ItlD"
      },
      "outputs": [],
      "source": []
    }
  ],
  "metadata": {
    "kernelspec": {
      "display_name": "Python 3",
      "language": "python",
      "name": "python3"
    },
    "language_info": {
      "codemirror_mode": {
        "name": "ipython",
        "version": 3
      },
      "file_extension": ".py",
      "mimetype": "text/x-python",
      "name": "python",
      "nbconvert_exporter": "python",
      "pygments_lexer": "ipython3",
      "version": "3.8.5"
    },
    "colab": {
      "provenance": []
    }
  },
  "nbformat": 4,
  "nbformat_minor": 0
}