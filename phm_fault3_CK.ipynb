{
 "cells": [
  {
   "cell_type": "markdown",
   "metadata": {},
   "source": [
    "# <center> ${\\text{Data 606 Capstone Project: Manufacturing}}$"
   ]
  },
  {
   "cell_type": "markdown",
   "metadata": {},
   "source": [
    "#### Import Libraries"
   ]
  },
  {
   "cell_type": "code",
   "execution_count": 32,
   "metadata": {},
   "outputs": [],
   "source": [
    "import numpy as np\n",
    "import pandas as pd\n",
    "import matplotlib.pyplot as plt\n",
    "\n",
    "from sklearn.preprocessing import StandardScaler, MinMaxScaler\n",
    "from sklearn.metrics import classification_report, accuracy_score\n",
    "from sklearn.model_selection import cross_val_score, cross_validate\n",
    "from sklearn.metrics import f1_score, confusion_matrix\n",
    "import seaborn as sns\n",
    "# Regression\n",
    "from sklearn.inspection import permutation_importance\n",
    "from sklearn.ensemble import RandomForestRegressor\n",
    "from sklearn.linear_model import LinearRegression\n",
    "from sklearn.linear_model import Ridge\n",
    "from sklearn.linear_model import Lasso\n",
    "# Classification\n",
    "from sklearn.ensemble import RandomForestClassifier\n",
    "from sklearn.ensemble import GradientBoostingClassifier\n",
    "from sklearn.model_selection import train_test_split\n",
    "from sklearn.linear_model import LogisticRegression\n",
    "from imblearn.combine import SMOTEENN\n",
    "\n",
    "np.random.seed(12)\n",
    "\n",
    "import warnings\n",
    "\n",
    "warnings.filterwarnings('ignore')"
   ]
  },
  {
   "cell_type": "markdown",
   "metadata": {},
   "source": [
    "#### Import files using pandas"
   ]
  },
  {
   "cell_type": "code",
   "execution_count": 4,
   "metadata": {},
   "outputs": [],
   "source": [
    "train02 = pd.read_csv('01_M02_DC_train.csv')\n",
    "ttf = pd.read_csv('01_M02_DC_train_ttf.csv')\n",
    "fault = pd.read_csv('01_M02_train_fault_data.csv')"
   ]
  },
  {
   "cell_type": "markdown",
   "metadata": {},
   "source": [
    "Rename data columns in TTF and view data. "
   ]
  },
  {
   "cell_type": "code",
   "execution_count": null,
   "metadata": {},
   "outputs": [],
   "source": [
    "ttf = ttf.rename({'TTF_FlowCool Pressure Dropped Below Limit':'Flowcool_Pressure_dropped_below_limit'}, axis='columns')\n",
    "ttf = ttf.rename({'TTF_Flowcool Pressure Too High Check Flowcool Pump':'Flowcool_Pressure_Too_High'}, axis='columns')\n",
    "ttf = ttf.rename({'TTF_Flowcool leak':'TTF_Flowcool_leak'}, axis='columns')"
   ]
  },
  {
   "cell_type": "code",
   "execution_count": 6,
   "metadata": {},
   "outputs": [
    {
     "data": {
      "text/html": [
       "<div>\n",
       "<style scoped>\n",
       "    .dataframe tbody tr th:only-of-type {\n",
       "        vertical-align: middle;\n",
       "    }\n",
       "\n",
       "    .dataframe tbody tr th {\n",
       "        vertical-align: top;\n",
       "    }\n",
       "\n",
       "    .dataframe thead th {\n",
       "        text-align: right;\n",
       "    }\n",
       "</style>\n",
       "<table border=\"1\" class=\"dataframe\">\n",
       "  <thead>\n",
       "    <tr style=\"text-align: right;\">\n",
       "      <th></th>\n",
       "      <th>time</th>\n",
       "      <th>Tool</th>\n",
       "      <th>stage</th>\n",
       "      <th>Lot</th>\n",
       "      <th>runnum</th>\n",
       "      <th>recipe</th>\n",
       "      <th>recipe_step</th>\n",
       "      <th>IONGAUGEPRESSURE</th>\n",
       "      <th>ETCHBEAMVOLTAGE</th>\n",
       "      <th>ETCHBEAMCURRENT</th>\n",
       "      <th>...</th>\n",
       "      <th>ETCHGASCHANNEL1READBACK</th>\n",
       "      <th>ETCHPBNGASREADBACK</th>\n",
       "      <th>FIXTURETILTANGLE</th>\n",
       "      <th>ROTATIONSPEED</th>\n",
       "      <th>ACTUALROTATIONANGLE</th>\n",
       "      <th>FIXTURESHUTTERPOSITION</th>\n",
       "      <th>ETCHSOURCEUSAGE</th>\n",
       "      <th>ETCHAUXSOURCETIMER</th>\n",
       "      <th>ETCHAUX2SOURCETIMER</th>\n",
       "      <th>ACTUALSTEPDURATION</th>\n",
       "    </tr>\n",
       "  </thead>\n",
       "  <tbody>\n",
       "    <tr>\n",
       "      <th>0</th>\n",
       "      <td>3283834</td>\n",
       "      <td>01M02</td>\n",
       "      <td>1</td>\n",
       "      <td>9253</td>\n",
       "      <td>10511673</td>\n",
       "      <td>67</td>\n",
       "      <td>1</td>\n",
       "      <td>-0.079428</td>\n",
       "      <td>-0.958814</td>\n",
       "      <td>-0.959509</td>\n",
       "      <td>...</td>\n",
       "      <td>-1.751661</td>\n",
       "      <td>-2.783162</td>\n",
       "      <td>2.027848</td>\n",
       "      <td>-0.013207</td>\n",
       "      <td>-0.122437</td>\n",
       "      <td>0.0</td>\n",
       "      <td>2.39537</td>\n",
       "      <td>2.871511</td>\n",
       "      <td>3.175941</td>\n",
       "      <td>4.037785</td>\n",
       "    </tr>\n",
       "    <tr>\n",
       "      <th>1</th>\n",
       "      <td>3283838</td>\n",
       "      <td>01M02</td>\n",
       "      <td>1</td>\n",
       "      <td>9253</td>\n",
       "      <td>10511673</td>\n",
       "      <td>67</td>\n",
       "      <td>1</td>\n",
       "      <td>-0.079419</td>\n",
       "      <td>-0.958928</td>\n",
       "      <td>-0.959651</td>\n",
       "      <td>...</td>\n",
       "      <td>-1.743905</td>\n",
       "      <td>-2.780884</td>\n",
       "      <td>2.027848</td>\n",
       "      <td>-0.013207</td>\n",
       "      <td>-0.122437</td>\n",
       "      <td>0.0</td>\n",
       "      <td>2.39537</td>\n",
       "      <td>2.871511</td>\n",
       "      <td>3.175941</td>\n",
       "      <td>4.037785</td>\n",
       "    </tr>\n",
       "    <tr>\n",
       "      <th>2</th>\n",
       "      <td>3283842</td>\n",
       "      <td>01M02</td>\n",
       "      <td>1</td>\n",
       "      <td>9253</td>\n",
       "      <td>10511673</td>\n",
       "      <td>67</td>\n",
       "      <td>1</td>\n",
       "      <td>-0.079409</td>\n",
       "      <td>-0.959156</td>\n",
       "      <td>-0.960006</td>\n",
       "      <td>...</td>\n",
       "      <td>-1.743905</td>\n",
       "      <td>-2.780884</td>\n",
       "      <td>2.027848</td>\n",
       "      <td>-0.013207</td>\n",
       "      <td>-0.122437</td>\n",
       "      <td>0.0</td>\n",
       "      <td>2.39537</td>\n",
       "      <td>2.871511</td>\n",
       "      <td>3.175941</td>\n",
       "      <td>4.037785</td>\n",
       "    </tr>\n",
       "    <tr>\n",
       "      <th>3</th>\n",
       "      <td>3283846</td>\n",
       "      <td>01M02</td>\n",
       "      <td>1</td>\n",
       "      <td>9253</td>\n",
       "      <td>10511673</td>\n",
       "      <td>67</td>\n",
       "      <td>1</td>\n",
       "      <td>-0.079420</td>\n",
       "      <td>-0.958928</td>\n",
       "      <td>-0.959297</td>\n",
       "      <td>...</td>\n",
       "      <td>-1.747158</td>\n",
       "      <td>-2.780884</td>\n",
       "      <td>2.027848</td>\n",
       "      <td>-0.013207</td>\n",
       "      <td>-0.122437</td>\n",
       "      <td>0.0</td>\n",
       "      <td>2.39537</td>\n",
       "      <td>2.871511</td>\n",
       "      <td>3.175941</td>\n",
       "      <td>4.037785</td>\n",
       "    </tr>\n",
       "    <tr>\n",
       "      <th>4</th>\n",
       "      <td>3283850</td>\n",
       "      <td>01M02</td>\n",
       "      <td>1</td>\n",
       "      <td>9253</td>\n",
       "      <td>10511673</td>\n",
       "      <td>67</td>\n",
       "      <td>1</td>\n",
       "      <td>-0.079430</td>\n",
       "      <td>-0.959269</td>\n",
       "      <td>-0.959438</td>\n",
       "      <td>...</td>\n",
       "      <td>-1.747158</td>\n",
       "      <td>-2.784389</td>\n",
       "      <td>2.027848</td>\n",
       "      <td>-0.013207</td>\n",
       "      <td>-0.122437</td>\n",
       "      <td>0.0</td>\n",
       "      <td>2.39537</td>\n",
       "      <td>2.871511</td>\n",
       "      <td>3.175941</td>\n",
       "      <td>4.037785</td>\n",
       "    </tr>\n",
       "  </tbody>\n",
       "</table>\n",
       "<p>5 rows × 24 columns</p>\n",
       "</div>"
      ],
      "text/plain": [
       "      time   Tool  stage   Lot    runnum  recipe  recipe_step  \\\n",
       "0  3283834  01M02      1  9253  10511673      67            1   \n",
       "1  3283838  01M02      1  9253  10511673      67            1   \n",
       "2  3283842  01M02      1  9253  10511673      67            1   \n",
       "3  3283846  01M02      1  9253  10511673      67            1   \n",
       "4  3283850  01M02      1  9253  10511673      67            1   \n",
       "\n",
       "   IONGAUGEPRESSURE  ETCHBEAMVOLTAGE  ETCHBEAMCURRENT  ...  \\\n",
       "0         -0.079428        -0.958814        -0.959509  ...   \n",
       "1         -0.079419        -0.958928        -0.959651  ...   \n",
       "2         -0.079409        -0.959156        -0.960006  ...   \n",
       "3         -0.079420        -0.958928        -0.959297  ...   \n",
       "4         -0.079430        -0.959269        -0.959438  ...   \n",
       "\n",
       "   ETCHGASCHANNEL1READBACK  ETCHPBNGASREADBACK  FIXTURETILTANGLE  \\\n",
       "0                -1.751661           -2.783162          2.027848   \n",
       "1                -1.743905           -2.780884          2.027848   \n",
       "2                -1.743905           -2.780884          2.027848   \n",
       "3                -1.747158           -2.780884          2.027848   \n",
       "4                -1.747158           -2.784389          2.027848   \n",
       "\n",
       "   ROTATIONSPEED  ACTUALROTATIONANGLE  FIXTURESHUTTERPOSITION  \\\n",
       "0      -0.013207            -0.122437                     0.0   \n",
       "1      -0.013207            -0.122437                     0.0   \n",
       "2      -0.013207            -0.122437                     0.0   \n",
       "3      -0.013207            -0.122437                     0.0   \n",
       "4      -0.013207            -0.122437                     0.0   \n",
       "\n",
       "   ETCHSOURCEUSAGE  ETCHAUXSOURCETIMER  ETCHAUX2SOURCETIMER  \\\n",
       "0          2.39537            2.871511             3.175941   \n",
       "1          2.39537            2.871511             3.175941   \n",
       "2          2.39537            2.871511             3.175941   \n",
       "3          2.39537            2.871511             3.175941   \n",
       "4          2.39537            2.871511             3.175941   \n",
       "\n",
       "   ACTUALSTEPDURATION  \n",
       "0            4.037785  \n",
       "1            4.037785  \n",
       "2            4.037785  \n",
       "3            4.037785  \n",
       "4            4.037785  \n",
       "\n",
       "[5 rows x 24 columns]"
      ]
     },
     "execution_count": 6,
     "metadata": {},
     "output_type": "execute_result"
    }
   ],
   "source": [
    "train02.head()"
   ]
  },
  {
   "cell_type": "code",
   "execution_count": 7,
   "metadata": {},
   "outputs": [
    {
     "data": {
      "text/html": [
       "<div>\n",
       "<style scoped>\n",
       "    .dataframe tbody tr th:only-of-type {\n",
       "        vertical-align: middle;\n",
       "    }\n",
       "\n",
       "    .dataframe tbody tr th {\n",
       "        vertical-align: top;\n",
       "    }\n",
       "\n",
       "    .dataframe thead th {\n",
       "        text-align: right;\n",
       "    }\n",
       "</style>\n",
       "<table border=\"1\" class=\"dataframe\">\n",
       "  <thead>\n",
       "    <tr style=\"text-align: right;\">\n",
       "      <th></th>\n",
       "      <th>time</th>\n",
       "      <th>Flowcool_Pressure_dropped_below_limit</th>\n",
       "      <th>Flowcool_Pressure_Too_High</th>\n",
       "      <th>TTF_Flowcool_leak</th>\n",
       "    </tr>\n",
       "  </thead>\n",
       "  <tbody>\n",
       "    <tr>\n",
       "      <th>0</th>\n",
       "      <td>3283834</td>\n",
       "      <td>623234.0</td>\n",
       "      <td>9146470.0</td>\n",
       "      <td>632514.0</td>\n",
       "    </tr>\n",
       "    <tr>\n",
       "      <th>1</th>\n",
       "      <td>3283838</td>\n",
       "      <td>623230.0</td>\n",
       "      <td>9146466.0</td>\n",
       "      <td>632510.0</td>\n",
       "    </tr>\n",
       "    <tr>\n",
       "      <th>2</th>\n",
       "      <td>3283842</td>\n",
       "      <td>623226.0</td>\n",
       "      <td>9146462.0</td>\n",
       "      <td>632506.0</td>\n",
       "    </tr>\n",
       "    <tr>\n",
       "      <th>3</th>\n",
       "      <td>3283846</td>\n",
       "      <td>623222.0</td>\n",
       "      <td>9146458.0</td>\n",
       "      <td>632502.0</td>\n",
       "    </tr>\n",
       "    <tr>\n",
       "      <th>4</th>\n",
       "      <td>3283850</td>\n",
       "      <td>623218.0</td>\n",
       "      <td>9146454.0</td>\n",
       "      <td>632498.0</td>\n",
       "    </tr>\n",
       "  </tbody>\n",
       "</table>\n",
       "</div>"
      ],
      "text/plain": [
       "      time  Flowcool_Pressure_dropped_below_limit  Flowcool_Pressure_Too_High  \\\n",
       "0  3283834                               623234.0                   9146470.0   \n",
       "1  3283838                               623230.0                   9146466.0   \n",
       "2  3283842                               623226.0                   9146462.0   \n",
       "3  3283846                               623222.0                   9146458.0   \n",
       "4  3283850                               623218.0                   9146454.0   \n",
       "\n",
       "   TTF_Flowcool_leak  \n",
       "0           632514.0  \n",
       "1           632510.0  \n",
       "2           632506.0  \n",
       "3           632502.0  \n",
       "4           632498.0  "
      ]
     },
     "execution_count": 7,
     "metadata": {},
     "output_type": "execute_result"
    }
   ],
   "source": [
    "ttf.head()"
   ]
  },
  {
   "cell_type": "markdown",
   "metadata": {},
   "source": [
    "#### Merge the data. "
   ]
  },
  {
   "cell_type": "code",
   "execution_count": 8,
   "metadata": {},
   "outputs": [],
   "source": [
    "alldata = pd.merge(train02, ttf, how='outer', on='time')"
   ]
  },
  {
   "cell_type": "markdown",
   "metadata": {},
   "source": [
    "#### Create new features \n",
    "\n",
    "Create new features for the four different scenarios used in classification for Fault 3 - Flowcool Leak. Below are the lower limits the uppper limits define later. "
   ]
  },
  {
   "cell_type": "code",
   "execution_count": 9,
   "metadata": {},
   "outputs": [],
   "source": [
    "numlimit1 = 600\n",
    "numlimit2 = 2400\n",
    "numlimit3 = 3600\n",
    "numlimit4 = 20000"
   ]
  },
  {
   "cell_type": "code",
   "execution_count": 10,
   "metadata": {},
   "outputs": [],
   "source": [
    "alldata['fault1_a'] = alldata['TTF_Flowcool_leak'].apply(lambda x:1 if x <= numlimit1 else 0)\n",
    "alldata['fault1_b'] = alldata['TTF_Flowcool_leak'].apply(lambda x:1 if x <= numlimit2 else 0)\n",
    "alldata['fault1_c'] = alldata['TTF_Flowcool_leak'].apply(lambda x:1 if x <= numlimit3 else 0)\n",
    "alldata['fault1_d'] = alldata['TTF_Flowcool_leak'].apply(lambda x:1 if x <= numlimit3 else 0)"
   ]
  },
  {
   "cell_type": "code",
   "execution_count": 11,
   "metadata": {},
   "outputs": [
    {
     "data": {
      "text/html": [
       "<div>\n",
       "<style scoped>\n",
       "    .dataframe tbody tr th:only-of-type {\n",
       "        vertical-align: middle;\n",
       "    }\n",
       "\n",
       "    .dataframe tbody tr th {\n",
       "        vertical-align: top;\n",
       "    }\n",
       "\n",
       "    .dataframe thead th {\n",
       "        text-align: right;\n",
       "    }\n",
       "</style>\n",
       "<table border=\"1\" class=\"dataframe\">\n",
       "  <thead>\n",
       "    <tr style=\"text-align: right;\">\n",
       "      <th></th>\n",
       "      <th>time</th>\n",
       "      <th>Tool</th>\n",
       "      <th>stage</th>\n",
       "      <th>Lot</th>\n",
       "      <th>runnum</th>\n",
       "      <th>recipe</th>\n",
       "      <th>recipe_step</th>\n",
       "      <th>IONGAUGEPRESSURE</th>\n",
       "      <th>ETCHBEAMVOLTAGE</th>\n",
       "      <th>ETCHBEAMCURRENT</th>\n",
       "      <th>...</th>\n",
       "      <th>ETCHAUXSOURCETIMER</th>\n",
       "      <th>ETCHAUX2SOURCETIMER</th>\n",
       "      <th>ACTUALSTEPDURATION</th>\n",
       "      <th>Flowcool_Pressure_dropped_below_limit</th>\n",
       "      <th>Flowcool_Pressure_Too_High</th>\n",
       "      <th>TTF_Flowcool_leak</th>\n",
       "      <th>fault1_a</th>\n",
       "      <th>fault1_b</th>\n",
       "      <th>fault1_c</th>\n",
       "      <th>fault1_d</th>\n",
       "    </tr>\n",
       "  </thead>\n",
       "  <tbody>\n",
       "    <tr>\n",
       "      <th>0</th>\n",
       "      <td>3283834</td>\n",
       "      <td>01M02</td>\n",
       "      <td>1</td>\n",
       "      <td>9253</td>\n",
       "      <td>10511673</td>\n",
       "      <td>67</td>\n",
       "      <td>1</td>\n",
       "      <td>-0.079428</td>\n",
       "      <td>-0.958814</td>\n",
       "      <td>-0.959509</td>\n",
       "      <td>...</td>\n",
       "      <td>2.871511</td>\n",
       "      <td>3.175941</td>\n",
       "      <td>4.037785</td>\n",
       "      <td>623234.0</td>\n",
       "      <td>9146470.0</td>\n",
       "      <td>632514.0</td>\n",
       "      <td>0</td>\n",
       "      <td>0</td>\n",
       "      <td>0</td>\n",
       "      <td>0</td>\n",
       "    </tr>\n",
       "    <tr>\n",
       "      <th>1</th>\n",
       "      <td>3283838</td>\n",
       "      <td>01M02</td>\n",
       "      <td>1</td>\n",
       "      <td>9253</td>\n",
       "      <td>10511673</td>\n",
       "      <td>67</td>\n",
       "      <td>1</td>\n",
       "      <td>-0.079419</td>\n",
       "      <td>-0.958928</td>\n",
       "      <td>-0.959651</td>\n",
       "      <td>...</td>\n",
       "      <td>2.871511</td>\n",
       "      <td>3.175941</td>\n",
       "      <td>4.037785</td>\n",
       "      <td>623230.0</td>\n",
       "      <td>9146466.0</td>\n",
       "      <td>632510.0</td>\n",
       "      <td>0</td>\n",
       "      <td>0</td>\n",
       "      <td>0</td>\n",
       "      <td>0</td>\n",
       "    </tr>\n",
       "    <tr>\n",
       "      <th>2</th>\n",
       "      <td>3283842</td>\n",
       "      <td>01M02</td>\n",
       "      <td>1</td>\n",
       "      <td>9253</td>\n",
       "      <td>10511673</td>\n",
       "      <td>67</td>\n",
       "      <td>1</td>\n",
       "      <td>-0.079409</td>\n",
       "      <td>-0.959156</td>\n",
       "      <td>-0.960006</td>\n",
       "      <td>...</td>\n",
       "      <td>2.871511</td>\n",
       "      <td>3.175941</td>\n",
       "      <td>4.037785</td>\n",
       "      <td>623226.0</td>\n",
       "      <td>9146462.0</td>\n",
       "      <td>632506.0</td>\n",
       "      <td>0</td>\n",
       "      <td>0</td>\n",
       "      <td>0</td>\n",
       "      <td>0</td>\n",
       "    </tr>\n",
       "    <tr>\n",
       "      <th>3</th>\n",
       "      <td>3283846</td>\n",
       "      <td>01M02</td>\n",
       "      <td>1</td>\n",
       "      <td>9253</td>\n",
       "      <td>10511673</td>\n",
       "      <td>67</td>\n",
       "      <td>1</td>\n",
       "      <td>-0.079420</td>\n",
       "      <td>-0.958928</td>\n",
       "      <td>-0.959297</td>\n",
       "      <td>...</td>\n",
       "      <td>2.871511</td>\n",
       "      <td>3.175941</td>\n",
       "      <td>4.037785</td>\n",
       "      <td>623222.0</td>\n",
       "      <td>9146458.0</td>\n",
       "      <td>632502.0</td>\n",
       "      <td>0</td>\n",
       "      <td>0</td>\n",
       "      <td>0</td>\n",
       "      <td>0</td>\n",
       "    </tr>\n",
       "    <tr>\n",
       "      <th>4</th>\n",
       "      <td>3283850</td>\n",
       "      <td>01M02</td>\n",
       "      <td>1</td>\n",
       "      <td>9253</td>\n",
       "      <td>10511673</td>\n",
       "      <td>67</td>\n",
       "      <td>1</td>\n",
       "      <td>-0.079430</td>\n",
       "      <td>-0.959269</td>\n",
       "      <td>-0.959438</td>\n",
       "      <td>...</td>\n",
       "      <td>2.871511</td>\n",
       "      <td>3.175941</td>\n",
       "      <td>4.037785</td>\n",
       "      <td>623218.0</td>\n",
       "      <td>9146454.0</td>\n",
       "      <td>632498.0</td>\n",
       "      <td>0</td>\n",
       "      <td>0</td>\n",
       "      <td>0</td>\n",
       "      <td>0</td>\n",
       "    </tr>\n",
       "  </tbody>\n",
       "</table>\n",
       "<p>5 rows × 31 columns</p>\n",
       "</div>"
      ],
      "text/plain": [
       "      time   Tool  stage   Lot    runnum  recipe  recipe_step  \\\n",
       "0  3283834  01M02      1  9253  10511673      67            1   \n",
       "1  3283838  01M02      1  9253  10511673      67            1   \n",
       "2  3283842  01M02      1  9253  10511673      67            1   \n",
       "3  3283846  01M02      1  9253  10511673      67            1   \n",
       "4  3283850  01M02      1  9253  10511673      67            1   \n",
       "\n",
       "   IONGAUGEPRESSURE  ETCHBEAMVOLTAGE  ETCHBEAMCURRENT  ...  \\\n",
       "0         -0.079428        -0.958814        -0.959509  ...   \n",
       "1         -0.079419        -0.958928        -0.959651  ...   \n",
       "2         -0.079409        -0.959156        -0.960006  ...   \n",
       "3         -0.079420        -0.958928        -0.959297  ...   \n",
       "4         -0.079430        -0.959269        -0.959438  ...   \n",
       "\n",
       "   ETCHAUXSOURCETIMER  ETCHAUX2SOURCETIMER  ACTUALSTEPDURATION  \\\n",
       "0            2.871511             3.175941            4.037785   \n",
       "1            2.871511             3.175941            4.037785   \n",
       "2            2.871511             3.175941            4.037785   \n",
       "3            2.871511             3.175941            4.037785   \n",
       "4            2.871511             3.175941            4.037785   \n",
       "\n",
       "   Flowcool_Pressure_dropped_below_limit  Flowcool_Pressure_Too_High  \\\n",
       "0                               623234.0                   9146470.0   \n",
       "1                               623230.0                   9146466.0   \n",
       "2                               623226.0                   9146462.0   \n",
       "3                               623222.0                   9146458.0   \n",
       "4                               623218.0                   9146454.0   \n",
       "\n",
       "   TTF_Flowcool_leak  fault1_a  fault1_b  fault1_c  fault1_d  \n",
       "0           632514.0         0         0         0         0  \n",
       "1           632510.0         0         0         0         0  \n",
       "2           632506.0         0         0         0         0  \n",
       "3           632502.0         0         0         0         0  \n",
       "4           632498.0         0         0         0         0  \n",
       "\n",
       "[5 rows x 31 columns]"
      ]
     },
     "execution_count": 11,
     "metadata": {},
     "output_type": "execute_result"
    }
   ],
   "source": [
    "alldata.head()"
   ]
  },
  {
   "cell_type": "markdown",
   "metadata": {},
   "source": [
    "## Classification\n",
    "\n",
    "- For each scenario the upper limit is define for Fault 3 - Flowcool Leak.\n",
    "- The Random Forest Classifier, Gradient Boosting Classifier and the Logistic Regression are run. \n",
    "- The models for each scenario are compared. \n",
    "- SMOTEENN for the Logistic Regression Scenario 1."
   ]
  },
  {
   "cell_type": "markdown",
   "metadata": {},
   "source": [
    "###  Scenario 1: Limit is 10800 and isfailure is 600 - 3 hours, 10 minutes"
   ]
  },
  {
   "cell_type": "code",
   "execution_count": 12,
   "metadata": {},
   "outputs": [],
   "source": [
    "cl_f1a_data = alldata.drop(['time','Lot','Tool','stage','recipe','recipe_step','ROTATIONSPEED','ETCHBEAMCURRENT','ETCHSUPPRESSORVOLTAGE',\n",
    "                        'ETCHSUPPRESSORCURRENT','ETCHAUXSOURCETIMER','ETCHAUX2SOURCETIMER','Flowcool_Pressure_dropped_below_limit','Flowcool_Pressure_Too_High',\n",
    "                       'fault1_b', 'fault1_c','fault1_d'], axis=1)"
   ]
  },
  {
   "cell_type": "code",
   "execution_count": 13,
   "metadata": {},
   "outputs": [],
   "source": [
    "clf1data = cl_f1a_data.dropna()"
   ]
  },
  {
   "cell_type": "code",
   "execution_count": 14,
   "metadata": {},
   "outputs": [],
   "source": [
    "cutoff_1a = 10800\n",
    "\n",
    "cl_cutoff1a = clf1data.loc[clf1data['TTF_Flowcool_leak']<cutoff_1a].copy()"
   ]
  },
  {
   "cell_type": "code",
   "execution_count": 15,
   "metadata": {},
   "outputs": [],
   "source": [
    "cl_X1a = cl_cutoff1a.drop(['TTF_Flowcool_leak', 'fault1_a'], axis=1)\n",
    "cl_Y1a = cl_cutoff1a['fault1_a']"
   ]
  },
  {
   "cell_type": "code",
   "execution_count": 16,
   "metadata": {
    "scrolled": true
   },
   "outputs": [
    {
     "data": {
      "text/html": [
       "<div>\n",
       "<style scoped>\n",
       "    .dataframe tbody tr th:only-of-type {\n",
       "        vertical-align: middle;\n",
       "    }\n",
       "\n",
       "    .dataframe tbody tr th {\n",
       "        vertical-align: top;\n",
       "    }\n",
       "\n",
       "    .dataframe thead th {\n",
       "        text-align: right;\n",
       "    }\n",
       "</style>\n",
       "<table border=\"1\" class=\"dataframe\">\n",
       "  <thead>\n",
       "    <tr style=\"text-align: right;\">\n",
       "      <th></th>\n",
       "      <th>runnum</th>\n",
       "      <th>IONGAUGEPRESSURE</th>\n",
       "      <th>ETCHBEAMVOLTAGE</th>\n",
       "      <th>FLOWCOOLFLOWRATE</th>\n",
       "      <th>FLOWCOOLPRESSURE</th>\n",
       "      <th>ETCHGASCHANNEL1READBACK</th>\n",
       "      <th>ETCHPBNGASREADBACK</th>\n",
       "      <th>FIXTURETILTANGLE</th>\n",
       "      <th>ACTUALROTATIONANGLE</th>\n",
       "      <th>FIXTURESHUTTERPOSITION</th>\n",
       "      <th>ETCHSOURCEUSAGE</th>\n",
       "      <th>ACTUALSTEPDURATION</th>\n",
       "    </tr>\n",
       "  </thead>\n",
       "  <tbody>\n",
       "    <tr>\n",
       "      <th>130854</th>\n",
       "      <td>10548007</td>\n",
       "      <td>-0.016305</td>\n",
       "      <td>-0.952501</td>\n",
       "      <td>0.569103</td>\n",
       "      <td>0.219166</td>\n",
       "      <td>-0.060052</td>\n",
       "      <td>0.347284</td>\n",
       "      <td>0.022131</td>\n",
       "      <td>-0.122455</td>\n",
       "      <td>1.0</td>\n",
       "      <td>2.785817</td>\n",
       "      <td>0.021044</td>\n",
       "    </tr>\n",
       "    <tr>\n",
       "      <th>130855</th>\n",
       "      <td>10548007</td>\n",
       "      <td>-0.016305</td>\n",
       "      <td>-0.952501</td>\n",
       "      <td>0.569103</td>\n",
       "      <td>0.219166</td>\n",
       "      <td>-0.060052</td>\n",
       "      <td>0.362004</td>\n",
       "      <td>0.022131</td>\n",
       "      <td>-0.122455</td>\n",
       "      <td>1.0</td>\n",
       "      <td>2.785818</td>\n",
       "      <td>0.021044</td>\n",
       "    </tr>\n",
       "    <tr>\n",
       "      <th>130856</th>\n",
       "      <td>10548007</td>\n",
       "      <td>-0.016305</td>\n",
       "      <td>-0.952558</td>\n",
       "      <td>0.565479</td>\n",
       "      <td>0.221736</td>\n",
       "      <td>-0.060052</td>\n",
       "      <td>0.362004</td>\n",
       "      <td>0.022131</td>\n",
       "      <td>-0.122455</td>\n",
       "      <td>1.0</td>\n",
       "      <td>2.785822</td>\n",
       "      <td>0.021044</td>\n",
       "    </tr>\n",
       "    <tr>\n",
       "      <th>130857</th>\n",
       "      <td>10548007</td>\n",
       "      <td>-0.016305</td>\n",
       "      <td>-0.952672</td>\n",
       "      <td>0.565479</td>\n",
       "      <td>0.219166</td>\n",
       "      <td>-0.066554</td>\n",
       "      <td>0.348512</td>\n",
       "      <td>0.022131</td>\n",
       "      <td>-0.122455</td>\n",
       "      <td>1.0</td>\n",
       "      <td>2.785825</td>\n",
       "      <td>0.021044</td>\n",
       "    </tr>\n",
       "    <tr>\n",
       "      <th>130858</th>\n",
       "      <td>10548007</td>\n",
       "      <td>-0.020102</td>\n",
       "      <td>-0.952331</td>\n",
       "      <td>0.565479</td>\n",
       "      <td>0.219166</td>\n",
       "      <td>-0.046787</td>\n",
       "      <td>0.348512</td>\n",
       "      <td>0.022131</td>\n",
       "      <td>-0.122455</td>\n",
       "      <td>1.0</td>\n",
       "      <td>2.785828</td>\n",
       "      <td>0.021044</td>\n",
       "    </tr>\n",
       "  </tbody>\n",
       "</table>\n",
       "</div>"
      ],
      "text/plain": [
       "          runnum  IONGAUGEPRESSURE  ETCHBEAMVOLTAGE  FLOWCOOLFLOWRATE  \\\n",
       "130854  10548007         -0.016305        -0.952501          0.569103   \n",
       "130855  10548007         -0.016305        -0.952501          0.569103   \n",
       "130856  10548007         -0.016305        -0.952558          0.565479   \n",
       "130857  10548007         -0.016305        -0.952672          0.565479   \n",
       "130858  10548007         -0.020102        -0.952331          0.565479   \n",
       "\n",
       "        FLOWCOOLPRESSURE  ETCHGASCHANNEL1READBACK  ETCHPBNGASREADBACK  \\\n",
       "130854          0.219166                -0.060052            0.347284   \n",
       "130855          0.219166                -0.060052            0.362004   \n",
       "130856          0.221736                -0.060052            0.362004   \n",
       "130857          0.219166                -0.066554            0.348512   \n",
       "130858          0.219166                -0.046787            0.348512   \n",
       "\n",
       "        FIXTURETILTANGLE  ACTUALROTATIONANGLE  FIXTURESHUTTERPOSITION  \\\n",
       "130854          0.022131            -0.122455                     1.0   \n",
       "130855          0.022131            -0.122455                     1.0   \n",
       "130856          0.022131            -0.122455                     1.0   \n",
       "130857          0.022131            -0.122455                     1.0   \n",
       "130858          0.022131            -0.122455                     1.0   \n",
       "\n",
       "        ETCHSOURCEUSAGE  ACTUALSTEPDURATION  \n",
       "130854         2.785817            0.021044  \n",
       "130855         2.785818            0.021044  \n",
       "130856         2.785822            0.021044  \n",
       "130857         2.785825            0.021044  \n",
       "130858         2.785828            0.021044  "
      ]
     },
     "execution_count": 16,
     "metadata": {},
     "output_type": "execute_result"
    }
   ],
   "source": [
    "cl_X1a.head()"
   ]
  },
  {
   "cell_type": "code",
   "execution_count": 17,
   "metadata": {
    "scrolled": true
   },
   "outputs": [
    {
     "data": {
      "text/plain": [
       "0    25304\n",
       "1     1901\n",
       "Name: fault1_a, dtype: int64"
      ]
     },
     "execution_count": 17,
     "metadata": {},
     "output_type": "execute_result"
    }
   ],
   "source": [
    "cl_Y1a.value_counts()"
   ]
  },
  {
   "cell_type": "code",
   "execution_count": 83,
   "metadata": {},
   "outputs": [
    {
     "data": {
      "image/png": "[encoded data removed]",
      "text/plain": [
       "<Figure size 432x288 with 1 Axes>"
      ]
     },
     "metadata": {
      "needs_background": "light"
     },
     "output_type": "display_data"
    }
   ],
   "source": [
    "cl_Y1a.value_counts().plot(kind='bar')\n",
    "plt.title(\"Flowcool Leak \\n Data Imbalance Scenario 1\")\n",
    "plt.xticks()\n",
    "plt.show()"
   ]
  },
  {
   "cell_type": "code",
   "execution_count": 19,
   "metadata": {},
   "outputs": [],
   "source": [
    "X_train1a, X_test1a, Y_train1a, Y_test1a = train_test_split(cl_X1a, cl_Y1a, test_size = 0.2, random_state=42)"
   ]
  },
  {
   "cell_type": "code",
   "execution_count": 20,
   "metadata": {},
   "outputs": [
    {
     "data": {
      "text/html": [
       "<div>\n",
       "<style scoped>\n",
       "    .dataframe tbody tr th:only-of-type {\n",
       "        vertical-align: middle;\n",
       "    }\n",
       "\n",
       "    .dataframe tbody tr th {\n",
       "        vertical-align: top;\n",
       "    }\n",
       "\n",
       "    .dataframe thead th {\n",
       "        text-align: right;\n",
       "    }\n",
       "</style>\n",
       "<table border=\"1\" class=\"dataframe\">\n",
       "  <thead>\n",
       "    <tr style=\"text-align: right;\">\n",
       "      <th></th>\n",
       "      <th>runnum</th>\n",
       "      <th>IONGAUGEPRESSURE</th>\n",
       "      <th>ETCHBEAMVOLTAGE</th>\n",
       "      <th>FLOWCOOLFLOWRATE</th>\n",
       "      <th>FLOWCOOLPRESSURE</th>\n",
       "      <th>ETCHGASCHANNEL1READBACK</th>\n",
       "      <th>ETCHPBNGASREADBACK</th>\n",
       "      <th>FIXTURETILTANGLE</th>\n",
       "      <th>ACTUALROTATIONANGLE</th>\n",
       "      <th>FIXTURESHUTTERPOSITION</th>\n",
       "      <th>ETCHSOURCEUSAGE</th>\n",
       "      <th>ACTUALSTEPDURATION</th>\n",
       "    </tr>\n",
       "  </thead>\n",
       "  <tbody>\n",
       "    <tr>\n",
       "      <th>145803</th>\n",
       "      <td>10551521</td>\n",
       "      <td>-0.079480</td>\n",
       "      <td>-0.958587</td>\n",
       "      <td>-2.840944</td>\n",
       "      <td>-2.332807</td>\n",
       "      <td>-1.745656</td>\n",
       "      <td>-2.784389</td>\n",
       "      <td>0.022131</td>\n",
       "      <td>4.530131</td>\n",
       "      <td>0.0</td>\n",
       "      <td>2.806265</td>\n",
       "      <td>0.803526</td>\n",
       "    </tr>\n",
       "    <tr>\n",
       "      <th>2211715</th>\n",
       "      <td>11475357</td>\n",
       "      <td>0.031457</td>\n",
       "      <td>0.710672</td>\n",
       "      <td>-0.288881</td>\n",
       "      <td>0.124666</td>\n",
       "      <td>1.405384</td>\n",
       "      <td>0.366562</td>\n",
       "      <td>1.359276</td>\n",
       "      <td>-0.122446</td>\n",
       "      <td>2.0</td>\n",
       "      <td>0.049349</td>\n",
       "      <td>0.021044</td>\n",
       "    </tr>\n",
       "    <tr>\n",
       "      <th>917702</th>\n",
       "      <td>10888413</td>\n",
       "      <td>0.007118</td>\n",
       "      <td>0.710727</td>\n",
       "      <td>-0.285107</td>\n",
       "      <td>-0.183921</td>\n",
       "      <td>1.419893</td>\n",
       "      <td>0.358499</td>\n",
       "      <td>0.022131</td>\n",
       "      <td>-0.122455</td>\n",
       "      <td>1.0</td>\n",
       "      <td>-1.507547</td>\n",
       "      <td>-0.278907</td>\n",
       "    </tr>\n",
       "    <tr>\n",
       "      <th>917587</th>\n",
       "      <td>10888413</td>\n",
       "      <td>-0.024606</td>\n",
       "      <td>1.546144</td>\n",
       "      <td>0.570147</td>\n",
       "      <td>0.198585</td>\n",
       "      <td>-1.191460</td>\n",
       "      <td>0.365508</td>\n",
       "      <td>-0.980728</td>\n",
       "      <td>-0.122455</td>\n",
       "      <td>1.0</td>\n",
       "      <td>-1.507928</td>\n",
       "      <td>-0.657107</td>\n",
       "    </tr>\n",
       "    <tr>\n",
       "      <th>917872</th>\n",
       "      <td>10888413</td>\n",
       "      <td>0.011619</td>\n",
       "      <td>0.710330</td>\n",
       "      <td>-0.288881</td>\n",
       "      <td>-0.185838</td>\n",
       "      <td>1.413639</td>\n",
       "      <td>0.355169</td>\n",
       "      <td>-1.315014</td>\n",
       "      <td>-0.122455</td>\n",
       "      <td>1.0</td>\n",
       "      <td>-1.506983</td>\n",
       "      <td>0.021044</td>\n",
       "    </tr>\n",
       "  </tbody>\n",
       "</table>\n",
       "</div>"
      ],
      "text/plain": [
       "           runnum  IONGAUGEPRESSURE  ETCHBEAMVOLTAGE  FLOWCOOLFLOWRATE  \\\n",
       "145803   10551521         -0.079480        -0.958587         -2.840944   \n",
       "2211715  11475357          0.031457         0.710672         -0.288881   \n",
       "917702   10888413          0.007118         0.710727         -0.285107   \n",
       "917587   10888413         -0.024606         1.546144          0.570147   \n",
       "917872   10888413          0.011619         0.710330         -0.288881   \n",
       "\n",
       "         FLOWCOOLPRESSURE  ETCHGASCHANNEL1READBACK  ETCHPBNGASREADBACK  \\\n",
       "145803          -2.332807                -1.745656           -2.784389   \n",
       "2211715          0.124666                 1.405384            0.366562   \n",
       "917702          -0.183921                 1.419893            0.358499   \n",
       "917587           0.198585                -1.191460            0.365508   \n",
       "917872          -0.185838                 1.413639            0.355169   \n",
       "\n",
       "         FIXTURETILTANGLE  ACTUALROTATIONANGLE  FIXTURESHUTTERPOSITION  \\\n",
       "145803           0.022131             4.530131                     0.0   \n",
       "2211715          1.359276            -0.122446                     2.0   \n",
       "917702           0.022131            -0.122455                     1.0   \n",
       "917587          -0.980728            -0.122455                     1.0   \n",
       "917872          -1.315014            -0.122455                     1.0   \n",
       "\n",
       "         ETCHSOURCEUSAGE  ACTUALSTEPDURATION  \n",
       "145803          2.806265            0.803526  \n",
       "2211715         0.049349            0.021044  \n",
       "917702         -1.507547           -0.278907  \n",
       "917587         -1.507928           -0.657107  \n",
       "917872         -1.506983            0.021044  "
      ]
     },
     "execution_count": 20,
     "metadata": {},
     "output_type": "execute_result"
    }
   ],
   "source": [
    "X_train1a.head()"
   ]
  },
  {
   "cell_type": "code",
   "execution_count": 21,
   "metadata": {},
   "outputs": [],
   "source": [
    "cl_scalar = MinMaxScaler()\n",
    "cl_scalar.fit(X_train1a)\n",
    "\n",
    "scl_trainX1a = cl_scalar.transform(X_train1a)\n",
    "scl_testX1a = cl_scalar.transform(X_test1a)"
   ]
  },
  {
   "cell_type": "markdown",
   "metadata": {},
   "source": [
    "#### Random Forest Classifier A"
   ]
  },
  {
   "cell_type": "code",
   "execution_count": 22,
   "metadata": {},
   "outputs": [
    {
     "data": {
      "text/plain": [
       "RandomForestClassifier(random_state=42)"
      ]
     },
     "execution_count": 22,
     "metadata": {},
     "output_type": "execute_result"
    }
   ],
   "source": [
    "rfc_a = RandomForestClassifier(random_state=42)\n",
    "\n",
    "rfc_a.fit(scl_trainX1a, Y_train1a)"
   ]
  },
  {
   "cell_type": "code",
   "execution_count": 23,
   "metadata": {},
   "outputs": [
    {
     "name": "stdout",
     "output_type": "stream",
     "text": [
      "Accuracy Score Random Forest Scenario 1:0.992\n",
      "\n",
      "Classification Report Random Forest Scenario 1\n",
      "\n",
      "               precision    recall  f1-score   support\n",
      "\n",
      "           0       1.00      1.00      1.00      5084\n",
      "           1       0.95      0.93      0.94       357\n",
      "\n",
      "    accuracy                           0.99      5441\n",
      "   macro avg       0.97      0.96      0.97      5441\n",
      "weighted avg       0.99      0.99      0.99      5441\n",
      "\n"
     ]
    }
   ],
   "source": [
    "rfc_pred_a = rfc_a.predict(scl_testX1a)\n",
    "\n",
    "rfc_accuracy_a = accuracy_score(Y_test1a, rfc_pred_a)\n",
    "\n",
    "print('Accuracy Score Random Forest Scenario 1:{:.3f}\\n'.format(rfc_accuracy_a))\n",
    "print('Classification Report Random Forest Scenario 1\\n\\n',classification_report(Y_test1a, rfc_pred_a))"
   ]
  },
  {
   "cell_type": "code",
   "execution_count": 24,
   "metadata": {},
   "outputs": [],
   "source": [
    "rfc_cm = confusion_matrix(Y_test1a, rfc_pred_a)"
   ]
  },
  {
   "cell_type": "code",
   "execution_count": 25,
   "metadata": {},
   "outputs": [
    {
     "data": {
      "image/png": "[encoded data removed]",
      "text/plain": [
       "<Figure size 432x288 with 2 Axes>"
      ]
     },
     "metadata": {
      "needs_background": "light"
     },
     "output_type": "display_data"
    }
   ],
   "source": [
    "sns.heatmap(rfc_cm, annot=True, fmt='.2f')\n",
    "plt.title('Random Forest for Scenario 1')\n",
    "plt.xlabel('Predicted')\n",
    "plt.ylabel('Actual')\n",
    "plt.show()"
   ]
  },
  {
   "cell_type": "markdown",
   "metadata": {},
   "source": [
    "#### Gradient Boost Classifier  A"
   ]
  },
  {
   "cell_type": "code",
   "execution_count": 26,
   "metadata": {
    "scrolled": true
   },
   "outputs": [
    {
     "data": {
      "text/plain": [
       "GradientBoostingClassifier(random_state=42)"
      ]
     },
     "execution_count": 26,
     "metadata": {},
     "output_type": "execute_result"
    }
   ],
   "source": [
    "gbc_a = GradientBoostingClassifier(random_state=42)\n",
    "\n",
    "gbc_a.fit(scl_trainX1a, Y_train1a)"
   ]
  },
  {
   "cell_type": "code",
   "execution_count": 27,
   "metadata": {},
   "outputs": [
    {
     "name": "stdout",
     "output_type": "stream",
     "text": [
      "Accuracy Score Gradient Boosting Classifier Scenario 1:0.992\n",
      "\n",
      "Classification Report Gradient Boosting Classifier Scenario 1\n",
      "\n",
      "               precision    recall  f1-score   support\n",
      "\n",
      "           0       0.99      1.00      0.99      5084\n",
      "           1       0.97      0.87      0.92       357\n",
      "\n",
      "    accuracy                           0.99      5441\n",
      "   macro avg       0.98      0.93      0.96      5441\n",
      "weighted avg       0.99      0.99      0.99      5441\n",
      "\n"
     ]
    }
   ],
   "source": [
    "gbc_pred_a = gbc_a.predict(scl_testX1a)\n",
    "\n",
    "gbc_accuracy_a = accuracy_score(Y_test1a, rfc_pred_a)\n",
    "\n",
    "print('Accuracy Score Gradient Boosting Classifier Scenario 1:{:.3f}\\n'.format(gbc_accuracy_a))\n",
    "print('Classification Report Gradient Boosting Classifier Scenario 1\\n\\n', classification_report(Y_test1a, gbc_pred_a))"
   ]
  },
  {
   "cell_type": "code",
   "execution_count": 28,
   "metadata": {},
   "outputs": [],
   "source": [
    "gbc_cm = confusion_matrix(Y_test1a, gbc_pred_a)"
   ]
  },
  {
   "cell_type": "code",
   "execution_count": 29,
   "metadata": {},
   "outputs": [
    {
     "data": {
      "image/png": "[encoded data removed]",
      "text/plain": [
       "<Figure size 432x288 with 2 Axes>"
      ]
     },
     "metadata": {
      "needs_background": "light"
     },
     "output_type": "display_data"
    }
   ],
   "source": [
    "sns.heatmap(gbc_cm, annot=True, fmt='.2f')\n",
    "plt.title('Gradient Boosting for Scenario 1')\n",
    "plt.xlabel('Predicted')\n",
    "plt.ylabel('Actual')\n",
    "plt.show()"
   ]
  },
  {
   "cell_type": "markdown",
   "metadata": {},
   "source": [
    "#### Logistic Regression A"
   ]
  },
  {
   "cell_type": "code",
   "execution_count": 30,
   "metadata": {},
   "outputs": [
    {
     "data": {
      "text/plain": [
       "LogisticRegression()"
      ]
     },
     "execution_count": 30,
     "metadata": {},
     "output_type": "execute_result"
    }
   ],
   "source": [
    "logreg_a = LogisticRegression()\n",
    "\n",
    "logreg_a.fit(scl_trainX1a, Y_train1a)"
   ]
  },
  {
   "cell_type": "code",
   "execution_count": 33,
   "metadata": {},
   "outputs": [
    {
     "name": "stdout",
     "output_type": "stream",
     "text": [
      "Accuracy Score Logistic Regression Scenario 1:0.934\n",
      "\n",
      "Classification Report Logistic Regression Scenario 1\n",
      "\n",
      "               precision    recall  f1-score   support\n",
      "\n",
      "           0       0.93      1.00      0.97      5084\n",
      "           1       0.00      0.00      0.00       357\n",
      "\n",
      "    accuracy                           0.93      5441\n",
      "   macro avg       0.47      0.50      0.48      5441\n",
      "weighted avg       0.87      0.93      0.90      5441\n",
      "\n"
     ]
    }
   ],
   "source": [
    "logreg_pred_a = logreg_a.predict(scl_testX1a)\n",
    "\n",
    "logreg_accuracy_a = accuracy_score(Y_test1a, logreg_pred_a)\n",
    "\n",
    "print('Accuracy Score Logistic Regression Scenario 1:{:.3f}\\n'.format(logreg_accuracy_a))\n",
    "print('Classification Report Logistic Regression Scenario 1\\n\\n', classification_report(Y_test1a, logreg_pred_a))"
   ]
  },
  {
   "cell_type": "markdown",
   "metadata": {},
   "source": [
    "#### Cross Validation A"
   ]
  },
  {
   "cell_type": "code",
   "execution_count": 34,
   "metadata": {},
   "outputs": [
    {
     "name": "stdout",
     "output_type": "stream",
     "text": [
      "Scores:0.941\n",
      "Scores:0.009\n"
     ]
    }
   ],
   "source": [
    "rfc_valscore_a = cross_validate(rfc_a,scl_trainX1a, Y_train1a, cv=5, scoring='f1')\n",
    "\n",
    "#print(\"Score:\\n\",rfc_valscore_a['test_score'])\n",
    "print(\"Scores:{:.3f}\".format(rfc_valscore_a['test_score'].mean()))\n",
    "print(\"Scores:{:.3f}\".format(rfc_valscore_a['test_score'].std()))"
   ]
  },
  {
   "cell_type": "code",
   "execution_count": 35,
   "metadata": {},
   "outputs": [
    {
     "name": "stdout",
     "output_type": "stream",
     "text": [
      "Scores:0.904\n",
      "Scores:0.012\n"
     ]
    }
   ],
   "source": [
    "gbc_valscore_a = cross_validate(gbc_a,scl_trainX1a, Y_train1a, cv=5, scoring='f1')\n",
    "\n",
    "#print(\"Score:\\n\",rfc_valscore_a['test_score'])\n",
    "print(\"Scores:{:.3f}\".format(gbc_valscore_a['test_score'].mean()))\n",
    "print(\"Scores:{:.3f}\".format(gbc_valscore_a['test_score'].std()))"
   ]
  },
  {
   "cell_type": "code",
   "execution_count": 36,
   "metadata": {},
   "outputs": [
    {
     "name": "stdout",
     "output_type": "stream",
     "text": [
      "Scores:0.000\n",
      "Scores:0.000\n"
     ]
    }
   ],
   "source": [
    "logreg_valscore_a = cross_validate(logreg_a,scl_trainX1a, Y_train1a, cv=5, scoring='f1')\n",
    "\n",
    "#print(\"Score:\\n\",rfc_valscore_a['test_score'])\n",
    "print(\"Scores:{:.3f}\".format(logreg_valscore_a['test_score'].mean()))\n",
    "print(\"Scores:{:.3f}\".format(logreg_valscore_a['test_score'].std()))"
   ]
  },
  {
   "cell_type": "markdown",
   "metadata": {},
   "source": [
    "#### Fine Tune Parameters\n",
    "\n",
    "#### Fine Tuning the Random Forest Classifier\n",
    "\n",
    "Different hyperparameters are tried out using GridSearchCV to improve performance."
   ]
  },
  {
   "cell_type": "code",
   "execution_count": 37,
   "metadata": {},
   "outputs": [],
   "source": [
    "from sklearn.model_selection import GridSearchCV"
   ]
  },
  {
   "cell_type": "code",
   "execution_count": 38,
   "metadata": {},
   "outputs": [],
   "source": [
    "rfc_grid = [{'n_estimators':[50,200], 'max_depth':[5,10], 'criterion':['entropy','gini']}]\n",
    "\n",
    "rfc_cv = RandomForestClassifier()"
   ]
  },
  {
   "cell_type": "code",
   "execution_count": 39,
   "metadata": {},
   "outputs": [
    {
     "data": {
      "text/plain": [
       "GridSearchCV(cv=5, estimator=RandomForestClassifier(),\n",
       "             param_grid=[{'criterion': ['entropy', 'gini'],\n",
       "                          'max_depth': [5, 10], 'n_estimators': [50, 200]}],\n",
       "             return_train_score=True)"
      ]
     },
     "execution_count": 39,
     "metadata": {},
     "output_type": "execute_result"
    }
   ],
   "source": [
    "rfc_gridsearch= GridSearchCV(estimator =rfc_cv, param_grid=rfc_grid, cv=5, return_train_score=True )\n",
    "\n",
    "rfc_gridsearch.fit(scl_trainX1a, Y_train1a)"
   ]
  },
  {
   "cell_type": "code",
   "execution_count": 40,
   "metadata": {
    "scrolled": true
   },
   "outputs": [
    {
     "data": {
      "text/plain": [
       "0.9914078441507547"
      ]
     },
     "execution_count": 40,
     "metadata": {},
     "output_type": "execute_result"
    }
   ],
   "source": [
    "rfc_gridsearch.best_score_"
   ]
  },
  {
   "cell_type": "code",
   "execution_count": 41,
   "metadata": {},
   "outputs": [],
   "source": [
    "rfc_best = rfc_gridsearch.best_estimator_"
   ]
  },
  {
   "cell_type": "code",
   "execution_count": 42,
   "metadata": {},
   "outputs": [
    {
     "name": "stdout",
     "output_type": "stream",
     "text": [
      "Accuracy Score Random Forest Classifer after Fine Tuning Scenario 1:0.992\n",
      "\n",
      "Classification Report Random Forest Classifier after Fine Tuning Scenario 1\n",
      "\n",
      "               precision    recall  f1-score   support\n",
      "\n",
      "           0       0.99      1.00      1.00      5084\n",
      "           1       0.97      0.90      0.94       357\n",
      "\n",
      "    accuracy                           0.99      5441\n",
      "   macro avg       0.98      0.95      0.97      5441\n",
      "weighted avg       0.99      0.99      0.99      5441\n",
      "\n"
     ]
    }
   ],
   "source": [
    "rfc_best_a = rfc_best.predict(scl_testX1a)\n",
    "\n",
    "rfc_best_accuracy_a = accuracy_score(Y_test1a, rfc_best_a)\n",
    "\n",
    "print('Accuracy Score Random Forest Classifer after Fine Tuning Scenario 1:{:.3f}\\n'.format(rfc_best_accuracy_a))\n",
    "print('Classification Report Random Forest Classifier after Fine Tuning Scenario 1\\n\\n', classification_report(Y_test1a, rfc_best_a))"
   ]
  },
  {
   "cell_type": "markdown",
   "metadata": {},
   "source": [
    "#### Fine Tuning the Gradient Boosting Classifier"
   ]
  },
  {
   "cell_type": "code",
   "execution_count": 43,
   "metadata": {},
   "outputs": [],
   "source": [
    "gbc_grid = [{'n_estimators':[50,150], 'max_depth':[2,5]}]\n",
    "\n",
    "gbc_cv = GradientBoostingClassifier()"
   ]
  },
  {
   "cell_type": "code",
   "execution_count": 44,
   "metadata": {},
   "outputs": [
    {
     "data": {
      "text/plain": [
       "GridSearchCV(cv=5, estimator=GradientBoostingClassifier(),\n",
       "             param_grid=[{'max_depth': [2, 5], 'n_estimators': [50, 150]}],\n",
       "             return_train_score=True)"
      ]
     },
     "execution_count": 44,
     "metadata": {},
     "output_type": "execute_result"
    }
   ],
   "source": [
    "gbc_gridsearch= GridSearchCV(estimator = gbc_cv, param_grid=gbc_grid, cv=5, return_train_score=True )\n",
    "\n",
    "gbc_gridsearch.fit(scl_trainX1a, Y_train1a)"
   ]
  },
  {
   "cell_type": "code",
   "execution_count": 45,
   "metadata": {},
   "outputs": [
    {
     "data": {
      "text/plain": [
       "0.9922348811164714"
      ]
     },
     "execution_count": 45,
     "metadata": {},
     "output_type": "execute_result"
    }
   ],
   "source": [
    "gbc_gridsearch.best_score_"
   ]
  },
  {
   "cell_type": "code",
   "execution_count": 46,
   "metadata": {},
   "outputs": [],
   "source": [
    "gbc_best = gbc_gridsearch.best_estimator_"
   ]
  },
  {
   "cell_type": "code",
   "execution_count": 48,
   "metadata": {
    "scrolled": true
   },
   "outputs": [
    {
     "name": "stdout",
     "output_type": "stream",
     "text": [
      "Accuracy Score Gradient Boosting after Fine Tuning Scenario 1:0.993\n",
      "\n",
      "Classification Report Gradient Boosting after Fine Tuning Scenario 1\n",
      "\n",
      "               precision    recall  f1-score   support\n",
      "\n",
      "           0       1.00      1.00      1.00      5084\n",
      "           1       0.96      0.93      0.95       357\n",
      "\n",
      "    accuracy                           0.99      5441\n",
      "   macro avg       0.98      0.97      0.97      5441\n",
      "weighted avg       0.99      0.99      0.99      5441\n",
      "\n"
     ]
    }
   ],
   "source": [
    "gbc_best_a = gbc_best.predict(scl_testX1a)\n",
    "\n",
    "gbc_best_accuracy_a = accuracy_score(Y_test1a, gbc_best_a)\n",
    "\n",
    "print('Accuracy Score Gradient Boosting after Fine Tuning Scenario 1:{:.3f}\\n'.format(gbc_best_accuracy_a))\n",
    "print('Classification Report Gradient Boosting after Fine Tuning Scenario 1\\n\\n', classification_report(Y_test1a, gbc_best_a))"
   ]
  },
  {
   "cell_type": "markdown",
   "metadata": {},
   "source": [
    "#### Fine Tuning Logistic Regression"
   ]
  },
  {
   "cell_type": "code",
   "execution_count": 49,
   "metadata": {},
   "outputs": [],
   "source": [
    "grid = [{'C':[0.01,0.1,1], 'penalty':['l1'],'solver':['liblinear']},\n",
    "        {'C':[0.01,0.1,1], 'penalty':['l2'],'solver':['lbfgs']}]\n",
    "         \n",
    "logreg_cv = LogisticRegression(random_state=7, max_iter=200)"
   ]
  },
  {
   "cell_type": "code",
   "execution_count": 50,
   "metadata": {},
   "outputs": [
    {
     "data": {
      "text/plain": [
       "GridSearchCV(cv=5, estimator=LogisticRegression(max_iter=200, random_state=7),\n",
       "             param_grid=[{'C': [0.01, 0.1, 1], 'penalty': ['l1'],\n",
       "                          'solver': ['liblinear']},\n",
       "                         {'C': [0.01, 0.1, 1], 'penalty': ['l2'],\n",
       "                          'solver': ['lbfgs']}],\n",
       "             return_train_score=True)"
      ]
     },
     "execution_count": 50,
     "metadata": {},
     "output_type": "execute_result"
    }
   ],
   "source": [
    "logreg_gridsearch = GridSearchCV(estimator =logreg_cv, param_grid=grid, cv=5, return_train_score=True )\n",
    "\n",
    "logreg_gridsearch.fit(scl_trainX1a, Y_train1a)"
   ]
  },
  {
   "cell_type": "code",
   "execution_count": 51,
   "metadata": {},
   "outputs": [
    {
     "data": {
      "text/plain": [
       "0.9291031223395629"
      ]
     },
     "execution_count": 51,
     "metadata": {},
     "output_type": "execute_result"
    }
   ],
   "source": [
    "logreg_gridsearch.best_score_"
   ]
  },
  {
   "cell_type": "code",
   "execution_count": 52,
   "metadata": {},
   "outputs": [
    {
     "data": {
      "text/plain": [
       "LogisticRegression(C=1, max_iter=200, penalty='l1', random_state=7,\n",
       "                   solver='liblinear')"
      ]
     },
     "execution_count": 52,
     "metadata": {},
     "output_type": "execute_result"
    }
   ],
   "source": [
    "logreg_gridsearch.best_estimator_"
   ]
  },
  {
   "cell_type": "code",
   "execution_count": 53,
   "metadata": {},
   "outputs": [],
   "source": [
    "logreg_bestest =logreg_gridsearch.best_estimator_"
   ]
  },
  {
   "cell_type": "code",
   "execution_count": 55,
   "metadata": {},
   "outputs": [
    {
     "name": "stdout",
     "output_type": "stream",
     "text": [
      "Accuracy Score Logistic Regression after Fine Tuning Scenario 1: 0.934\n",
      "\n",
      "Classification Report Logistic Regression after Fine Tuning Scenario 1\n",
      "\n",
      "               precision    recall  f1-score   support\n",
      "\n",
      "           0       0.93      1.00      0.97      5084\n",
      "           1       0.00      0.00      0.00       357\n",
      "\n",
      "    accuracy                           0.93      5441\n",
      "   macro avg       0.47      0.50      0.48      5441\n",
      "weighted avg       0.87      0.93      0.90      5441\n",
      "\n"
     ]
    }
   ],
   "source": [
    "logreg_best_a = logreg_bestest.predict(scl_testX1a)\n",
    "\n",
    "logreg_best_accuracy_a = accuracy_score(Y_test1a, logreg_best_a)\n",
    "\n",
    "print('Accuracy Score Logistic Regression after Fine Tuning Scenario 1: {:.3f}\\n'.format(logreg_best_accuracy_a))\n",
    "print('Classification Report Logistic Regression after Fine Tuning Scenario 1\\n\\n', classification_report(Y_test1a, logreg_best_a))"
   ]
  },
  {
   "cell_type": "code",
   "execution_count": 56,
   "metadata": {},
   "outputs": [],
   "source": [
    "logreg_cm = confusion_matrix(Y_test1a, logreg_best_a)"
   ]
  },
  {
   "cell_type": "code",
   "execution_count": 57,
   "metadata": {},
   "outputs": [
    {
     "data": {
      "image/png": "[encoded data removed]",
      "text/plain": [
       "<Figure size 432x288 with 2 Axes>"
      ]
     },
     "metadata": {
      "needs_background": "light"
     },
     "output_type": "display_data"
    }
   ],
   "source": [
    "sns.heatmap(logreg_cm, annot=True, fmt='.2f')\n",
    "plt.title('Logistic Regression for Scenario 1')\n",
    "plt.xlabel('Predicted')\n",
    "plt.ylabel('Actual')\n",
    "plt.show()"
   ]
  },
  {
   "cell_type": "markdown",
   "metadata": {},
   "source": [
    "### Scenario 2: Limit is 19800 and failure is 2400 - 5 1/2 hours, 40 minutes"
   ]
  },
  {
   "cell_type": "code",
   "execution_count": 58,
   "metadata": {},
   "outputs": [],
   "source": [
    "cl_f1b_data = alldata.drop(['time','Lot','Tool','stage','recipe','recipe_step','ROTATIONSPEED','ETCHBEAMCURRENT','ETCHSUPPRESSORVOLTAGE',\n",
    "                        'ETCHSUPPRESSORCURRENT','ETCHAUXSOURCETIMER','ETCHAUX2SOURCETIMER','Flowcool_Pressure_dropped_below_limit','Flowcool_Pressure_Too_High',\n",
    "                       'fault1_a', 'fault1_c','fault1_d'], axis=1)"
   ]
  },
  {
   "cell_type": "code",
   "execution_count": 59,
   "metadata": {},
   "outputs": [],
   "source": [
    "clf1data_b = cl_f1b_data.dropna()"
   ]
  },
  {
   "cell_type": "code",
   "execution_count": 60,
   "metadata": {},
   "outputs": [],
   "source": [
    "cutoff_1b = 19800\n",
    "\n",
    "cl_cutoff1b = clf1data_b.loc[clf1data_b['TTF_Flowcool_leak']<cutoff_1b].copy()"
   ]
  },
  {
   "cell_type": "code",
   "execution_count": 61,
   "metadata": {},
   "outputs": [],
   "source": [
    "cl_X1b = cl_cutoff1b.drop(['TTF_Flowcool_leak', 'fault1_b'], axis=1)\n",
    "cl_Y1b = cl_cutoff1b['fault1_b']"
   ]
  },
  {
   "cell_type": "code",
   "execution_count": 62,
   "metadata": {},
   "outputs": [
    {
     "data": {
      "text/html": [
       "<div>\n",
       "<style scoped>\n",
       "    .dataframe tbody tr th:only-of-type {\n",
       "        vertical-align: middle;\n",
       "    }\n",
       "\n",
       "    .dataframe tbody tr th {\n",
       "        vertical-align: top;\n",
       "    }\n",
       "\n",
       "    .dataframe thead th {\n",
       "        text-align: right;\n",
       "    }\n",
       "</style>\n",
       "<table border=\"1\" class=\"dataframe\">\n",
       "  <thead>\n",
       "    <tr style=\"text-align: right;\">\n",
       "      <th></th>\n",
       "      <th>runnum</th>\n",
       "      <th>IONGAUGEPRESSURE</th>\n",
       "      <th>ETCHBEAMVOLTAGE</th>\n",
       "      <th>FLOWCOOLFLOWRATE</th>\n",
       "      <th>FLOWCOOLPRESSURE</th>\n",
       "      <th>ETCHGASCHANNEL1READBACK</th>\n",
       "      <th>ETCHPBNGASREADBACK</th>\n",
       "      <th>FIXTURETILTANGLE</th>\n",
       "      <th>ACTUALROTATIONANGLE</th>\n",
       "      <th>FIXTURESHUTTERPOSITION</th>\n",
       "      <th>ETCHSOURCEUSAGE</th>\n",
       "      <th>ACTUALSTEPDURATION</th>\n",
       "    </tr>\n",
       "  </thead>\n",
       "  <tbody>\n",
       "    <tr>\n",
       "      <th>128839</th>\n",
       "      <td>10547102</td>\n",
       "      <td>0.011108</td>\n",
       "      <td>0.710727</td>\n",
       "      <td>-0.286165</td>\n",
       "      <td>-0.146636</td>\n",
       "      <td>1.416896</td>\n",
       "      <td>0.348512</td>\n",
       "      <td>-1.4933</td>\n",
       "      <td>-0.122455</td>\n",
       "      <td>1.0</td>\n",
       "      <td>2.779586</td>\n",
       "      <td>0.336645</td>\n",
       "    </tr>\n",
       "    <tr>\n",
       "      <th>128840</th>\n",
       "      <td>10547102</td>\n",
       "      <td>0.011108</td>\n",
       "      <td>0.710784</td>\n",
       "      <td>-0.287824</td>\n",
       "      <td>-0.146636</td>\n",
       "      <td>1.416896</td>\n",
       "      <td>0.348512</td>\n",
       "      <td>-1.4933</td>\n",
       "      <td>-0.122455</td>\n",
       "      <td>1.0</td>\n",
       "      <td>2.779589</td>\n",
       "      <td>0.336645</td>\n",
       "    </tr>\n",
       "    <tr>\n",
       "      <th>128841</th>\n",
       "      <td>10547102</td>\n",
       "      <td>0.011108</td>\n",
       "      <td>0.710216</td>\n",
       "      <td>-0.287824</td>\n",
       "      <td>-0.146636</td>\n",
       "      <td>1.411886</td>\n",
       "      <td>0.362004</td>\n",
       "      <td>-1.4933</td>\n",
       "      <td>-0.122455</td>\n",
       "      <td>1.0</td>\n",
       "      <td>2.779593</td>\n",
       "      <td>0.336645</td>\n",
       "    </tr>\n",
       "    <tr>\n",
       "      <th>128842</th>\n",
       "      <td>10547102</td>\n",
       "      <td>0.011108</td>\n",
       "      <td>0.710841</td>\n",
       "      <td>-0.287824</td>\n",
       "      <td>-0.146636</td>\n",
       "      <td>1.411886</td>\n",
       "      <td>0.362004</td>\n",
       "      <td>-1.4933</td>\n",
       "      <td>-0.122455</td>\n",
       "      <td>1.0</td>\n",
       "      <td>2.779596</td>\n",
       "      <td>0.336645</td>\n",
       "    </tr>\n",
       "    <tr>\n",
       "      <th>128843</th>\n",
       "      <td>10547102</td>\n",
       "      <td>0.011108</td>\n",
       "      <td>0.711297</td>\n",
       "      <td>-0.286919</td>\n",
       "      <td>-0.146636</td>\n",
       "      <td>1.411886</td>\n",
       "      <td>0.347284</td>\n",
       "      <td>-1.4933</td>\n",
       "      <td>-0.122455</td>\n",
       "      <td>1.0</td>\n",
       "      <td>2.779599</td>\n",
       "      <td>0.336645</td>\n",
       "    </tr>\n",
       "  </tbody>\n",
       "</table>\n",
       "</div>"
      ],
      "text/plain": [
       "          runnum  IONGAUGEPRESSURE  ETCHBEAMVOLTAGE  FLOWCOOLFLOWRATE  \\\n",
       "128839  10547102          0.011108         0.710727         -0.286165   \n",
       "128840  10547102          0.011108         0.710784         -0.287824   \n",
       "128841  10547102          0.011108         0.710216         -0.287824   \n",
       "128842  10547102          0.011108         0.710841         -0.287824   \n",
       "128843  10547102          0.011108         0.711297         -0.286919   \n",
       "\n",
       "        FLOWCOOLPRESSURE  ETCHGASCHANNEL1READBACK  ETCHPBNGASREADBACK  \\\n",
       "128839         -0.146636                 1.416896            0.348512   \n",
       "128840         -0.146636                 1.416896            0.348512   \n",
       "128841         -0.146636                 1.411886            0.362004   \n",
       "128842         -0.146636                 1.411886            0.362004   \n",
       "128843         -0.146636                 1.411886            0.347284   \n",
       "\n",
       "        FIXTURETILTANGLE  ACTUALROTATIONANGLE  FIXTURESHUTTERPOSITION  \\\n",
       "128839           -1.4933            -0.122455                     1.0   \n",
       "128840           -1.4933            -0.122455                     1.0   \n",
       "128841           -1.4933            -0.122455                     1.0   \n",
       "128842           -1.4933            -0.122455                     1.0   \n",
       "128843           -1.4933            -0.122455                     1.0   \n",
       "\n",
       "        ETCHSOURCEUSAGE  ACTUALSTEPDURATION  \n",
       "128839         2.779586            0.336645  \n",
       "128840         2.779589            0.336645  \n",
       "128841         2.779593            0.336645  \n",
       "128842         2.779596            0.336645  \n",
       "128843         2.779599            0.336645  "
      ]
     },
     "execution_count": 62,
     "metadata": {},
     "output_type": "execute_result"
    }
   ],
   "source": [
    "cl_X1b.head()"
   ]
  },
  {
   "cell_type": "code",
   "execution_count": 63,
   "metadata": {},
   "outputs": [
    {
     "data": {
      "text/plain": [
       "0    34966\n",
       "1     7774\n",
       "Name: fault1_b, dtype: int64"
      ]
     },
     "execution_count": 63,
     "metadata": {},
     "output_type": "execute_result"
    }
   ],
   "source": [
    "cl_Y1b.value_counts()"
   ]
  },
  {
   "cell_type": "code",
   "execution_count": 82,
   "metadata": {},
   "outputs": [
    {
     "data": {
      "image/png": "[encoded data removed]",
      "text/plain": [
       "<Figure size 432x288 with 1 Axes>"
      ]
     },
     "metadata": {
      "needs_background": "light"
     },
     "output_type": "display_data"
    }
   ],
   "source": [
    "cl_Y1b.value_counts().plot(kind='bar')\n",
    "plt.title(\"Data Imbalance Scenario 2\")\n",
    "plt.xticks()\n",
    "plt.show()"
   ]
  },
  {
   "cell_type": "code",
   "execution_count": 65,
   "metadata": {},
   "outputs": [],
   "source": [
    "X_train1b, X_test1b, Y_train1b, Y_test1b = train_test_split(cl_X1b, cl_Y1b, test_size = 0.2, random_state=42)"
   ]
  },
  {
   "cell_type": "code",
   "execution_count": 66,
   "metadata": {},
   "outputs": [],
   "source": [
    "cl_scalar_b = MinMaxScaler()\n",
    "cl_scalar_b.fit(X_train1b)\n",
    "\n",
    "scl_trainX1b = cl_scalar.transform(X_train1b)\n",
    "scl_testX1b = cl_scalar.transform(X_test1b)"
   ]
  },
  {
   "cell_type": "markdown",
   "metadata": {},
   "source": [
    "#### Random Forest Classifier B"
   ]
  },
  {
   "cell_type": "code",
   "execution_count": 67,
   "metadata": {},
   "outputs": [
    {
     "data": {
      "text/plain": [
       "RandomForestClassifier(random_state=42)"
      ]
     },
     "execution_count": 67,
     "metadata": {},
     "output_type": "execute_result"
    }
   ],
   "source": [
    "rfc_b = RandomForestClassifier(random_state=42)\n",
    "\n",
    "rfc_b.fit(scl_trainX1b, Y_train1b)"
   ]
  },
  {
   "cell_type": "code",
   "execution_count": 68,
   "metadata": {},
   "outputs": [
    {
     "name": "stdout",
     "output_type": "stream",
     "text": [
      "AccuracyScore Random Forest Scenario 2:0.989\n",
      "\n",
      "Classification Report Random Forest Scenario 2\n",
      "\n",
      "               precision    recall  f1-score   support\n",
      "\n",
      "           0       0.99      0.99      0.99      6957\n",
      "           1       0.98      0.96      0.97      1591\n",
      "\n",
      "    accuracy                           0.99      8548\n",
      "   macro avg       0.98      0.98      0.98      8548\n",
      "weighted avg       0.99      0.99      0.99      8548\n",
      "\n"
     ]
    }
   ],
   "source": [
    "rfc_pred_b = rfc_b.predict(scl_testX1b)\n",
    "\n",
    "rfc_accuracy_b = accuracy_score(Y_test1b, rfc_pred_b)\n",
    "\n",
    "print('AccuracyScore Random Forest Scenario 2:{:.3f}\\n'.format(rfc_accuracy_b))\n",
    "print('Classification Report Random Forest Scenario 2\\n\\n',classification_report(Y_test1b, rfc_pred_b))"
   ]
  },
  {
   "cell_type": "code",
   "execution_count": 69,
   "metadata": {},
   "outputs": [],
   "source": [
    "rfc_cm_b = confusion_matrix(Y_test1b, rfc_pred_b)"
   ]
  },
  {
   "cell_type": "code",
   "execution_count": 70,
   "metadata": {},
   "outputs": [
    {
     "data": {
      "image/png": "[encoded data removed]",
      "text/plain": [
       "<Figure size 432x288 with 2 Axes>"
      ]
     },
     "metadata": {
      "needs_background": "light"
     },
     "output_type": "display_data"
    }
   ],
   "source": [
    "sns.heatmap(rfc_cm_b, annot=True, fmt='.2f', cmap=plt.cm.Blues)\n",
    "plt.title('Random Forest Classifier for Scenario 2')\n",
    "plt.xlabel('Predicted')\n",
    "plt.ylabel('Actual')\n",
    "plt.show()"
   ]
  },
  {
   "cell_type": "markdown",
   "metadata": {},
   "source": [
    "#### Gradient Boost Classifier B"
   ]
  },
  {
   "cell_type": "code",
   "execution_count": 71,
   "metadata": {
    "scrolled": true
   },
   "outputs": [
    {
     "data": {
      "text/plain": [
       "GradientBoostingClassifier()"
      ]
     },
     "execution_count": 71,
     "metadata": {},
     "output_type": "execute_result"
    }
   ],
   "source": [
    "gbc_b = GradientBoostingClassifier()\n",
    "\n",
    "gbc_b.fit(scl_trainX1b, Y_train1b)"
   ]
  },
  {
   "cell_type": "code",
   "execution_count": 84,
   "metadata": {},
   "outputs": [
    {
     "name": "stdout",
     "output_type": "stream",
     "text": [
      "Accuracy Score Gradient Boost Classifier Scenario 2: 0.978\n",
      "\n",
      "Classification Report Gradient Boost Classifier Scenario 2\n",
      "\n",
      "               precision    recall  f1-score   support\n",
      "\n",
      "           0       0.98      1.00      0.99      6957\n",
      "           1       0.99      0.89      0.94      1591\n",
      "\n",
      "    accuracy                           0.98      8548\n",
      "   macro avg       0.98      0.95      0.96      8548\n",
      "weighted avg       0.98      0.98      0.98      8548\n",
      "\n"
     ]
    }
   ],
   "source": [
    "gbc_pred_b = gbc_b.predict(scl_testX1b)\n",
    "\n",
    "gbc_accuracy_b = accuracy_score(Y_test1b, gbc_pred_b)\n",
    "\n",
    "print('Accuracy Score Gradient Boost Classifier Scenario 2: {:.3f}\\n'.format(gbc_accuracy_b))\n",
    "print('Classification Report Gradient Boost Classifier Scenario 2\\n\\n', classification_report(Y_test1b, gbc_pred_b))"
   ]
  },
  {
   "cell_type": "code",
   "execution_count": 73,
   "metadata": {},
   "outputs": [],
   "source": [
    "gbc_cm_b = confusion_matrix(Y_test1b, gbc_pred_b)"
   ]
  },
  {
   "cell_type": "code",
   "execution_count": 74,
   "metadata": {},
   "outputs": [
    {
     "data": {
      "image/png": "[encoded data removed]",
      "text/plain": [
       "<Figure size 432x288 with 2 Axes>"
      ]
     },
     "metadata": {
      "needs_background": "light"
     },
     "output_type": "display_data"
    }
   ],
   "source": [
    "sns.heatmap(gbc_cm_b, annot=True, fmt='.2f', cmap=plt.cm.Blues)\n",
    "plt.title('Gradient Boosting Classifier for Scenario 2')\n",
    "plt.xlabel('Predicted')\n",
    "plt.ylabel('Actual')\n",
    "plt.show()"
   ]
  },
  {
   "cell_type": "markdown",
   "metadata": {},
   "source": [
    "#### Logistic Regression B"
   ]
  },
  {
   "cell_type": "code",
   "execution_count": 75,
   "metadata": {},
   "outputs": [
    {
     "data": {
      "text/plain": [
       "LogisticRegression()"
      ]
     },
     "execution_count": 75,
     "metadata": {},
     "output_type": "execute_result"
    }
   ],
   "source": [
    "logreg_b = LogisticRegression()\n",
    "\n",
    "logreg_b.fit(scl_trainX1b, Y_train1b)"
   ]
  },
  {
   "cell_type": "code",
   "execution_count": 76,
   "metadata": {},
   "outputs": [
    {
     "name": "stdout",
     "output_type": "stream",
     "text": [
      "Accuracy Score Logistic Regression Scenario B: 0.815\n",
      "\n",
      "Classification Report Logistic Regression Scenario B\n",
      "\n",
      "               precision    recall  f1-score   support\n",
      "\n",
      "           0       0.86      0.92      0.89      6957\n",
      "           1       0.50      0.36      0.42      1591\n",
      "\n",
      "    accuracy                           0.81      8548\n",
      "   macro avg       0.68      0.64      0.66      8548\n",
      "weighted avg       0.80      0.81      0.80      8548\n",
      "\n"
     ]
    }
   ],
   "source": [
    "logreg_pred_b = logreg_b.predict(scl_testX1b)\n",
    "\n",
    "logreg_accuracy_b = accuracy_score(Y_test1b, logreg_pred_b)\n",
    "\n",
    "print('Accuracy Score Logistic Regression Scenario B: {:.3f}\\n'.format(logreg_accuracy_b))\n",
    "print('Classification Report Logistic Regression Scenario B\\n\\n', classification_report(Y_test1b, logreg_pred_b))"
   ]
  },
  {
   "cell_type": "code",
   "execution_count": 77,
   "metadata": {},
   "outputs": [],
   "source": [
    "logreg_cm_b = confusion_matrix(Y_test1b, logreg_pred_b)"
   ]
  },
  {
   "cell_type": "code",
   "execution_count": 78,
   "metadata": {},
   "outputs": [
    {
     "data": {
      "image/png": "[encoded data removed]",
      "text/plain": [
       "<Figure size 432x288 with 2 Axes>"
      ]
     },
     "metadata": {
      "needs_background": "light"
     },
     "output_type": "display_data"
    }
   ],
   "source": [
    "sns.heatmap(logreg_cm_b, annot=True, fmt='.2f')\n",
    "plt.title('Logistic Regression for Scenario 2')\n",
    "plt.xlabel('Predicted')\n",
    "plt.ylabel('Actual')\n",
    "plt.show()"
   ]
  },
  {
   "cell_type": "markdown",
   "metadata": {},
   "source": [
    "#### Cross Validation B"
   ]
  },
  {
   "cell_type": "code",
   "execution_count": 79,
   "metadata": {},
   "outputs": [
    {
     "name": "stdout",
     "output_type": "stream",
     "text": [
      "Scores:0.965\n",
      "Scores:0.005\n"
     ]
    }
   ],
   "source": [
    "rfc_valscore_b = cross_validate(rfc_b,scl_trainX1b, Y_train1b, cv=5, scoring='f1')\n",
    "\n",
    "print(\"Scores:{:.3f}\".format(rfc_valscore_b['test_score'].mean()))\n",
    "print(\"Scores:{:.3f}\".format(rfc_valscore_b['test_score'].std()))"
   ]
  },
  {
   "cell_type": "code",
   "execution_count": 80,
   "metadata": {},
   "outputs": [
    {
     "name": "stdout",
     "output_type": "stream",
     "text": [
      "Scores:0.937\n",
      "Scores:0.005\n"
     ]
    }
   ],
   "source": [
    "gbc_valscore_b = cross_validate(gbc_b,scl_trainX1b, Y_train1b, cv=5, scoring='f1')\n",
    "\n",
    "print(\"Scores:{:.3f}\".format(gbc_valscore_b['test_score'].mean()))\n",
    "print(\"Scores:{:.3f}\".format(gbc_valscore_b['test_score'].std()))"
   ]
  },
  {
   "cell_type": "code",
   "execution_count": 85,
   "metadata": {},
   "outputs": [
    {
     "name": "stdout",
     "output_type": "stream",
     "text": [
      "Scores:0.425\n",
      "Scores:0.011\n"
     ]
    }
   ],
   "source": [
    "logreg_valscore_b = cross_validate(logreg_b,scl_trainX1b, Y_train1b, cv=5, scoring='f1')\n",
    "\n",
    "print(\"Scores:{:.3f}\".format(logreg_valscore_b['test_score'].mean()))\n",
    "print(\"Scores:{:.3f}\".format(logreg_valscore_b['test_score'].std()))"
   ]
  },
  {
   "cell_type": "markdown",
   "metadata": {},
   "source": [
    "### Scenario 3: Limit is 28800 and failure is 3600 - 8 hours, 1 hour"
   ]
  },
  {
   "cell_type": "code",
   "execution_count": 86,
   "metadata": {},
   "outputs": [],
   "source": [
    "cl_f1c_data = alldata.drop(['time','Lot','Tool','stage','recipe','recipe_step','ROTATIONSPEED','ETCHBEAMCURRENT','ETCHSUPPRESSORVOLTAGE',\n",
    "                        'ETCHSUPPRESSORCURRENT','ETCHAUXSOURCETIMER','ETCHAUX2SOURCETIMER','Flowcool_Pressure_dropped_below_limit','Flowcool_Pressure_Too_High',\n",
    "                       'fault1_a', 'fault1_b','fault1_d'], axis=1)"
   ]
  },
  {
   "cell_type": "code",
   "execution_count": 87,
   "metadata": {},
   "outputs": [],
   "source": [
    "clf1data_c = cl_f1c_data.dropna()"
   ]
  },
  {
   "cell_type": "code",
   "execution_count": 88,
   "metadata": {},
   "outputs": [],
   "source": [
    "cutoff_1c = 28800\n",
    "\n",
    "cl_cutoff1c = clf1data_c.loc[clf1data_c['TTF_Flowcool_leak']<cutoff_1c].copy()"
   ]
  },
  {
   "cell_type": "code",
   "execution_count": 89,
   "metadata": {},
   "outputs": [],
   "source": [
    "cl_X1c = cl_cutoff1c.drop(['TTF_Flowcool_leak', 'fault1_c'], axis=1)\n",
    "cl_Y1c = cl_cutoff1c['fault1_c']"
   ]
  },
  {
   "cell_type": "code",
   "execution_count": 90,
   "metadata": {},
   "outputs": [
    {
     "data": {
      "text/html": [
       "<div>\n",
       "<style scoped>\n",
       "    .dataframe tbody tr th:only-of-type {\n",
       "        vertical-align: middle;\n",
       "    }\n",
       "\n",
       "    .dataframe tbody tr th {\n",
       "        vertical-align: top;\n",
       "    }\n",
       "\n",
       "    .dataframe thead th {\n",
       "        text-align: right;\n",
       "    }\n",
       "</style>\n",
       "<table border=\"1\" class=\"dataframe\">\n",
       "  <thead>\n",
       "    <tr style=\"text-align: right;\">\n",
       "      <th></th>\n",
       "      <th>runnum</th>\n",
       "      <th>IONGAUGEPRESSURE</th>\n",
       "      <th>ETCHBEAMVOLTAGE</th>\n",
       "      <th>FLOWCOOLFLOWRATE</th>\n",
       "      <th>FLOWCOOLPRESSURE</th>\n",
       "      <th>ETCHGASCHANNEL1READBACK</th>\n",
       "      <th>ETCHPBNGASREADBACK</th>\n",
       "      <th>FIXTURETILTANGLE</th>\n",
       "      <th>ACTUALROTATIONANGLE</th>\n",
       "      <th>FIXTURESHUTTERPOSITION</th>\n",
       "      <th>ETCHSOURCEUSAGE</th>\n",
       "      <th>ACTUALSTEPDURATION</th>\n",
       "    </tr>\n",
       "  </thead>\n",
       "  <tbody>\n",
       "    <tr>\n",
       "      <th>126864</th>\n",
       "      <td>10546196</td>\n",
       "      <td>-0.049129</td>\n",
       "      <td>-0.950795</td>\n",
       "      <td>0.563367</td>\n",
       "      <td>0.238441</td>\n",
       "      <td>-0.051796</td>\n",
       "      <td>0.359727</td>\n",
       "      <td>-0.200727</td>\n",
       "      <td>-0.122455</td>\n",
       "      <td>1.0</td>\n",
       "      <td>2.773445</td>\n",
       "      <td>-0.66754</td>\n",
       "    </tr>\n",
       "    <tr>\n",
       "      <th>126865</th>\n",
       "      <td>10546196</td>\n",
       "      <td>-0.049129</td>\n",
       "      <td>-0.950852</td>\n",
       "      <td>0.562459</td>\n",
       "      <td>0.238441</td>\n",
       "      <td>-0.051796</td>\n",
       "      <td>0.359727</td>\n",
       "      <td>-0.200727</td>\n",
       "      <td>-0.122455</td>\n",
       "      <td>1.0</td>\n",
       "      <td>2.773448</td>\n",
       "      <td>-0.66754</td>\n",
       "    </tr>\n",
       "    <tr>\n",
       "      <th>126866</th>\n",
       "      <td>10546196</td>\n",
       "      <td>-0.049129</td>\n",
       "      <td>-0.951023</td>\n",
       "      <td>0.562459</td>\n",
       "      <td>0.238441</td>\n",
       "      <td>-0.050292</td>\n",
       "      <td>0.353066</td>\n",
       "      <td>-0.200727</td>\n",
       "      <td>-0.122455</td>\n",
       "      <td>1.0</td>\n",
       "      <td>2.773451</td>\n",
       "      <td>-0.66754</td>\n",
       "    </tr>\n",
       "    <tr>\n",
       "      <th>126867</th>\n",
       "      <td>10546196</td>\n",
       "      <td>-0.049129</td>\n",
       "      <td>-0.950909</td>\n",
       "      <td>0.562459</td>\n",
       "      <td>0.238441</td>\n",
       "      <td>-0.050292</td>\n",
       "      <td>0.353066</td>\n",
       "      <td>-0.200727</td>\n",
       "      <td>-0.122455</td>\n",
       "      <td>1.0</td>\n",
       "      <td>2.773455</td>\n",
       "      <td>-0.66754</td>\n",
       "    </tr>\n",
       "    <tr>\n",
       "      <th>126868</th>\n",
       "      <td>10546196</td>\n",
       "      <td>-0.049129</td>\n",
       "      <td>-0.950852</td>\n",
       "      <td>0.567441</td>\n",
       "      <td>0.238441</td>\n",
       "      <td>-0.055042</td>\n",
       "      <td>0.359727</td>\n",
       "      <td>-0.200727</td>\n",
       "      <td>-0.122455</td>\n",
       "      <td>1.0</td>\n",
       "      <td>2.773456</td>\n",
       "      <td>-0.66754</td>\n",
       "    </tr>\n",
       "  </tbody>\n",
       "</table>\n",
       "</div>"
      ],
      "text/plain": [
       "          runnum  IONGAUGEPRESSURE  ETCHBEAMVOLTAGE  FLOWCOOLFLOWRATE  \\\n",
       "126864  10546196         -0.049129        -0.950795          0.563367   \n",
       "126865  10546196         -0.049129        -0.950852          0.562459   \n",
       "126866  10546196         -0.049129        -0.951023          0.562459   \n",
       "126867  10546196         -0.049129        -0.950909          0.562459   \n",
       "126868  10546196         -0.049129        -0.950852          0.567441   \n",
       "\n",
       "        FLOWCOOLPRESSURE  ETCHGASCHANNEL1READBACK  ETCHPBNGASREADBACK  \\\n",
       "126864          0.238441                -0.051796            0.359727   \n",
       "126865          0.238441                -0.051796            0.359727   \n",
       "126866          0.238441                -0.050292            0.353066   \n",
       "126867          0.238441                -0.050292            0.353066   \n",
       "126868          0.238441                -0.055042            0.359727   \n",
       "\n",
       "        FIXTURETILTANGLE  ACTUALROTATIONANGLE  FIXTURESHUTTERPOSITION  \\\n",
       "126864         -0.200727            -0.122455                     1.0   \n",
       "126865         -0.200727            -0.122455                     1.0   \n",
       "126866         -0.200727            -0.122455                     1.0   \n",
       "126867         -0.200727            -0.122455                     1.0   \n",
       "126868         -0.200727            -0.122455                     1.0   \n",
       "\n",
       "        ETCHSOURCEUSAGE  ACTUALSTEPDURATION  \n",
       "126864         2.773445            -0.66754  \n",
       "126865         2.773448            -0.66754  \n",
       "126866         2.773451            -0.66754  \n",
       "126867         2.773455            -0.66754  \n",
       "126868         2.773456            -0.66754  "
      ]
     },
     "execution_count": 90,
     "metadata": {},
     "output_type": "execute_result"
    }
   ],
   "source": [
    "cl_X1c.head()"
   ]
  },
  {
   "cell_type": "code",
   "execution_count": 91,
   "metadata": {},
   "outputs": [
    {
     "data": {
      "text/plain": [
       "0    42750\n",
       "1    11291\n",
       "Name: fault1_c, dtype: int64"
      ]
     },
     "execution_count": 91,
     "metadata": {},
     "output_type": "execute_result"
    }
   ],
   "source": [
    "cl_Y1c.value_counts()"
   ]
  },
  {
   "cell_type": "code",
   "execution_count": 92,
   "metadata": {},
   "outputs": [
    {
     "data": {
      "image/png": "[encoded data removed]",
      "text/plain": [
       "<Figure size 432x288 with 1 Axes>"
      ]
     },
     "metadata": {
      "needs_background": "light"
     },
     "output_type": "display_data"
    }
   ],
   "source": [
    "cl_Y1c.value_counts().plot(kind='bar')\n",
    "plt.title(\"Data Imbalance Scenario 3\")\n",
    "plt.xticks(rotation=180)\n",
    "plt.show()"
   ]
  },
  {
   "cell_type": "code",
   "execution_count": 93,
   "metadata": {},
   "outputs": [],
   "source": [
    "X_train1c, X_test1c, Y_train1c, Y_test1c = train_test_split(cl_X1c, cl_Y1c, test_size = 0.2, random_state=42)"
   ]
  },
  {
   "cell_type": "code",
   "execution_count": 94,
   "metadata": {},
   "outputs": [],
   "source": [
    "cl_scalar_c = MinMaxScaler()\n",
    "cl_scalar_c.fit(X_train1c)\n",
    "\n",
    "scl_trainX1c = cl_scalar.transform(X_train1c)\n",
    "scl_testX1c = cl_scalar.transform(X_test1c)"
   ]
  },
  {
   "cell_type": "markdown",
   "metadata": {},
   "source": [
    "#### Random Forest Classifier C"
   ]
  },
  {
   "cell_type": "code",
   "execution_count": 95,
   "metadata": {},
   "outputs": [
    {
     "data": {
      "text/plain": [
       "RandomForestClassifier()"
      ]
     },
     "execution_count": 95,
     "metadata": {},
     "output_type": "execute_result"
    }
   ],
   "source": [
    "rfc_c = RandomForestClassifier()\n",
    "\n",
    "rfc_c.fit(scl_trainX1c, Y_train1c)"
   ]
  },
  {
   "cell_type": "code",
   "execution_count": 96,
   "metadata": {},
   "outputs": [
    {
     "name": "stdout",
     "output_type": "stream",
     "text": [
      "Accuracy Score Random Forest Classifier Scenario 3: 0.994\n",
      "\n",
      "Classification Report Random Forest Classifier Scenario 3\n",
      "\n",
      "               precision    recall  f1-score   support\n",
      "\n",
      "           0       1.00      1.00      1.00      8583\n",
      "           1       0.98      0.99      0.99      2226\n",
      "\n",
      "    accuracy                           0.99     10809\n",
      "   macro avg       0.99      0.99      0.99     10809\n",
      "weighted avg       0.99      0.99      0.99     10809\n",
      "\n"
     ]
    }
   ],
   "source": [
    "rfc_pred_c = rfc_c.predict(scl_testX1c)\n",
    "\n",
    "rfc_accuracy_c = accuracy_score(Y_test1c, rfc_pred_c)\n",
    "\n",
    "print('Accuracy Score Random Forest Classifier Scenario 3: {:.3f}\\n'.format(rfc_accuracy_c))\n",
    "print('Classification Report Random Forest Classifier Scenario 3\\n\\n',classification_report(Y_test1c, rfc_pred_c))"
   ]
  },
  {
   "cell_type": "code",
   "execution_count": 97,
   "metadata": {},
   "outputs": [],
   "source": [
    "rfc_cm_c = confusion_matrix(Y_test1c, rfc_pred_c)"
   ]
  },
  {
   "cell_type": "code",
   "execution_count": 98,
   "metadata": {},
   "outputs": [
    {
     "data": {
      "image/png": "[encoded data removed]",
      "text/plain": [
       "<Figure size 432x288 with 2 Axes>"
      ]
     },
     "metadata": {
      "needs_background": "light"
     },
     "output_type": "display_data"
    }
   ],
   "source": [
    "sns.heatmap(rfc_cm_c, annot=True, fmt='.2f', cmap=plt.cm.Blues)\n",
    "plt.title('Gradient Boosting Classifier for Scenario 3')\n",
    "plt.xlabel('Predicted')\n",
    "plt.ylabel('Actual')\n",
    "plt.show()"
   ]
  },
  {
   "cell_type": "markdown",
   "metadata": {},
   "source": [
    "#### Feature Importance using Random Forest Clssifier"
   ]
  },
  {
   "cell_type": "code",
   "execution_count": 99,
   "metadata": {},
   "outputs": [],
   "source": [
    "cl_result = permutation_importance(rfc_c, scl_testX1c, Y_test1c, random_state=42)"
   ]
  },
  {
   "cell_type": "code",
   "execution_count": 100,
   "metadata": {},
   "outputs": [
    {
     "data": {
      "image/png": "[encoded data removed]",
      "text/plain": [
       "<Figure size 720x576 with 1 Axes>"
      ]
     },
     "metadata": {
      "needs_background": "light"
     },
     "output_type": "display_data"
    }
   ],
   "source": [
    "cl_pp = cl_result.importances_mean.argsort()\n",
    "\n",
    "cl_sort_pp = np.argsort(cl_pp)\n",
    "\n",
    "pos = np.arange(cl_sort_pp.shape[0])+0.5\n",
    "y_ticks = np.arange(0,len(cl_X1c.columns))\n",
    "\n",
    "plt.figure(figsize=(10,8))\n",
    "plt.barh(pos, cl_pp[cl_sort_pp])\n",
    "plt.yticks(y_ticks, cl_X1c.columns[cl_sort_pp])\n",
    "plt.title('Permutation Importance using Random Forest Classifier')\n",
    "plt.show()"
   ]
  },
  {
   "cell_type": "markdown",
   "metadata": {},
   "source": [
    "#### Gradient Boost Classifier C"
   ]
  },
  {
   "cell_type": "code",
   "execution_count": 101,
   "metadata": {
    "scrolled": true
   },
   "outputs": [
    {
     "data": {
      "text/plain": [
       "GradientBoostingClassifier()"
      ]
     },
     "execution_count": 101,
     "metadata": {},
     "output_type": "execute_result"
    }
   ],
   "source": [
    "gbc_c = GradientBoostingClassifier()\n",
    "\n",
    "gbc_c.fit(scl_trainX1c, Y_train1c)"
   ]
  },
  {
   "cell_type": "code",
   "execution_count": 102,
   "metadata": {},
   "outputs": [
    {
     "name": "stdout",
     "output_type": "stream",
     "text": [
      "Accuracy Score Gradient Boost Classifier Scenario 3: 0.979\n",
      "\n",
      "Classification Report Gradient Boost Classifier Scenario 3\n",
      "\n",
      "               precision    recall  f1-score   support\n",
      "\n",
      "           0       0.98      0.99      0.99      8583\n",
      "           1       0.96      0.93      0.95      2226\n",
      "\n",
      "    accuracy                           0.98     10809\n",
      "   macro avg       0.97      0.96      0.97     10809\n",
      "weighted avg       0.98      0.98      0.98     10809\n",
      "\n"
     ]
    }
   ],
   "source": [
    "gbc_pred_c = gbc_c.predict(scl_testX1c)\n",
    "\n",
    "gbc_accuracy_c = accuracy_score(Y_test1c, gbc_pred_c)\n",
    "\n",
    "print('Accuracy Score Gradient Boost Classifier Scenario 3: {:.3f}\\n'.format(gbc_accuracy_c))\n",
    "print('Classification Report Gradient Boost Classifier Scenario 3\\n\\n', classification_report(Y_test1c, gbc_pred_c))"
   ]
  },
  {
   "cell_type": "code",
   "execution_count": 103,
   "metadata": {},
   "outputs": [],
   "source": [
    "gbc_cm_c = confusion_matrix(Y_test1c, gbc_pred_c)"
   ]
  },
  {
   "cell_type": "code",
   "execution_count": 104,
   "metadata": {},
   "outputs": [
    {
     "data": {
      "image/png": "[encoded data removed]",
      "text/plain": [
       "<Figure size 432x288 with 2 Axes>"
      ]
     },
     "metadata": {
      "needs_background": "light"
     },
     "output_type": "display_data"
    }
   ],
   "source": [
    "sns.heatmap(gbc_cm_c, annot=True, fmt='.2f', cmap=plt.cm.Blues)\n",
    "plt.title('Gradient Boosting Classifier for Scenario 3')\n",
    "plt.xlabel('Predicted')\n",
    "plt.ylabel('Actual')\n",
    "plt.show()"
   ]
  },
  {
   "cell_type": "markdown",
   "metadata": {},
   "source": [
    "#### Logistic Regression C"
   ]
  },
  {
   "cell_type": "code",
   "execution_count": 105,
   "metadata": {},
   "outputs": [
    {
     "data": {
      "text/plain": [
       "LogisticRegression()"
      ]
     },
     "execution_count": 105,
     "metadata": {},
     "output_type": "execute_result"
    }
   ],
   "source": [
    "logreg_c = LogisticRegression()\n",
    "\n",
    "logreg_c.fit(scl_trainX1c, Y_train1c)"
   ]
  },
  {
   "cell_type": "code",
   "execution_count": 106,
   "metadata": {
    "scrolled": true
   },
   "outputs": [
    {
     "name": "stdout",
     "output_type": "stream",
     "text": [
      "Accuracy Score Logistic Regression Scenario 3: 0.836\n",
      "\n",
      "Classification Report Logistic Regression Scenario 3\n",
      "\n",
      "               precision    recall  f1-score   support\n",
      "\n",
      "           0       0.86      0.94      0.90      8583\n",
      "           1       0.66      0.42      0.52      2226\n",
      "\n",
      "    accuracy                           0.84     10809\n",
      "   macro avg       0.76      0.68      0.71     10809\n",
      "weighted avg       0.82      0.84      0.82     10809\n",
      "\n"
     ]
    }
   ],
   "source": [
    "logreg_pred_c = logreg_c.predict(scl_testX1c)\n",
    "\n",
    "logreg_accuracy_c = accuracy_score(Y_test1c, logreg_pred_c)\n",
    "\n",
    "print('Accuracy Score Logistic Regression Scenario 3: {:.3f}\\n'.format(logreg_accuracy_c))\n",
    "print('Classification Report Logistic Regression Scenario 3\\n\\n', classification_report(Y_test1c, logreg_pred_c))"
   ]
  },
  {
   "cell_type": "code",
   "execution_count": 107,
   "metadata": {},
   "outputs": [],
   "source": [
    "logreg_cm_c = confusion_matrix(Y_test1c, logreg_pred_c)"
   ]
  },
  {
   "cell_type": "code",
   "execution_count": 108,
   "metadata": {
    "scrolled": true
   },
   "outputs": [
    {
     "data": {
      "image/png": "[encoded data removed]",
      "text/plain": [
       "<Figure size 432x288 with 2 Axes>"
      ]
     },
     "metadata": {
      "needs_background": "light"
     },
     "output_type": "display_data"
    }
   ],
   "source": [
    "sns.heatmap(logreg_cm_c, annot=True, fmt='.2f')\n",
    "plt.title('Logistic Regression for Scenario 3')\n",
    "plt.xlabel('Predicted')\n",
    "plt.ylabel('Actual')\n",
    "plt.show()"
   ]
  },
  {
   "cell_type": "markdown",
   "metadata": {},
   "source": [
    "#### Cross Validation C"
   ]
  },
  {
   "cell_type": "code",
   "execution_count": 109,
   "metadata": {},
   "outputs": [
    {
     "name": "stdout",
     "output_type": "stream",
     "text": [
      "Scores:\n",
      " [0.98506637 0.98627128 0.98012148 0.98203924 0.98654216]\n",
      "Scores:0.984\n",
      "Scores:0.003\n"
     ]
    }
   ],
   "source": [
    "rfc_valscore_c = cross_validate(rfc_c,scl_trainX1c, Y_train1c, cv=5, scoring='f1')\n",
    "\n",
    "print(\"Scores:\\n\",rfc_valscore_c['test_score'])\n",
    "print(\"Scores:{:.3f}\".format(rfc_valscore_c['test_score'].mean()))\n",
    "print(\"Scores:{:.3f}\".format(rfc_valscore_c['test_score'].std()))"
   ]
  },
  {
   "cell_type": "code",
   "execution_count": 110,
   "metadata": {},
   "outputs": [
    {
     "name": "stdout",
     "output_type": "stream",
     "text": [
      "Scores:\n",
      " [0.957927   0.94067797 0.94567971 0.9487901  0.94050992]\n",
      "Scores:0.947\n",
      "Scores:0.006\n"
     ]
    }
   ],
   "source": [
    "gbc_valscore_c = cross_validate(gbc_c,scl_trainX1c, Y_train1c, cv=5, scoring='f1')\n",
    "\n",
    "print(\"Scores:\\n\",gbc_valscore_c['test_score'])\n",
    "print(\"Scores:{:.3f}\".format(gbc_valscore_c['test_score'].mean()))\n",
    "print(\"Scores:{:.3f}\".format(gbc_valscore_c['test_score'].std()))"
   ]
  },
  {
   "cell_type": "code",
   "execution_count": 112,
   "metadata": {},
   "outputs": [
    {
     "name": "stdout",
     "output_type": "stream",
     "text": [
      "Scores:\n",
      " [0.52256532 0.50906603 0.51071064 0.53074866 0.47560976]\n",
      "Scores:0.510\n",
      "Scores:0.019\n"
     ]
    }
   ],
   "source": [
    "logreg_valscore_c = cross_validate(logreg_c, scl_trainX1c, Y_train1c, cv=5, scoring='f1')\n",
    "\n",
    "print(\"Scores:\\n\",logreg_valscore_c['test_score'])\n",
    "print(\"Scores:{:.3f}\".format(logreg_valscore_c['test_score'].mean()))\n",
    "print(\"Scores:{:.3f}\".format(logreg_valscore_c['test_score'].std()))"
   ]
  },
  {
   "cell_type": "markdown",
   "metadata": {},
   "source": [
    "## Scenario 4: 86400 and failure is 20000 - 24 hours, about 51/2 hours"
   ]
  },
  {
   "cell_type": "code",
   "execution_count": 113,
   "metadata": {},
   "outputs": [],
   "source": [
    "cl_f1d_data = alldata.drop(['time','Lot','Tool','stage','recipe','recipe_step','ROTATIONSPEED','ETCHBEAMCURRENT','ETCHSUPPRESSORVOLTAGE',\n",
    "                        'ETCHSUPPRESSORCURRENT','ETCHAUXSOURCETIMER','ETCHAUX2SOURCETIMER','Flowcool_Pressure_dropped_below_limit','Flowcool_Pressure_Too_High',\n",
    "                       'fault1_a', 'fault1_b','fault1_c'], axis=1)"
   ]
  },
  {
   "cell_type": "code",
   "execution_count": 114,
   "metadata": {},
   "outputs": [],
   "source": [
    "clf1data_d = cl_f1d_data.dropna()"
   ]
  },
  {
   "cell_type": "code",
   "execution_count": 115,
   "metadata": {},
   "outputs": [],
   "source": [
    "cutoff_1d = 86400\n",
    "\n",
    "cl_cutoff1d = clf1data_d.loc[clf1data_d['TTF_Flowcool_leak']<cutoff_1d].copy()"
   ]
  },
  {
   "cell_type": "code",
   "execution_count": 116,
   "metadata": {},
   "outputs": [],
   "source": [
    "cl_X1d = cl_cutoff1d.drop(['TTF_Flowcool_leak', 'fault1_d'], axis=1)\n",
    "cl_Y1d = cl_cutoff1d['fault1_d']"
   ]
  },
  {
   "cell_type": "code",
   "execution_count": 118,
   "metadata": {},
   "outputs": [
    {
     "data": {
      "text/html": [
       "<div>\n",
       "<style scoped>\n",
       "    .dataframe tbody tr th:only-of-type {\n",
       "        vertical-align: middle;\n",
       "    }\n",
       "\n",
       "    .dataframe tbody tr th {\n",
       "        vertical-align: top;\n",
       "    }\n",
       "\n",
       "    .dataframe thead th {\n",
       "        text-align: right;\n",
       "    }\n",
       "</style>\n",
       "<table border=\"1\" class=\"dataframe\">\n",
       "  <thead>\n",
       "    <tr style=\"text-align: right;\">\n",
       "      <th></th>\n",
       "      <th>runnum</th>\n",
       "      <th>IONGAUGEPRESSURE</th>\n",
       "      <th>ETCHBEAMVOLTAGE</th>\n",
       "      <th>FLOWCOOLFLOWRATE</th>\n",
       "      <th>FLOWCOOLPRESSURE</th>\n",
       "      <th>ETCHGASCHANNEL1READBACK</th>\n",
       "      <th>ETCHPBNGASREADBACK</th>\n",
       "      <th>FIXTURETILTANGLE</th>\n",
       "      <th>ACTUALROTATIONANGLE</th>\n",
       "      <th>FIXTURESHUTTERPOSITION</th>\n",
       "      <th>ETCHSOURCEUSAGE</th>\n",
       "      <th>ACTUALSTEPDURATION</th>\n",
       "    </tr>\n",
       "  </thead>\n",
       "  <tbody>\n",
       "    <tr>\n",
       "      <th>113737</th>\n",
       "      <td>10542590</td>\n",
       "      <td>-0.023355</td>\n",
       "      <td>-0.949260</td>\n",
       "      <td>0.566387</td>\n",
       "      <td>0.217228</td>\n",
       "      <td>-0.066554</td>\n",
       "      <td>0.357450</td>\n",
       "      <td>-0.200727</td>\n",
       "      <td>-0.122464</td>\n",
       "      <td>1.0</td>\n",
       "      <td>2.732629</td>\n",
       "      <td>-0.66754</td>\n",
       "    </tr>\n",
       "    <tr>\n",
       "      <th>113738</th>\n",
       "      <td>10542590</td>\n",
       "      <td>-0.014866</td>\n",
       "      <td>-0.949487</td>\n",
       "      <td>0.566387</td>\n",
       "      <td>0.217228</td>\n",
       "      <td>-0.048540</td>\n",
       "      <td>0.354293</td>\n",
       "      <td>-0.200727</td>\n",
       "      <td>-0.122464</td>\n",
       "      <td>1.0</td>\n",
       "      <td>2.732633</td>\n",
       "      <td>-0.66754</td>\n",
       "    </tr>\n",
       "    <tr>\n",
       "      <th>113739</th>\n",
       "      <td>10542590</td>\n",
       "      <td>-0.011506</td>\n",
       "      <td>-0.949260</td>\n",
       "      <td>0.566387</td>\n",
       "      <td>0.217228</td>\n",
       "      <td>-0.048540</td>\n",
       "      <td>0.354293</td>\n",
       "      <td>-0.200727</td>\n",
       "      <td>-0.122464</td>\n",
       "      <td>1.0</td>\n",
       "      <td>2.732636</td>\n",
       "      <td>-0.66754</td>\n",
       "    </tr>\n",
       "    <tr>\n",
       "      <th>113740</th>\n",
       "      <td>10542590</td>\n",
       "      <td>-0.016305</td>\n",
       "      <td>-0.949658</td>\n",
       "      <td>0.574072</td>\n",
       "      <td>0.217228</td>\n",
       "      <td>-0.061544</td>\n",
       "      <td>0.354293</td>\n",
       "      <td>-0.200727</td>\n",
       "      <td>-0.122464</td>\n",
       "      <td>1.0</td>\n",
       "      <td>2.732639</td>\n",
       "      <td>-0.66754</td>\n",
       "    </tr>\n",
       "    <tr>\n",
       "      <th>113741</th>\n",
       "      <td>10542590</td>\n",
       "      <td>-0.011887</td>\n",
       "      <td>-0.949601</td>\n",
       "      <td>0.574072</td>\n",
       "      <td>0.217228</td>\n",
       "      <td>-0.061544</td>\n",
       "      <td>0.353066</td>\n",
       "      <td>-0.200727</td>\n",
       "      <td>-0.122464</td>\n",
       "      <td>1.0</td>\n",
       "      <td>2.732644</td>\n",
       "      <td>-0.66754</td>\n",
       "    </tr>\n",
       "  </tbody>\n",
       "</table>\n",
       "</div>"
      ],
      "text/plain": [
       "          runnum  IONGAUGEPRESSURE  ETCHBEAMVOLTAGE  FLOWCOOLFLOWRATE  \\\n",
       "113737  10542590         -0.023355        -0.949260          0.566387   \n",
       "113738  10542590         -0.014866        -0.949487          0.566387   \n",
       "113739  10542590         -0.011506        -0.949260          0.566387   \n",
       "113740  10542590         -0.016305        -0.949658          0.574072   \n",
       "113741  10542590         -0.011887        -0.949601          0.574072   \n",
       "\n",
       "        FLOWCOOLPRESSURE  ETCHGASCHANNEL1READBACK  ETCHPBNGASREADBACK  \\\n",
       "113737          0.217228                -0.066554            0.357450   \n",
       "113738          0.217228                -0.048540            0.354293   \n",
       "113739          0.217228                -0.048540            0.354293   \n",
       "113740          0.217228                -0.061544            0.354293   \n",
       "113741          0.217228                -0.061544            0.353066   \n",
       "\n",
       "        FIXTURETILTANGLE  ACTUALROTATIONANGLE  FIXTURESHUTTERPOSITION  \\\n",
       "113737         -0.200727            -0.122464                     1.0   \n",
       "113738         -0.200727            -0.122464                     1.0   \n",
       "113739         -0.200727            -0.122464                     1.0   \n",
       "113740         -0.200727            -0.122464                     1.0   \n",
       "113741         -0.200727            -0.122464                     1.0   \n",
       "\n",
       "        ETCHSOURCEUSAGE  ACTUALSTEPDURATION  \n",
       "113737         2.732629            -0.66754  \n",
       "113738         2.732633            -0.66754  \n",
       "113739         2.732636            -0.66754  \n",
       "113740         2.732639            -0.66754  \n",
       "113741         2.732644            -0.66754  "
      ]
     },
     "execution_count": 118,
     "metadata": {},
     "output_type": "execute_result"
    }
   ],
   "source": [
    "cl_X1d.head()"
   ]
  },
  {
   "cell_type": "code",
   "execution_count": 119,
   "metadata": {},
   "outputs": [
    {
     "data": {
      "text/plain": [
       "0    154758\n",
       "1     11291\n",
       "Name: fault1_d, dtype: int64"
      ]
     },
     "execution_count": 119,
     "metadata": {},
     "output_type": "execute_result"
    }
   ],
   "source": [
    "cl_Y1d.value_counts()"
   ]
  },
  {
   "cell_type": "code",
   "execution_count": 120,
   "metadata": {},
   "outputs": [
    {
     "data": {
      "image/png": "[encoded data removed]",
      "text/plain": [
       "<Figure size 432x288 with 1 Axes>"
      ]
     },
     "metadata": {
      "needs_background": "light"
     },
     "output_type": "display_data"
    }
   ],
   "source": [
    "cl_Y1d.value_counts().plot(kind='bar')\n",
    "plt.title(\"Data Imbalance Scenario 4\")\n",
    "plt.xticks(rotation=180)\n",
    "plt.show()"
   ]
  },
  {
   "cell_type": "code",
   "execution_count": 121,
   "metadata": {},
   "outputs": [],
   "source": [
    "X_train1d, X_test1d, Y_train1d, Y_test1d = train_test_split(cl_X1d, cl_Y1d, test_size = 0.2, random_state=42)"
   ]
  },
  {
   "cell_type": "code",
   "execution_count": 122,
   "metadata": {},
   "outputs": [],
   "source": [
    "cl_scalar_d = MinMaxScaler()\n",
    "cl_scalar_d.fit(X_train1d)\n",
    "\n",
    "scl_trainX1d = cl_scalar.transform(X_train1d)\n",
    "scl_testX1d = cl_scalar.transform(X_test1d)"
   ]
  },
  {
   "cell_type": "markdown",
   "metadata": {},
   "source": [
    "#### Random Forest Classifier D"
   ]
  },
  {
   "cell_type": "code",
   "execution_count": 123,
   "metadata": {},
   "outputs": [
    {
     "data": {
      "text/plain": [
       "RandomForestClassifier()"
      ]
     },
     "execution_count": 123,
     "metadata": {},
     "output_type": "execute_result"
    }
   ],
   "source": [
    "rfc_d = RandomForestClassifier()\n",
    "\n",
    "rfc_d.fit(scl_trainX1d, Y_train1d)"
   ]
  },
  {
   "cell_type": "code",
   "execution_count": 124,
   "metadata": {},
   "outputs": [
    {
     "name": "stdout",
     "output_type": "stream",
     "text": [
      "Accuracy Score Random Forest Classifier Scenario 4: 0.998\n",
      "\n",
      "Classification Report Random Forest Classifier Scenario 4\n",
      "\n",
      "               precision    recall  f1-score   support\n",
      "\n",
      "           0       1.00      1.00      1.00     30943\n",
      "           1       0.99      0.98      0.99      2267\n",
      "\n",
      "    accuracy                           1.00     33210\n",
      "   macro avg       0.99      0.99      0.99     33210\n",
      "weighted avg       1.00      1.00      1.00     33210\n",
      "\n"
     ]
    }
   ],
   "source": [
    "rfc_pred_d = rfc_d.predict(scl_testX1d)\n",
    "\n",
    "rfc_accuracy_d = accuracy_score(Y_test1d, rfc_pred_d)\n",
    "\n",
    "print('Accuracy Score Random Forest Classifier Scenario 4: {:.3f}\\n'.format(rfc_accuracy_d))\n",
    "print('Classification Report Random Forest Classifier Scenario 4\\n\\n',classification_report(Y_test1d, rfc_pred_d))"
   ]
  },
  {
   "cell_type": "code",
   "execution_count": 125,
   "metadata": {},
   "outputs": [],
   "source": [
    "rfc_cm_d = confusion_matrix(Y_test1d, rfc_pred_d)"
   ]
  },
  {
   "cell_type": "code",
   "execution_count": 126,
   "metadata": {},
   "outputs": [
    {
     "data": {
      "image/png": "[encoded data removed]",
      "text/plain": [
       "<Figure size 432x288 with 2 Axes>"
      ]
     },
     "metadata": {
      "needs_background": "light"
     },
     "output_type": "display_data"
    }
   ],
   "source": [
    "sns.heatmap(rfc_cm_d, annot=True, fmt='.2f', cmap=plt.cm.Blues)\n",
    "plt.title('Gradient Boosting Classifier for Scenario 4')\n",
    "plt.xlabel('Predicted')\n",
    "plt.ylabel('Actual')\n",
    "plt.show()"
   ]
  },
  {
   "cell_type": "markdown",
   "metadata": {},
   "source": [
    "#### Feature Importance using Random Forest Clssifier D"
   ]
  },
  {
   "cell_type": "code",
   "execution_count": 127,
   "metadata": {},
   "outputs": [],
   "source": [
    "cl_result_d = permutation_importance(rfc_d, scl_testX1d, Y_test1d, random_state=42)"
   ]
  },
  {
   "cell_type": "code",
   "execution_count": 128,
   "metadata": {},
   "outputs": [
    {
     "data": {
      "image/png": "[encoded data removed]",
      "text/plain": [
       "<Figure size 720x576 with 1 Axes>"
      ]
     },
     "metadata": {
      "needs_background": "light"
     },
     "output_type": "display_data"
    }
   ],
   "source": [
    "cl_pp_d = cl_result_d.importances_mean.argsort()\n",
    "\n",
    "cl_sort_pp_d = np.argsort(cl_pp_d)\n",
    "\n",
    "pos = np.arange(cl_sort_pp_d.shape[0])+0.5\n",
    "y_ticks = np.arange(0,len(cl_X1d.columns))\n",
    "\n",
    "plt.figure(figsize=(10,8))\n",
    "plt.barh(pos, cl_pp_d[cl_sort_pp_d])\n",
    "plt.yticks(y_ticks, cl_X1d.columns[cl_sort_pp_d])\n",
    "plt.title('Permutation Importance using Random Forest Classifier')\n",
    "plt.show()"
   ]
  },
  {
   "cell_type": "markdown",
   "metadata": {},
   "source": [
    "#### Gradient Boost Classifier D"
   ]
  },
  {
   "cell_type": "code",
   "execution_count": 129,
   "metadata": {
    "scrolled": true
   },
   "outputs": [
    {
     "data": {
      "text/plain": [
       "GradientBoostingClassifier()"
      ]
     },
     "execution_count": 129,
     "metadata": {},
     "output_type": "execute_result"
    }
   ],
   "source": [
    "gbc_d = GradientBoostingClassifier()\n",
    "\n",
    "gbc_d.fit(scl_trainX1d, Y_train1d)"
   ]
  },
  {
   "cell_type": "code",
   "execution_count": 130,
   "metadata": {},
   "outputs": [
    {
     "name": "stdout",
     "output_type": "stream",
     "text": [
      "Accuracy Score Gradient Boost Classifier Scenario 4: 0.984\n",
      "\n",
      "Classification Report Gradient Boost Classifier Scenario 4\n",
      "\n",
      "               precision    recall  f1-score   support\n",
      "\n",
      "           0       0.98      1.00      0.99     30943\n",
      "           1       0.96      0.79      0.87      2267\n",
      "\n",
      "    accuracy                           0.98     33210\n",
      "   macro avg       0.97      0.89      0.93     33210\n",
      "weighted avg       0.98      0.98      0.98     33210\n",
      "\n"
     ]
    }
   ],
   "source": [
    "gbc_pred_d = gbc_d.predict(scl_testX1d)\n",
    "\n",
    "gbc_accuracy_d = accuracy_score(Y_test1d, gbc_pred_d)\n",
    "\n",
    "print('Accuracy Score Gradient Boost Classifier Scenario 4: {:.3f}\\n'.format(gbc_accuracy_d))\n",
    "print('Classification Report Gradient Boost Classifier Scenario 4\\n\\n', classification_report(Y_test1d, gbc_pred_d))"
   ]
  },
  {
   "cell_type": "code",
   "execution_count": 131,
   "metadata": {},
   "outputs": [],
   "source": [
    "gbc_cm_d = confusion_matrix(Y_test1d, gbc_pred_d)"
   ]
  },
  {
   "cell_type": "code",
   "execution_count": 132,
   "metadata": {},
   "outputs": [
    {
     "data": {
      "image/png": "[encoded data removed]",
      "text/plain": [
       "<Figure size 432x288 with 2 Axes>"
      ]
     },
     "metadata": {
      "needs_background": "light"
     },
     "output_type": "display_data"
    }
   ],
   "source": [
    "sns.heatmap(gbc_cm_d, annot=True, fmt='.2f', cmap=plt.cm.Blues)\n",
    "plt.title('Gradient Boosting Classifier for Scenario 4')\n",
    "plt.xlabel('Predicted')\n",
    "plt.ylabel('Actual')\n",
    "plt.show()"
   ]
  },
  {
   "cell_type": "markdown",
   "metadata": {},
   "source": [
    "#### Logistic Regression D"
   ]
  },
  {
   "cell_type": "code",
   "execution_count": 133,
   "metadata": {},
   "outputs": [
    {
     "data": {
      "text/plain": [
       "LogisticRegression()"
      ]
     },
     "execution_count": 133,
     "metadata": {},
     "output_type": "execute_result"
    }
   ],
   "source": [
    "logreg_d = LogisticRegression()\n",
    "\n",
    "logreg_d.fit(scl_trainX1d, Y_train1d)"
   ]
  },
  {
   "cell_type": "code",
   "execution_count": 134,
   "metadata": {
    "scrolled": true
   },
   "outputs": [
    {
     "name": "stdout",
     "output_type": "stream",
     "text": [
      "Accuracy Score Logistic Regression Scenario 4: 0.932\n",
      "\n",
      "Classification Report Logistic Regression Scenario 4\n",
      "\n",
      "               precision    recall  f1-score   support\n",
      "\n",
      "           0       0.93      1.00      0.96     30943\n",
      "           1       0.00      0.00      0.00      2267\n",
      "\n",
      "    accuracy                           0.93     33210\n",
      "   macro avg       0.47      0.50      0.48     33210\n",
      "weighted avg       0.87      0.93      0.90     33210\n",
      "\n"
     ]
    }
   ],
   "source": [
    "logreg_pred_d = logreg_d.predict(scl_testX1d)\n",
    "\n",
    "logreg_accuracy_d = accuracy_score(Y_test1d, logreg_pred_d)\n",
    "\n",
    "print('Accuracy Score Logistic Regression Scenario 4: {:.3}\\n'.format(logreg_accuracy_d))\n",
    "print('Classification Report Logistic Regression Scenario 4\\n\\n', classification_report(Y_test1d, logreg_pred_d))"
   ]
  },
  {
   "cell_type": "code",
   "execution_count": 135,
   "metadata": {},
   "outputs": [],
   "source": [
    "logreg_cm_d = confusion_matrix(Y_test1d, logreg_pred_d)"
   ]
  },
  {
   "cell_type": "code",
   "execution_count": 136,
   "metadata": {
    "scrolled": true
   },
   "outputs": [
    {
     "data": {
      "image/png": "[encoded data removed]",
      "text/plain": [
       "<Figure size 432x288 with 2 Axes>"
      ]
     },
     "metadata": {
      "needs_background": "light"
     },
     "output_type": "display_data"
    }
   ],
   "source": [
    "sns.heatmap(logreg_cm_d, annot=True, fmt='.2f')\n",
    "plt.title('Logistic Regression for Scenario 4')\n",
    "plt.xlabel('Predicted')\n",
    "plt.ylabel('Actual')\n",
    "plt.show()"
   ]
  },
  {
   "cell_type": "markdown",
   "metadata": {},
   "source": [
    "#### Cross Validation D"
   ]
  },
  {
   "cell_type": "code",
   "execution_count": 137,
   "metadata": {},
   "outputs": [
    {
     "name": "stdout",
     "output_type": "stream",
     "text": [
      "Scores:\n",
      " [0.98451327 0.98047842 0.98245614 0.97653878 0.98449612]\n",
      "Scores:0.982\n",
      "Scores:0.003\n"
     ]
    }
   ],
   "source": [
    "rfc_valscore_d = cross_validate(rfc_d,scl_trainX1d, Y_train1d, cv=5, scoring='f1')\n",
    "\n",
    "print(\"Scores:\\n\",rfc_valscore_d['test_score'])\n",
    "print(\"Scores:{:.3f}\".format(rfc_valscore_d['test_score'].mean()))\n",
    "print(\"Scores:{:.3f}\".format(rfc_valscore_d['test_score'].std()))"
   ]
  },
  {
   "cell_type": "code",
   "execution_count": 138,
   "metadata": {},
   "outputs": [
    {
     "name": "stdout",
     "output_type": "stream",
     "text": [
      "Scores:\n",
      " [0.87836638 0.88280785 0.91126678 0.88526534 0.8828614 ]\n",
      "Scores:0.888\n",
      "Scores:0.012\n"
     ]
    }
   ],
   "source": [
    "gbc_valscore_d = cross_validate(gbc_d,scl_trainX1d, Y_train1d, cv=5, scoring='f1')\n",
    "\n",
    "print(\"Scores:\\n\",gbc_valscore_d['test_score'])\n",
    "print(\"Scores:{:.3f}\".format(gbc_valscore_d['test_score'].mean()))\n",
    "print(\"Scores:{:.3f}\".format(gbc_valscore_d['test_score'].std()))"
   ]
  },
  {
   "cell_type": "code",
   "execution_count": 139,
   "metadata": {},
   "outputs": [
    {
     "name": "stdout",
     "output_type": "stream",
     "text": [
      "Scores:\n",
      " [0.00110375 0.         0.01208791 0.00110497 0.00110375]\n",
      "Scores:0.003\n",
      "Scores:0.005\n"
     ]
    }
   ],
   "source": [
    "logreg_valscore_d = cross_validate(logreg_d, scl_trainX1d, Y_train1d, cv=5, scoring='f1')\n",
    "\n",
    "print(\"Scores:\\n\",logreg_valscore_d['test_score'])\n",
    "print(\"Scores:{:.3f}\".format(logreg_valscore_d['test_score'].mean()))\n",
    "print(\"Scores:{:.3f}\".format(logreg_valscore_d['test_score'].std()))"
   ]
  },
  {
   "cell_type": "code",
   "execution_count": null,
   "metadata": {},
   "outputs": [],
   "source": []
  },
  {
   "cell_type": "markdown",
   "metadata": {},
   "source": [
    "#### Model Comparison"
   ]
  },
  {
   "cell_type": "code",
   "execution_count": 140,
   "metadata": {},
   "outputs": [],
   "source": [
    "TTF_FlowcoolLeak = pd.DataFrame({\n",
    "    'Fault 3 Models':['Random Forest Classifier','Gradient Boosting Classifier','Logistic Regression'],\n",
    "       'Scenario 1':[rfc_valscore_a['test_score'].mean(),gbc_valscore_a['test_score'].mean(),logreg_valscore_a['test_score'].mean()],\n",
    "       'Scenario 2':[rfc_valscore_b['test_score'].mean(),gbc_valscore_b['test_score'].mean(),logreg_valscore_b['test_score'].mean()] , \n",
    "        'Scenario 3':[rfc_valscore_c['test_score'].mean(),gbc_valscore_c['test_score'].mean(),logreg_valscore_c['test_score'].mean()],\n",
    "        'Scenario 4':[rfc_valscore_d['test_score'].mean(),gbc_valscore_d['test_score'].mean(),logreg_valscore_d['test_score'].mean()],\n",
    "})\n"
   ]
  },
  {
   "cell_type": "code",
   "execution_count": 141,
   "metadata": {},
   "outputs": [
    {
     "data": {
      "text/html": [
       "<div>\n",
       "<style scoped>\n",
       "    .dataframe tbody tr th:only-of-type {\n",
       "        vertical-align: middle;\n",
       "    }\n",
       "\n",
       "    .dataframe tbody tr th {\n",
       "        vertical-align: top;\n",
       "    }\n",
       "\n",
       "    .dataframe thead th {\n",
       "        text-align: right;\n",
       "    }\n",
       "</style>\n",
       "<table border=\"1\" class=\"dataframe\">\n",
       "  <thead>\n",
       "    <tr style=\"text-align: right;\">\n",
       "      <th></th>\n",
       "      <th>Fault 3 Models</th>\n",
       "      <th>Scenario 1</th>\n",
       "      <th>Scenario 2</th>\n",
       "      <th>Scenario 3</th>\n",
       "      <th>Scenario 4</th>\n",
       "    </tr>\n",
       "  </thead>\n",
       "  <tbody>\n",
       "    <tr>\n",
       "      <th>0</th>\n",
       "      <td>Random Forest Classifier</td>\n",
       "      <td>0.940691</td>\n",
       "      <td>0.964918</td>\n",
       "      <td>0.984008</td>\n",
       "      <td>0.981697</td>\n",
       "    </tr>\n",
       "    <tr>\n",
       "      <th>1</th>\n",
       "      <td>Gradient Boosting Classifier</td>\n",
       "      <td>0.903621</td>\n",
       "      <td>0.937468</td>\n",
       "      <td>0.946717</td>\n",
       "      <td>0.888114</td>\n",
       "    </tr>\n",
       "    <tr>\n",
       "      <th>2</th>\n",
       "      <td>Logistic Regression</td>\n",
       "      <td>0.000000</td>\n",
       "      <td>0.425200</td>\n",
       "      <td>0.509740</td>\n",
       "      <td>0.003080</td>\n",
       "    </tr>\n",
       "  </tbody>\n",
       "</table>\n",
       "</div>"
      ],
      "text/plain": [
       "                 Fault 3 Models  Scenario 1  Scenario 2  Scenario 3  \\\n",
       "0      Random Forest Classifier    0.940691    0.964918    0.984008   \n",
       "1  Gradient Boosting Classifier    0.903621    0.937468    0.946717   \n",
       "2           Logistic Regression    0.000000    0.425200    0.509740   \n",
       "\n",
       "   Scenario 4  \n",
       "0    0.981697  \n",
       "1    0.888114  \n",
       "2    0.003080  "
      ]
     },
     "execution_count": 141,
     "metadata": {},
     "output_type": "execute_result"
    }
   ],
   "source": [
    "TTF_FlowcoolLeak"
   ]
  },
  {
   "cell_type": "markdown",
   "metadata": {},
   "source": [
    "#### SMOTEENN\n",
    "\n",
    "SMOTTEENN applied to Scenario 1 to improve the performance of the Logistic Regression."
   ]
  },
  {
   "cell_type": "code",
   "execution_count": 142,
   "metadata": {},
   "outputs": [],
   "source": [
    "smote = SMOTEENN()\n",
    "\n",
    "X_res, Y_res = smote.fit_resample(scl_trainX1a, Y_train1a.ravel())\n",
    "X_res_test, Y_res_test = smote.fit_resample(scl_testX1a, Y_test1a.ravel())"
   ]
  },
  {
   "cell_type": "code",
   "execution_count": 143,
   "metadata": {},
   "outputs": [
    {
     "data": {
      "text/plain": [
       "LogisticRegression(max_iter=300)"
      ]
     },
     "execution_count": 143,
     "metadata": {},
     "output_type": "execute_result"
    }
   ],
   "source": [
    "smote_rfc = LogisticRegression(max_iter=300)\n",
    "\n",
    "smote_rfc.fit(X_res, Y_res)"
   ]
  },
  {
   "cell_type": "code",
   "execution_count": 144,
   "metadata": {},
   "outputs": [
    {
     "name": "stdout",
     "output_type": "stream",
     "text": [
      "Accuracy Score Logistic Regression after SMOTEENN Scenario 1: 0.796\n",
      "\n",
      "Classification Report Logistic Regression after SMOTEENN Scenario 1 \n",
      "\n",
      "               precision    recall  f1-score   support\n",
      "\n",
      "           0       0.78      0.81      0.79      4725\n",
      "           1       0.81      0.79      0.80      5000\n",
      "\n",
      "    accuracy                           0.80      9725\n",
      "   macro avg       0.80      0.80      0.80      9725\n",
      "weighted avg       0.80      0.80      0.80      9725\n",
      "\n"
     ]
    }
   ],
   "source": [
    "smote_pred = smote_rfc.predict(X_res_test)\n",
    "\n",
    "smote_rf_accuracy = accuracy_score(Y_res_test, smote_pred)\n",
    "\n",
    "print('Accuracy Score Logistic Regression after SMOTEENN Scenario 1: {:.3f}\\n'.format(smote_rf_accuracy))\n",
    "print('Classification Report Logistic Regression after SMOTEENN Scenario 1 \\n\\n', classification_report(Y_res_test, smote_pred))"
   ]
  },
  {
   "cell_type": "markdown",
   "metadata": {},
   "source": [
    "**Note** Even though the overall performance of the Logistic Regression decreased the f1-score in prediciting isfailure significantly improved. "
   ]
  },
  {
   "cell_type": "code",
   "execution_count": 146,
   "metadata": {},
   "outputs": [],
   "source": [
    "logreg_smote_a = confusion_matrix(Y_res_test, smote_pred)"
   ]
  },
  {
   "cell_type": "code",
   "execution_count": 147,
   "metadata": {},
   "outputs": [
    {
     "data": {
      "image/png": "[encoded data removed]",
      "text/plain": [
       "<Figure size 432x288 with 2 Axes>"
      ]
     },
     "metadata": {
      "needs_background": "light"
     },
     "output_type": "display_data"
    }
   ],
   "source": [
    "sns.heatmap(logreg_smote_a, annot=True, fmt='.2f')\n",
    "plt.title('Logistic Regression after SMOTEENN Scenario 1')\n",
    "plt.xlabel('Predicted')\n",
    "plt.ylabel('Actual')\n",
    "plt.show()"
   ]
  },
  {
   "cell_type": "code",
   "execution_count": null,
   "metadata": {},
   "outputs": [],
   "source": []
  }
 ],
 "metadata": {
  "kernelspec": {
   "display_name": "Python 3",
   "language": "python",
   "name": "python3"
  },
  "language_info": {
   "codemirror_mode": {
    "name": "ipython",
    "version": 3
   },
   "file_extension": ".py",
   "mimetype": "text/x-python",
   "name": "python",
   "nbconvert_exporter": "python",
   "pygments_lexer": "ipython3",
   "version": "3.8.5"
  }
 },
 "nbformat": 4,
 "nbformat_minor": 4
}
